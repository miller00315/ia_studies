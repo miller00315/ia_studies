{
  "nbformat": 4,
  "nbformat_minor": 0,
  "metadata": {
    "colab": {
      "provenance": [],
      "authorship_tag": "ABX9TyNTR4hDSXEnolnbFdfc2CCf",
      "include_colab_link": true
    },
    "kernelspec": {
      "name": "python3",
      "display_name": "Python 3"
    },
    "language_info": {
      "name": "python"
    }
  },
  "cells": [
    {
      "cell_type": "markdown",
      "metadata": {
        "id": "view-in-github",
        "colab_type": "text"
      },
      "source": [
        "<a href=\"https://colab.research.google.com/github/miller00315/ia_studies/blob/main/anomalias_auto_encoders.ipynb\" target=\"_parent\"><img src=\"https://colab.research.google.com/assets/colab-badge.svg\" alt=\"Open In Colab\"/></a>"
      ]
    },
    {
      "cell_type": "code",
      "execution_count": 2,
      "metadata": {
        "id": "D5V0W6d2RPjh"
      },
      "outputs": [],
      "source": [
        "import numpy as np\n",
        "import matplotlib.pyplot as plt\n",
        "from keras.datasets import mnist\n",
        "from keras.models import Sequential, Model\n",
        "from keras.layers import Dense, Dropout, Input\n",
        "from sklearn.metrics import mean_squared_error"
      ]
    },
    {
      "cell_type": "code",
      "source": [
        "(X_train, _), (X_test, _) = mnist.load_data()"
      ],
      "metadata": {
        "colab": {
          "base_uri": "https://localhost:8080/"
        },
        "id": "Qkc9f5xvTqCn",
        "outputId": "744f3b33-f0db-4f49-e8b5-5e598400a43a"
      },
      "execution_count": 3,
      "outputs": [
        {
          "output_type": "stream",
          "name": "stdout",
          "text": [
            "Downloading data from https://storage.googleapis.com/tensorflow/tf-keras-datasets/mnist.npz\n",
            "11490434/11490434 [==============================] - 0s 0us/step\n"
          ]
        }
      ]
    },
    {
      "cell_type": "code",
      "source": [
        "X_train = X_train.astype('float32') / 255.\n",
        "X_test = X_test.astype('float32') / 255."
      ],
      "metadata": {
        "id": "YrSpoc69TqAw"
      },
      "execution_count": 4,
      "outputs": []
    },
    {
      "cell_type": "code",
      "source": [
        "X_train = X_train.reshape((len(X_train), np.prod(X_train.shape[1:])))\n",
        "X_test = X_test.reshape((len(X_test), np.prod(X_test.shape[1:])))"
      ],
      "metadata": {
        "id": "-z6kY-FLTp7s"
      },
      "execution_count": 5,
      "outputs": []
    },
    {
      "cell_type": "code",
      "source": [
        "X_test_noise = X_test + 0.5 * np.random.normal(loc=0.0, scale=1.0, size=X_test.shape)\n",
        "X_test_noise = np.clip(X_test_noise, 0., 1.)"
      ],
      "metadata": {
        "id": "mSPR1_jjTp5d"
      },
      "execution_count": 6,
      "outputs": []
    },
    {
      "cell_type": "code",
      "source": [
        "inputs = Input(shape=(784,))\n",
        "encoded = Dense(64, activation='relu')(inputs)\n",
        "decoded = Dense(784, activation='sigmoid')(encoded)\n",
        "autoencoder = Model(inputs, decoded)\n",
        "\n",
        "autoencoder.compile(optimizer='adam', loss='binary_crossentropy')\n",
        "autoencoder.fit(X_train, X_train, epochs=100, batch_size=256, shuffle=True)"
      ],
      "metadata": {
        "colab": {
          "base_uri": "https://localhost:8080/"
        },
        "id": "Z87uxrsLTp29",
        "outputId": "7a41671a-c632-4882-a8d1-f635dcf002f8"
      },
      "execution_count": 7,
      "outputs": [
        {
          "output_type": "stream",
          "name": "stdout",
          "text": [
            "Epoch 1/100\n",
            "235/235 [==============================] - 6s 17ms/step - loss: 0.2430\n",
            "Epoch 2/100\n",
            "235/235 [==============================] - 3s 11ms/step - loss: 0.1403\n",
            "Epoch 3/100\n",
            "235/235 [==============================] - 2s 10ms/step - loss: 0.1172\n",
            "Epoch 4/100\n",
            "235/235 [==============================] - 2s 10ms/step - loss: 0.1036\n",
            "Epoch 5/100\n",
            "235/235 [==============================] - 2s 11ms/step - loss: 0.0948\n",
            "Epoch 6/100\n",
            "235/235 [==============================] - 4s 15ms/step - loss: 0.0885\n",
            "Epoch 7/100\n",
            "235/235 [==============================] - 3s 12ms/step - loss: 0.0841\n",
            "Epoch 8/100\n",
            "235/235 [==============================] - 2s 10ms/step - loss: 0.0812\n",
            "Epoch 9/100\n",
            "235/235 [==============================] - 2s 11ms/step - loss: 0.0792\n",
            "Epoch 10/100\n",
            "235/235 [==============================] - 2s 10ms/step - loss: 0.0778\n",
            "Epoch 11/100\n",
            "235/235 [==============================] - 3s 14ms/step - loss: 0.0768\n",
            "Epoch 12/100\n",
            "235/235 [==============================] - 3s 14ms/step - loss: 0.0760\n",
            "Epoch 13/100\n",
            "235/235 [==============================] - 2s 10ms/step - loss: 0.0755\n",
            "Epoch 14/100\n",
            "235/235 [==============================] - 2s 10ms/step - loss: 0.0750\n",
            "Epoch 15/100\n",
            "235/235 [==============================] - 2s 10ms/step - loss: 0.0747\n",
            "Epoch 16/100\n",
            "235/235 [==============================] - 3s 11ms/step - loss: 0.0744\n",
            "Epoch 17/100\n",
            "235/235 [==============================] - 4s 15ms/step - loss: 0.0742\n",
            "Epoch 18/100\n",
            "235/235 [==============================] - 3s 14ms/step - loss: 0.0740\n",
            "Epoch 19/100\n",
            "235/235 [==============================] - 3s 14ms/step - loss: 0.0739\n",
            "Epoch 20/100\n",
            "235/235 [==============================] - 3s 12ms/step - loss: 0.0737\n",
            "Epoch 21/100\n",
            "235/235 [==============================] - 4s 16ms/step - loss: 0.0736\n",
            "Epoch 22/100\n",
            "235/235 [==============================] - 3s 11ms/step - loss: 0.0736\n",
            "Epoch 23/100\n",
            "235/235 [==============================] - 2s 10ms/step - loss: 0.0735\n",
            "Epoch 24/100\n",
            "235/235 [==============================] - 2s 10ms/step - loss: 0.0734\n",
            "Epoch 25/100\n",
            "235/235 [==============================] - 2s 10ms/step - loss: 0.0733\n",
            "Epoch 26/100\n",
            "235/235 [==============================] - 3s 14ms/step - loss: 0.0733\n",
            "Epoch 27/100\n",
            "235/235 [==============================] - 3s 13ms/step - loss: 0.0732\n",
            "Epoch 28/100\n",
            "235/235 [==============================] - 2s 10ms/step - loss: 0.0732\n",
            "Epoch 29/100\n",
            "235/235 [==============================] - 2s 10ms/step - loss: 0.0731\n",
            "Epoch 30/100\n",
            "235/235 [==============================] - 2s 10ms/step - loss: 0.0731\n",
            "Epoch 31/100\n",
            "235/235 [==============================] - 3s 13ms/step - loss: 0.0731\n",
            "Epoch 32/100\n",
            "235/235 [==============================] - 3s 15ms/step - loss: 0.0730\n",
            "Epoch 33/100\n",
            "235/235 [==============================] - 2s 10ms/step - loss: 0.0730\n",
            "Epoch 34/100\n",
            "235/235 [==============================] - 2s 10ms/step - loss: 0.0730\n",
            "Epoch 35/100\n",
            "235/235 [==============================] - 2s 10ms/step - loss: 0.0730\n",
            "Epoch 36/100\n",
            "235/235 [==============================] - 3s 11ms/step - loss: 0.0729\n",
            "Epoch 37/100\n",
            "235/235 [==============================] - 4s 15ms/step - loss: 0.0729\n",
            "Epoch 38/100\n",
            "235/235 [==============================] - 2s 10ms/step - loss: 0.0729\n",
            "Epoch 39/100\n",
            "235/235 [==============================] - 2s 10ms/step - loss: 0.0729\n",
            "Epoch 40/100\n",
            "235/235 [==============================] - 2s 10ms/step - loss: 0.0728\n",
            "Epoch 41/100\n",
            "235/235 [==============================] - 2s 10ms/step - loss: 0.0728\n",
            "Epoch 42/100\n",
            "235/235 [==============================] - 4s 16ms/step - loss: 0.0728\n",
            "Epoch 43/100\n",
            "235/235 [==============================] - 3s 11ms/step - loss: 0.0728\n",
            "Epoch 44/100\n",
            "235/235 [==============================] - 2s 10ms/step - loss: 0.0728\n",
            "Epoch 45/100\n",
            "235/235 [==============================] - 2s 10ms/step - loss: 0.0728\n",
            "Epoch 46/100\n",
            "235/235 [==============================] - 2s 10ms/step - loss: 0.0728\n",
            "Epoch 47/100\n",
            "235/235 [==============================] - 4s 15ms/step - loss: 0.0727\n",
            "Epoch 48/100\n",
            "235/235 [==============================] - 3s 11ms/step - loss: 0.0727\n",
            "Epoch 49/100\n",
            "235/235 [==============================] - 2s 10ms/step - loss: 0.0727\n",
            "Epoch 50/100\n",
            "235/235 [==============================] - 2s 10ms/step - loss: 0.0727\n",
            "Epoch 51/100\n",
            "235/235 [==============================] - 2s 10ms/step - loss: 0.0727\n",
            "Epoch 52/100\n",
            "235/235 [==============================] - 4s 15ms/step - loss: 0.0727\n",
            "Epoch 53/100\n",
            "235/235 [==============================] - 3s 12ms/step - loss: 0.0727\n",
            "Epoch 54/100\n",
            "235/235 [==============================] - 2s 10ms/step - loss: 0.0727\n",
            "Epoch 55/100\n",
            "235/235 [==============================] - 2s 10ms/step - loss: 0.0727\n",
            "Epoch 56/100\n",
            "235/235 [==============================] - 2s 10ms/step - loss: 0.0727\n",
            "Epoch 57/100\n",
            "235/235 [==============================] - 3s 14ms/step - loss: 0.0727\n",
            "Epoch 58/100\n",
            "235/235 [==============================] - 3s 14ms/step - loss: 0.0726\n",
            "Epoch 59/100\n",
            "235/235 [==============================] - 2s 10ms/step - loss: 0.0726\n",
            "Epoch 60/100\n",
            "235/235 [==============================] - 2s 10ms/step - loss: 0.0726\n",
            "Epoch 61/100\n",
            "235/235 [==============================] - 2s 10ms/step - loss: 0.0726\n",
            "Epoch 62/100\n",
            "235/235 [==============================] - 3s 12ms/step - loss: 0.0726\n",
            "Epoch 63/100\n",
            "235/235 [==============================] - 3s 15ms/step - loss: 0.0726\n",
            "Epoch 64/100\n",
            "235/235 [==============================] - 2s 10ms/step - loss: 0.0726\n",
            "Epoch 65/100\n",
            "235/235 [==============================] - 2s 11ms/step - loss: 0.0726\n",
            "Epoch 66/100\n",
            "235/235 [==============================] - 2s 10ms/step - loss: 0.0726\n",
            "Epoch 67/100\n",
            "235/235 [==============================] - 3s 12ms/step - loss: 0.0726\n",
            "Epoch 68/100\n",
            "235/235 [==============================] - 4s 15ms/step - loss: 0.0726\n",
            "Epoch 69/100\n",
            "235/235 [==============================] - 2s 10ms/step - loss: 0.0726\n",
            "Epoch 70/100\n",
            "235/235 [==============================] - 2s 10ms/step - loss: 0.0726\n",
            "Epoch 71/100\n",
            "235/235 [==============================] - 3s 11ms/step - loss: 0.0726\n",
            "Epoch 72/100\n",
            "235/235 [==============================] - 3s 11ms/step - loss: 0.0726\n",
            "Epoch 73/100\n",
            "235/235 [==============================] - 4s 16ms/step - loss: 0.0726\n",
            "Epoch 74/100\n",
            "235/235 [==============================] - 3s 11ms/step - loss: 0.0726\n",
            "Epoch 75/100\n",
            "235/235 [==============================] - 2s 11ms/step - loss: 0.0726\n",
            "Epoch 76/100\n",
            "235/235 [==============================] - 3s 11ms/step - loss: 0.0726\n",
            "Epoch 77/100\n",
            "235/235 [==============================] - 2s 11ms/step - loss: 0.0726\n",
            "Epoch 78/100\n",
            "235/235 [==============================] - 4s 16ms/step - loss: 0.0726\n",
            "Epoch 79/100\n",
            "235/235 [==============================] - 3s 12ms/step - loss: 0.0725\n",
            "Epoch 80/100\n",
            "235/235 [==============================] - 2s 10ms/step - loss: 0.0725\n",
            "Epoch 81/100\n",
            "235/235 [==============================] - 2s 10ms/step - loss: 0.0725\n",
            "Epoch 82/100\n",
            "235/235 [==============================] - 2s 10ms/step - loss: 0.0725\n",
            "Epoch 83/100\n",
            "235/235 [==============================] - 3s 14ms/step - loss: 0.0725\n",
            "Epoch 84/100\n",
            "235/235 [==============================] - 3s 13ms/step - loss: 0.0725\n",
            "Epoch 85/100\n",
            "235/235 [==============================] - 2s 10ms/step - loss: 0.0725\n",
            "Epoch 86/100\n",
            "235/235 [==============================] - 2s 10ms/step - loss: 0.0725\n",
            "Epoch 87/100\n",
            "235/235 [==============================] - 2s 10ms/step - loss: 0.0725\n",
            "Epoch 88/100\n",
            "235/235 [==============================] - 3s 13ms/step - loss: 0.0725\n",
            "Epoch 89/100\n",
            "235/235 [==============================] - 4s 15ms/step - loss: 0.0725\n",
            "Epoch 90/100\n",
            "235/235 [==============================] - 2s 11ms/step - loss: 0.0725\n",
            "Epoch 91/100\n",
            "235/235 [==============================] - 2s 10ms/step - loss: 0.0725\n",
            "Epoch 92/100\n",
            "235/235 [==============================] - 2s 10ms/step - loss: 0.0725\n",
            "Epoch 93/100\n",
            "235/235 [==============================] - 3s 12ms/step - loss: 0.0725\n",
            "Epoch 94/100\n",
            "235/235 [==============================] - 4s 16ms/step - loss: 0.0725\n",
            "Epoch 95/100\n",
            "235/235 [==============================] - 3s 11ms/step - loss: 0.0725\n",
            "Epoch 96/100\n",
            "235/235 [==============================] - 3s 11ms/step - loss: 0.0725\n",
            "Epoch 97/100\n",
            "235/235 [==============================] - 2s 11ms/step - loss: 0.0725\n",
            "Epoch 98/100\n",
            "235/235 [==============================] - 3s 11ms/step - loss: 0.0725\n",
            "Epoch 99/100\n",
            "235/235 [==============================] - 4s 17ms/step - loss: 0.0725\n",
            "Epoch 100/100\n",
            "235/235 [==============================] - 3s 11ms/step - loss: 0.0725\n"
          ]
        },
        {
          "output_type": "execute_result",
          "data": {
            "text/plain": [
              "<keras.src.callbacks.History at 0x7f4f33233640>"
            ]
          },
          "metadata": {},
          "execution_count": 7
        }
      ]
    },
    {
      "cell_type": "code",
      "source": [
        "test_normal_decoded = autoencoder.predict(X_test)\n",
        "test_noise_decoded = autoencoder.predict(X_test_noise)"
      ],
      "metadata": {
        "colab": {
          "base_uri": "https://localhost:8080/"
        },
        "id": "eNa8A85ATp0Y",
        "outputId": "bf1de418-0685-4c3f-d3c8-e17816d5f3ce"
      },
      "execution_count": 8,
      "outputs": [
        {
          "output_type": "stream",
          "name": "stdout",
          "text": [
            "313/313 [==============================] - 1s 2ms/step\n",
            "313/313 [==============================] - 1s 2ms/step\n"
          ]
        }
      ]
    },
    {
      "cell_type": "code",
      "source": [
        "mse_normal = mean_squared_error(X_test, test_normal_decoded)\n",
        "mse_noise = mean_squared_error(X_test_noise, test_noise_decoded)\n",
        "\n",
        "print(\"MSE without noise:\", mse_normal)\n",
        "print(\"MSE with noise:\", mse_noise)"
      ],
      "metadata": {
        "colab": {
          "base_uri": "https://localhost:8080/"
        },
        "id": "ZyoQ2PN3TpwR",
        "outputId": "22c7613f-29c8-4b05-d137-a1ea95a083a1"
      },
      "execution_count": 9,
      "outputs": [
        {
          "output_type": "stream",
          "name": "stdout",
          "text": [
            "MSE without noise: 0.0035769222\n",
            "MSE with noise: 0.15499286382815927\n"
          ]
        }
      ]
    },
    {
      "cell_type": "code",
      "source": [
        "print(mse_noise - mse_normal)"
      ],
      "metadata": {
        "colab": {
          "base_uri": "https://localhost:8080/"
        },
        "id": "lCHMJTsQTpty",
        "outputId": "c1df776c-e78c-4a5c-a18f-2a15b6bceaf9"
      },
      "execution_count": 10,
      "outputs": [
        {
          "output_type": "stream",
          "name": "stdout",
          "text": [
            "0.15141594159773678\n"
          ]
        }
      ]
    },
    {
      "cell_type": "code",
      "source": [],
      "metadata": {
        "id": "5adV3XcKTpr6"
      },
      "execution_count": null,
      "outputs": []
    },
    {
      "cell_type": "code",
      "source": [],
      "metadata": {
        "id": "Xf_rcz93TppJ"
      },
      "execution_count": null,
      "outputs": []
    },
    {
      "cell_type": "code",
      "source": [],
      "metadata": {
        "id": "zPXLIqftTpkZ"
      },
      "execution_count": null,
      "outputs": []
    }
  ]
}