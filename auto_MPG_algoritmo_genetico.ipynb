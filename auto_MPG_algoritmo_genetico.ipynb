{
  "nbformat": 4,
  "nbformat_minor": 0,
  "metadata": {
    "colab": {
      "provenance": [],
      "authorship_tag": "ABX9TyOhbSfsmomZrgCHRMFSnLa5",
      "include_colab_link": true
    },
    "kernelspec": {
      "name": "python3",
      "display_name": "Python 3"
    },
    "language_info": {
      "name": "python"
    }
  },
  "cells": [
    {
      "cell_type": "markdown",
      "metadata": {
        "id": "view-in-github",
        "colab_type": "text"
      },
      "source": [
        "<a href=\"https://colab.research.google.com/github/miller00315/ia_studies/blob/main/auto_MPG_algoritmo_genetico.ipynb\" target=\"_parent\"><img src=\"https://colab.research.google.com/assets/colab-badge.svg\" alt=\"Open In Colab\"/></a>"
      ]
    },
    {
      "cell_type": "code",
      "source": [
        "!pip install pygad"
      ],
      "metadata": {
        "colab": {
          "base_uri": "https://localhost:8080/"
        },
        "id": "Xkwv2Btxqhw1",
        "outputId": "1145427b-b9b1-4e53-82d9-86c2c34b64f7"
      },
      "execution_count": 5,
      "outputs": [
        {
          "output_type": "stream",
          "name": "stdout",
          "text": [
            "Collecting pygad\n",
            "  Downloading pygad-3.3.1-py3-none-any.whl (84 kB)\n",
            "\u001b[?25l     \u001b[90m━━━━━━━━━━━━━━━━━━━━━━━━━━━━━━━━━━━━━━━━\u001b[0m \u001b[32m0.0/84.1 kB\u001b[0m \u001b[31m?\u001b[0m eta \u001b[36m-:--:--\u001b[0m\r\u001b[2K     \u001b[90m━━━━━━━━━━━━━━━━━━━━━━━━━━━━━━━━━━━━━━━━\u001b[0m \u001b[32m84.1/84.1 kB\u001b[0m \u001b[31m2.5 MB/s\u001b[0m eta \u001b[36m0:00:00\u001b[0m\n",
            "\u001b[?25hRequirement already satisfied: cloudpickle in /usr/local/lib/python3.10/dist-packages (from pygad) (2.2.1)\n",
            "Requirement already satisfied: matplotlib in /usr/local/lib/python3.10/dist-packages (from pygad) (3.7.1)\n",
            "Requirement already satisfied: numpy in /usr/local/lib/python3.10/dist-packages (from pygad) (1.25.2)\n",
            "Requirement already satisfied: contourpy>=1.0.1 in /usr/local/lib/python3.10/dist-packages (from matplotlib->pygad) (1.2.0)\n",
            "Requirement already satisfied: cycler>=0.10 in /usr/local/lib/python3.10/dist-packages (from matplotlib->pygad) (0.12.1)\n",
            "Requirement already satisfied: fonttools>=4.22.0 in /usr/local/lib/python3.10/dist-packages (from matplotlib->pygad) (4.50.0)\n",
            "Requirement already satisfied: kiwisolver>=1.0.1 in /usr/local/lib/python3.10/dist-packages (from matplotlib->pygad) (1.4.5)\n",
            "Requirement already satisfied: packaging>=20.0 in /usr/local/lib/python3.10/dist-packages (from matplotlib->pygad) (24.0)\n",
            "Requirement already satisfied: pillow>=6.2.0 in /usr/local/lib/python3.10/dist-packages (from matplotlib->pygad) (9.4.0)\n",
            "Requirement already satisfied: pyparsing>=2.3.1 in /usr/local/lib/python3.10/dist-packages (from matplotlib->pygad) (3.1.2)\n",
            "Requirement already satisfied: python-dateutil>=2.7 in /usr/local/lib/python3.10/dist-packages (from matplotlib->pygad) (2.8.2)\n",
            "Requirement already satisfied: six>=1.5 in /usr/local/lib/python3.10/dist-packages (from python-dateutil>=2.7->matplotlib->pygad) (1.16.0)\n",
            "Installing collected packages: pygad\n",
            "Successfully installed pygad-3.3.1\n"
          ]
        }
      ]
    },
    {
      "cell_type": "code",
      "execution_count": 2,
      "metadata": {
        "id": "oCkKY7AAp6xf"
      },
      "outputs": [],
      "source": [
        "import numpy as np\n",
        "import pandas as pd"
      ]
    },
    {
      "cell_type": "code",
      "source": [
        "import matplotlib.pyplot as plt\n",
        "from sklearn.preprocessing import StandardScaler\n",
        "from sklearn.model_selection import train_test_split\n",
        "import pygad"
      ],
      "metadata": {
        "id": "NVeMzaKVuENS"
      },
      "execution_count": 6,
      "outputs": []
    },
    {
      "cell_type": "markdown",
      "source": [
        "Pré processamento"
      ],
      "metadata": {
        "id": "YGPKm0lqxxxy"
      }
    },
    {
      "cell_type": "code",
      "source": [
        "print(pygad.__version__)"
      ],
      "metadata": {
        "id": "RogvkYc7xw5T",
        "colab": {
          "base_uri": "https://localhost:8080/"
        },
        "outputId": "8dcc1a7a-7085-423a-825c-49d431bd367a"
      },
      "execution_count": 7,
      "outputs": [
        {
          "output_type": "stream",
          "name": "stdout",
          "text": [
            "3.3.1\n"
          ]
        }
      ]
    },
    {
      "cell_type": "code",
      "source": [
        "function_inputs = [4,-2,3.5,5,-11,-4.7]\n",
        "desired_output = 44"
      ],
      "metadata": {
        "id": "x0m1ljfyx71e"
      },
      "execution_count": 8,
      "outputs": []
    },
    {
      "cell_type": "code",
      "source": [
        "def fitness_func(_, solution, solution_idx):\n",
        "    output = np.sum(solution*function_inputs)\n",
        "    fitness = 1.0 / (np.abs(output - desired_output) + 0.000001)\n",
        "    return fitness"
      ],
      "metadata": {
        "id": "YYO4HdAbyOAl"
      },
      "execution_count": 15,
      "outputs": []
    },
    {
      "cell_type": "code",
      "source": [
        "num_generations = 100\n",
        "num_parents_mating = 10\n",
        "sol_per_pop = 20\n",
        "num_genes = len(function_inputs)\n",
        "\n",
        "ga_instance = pygad.GA(num_generations=num_generations,\n",
        "                       num_parents_mating=num_parents_mating,\n",
        "                       fitness_func=fitness_func,\n",
        "                       sol_per_pop=sol_per_pop,\n",
        "                       num_genes=num_genes)"
      ],
      "metadata": {
        "id": "14psMYtxyYMj",
        "colab": {
          "base_uri": "https://localhost:8080/"
        },
        "outputId": "f13d8e84-988b-4165-c070-c3344cdde35c"
      },
      "execution_count": 16,
      "outputs": [
        {
          "output_type": "stream",
          "name": "stderr",
          "text": [
            "/usr/local/lib/python3.10/dist-packages/pygad/pygad.py:728: UserWarning: The percentage of genes to mutate (mutation_percent_genes=10) resulted in selecting (0) genes. The number of genes to mutate is set to 1 (mutation_num_genes=1).\n",
            "If you do not want to mutate any gene, please set mutation_type=None.\n",
            "  warnings.warn(\n",
            "/usr/local/lib/python3.10/dist-packages/pygad/pygad.py:1139: UserWarning: The 'delay_after_gen' parameter is deprecated starting from PyGAD 3.3.0. To delay or pause the evolution after each generation, assign a callback function/method to the 'on_generation' parameter to adds some time delay.\n",
            "  warnings.warn(\"The 'delay_after_gen' parameter is deprecated starting from PyGAD 3.3.0. To delay or pause the evolution after each generation, assign a callback function/method to the 'on_generation' parameter to adds some time delay.\")\n"
          ]
        }
      ]
    },
    {
      "cell_type": "code",
      "source": [
        "ga_instance.run()\n",
        "\n",
        "ga_instance.best_solution()"
      ],
      "metadata": {
        "id": "bndRS-rHzhEd",
        "colab": {
          "base_uri": "https://localhost:8080/"
        },
        "outputId": "a53cbe1a-3353-4a22-f1d2-082f0bc1a7ae"
      },
      "execution_count": 18,
      "outputs": [
        {
          "output_type": "execute_result",
          "data": {
            "text/plain": [
              "(array([ 4.04651898, -2.66241098, -0.80713335,  0.91006563, -2.7557415 ,\n",
              "         2.03231574]),\n",
              " 404.9891614674836,\n",
              " 0)"
            ]
          },
          "metadata": {},
          "execution_count": 18
        }
      ]
    },
    {
      "cell_type": "code",
      "source": [
        "import pygad.kerasga"
      ],
      "metadata": {
        "id": "WG3Ov9UV0qn2"
      },
      "execution_count": 19,
      "outputs": []
    },
    {
      "cell_type": "code",
      "source": [
        "import tensorflow.keras\n",
        "\n",
        "input_layer  = tensorflow.keras.layers.Input(3)\n",
        "dense_layer1 = tensorflow.keras.layers.Dense(5, activation=\"relu\")\n",
        "output_layer = tensorflow.keras.layers.Dense(1, activation=\"linear\")\n",
        "\n",
        "model = tensorflow.keras.Sequential()\n",
        "model.add(input_layer)\n",
        "model.add(dense_layer1)\n",
        "model.add(output_layer)"
      ],
      "metadata": {
        "id": "im4doj5z5ilt"
      },
      "execution_count": 20,
      "outputs": []
    },
    {
      "cell_type": "code",
      "source": [
        "output_layer = tensorflow.keras.layers.Dense(2, activation=\"linear\")"
      ],
      "metadata": {
        "id": "bQih7G2V5ms5"
      },
      "execution_count": 21,
      "outputs": []
    },
    {
      "cell_type": "code",
      "source": [
        "input_layer  = tensorflow.keras.layers.Input(3)\n",
        "dense_layer1 = tensorflow.keras.layers.Dense(5, activation=\"relu\")(input_layer)\n",
        "output_layer = tensorflow.keras.layers.Dense(1, activation=\"linear\")(dense_layer1)\n",
        "\n",
        "model = tensorflow.keras.Model(inputs=input_layer, outputs=output_layer)"
      ],
      "metadata": {
        "id": "3Xq2qbF95rTD"
      },
      "execution_count": 22,
      "outputs": []
    },
    {
      "cell_type": "code",
      "source": [
        "import pygad.kerasga\n",
        "\n",
        "keras_ga = pygad.kerasga.KerasGA(model=model,\n",
        "                                 num_solutions=10)"
      ],
      "metadata": {
        "id": "plYFVUwG5zY5"
      },
      "execution_count": 23,
      "outputs": []
    },
    {
      "cell_type": "code",
      "source": [
        "# Data inputs\n",
        "data_inputs = np.array([[0.02, 0.1, 0.15],\n",
        "                           [0.7, 0.6, 0.8],\n",
        "                           [1.5, 1.2, 1.7],\n",
        "                           [3.2, 2.9, 3.1]])\n",
        "\n",
        "# Data outputs\n",
        "data_outputs = np.array([[0.1],\n",
        "                            [0.6],\n",
        "                            [1.3],\n",
        "                            [2.5]])"
      ],
      "metadata": {
        "id": "MO2htWzU51_N"
      },
      "execution_count": 37,
      "outputs": []
    },
    {
      "cell_type": "code",
      "source": [
        "# XOR problem inputs\n",
        "data_inputs_xor = np.array([[0, 0],\n",
        "                           [0, 1],\n",
        "                           [1, 0],\n",
        "                           [1, 1]])\n",
        "\n",
        "# XOR problem outputs\n",
        "data_outputs_xor = np.array([[1, 0],\n",
        "                            [0, 1],\n",
        "                            [0, 1],\n",
        "                            [1, 0]])"
      ],
      "metadata": {
        "id": "9Hr6KX_65-93"
      },
      "execution_count": 36,
      "outputs": []
    },
    {
      "cell_type": "code",
      "source": [
        "def fitness_func(ga_instace, solution, solution_idx):\n",
        "    global data_inputs, data_outputs, keras_ga, model\n",
        "\n",
        "    model_weights_matrix = pygad.kerasga.model_weights_as_matrix(model=model,\n",
        "                                                                 weights_vector=solution)\n",
        "\n",
        "    model.set_weights(weights=model_weights_matrix)\n",
        "\n",
        "    predictions = model.predict(data_inputs)\n",
        "\n",
        "    mae = tensorflow.keras.losses.MeanAbsoluteError()\n",
        "    solution_fitness = 1.0 / (mae(data_outputs, predictions).numpy() + 0.00000001)\n",
        "\n",
        "    return solution_fitness"
      ],
      "metadata": {
        "id": "awM4i2lE6EV2"
      },
      "execution_count": 38,
      "outputs": []
    },
    {
      "cell_type": "code",
      "source": [
        "def fitness_func_binary(ga_instace, solution, solution_idx):\n",
        "    global data_inputs, data_outputs, keras_ga, model\n",
        "\n",
        "    model_weights_matrix = pygad.kerasga.model_weights_as_matrix(model=model,\n",
        "                                                                 weights_vector=solution)\n",
        "\n",
        "    model.set_weights(weights=model_weights_matrix)\n",
        "\n",
        "    predictions = model.predict(data_inputs)\n",
        "\n",
        "    bce = tensorflow.keras.losses.BinaryCrossentropy()\n",
        "    solution_fitness = 1.0 / (bce(data_outputs, predictions).numpy() + 0.00000001)\n",
        "\n",
        "    return solution_fitness"
      ],
      "metadata": {
        "id": "cnXlEjhm6ZGN"
      },
      "execution_count": 39,
      "outputs": []
    },
    {
      "cell_type": "code",
      "source": [
        "def callback_generation(ga_instance):\n",
        "    print(\"Generation = {generation}\".format(generation=ga_instance.generations_completed))\n",
        "    print(\"Fitness    = {fitness}\".format(fitness=ga_instance.best_solution()[1]))"
      ],
      "metadata": {
        "id": "omYo38Cz6et2"
      },
      "execution_count": 40,
      "outputs": []
    },
    {
      "cell_type": "code",
      "source": [
        "num_generations = 250\n",
        "num_parents_mating = 5\n",
        "initial_population = keras_ga.population_weights\n",
        "\n",
        "ga_instance = pygad.GA(num_generations=num_generations,\n",
        "                       num_parents_mating=num_parents_mating,\n",
        "                       initial_population=initial_population,\n",
        "                       fitness_func=fitness_func,\n",
        "                       on_generation=callback_generation)"
      ],
      "metadata": {
        "colab": {
          "base_uri": "https://localhost:8080/"
        },
        "id": "CgUF2jxl6j5T",
        "outputId": "b84b4b43-996f-4e06-ae6f-bbde9fd7fcb8"
      },
      "execution_count": 35,
      "outputs": [
        {
          "output_type": "stream",
          "name": "stderr",
          "text": [
            "/usr/local/lib/python3.10/dist-packages/pygad/pygad.py:1139: UserWarning: The 'delay_after_gen' parameter is deprecated starting from PyGAD 3.3.0. To delay or pause the evolution after each generation, assign a callback function/method to the 'on_generation' parameter to adds some time delay.\n",
            "  warnings.warn(\"The 'delay_after_gen' parameter is deprecated starting from PyGAD 3.3.0. To delay or pause the evolution after each generation, assign a callback function/method to the 'on_generation' parameter to adds some time delay.\")\n"
          ]
        }
      ]
    },
    {
      "cell_type": "code",
      "source": [
        "ga_instance.run()"
      ],
      "metadata": {
        "id": "xj0om6g_7A9W"
      },
      "execution_count": null,
      "outputs": []
    },
    {
      "cell_type": "code",
      "source": [
        "solution, solution_fitness, solution_idx = ga_instance.best_solution()"
      ],
      "metadata": {
        "colab": {
          "base_uri": "https://localhost:8080/"
        },
        "id": "lkhLwaS_9xyP",
        "outputId": "ceb75e10-629e-47cf-e3b5-3d3de108a8e9"
      },
      "execution_count": 43,
      "outputs": [
        {
          "output_type": "stream",
          "name": "stdout",
          "text": [
            "1/1 [==============================] - 0s 39ms/step\n",
            "1/1 [==============================] - 0s 35ms/step\n",
            "1/1 [==============================] - 0s 38ms/step\n",
            "1/1 [==============================] - 0s 80ms/step\n",
            "1/1 [==============================] - 0s 98ms/step\n"
          ]
        }
      ]
    },
    {
      "cell_type": "code",
      "source": [
        "print(\"Fitness value of the best solution = {solution_fitness}\".format(solution_fitness=solution_fitness))\n",
        "print(\"Index of the best solution : {solution_idx}\".format(solution_idx=solution_idx))"
      ],
      "metadata": {
        "colab": {
          "base_uri": "https://localhost:8080/"
        },
        "id": "Yl_601fs98eL",
        "outputId": "d5bfe2d9-85b8-4e7d-e08a-7023eb63cf0d"
      },
      "execution_count": 44,
      "outputs": [
        {
          "output_type": "stream",
          "name": "stdout",
          "text": [
            "Fitness value of the best solution = 87.95852725762725\n",
            "Index of the best solution : 0\n"
          ]
        }
      ]
    },
    {
      "cell_type": "code",
      "source": [
        "# Fetch the parameters of the best solution.\n",
        "best_solution_weights = pygad.kerasga.model_weights_as_matrix(model=model,\n",
        "                                                              weights_vector=solution)\n",
        "model.set_weights(best_solution_weights)\n",
        "predictions = model.predict(data_inputs)\n",
        "print(\"Predictions : \\n\", predictions)"
      ],
      "metadata": {
        "colab": {
          "base_uri": "https://localhost:8080/"
        },
        "id": "bkrpps-Q9_cu",
        "outputId": "f43ac81c-1b58-4d62-c252-8cc5ee4683d7"
      },
      "execution_count": 45,
      "outputs": [
        {
          "output_type": "stream",
          "name": "stdout",
          "text": [
            "1/1 [==============================] - 0s 42ms/step\n",
            "Predictions : \n",
            " [[0.09991992]\n",
            " [0.612893  ]\n",
            " [1.2710695 ]\n",
            " [2.4964275 ]]\n"
          ]
        }
      ]
    },
    {
      "cell_type": "code",
      "source": [
        "mae = tensorflow.keras.losses.MeanAbsoluteError()\n",
        "abs_error = mae(data_outputs, predictions).numpy()\n",
        "print(\"Absolute Error : \", abs_error)"
      ],
      "metadata": {
        "colab": {
          "base_uri": "https://localhost:8080/"
        },
        "id": "bt4qxgs_-F9I",
        "outputId": "52408b32-74f8-440c-ac22-bc8184e37d6c"
      },
      "execution_count": 46,
      "outputs": [
        {
          "output_type": "stream",
          "name": "stdout",
          "text": [
            "Absolute Error :  0.011368984\n"
          ]
        }
      ]
    },
    {
      "cell_type": "markdown",
      "source": [
        "# https://github.com/ahmedfgad/NumPyCNN/blob/master/cnn.py"
      ],
      "metadata": {
        "id": "s_kZ_hGX_i9G"
      }
    },
    {
      "cell_type": "code",
      "source": [
        "import tensorflow.keras\n",
        "import pygad.kerasga\n",
        "import pygad\n",
        "\n",
        "def fitness_func(_, solution, sol_idx):\n",
        "    global data_inputs, data_outputs, keras_ga, model\n",
        "\n",
        "    model_weights_matrix = pygad.kerasga.model_weights_as_matrix(model=model,\n",
        "                                                                 weights_vector=solution)\n",
        "\n",
        "    model.set_weights(weights=model_weights_matrix)\n",
        "\n",
        "    predictions = model.predict(data_inputs)\n",
        "\n",
        "    cce = tensorflow.keras.losses.CategoricalCrossentropy()\n",
        "    solution_fitness = 1.0 / (cce(data_outputs, predictions).numpy() + 0.00000001)\n",
        "\n",
        "    return solution_fitness\n",
        "\n",
        "def callback_generation(ga_instance):\n",
        "    print(\"Generation = {generation}\".format(generation=ga_instance.generations_completed))\n",
        "    print(\"Fitness    = {fitness}\".format(fitness=ga_instance.best_solution()[1]))\n",
        "\n",
        "# Build the keras model using the functional API.\n",
        "input_layer = tensorflow.keras.layers.Input(shape=(100, 100, 3))\n",
        "conv_layer1 = tensorflow.keras.layers.Conv2D(filters=5,\n",
        "                                             kernel_size=7,\n",
        "                                             activation=\"relu\")(input_layer)\n",
        "max_pool1 = tensorflow.keras.layers.MaxPooling2D(pool_size=(5,5),\n",
        "                                                 strides=5)(conv_layer1)\n",
        "conv_layer2 = tensorflow.keras.layers.Conv2D(filters=3,\n",
        "                                             kernel_size=3,\n",
        "                                             activation=\"relu\")(max_pool1)\n",
        "flatten_layer  = tensorflow.keras.layers.Flatten()(conv_layer2)\n",
        "dense_layer = tensorflow.keras.layers.Dense(15, activation=\"relu\")(flatten_layer)\n",
        "output_layer = tensorflow.keras.layers.Dense(4, activation=\"softmax\")(dense_layer)\n",
        "\n",
        "model = tensorflow.keras.Model(inputs=input_layer, outputs=output_layer)\n",
        "\n",
        "keras_ga = pygad.kerasga.KerasGA(model=model,\n",
        "                                 num_solutions=10)\n",
        "\n",
        "# Data inputs\n",
        "data_inputs = np.load(\"dataset_inputs.npy\")\n",
        "\n",
        "# Data outputs\n",
        "data_outputs = np.load(\"dataset_outputs.npy\")\n",
        "data_outputs = tensorflow.keras.utils.to_categorical(data_outputs)\n",
        "\n",
        "num_generations = 200\n",
        "num_parents_mating = 5\n",
        "initial_population = keras_ga.population_weights\n",
        "\n",
        "ga_instance = pygad.GA(num_generations=num_generations,\n",
        "                       num_parents_mating=num_parents_mating,\n",
        "                       initial_population=initial_population,\n",
        "                       fitness_func=fitness_func,\n",
        "                       on_generation=callback_generation)\n",
        "\n",
        "ga_instance.run()\n",
        "\n",
        "ga_instance.plot_result(title=\"PyGAD & Keras - Iteration vs. Fitness\", linewidth=4)\n",
        "\n",
        "# Returning the details of the best solution.\n",
        "solution, solution_fitness, solution_idx = ga_instance.best_solution()\n",
        "print(\"Fitness value of the best solution = {solution_fitness}\".format(solution_fitness=solution_fitness))\n",
        "print(\"Index of the best solution : {solution_idx}\".format(solution_idx=solution_idx))\n",
        "\n",
        "# Fetch the parameters of the best solution.\n",
        "best_solution_weights = pygad.kerasga.model_weights_as_matrix(model=model,\n",
        "                                                              weights_vector=solution)\n",
        "model.set_weights(best_solution_weights)\n",
        "predictions = model.predict(data_inputs)\n",
        "# print(\"Predictions : \\n\", predictions)\n",
        "\n",
        "# Calculate the categorical crossentropy for the trained model.\n",
        "cce = tensorflow.keras.losses.CategoricalCrossentropy()\n",
        "print(\"Categorical Crossentropy : \", cce(data_outputs, predictions).numpy())\n",
        "\n",
        "# Calculate the classification accuracy for the trained model.\n",
        "ca = tensorflow.keras.metrics.CategoricalAccuracy()\n",
        "ca.update_state(data_outputs, predictions)\n",
        "accuracy = ca.result().numpy()\n",
        "print(\"Accuracy : \", accuracy)"
      ],
      "metadata": {
        "colab": {
          "base_uri": "https://localhost:8080/"
        },
        "id": "VdTmXJUb-LWF",
        "outputId": "15699b8c-877e-49c0-effb-762732b4a6f5"
      },
      "execution_count": null,
      "outputs": [
        {
          "output_type": "stream",
          "name": "stderr",
          "text": [
            "/usr/local/lib/python3.10/dist-packages/pygad/pygad.py:1139: UserWarning: The 'delay_after_gen' parameter is deprecated starting from PyGAD 3.3.0. To delay or pause the evolution after each generation, assign a callback function/method to the 'on_generation' parameter to adds some time delay.\n",
            "  warnings.warn(\"The 'delay_after_gen' parameter is deprecated starting from PyGAD 3.3.0. To delay or pause the evolution after each generation, assign a callback function/method to the 'on_generation' parameter to adds some time delay.\")\n"
          ]
        },
        {
          "output_type": "stream",
          "name": "stdout",
          "text": [
            "3/3 [==============================] - 0s 51ms/step\n",
            "3/3 [==============================] - 0s 49ms/step\n",
            "3/3 [==============================] - 0s 50ms/step\n",
            "3/3 [==============================] - 0s 47ms/step\n",
            "3/3 [==============================] - 0s 48ms/step\n",
            "3/3 [==============================] - 0s 50ms/step\n",
            "3/3 [==============================] - 0s 48ms/step\n",
            "3/3 [==============================] - 0s 52ms/step\n",
            "3/3 [==============================] - 0s 50ms/step\n",
            "3/3 [==============================] - 0s 49ms/step\n",
            "3/3 [==============================] - 0s 47ms/step\n",
            "3/3 [==============================] - 0s 49ms/step\n",
            "3/3 [==============================] - 0s 48ms/step\n",
            "3/3 [==============================] - 0s 48ms/step\n",
            "3/3 [==============================] - 0s 49ms/step\n",
            "3/3 [==============================] - 0s 48ms/step\n",
            "3/3 [==============================] - 0s 51ms/step\n",
            "3/3 [==============================] - 0s 48ms/step\n",
            "3/3 [==============================] - 0s 50ms/step\n",
            "Generation = 1\n",
            "3/3 [==============================] - 0s 53ms/step\n",
            "3/3 [==============================] - 0s 49ms/step\n",
            "3/3 [==============================] - 0s 48ms/step\n",
            "3/3 [==============================] - 0s 55ms/step\n",
            "3/3 [==============================] - 0s 49ms/step\n",
            "3/3 [==============================] - 0s 78ms/step\n",
            "3/3 [==============================] - 0s 82ms/step\n",
            "3/3 [==============================] - 0s 85ms/step\n",
            "3/3 [==============================] - 0s 88ms/step\n",
            "Fitness    = 0.14181043550608455\n",
            "3/3 [==============================] - 1s 211ms/step\n",
            "3/3 [==============================] - 0s 94ms/step\n",
            "3/3 [==============================] - 0s 79ms/step\n",
            "3/3 [==============================] - 0s 92ms/step\n",
            "3/3 [==============================] - 0s 110ms/step\n",
            "3/3 [==============================] - 0s 90ms/step\n",
            "3/3 [==============================] - 0s 123ms/step\n",
            "3/3 [==============================] - 0s 105ms/step\n",
            "3/3 [==============================] - 0s 122ms/step\n",
            "Generation = 2\n",
            "3/3 [==============================] - 0s 48ms/step\n",
            "3/3 [==============================] - 0s 49ms/step\n",
            "3/3 [==============================] - 0s 49ms/step\n",
            "3/3 [==============================] - 0s 95ms/step\n",
            "3/3 [==============================] - 0s 50ms/step\n",
            "3/3 [==============================] - 0s 48ms/step\n",
            "3/3 [==============================] - 0s 47ms/step\n",
            "3/3 [==============================] - 0s 47ms/step\n",
            "3/3 [==============================] - 0s 48ms/step\n",
            "Fitness    = 0.14181043550608455\n",
            "3/3 [==============================] - 0s 49ms/step\n",
            "3/3 [==============================] - 0s 48ms/step\n",
            "3/3 [==============================] - 0s 48ms/step\n",
            "3/3 [==============================] - 0s 48ms/step\n",
            "3/3 [==============================] - 0s 53ms/step\n",
            "3/3 [==============================] - 0s 50ms/step\n",
            "3/3 [==============================] - 0s 70ms/step\n",
            "3/3 [==============================] - 0s 87ms/step\n",
            "3/3 [==============================] - 0s 90ms/step\n",
            "Generation = 3\n",
            "3/3 [==============================] - 0s 83ms/step\n",
            "3/3 [==============================] - 0s 87ms/step\n",
            "3/3 [==============================] - 0s 58ms/step\n",
            "3/3 [==============================] - 0s 52ms/step\n",
            "3/3 [==============================] - 0s 49ms/step\n",
            "3/3 [==============================] - 0s 49ms/step\n",
            "3/3 [==============================] - 0s 48ms/step\n",
            "3/3 [==============================] - 0s 48ms/step\n",
            "3/3 [==============================] - 0s 47ms/step\n",
            "Fitness    = 0.14181043550608455\n",
            "3/3 [==============================] - 0s 49ms/step\n",
            "3/3 [==============================] - 0s 48ms/step\n",
            "3/3 [==============================] - 0s 49ms/step\n",
            "3/3 [==============================] - 0s 49ms/step\n",
            "3/3 [==============================] - 0s 50ms/step\n",
            "3/3 [==============================] - 0s 47ms/step\n",
            "3/3 [==============================] - 0s 48ms/step\n",
            "3/3 [==============================] - 0s 48ms/step\n",
            "3/3 [==============================] - 0s 49ms/step\n",
            "Generation = 4\n",
            "3/3 [==============================] - 0s 48ms/step\n",
            "3/3 [==============================] - 0s 52ms/step\n",
            "3/3 [==============================] - 0s 49ms/step\n",
            "3/3 [==============================] - 0s 49ms/step\n",
            "3/3 [==============================] - 0s 48ms/step\n",
            "3/3 [==============================] - 0s 48ms/step\n",
            "3/3 [==============================] - 0s 50ms/step\n",
            "3/3 [==============================] - 0s 49ms/step\n",
            "3/3 [==============================] - 0s 48ms/step\n",
            "Fitness    = 0.14181043550608455\n",
            "3/3 [==============================] - 0s 48ms/step\n",
            "3/3 [==============================] - 0s 52ms/step\n",
            "3/3 [==============================] - 0s 48ms/step\n",
            "3/3 [==============================] - 0s 48ms/step\n",
            "3/3 [==============================] - 0s 51ms/step\n",
            "3/3 [==============================] - 0s 51ms/step\n",
            "3/3 [==============================] - 0s 49ms/step\n",
            "3/3 [==============================] - 0s 90ms/step\n",
            "3/3 [==============================] - 0s 89ms/step\n",
            "Generation = 5\n",
            "3/3 [==============================] - 0s 84ms/step\n",
            "3/3 [==============================] - 0s 84ms/step\n",
            "3/3 [==============================] - 0s 85ms/step\n",
            "3/3 [==============================] - 0s 61ms/step\n",
            "3/3 [==============================] - 0s 49ms/step\n",
            "3/3 [==============================] - 0s 48ms/step\n",
            "3/3 [==============================] - 0s 48ms/step\n",
            "3/3 [==============================] - 0s 48ms/step\n",
            "3/3 [==============================] - 0s 51ms/step\n",
            "Fitness    = 0.14181043550608455\n",
            "3/3 [==============================] - 0s 49ms/step\n",
            "3/3 [==============================] - 0s 48ms/step\n",
            "3/3 [==============================] - 0s 49ms/step\n",
            "3/3 [==============================] - 0s 49ms/step\n",
            "3/3 [==============================] - 0s 50ms/step\n",
            "3/3 [==============================] - 0s 49ms/step\n",
            "3/3 [==============================] - 0s 51ms/step\n",
            "3/3 [==============================] - 0s 48ms/step\n",
            "3/3 [==============================] - 0s 51ms/step\n",
            "Generation = 6\n",
            "3/3 [==============================] - 0s 49ms/step\n",
            "3/3 [==============================] - 0s 48ms/step\n",
            "3/3 [==============================] - 0s 47ms/step\n",
            "3/3 [==============================] - 0s 48ms/step\n",
            "3/3 [==============================] - 0s 48ms/step\n",
            "3/3 [==============================] - 0s 49ms/step\n",
            "3/3 [==============================] - 0s 50ms/step\n",
            "3/3 [==============================] - 0s 48ms/step\n",
            "3/3 [==============================] - 0s 50ms/step\n",
            "Fitness    = 0.15040501319773084\n",
            "3/3 [==============================] - 0s 50ms/step\n",
            "3/3 [==============================] - 0s 49ms/step\n",
            "3/3 [==============================] - 0s 48ms/step\n",
            "3/3 [==============================] - 0s 51ms/step\n",
            "3/3 [==============================] - 0s 49ms/step\n",
            "3/3 [==============================] - 0s 50ms/step\n",
            "3/3 [==============================] - 0s 55ms/step\n",
            "3/3 [==============================] - 0s 77ms/step\n",
            "3/3 [==============================] - 0s 93ms/step\n",
            "Generation = 7\n",
            "3/3 [==============================] - 0s 76ms/step\n",
            "3/3 [==============================] - 0s 90ms/step\n",
            "3/3 [==============================] - 0s 53ms/step\n",
            "3/3 [==============================] - 0s 50ms/step\n",
            "3/3 [==============================] - 0s 48ms/step\n",
            "3/3 [==============================] - 0s 49ms/step\n",
            "3/3 [==============================] - 0s 49ms/step\n",
            "3/3 [==============================] - 0s 51ms/step\n",
            "3/3 [==============================] - 0s 50ms/step\n",
            "Fitness    = 0.15040501319773084\n",
            "3/3 [==============================] - 0s 48ms/step\n",
            "3/3 [==============================] - 0s 48ms/step\n",
            "3/3 [==============================] - 0s 51ms/step\n",
            "3/3 [==============================] - 0s 49ms/step\n",
            "3/3 [==============================] - 0s 50ms/step\n",
            "3/3 [==============================] - 0s 48ms/step\n",
            "3/3 [==============================] - 0s 48ms/step\n",
            "3/3 [==============================] - 0s 49ms/step\n",
            "3/3 [==============================] - 0s 48ms/step\n",
            "Generation = 8\n",
            "3/3 [==============================] - 0s 63ms/step\n",
            "3/3 [==============================] - 0s 49ms/step\n",
            "3/3 [==============================] - 0s 49ms/step\n",
            "3/3 [==============================] - 0s 52ms/step\n",
            "3/3 [==============================] - 0s 52ms/step\n",
            "3/3 [==============================] - 0s 48ms/step\n",
            "3/3 [==============================] - 0s 48ms/step\n",
            "3/3 [==============================] - 0s 49ms/step\n",
            "3/3 [==============================] - 0s 48ms/step\n",
            "Fitness    = 0.15040501319773084\n",
            "3/3 [==============================] - 0s 49ms/step\n",
            "3/3 [==============================] - 0s 47ms/step\n",
            "3/3 [==============================] - 0s 54ms/step\n",
            "3/3 [==============================] - 0s 48ms/step\n",
            "3/3 [==============================] - 0s 52ms/step\n",
            "3/3 [==============================] - 0s 55ms/step\n",
            "3/3 [==============================] - 0s 84ms/step\n",
            "3/3 [==============================] - 0s 86ms/step\n",
            "3/3 [==============================] - 0s 84ms/step\n",
            "Generation = 9\n",
            "3/3 [==============================] - 0s 87ms/step\n",
            "3/3 [==============================] - 0s 96ms/step\n",
            "3/3 [==============================] - 0s 56ms/step\n",
            "3/3 [==============================] - 0s 49ms/step\n",
            "3/3 [==============================] - 0s 48ms/step\n",
            "3/3 [==============================] - 0s 47ms/step\n",
            "3/3 [==============================] - 0s 49ms/step\n",
            "3/3 [==============================] - 0s 48ms/step\n",
            "3/3 [==============================] - 0s 48ms/step\n",
            "Fitness    = 0.17115054830806342\n",
            "3/3 [==============================] - 0s 50ms/step\n",
            "3/3 [==============================] - 0s 50ms/step\n",
            "3/3 [==============================] - 0s 49ms/step\n",
            "3/3 [==============================] - 0s 48ms/step\n",
            "3/3 [==============================] - 0s 49ms/step\n",
            "3/3 [==============================] - 0s 53ms/step\n",
            "3/3 [==============================] - 0s 49ms/step\n",
            "3/3 [==============================] - 0s 49ms/step\n",
            "3/3 [==============================] - 0s 51ms/step\n",
            "Generation = 10\n",
            "3/3 [==============================] - 0s 54ms/step\n",
            "3/3 [==============================] - 0s 50ms/step\n",
            "3/3 [==============================] - 0s 49ms/step\n",
            "3/3 [==============================] - 0s 49ms/step\n",
            "3/3 [==============================] - 0s 52ms/step\n",
            "3/3 [==============================] - 0s 51ms/step\n",
            "3/3 [==============================] - 0s 52ms/step\n",
            "3/3 [==============================] - 0s 55ms/step\n",
            "3/3 [==============================] - 0s 48ms/step\n",
            "Fitness    = 0.17115054830806342\n",
            "3/3 [==============================] - 0s 51ms/step\n",
            "3/3 [==============================] - 0s 48ms/step\n",
            "3/3 [==============================] - 0s 50ms/step\n",
            "3/3 [==============================] - 0s 49ms/step\n",
            "3/3 [==============================] - 0s 54ms/step\n",
            "3/3 [==============================] - 0s 49ms/step\n",
            "3/3 [==============================] - 0s 49ms/step\n",
            "3/3 [==============================] - 0s 80ms/step\n",
            "3/3 [==============================] - 0s 98ms/step\n",
            "Generation = 11\n",
            "3/3 [==============================] - 0s 90ms/step\n",
            "3/3 [==============================] - 0s 83ms/step\n",
            "3/3 [==============================] - 0s 85ms/step\n",
            "3/3 [==============================] - 0s 90ms/step\n",
            "3/3 [==============================] - 0s 52ms/step\n",
            "3/3 [==============================] - 0s 49ms/step\n",
            "3/3 [==============================] - 0s 50ms/step\n",
            "3/3 [==============================] - 0s 48ms/step\n",
            "3/3 [==============================] - 0s 48ms/step\n",
            "Fitness    = 0.2256075358072127\n",
            "3/3 [==============================] - 0s 50ms/step\n",
            "3/3 [==============================] - 0s 50ms/step\n",
            "3/3 [==============================] - 0s 54ms/step\n",
            "3/3 [==============================] - 0s 49ms/step\n",
            "3/3 [==============================] - 0s 48ms/step\n",
            "3/3 [==============================] - 0s 61ms/step\n",
            "3/3 [==============================] - 0s 49ms/step\n",
            "3/3 [==============================] - 0s 50ms/step\n",
            "3/3 [==============================] - 0s 57ms/step\n",
            "Generation = 12\n",
            "3/3 [==============================] - 0s 50ms/step\n",
            "3/3 [==============================] - 0s 61ms/step\n",
            "3/3 [==============================] - 0s 49ms/step\n",
            "3/3 [==============================] - 0s 56ms/step\n",
            "3/3 [==============================] - 0s 48ms/step\n",
            "3/3 [==============================] - 0s 52ms/step\n",
            "3/3 [==============================] - 0s 55ms/step\n",
            "3/3 [==============================] - 0s 51ms/step\n",
            "3/3 [==============================] - 0s 51ms/step\n",
            "Fitness    = 0.2256075358072127\n",
            "3/3 [==============================] - 0s 49ms/step\n",
            "3/3 [==============================] - 0s 47ms/step\n",
            "3/3 [==============================] - 0s 60ms/step\n",
            "3/3 [==============================] - 0s 51ms/step\n",
            "3/3 [==============================] - 0s 48ms/step\n",
            "3/3 [==============================] - 0s 55ms/step\n",
            "3/3 [==============================] - 0s 90ms/step\n",
            "3/3 [==============================] - 0s 97ms/step\n",
            "3/3 [==============================] - 0s 80ms/step\n",
            "Generation = 13\n",
            "3/3 [==============================] - 0s 85ms/step\n",
            "3/3 [==============================] - 0s 86ms/step\n",
            "3/3 [==============================] - 0s 79ms/step\n",
            "3/3 [==============================] - 0s 49ms/step\n",
            "3/3 [==============================] - 0s 49ms/step\n",
            "3/3 [==============================] - 0s 48ms/step\n",
            "3/3 [==============================] - 0s 49ms/step\n",
            "3/3 [==============================] - 0s 50ms/step\n",
            "3/3 [==============================] - 0s 48ms/step\n",
            "Fitness    = 0.2256075358072127\n",
            "3/3 [==============================] - 0s 50ms/step\n",
            "3/3 [==============================] - 0s 49ms/step\n",
            "3/3 [==============================] - 0s 49ms/step\n",
            "3/3 [==============================] - 0s 51ms/step\n",
            "3/3 [==============================] - 0s 55ms/step\n",
            "3/3 [==============================] - 0s 48ms/step\n",
            "3/3 [==============================] - 0s 49ms/step\n",
            "3/3 [==============================] - 0s 54ms/step\n",
            "3/3 [==============================] - 0s 48ms/step\n",
            "Generation = 14\n",
            "3/3 [==============================] - 0s 52ms/step\n",
            "3/3 [==============================] - 0s 50ms/step\n",
            "3/3 [==============================] - 0s 50ms/step\n",
            "3/3 [==============================] - 0s 49ms/step\n",
            "3/3 [==============================] - 0s 55ms/step\n",
            "3/3 [==============================] - 0s 49ms/step\n",
            "3/3 [==============================] - 0s 48ms/step\n",
            "3/3 [==============================] - 0s 50ms/step\n",
            "3/3 [==============================] - 0s 49ms/step\n",
            "Fitness    = 0.2256075358072127\n",
            "3/3 [==============================] - 0s 50ms/step\n",
            "3/3 [==============================] - 0s 51ms/step\n",
            "3/3 [==============================] - 0s 48ms/step\n",
            "3/3 [==============================] - 0s 51ms/step\n",
            "3/3 [==============================] - 0s 50ms/step\n",
            "3/3 [==============================] - 0s 49ms/step\n",
            "3/3 [==============================] - 0s 71ms/step\n",
            "3/3 [==============================] - 0s 94ms/step\n",
            "3/3 [==============================] - 0s 85ms/step\n",
            "Generation = 15\n",
            "3/3 [==============================] - 0s 89ms/step\n",
            "3/3 [==============================] - 0s 75ms/step\n",
            "3/3 [==============================] - 0s 49ms/step\n",
            "3/3 [==============================] - 0s 49ms/step\n",
            "3/3 [==============================] - 0s 49ms/step\n",
            "3/3 [==============================] - 0s 50ms/step\n",
            "3/3 [==============================] - 0s 52ms/step\n",
            "3/3 [==============================] - 0s 53ms/step\n",
            "3/3 [==============================] - 0s 50ms/step\n",
            "Fitness    = 0.2256075358072127\n",
            "3/3 [==============================] - 0s 50ms/step\n",
            "3/3 [==============================] - 0s 49ms/step\n",
            "3/3 [==============================] - 0s 53ms/step\n",
            "3/3 [==============================] - 0s 55ms/step\n",
            "3/3 [==============================] - 0s 48ms/step\n",
            "3/3 [==============================] - 0s 51ms/step\n",
            "3/3 [==============================] - 0s 49ms/step\n",
            "3/3 [==============================] - 0s 49ms/step\n",
            "3/3 [==============================] - 0s 50ms/step\n",
            "Generation = 16\n",
            "3/3 [==============================] - 0s 49ms/step\n",
            "3/3 [==============================] - 0s 48ms/step\n",
            "3/3 [==============================] - 0s 51ms/step\n",
            "3/3 [==============================] - 0s 49ms/step\n",
            "3/3 [==============================] - 0s 54ms/step\n",
            "3/3 [==============================] - 0s 51ms/step\n",
            "3/3 [==============================] - 0s 50ms/step\n",
            "3/3 [==============================] - 0s 51ms/step\n",
            "3/3 [==============================] - 0s 51ms/step\n",
            "Fitness    = 0.2256075358072127\n",
            "3/3 [==============================] - 0s 49ms/step\n",
            "3/3 [==============================] - 0s 48ms/step\n",
            "3/3 [==============================] - 0s 50ms/step\n",
            "3/3 [==============================] - 0s 52ms/step\n",
            "3/3 [==============================] - 0s 48ms/step\n",
            "3/3 [==============================] - 0s 73ms/step\n",
            "3/3 [==============================] - 0s 84ms/step\n",
            "3/3 [==============================] - 0s 94ms/step\n",
            "3/3 [==============================] - 0s 88ms/step\n",
            "Generation = 17\n",
            "3/3 [==============================] - 0s 81ms/step\n",
            "3/3 [==============================] - 0s 83ms/step\n",
            "3/3 [==============================] - 0s 58ms/step\n",
            "3/3 [==============================] - 0s 55ms/step\n",
            "3/3 [==============================] - 0s 59ms/step\n",
            "3/3 [==============================] - 0s 87ms/step\n",
            "3/3 [==============================] - 0s 96ms/step\n",
            "3/3 [==============================] - 0s 92ms/step\n",
            "3/3 [==============================] - 0s 84ms/step\n",
            "Fitness    = 0.2919626765756609\n",
            "3/3 [==============================] - 0s 82ms/step\n",
            "3/3 [==============================] - 0s 52ms/step\n",
            "3/3 [==============================] - 0s 50ms/step\n",
            "3/3 [==============================] - 0s 51ms/step\n",
            "3/3 [==============================] - 0s 50ms/step\n",
            "3/3 [==============================] - 0s 48ms/step\n",
            "3/3 [==============================] - 0s 49ms/step\n",
            "3/3 [==============================] - 0s 49ms/step\n",
            "3/3 [==============================] - 0s 55ms/step\n",
            "Generation = 18\n",
            "3/3 [==============================] - 0s 51ms/step\n",
            "3/3 [==============================] - 0s 49ms/step\n",
            "3/3 [==============================] - 0s 56ms/step\n",
            "3/3 [==============================] - 0s 50ms/step\n",
            "3/3 [==============================] - 0s 49ms/step\n",
            "3/3 [==============================] - 0s 51ms/step\n",
            "3/3 [==============================] - 0s 49ms/step\n",
            "3/3 [==============================] - 0s 50ms/step\n",
            "3/3 [==============================] - 0s 49ms/step\n",
            "Fitness    = 0.2919626765756609\n",
            "3/3 [==============================] - 0s 56ms/step\n",
            "3/3 [==============================] - 0s 50ms/step\n",
            "3/3 [==============================] - 0s 49ms/step\n",
            "3/3 [==============================] - 0s 51ms/step\n",
            "3/3 [==============================] - 0s 49ms/step\n",
            "3/3 [==============================] - 0s 70ms/step\n",
            "3/3 [==============================] - 0s 91ms/step\n",
            "3/3 [==============================] - 0s 82ms/step\n",
            "3/3 [==============================] - 0s 85ms/step\n",
            "Generation = 19\n",
            "3/3 [==============================] - 0s 84ms/step\n",
            "3/3 [==============================] - 0s 82ms/step\n",
            "3/3 [==============================] - 0s 50ms/step\n",
            "3/3 [==============================] - 0s 50ms/step\n",
            "3/3 [==============================] - 0s 50ms/step\n",
            "3/3 [==============================] - 0s 49ms/step\n",
            "3/3 [==============================] - 0s 49ms/step\n",
            "3/3 [==============================] - 0s 48ms/step\n",
            "3/3 [==============================] - 0s 50ms/step\n",
            "Fitness    = 0.2919626765756609\n",
            "3/3 [==============================] - 0s 50ms/step\n",
            "3/3 [==============================] - 0s 49ms/step\n",
            "3/3 [==============================] - 0s 49ms/step\n",
            "3/3 [==============================] - 0s 48ms/step\n",
            "3/3 [==============================] - 0s 48ms/step\n",
            "3/3 [==============================] - 0s 48ms/step\n",
            "3/3 [==============================] - 0s 58ms/step\n",
            "3/3 [==============================] - 0s 53ms/step\n",
            "3/3 [==============================] - 0s 58ms/step\n",
            "Generation = 20\n",
            "3/3 [==============================] - 0s 104ms/step\n",
            "3/3 [==============================] - 0s 56ms/step\n",
            "3/3 [==============================] - 0s 116ms/step\n",
            "3/3 [==============================] - 0s 119ms/step\n",
            "3/3 [==============================] - 0s 93ms/step\n",
            "3/3 [==============================] - 0s 89ms/step\n",
            "3/3 [==============================] - 0s 93ms/step\n",
            "3/3 [==============================] - 0s 138ms/step\n",
            "3/3 [==============================] - 1s 207ms/step\n",
            "Fitness    = 0.2919626765756609\n",
            "3/3 [==============================] - 1s 173ms/step\n",
            "3/3 [==============================] - 1s 157ms/step\n",
            "3/3 [==============================] - 0s 100ms/step\n",
            "3/3 [==============================] - 0s 50ms/step\n",
            "3/3 [==============================] - 0s 55ms/step\n",
            "3/3 [==============================] - 0s 50ms/step\n",
            "3/3 [==============================] - 0s 50ms/step\n",
            "3/3 [==============================] - 0s 49ms/step\n",
            "3/3 [==============================] - 0s 51ms/step\n",
            "Generation = 21\n",
            "3/3 [==============================] - 0s 49ms/step\n",
            "3/3 [==============================] - 0s 49ms/step\n",
            "3/3 [==============================] - 0s 51ms/step\n",
            "3/3 [==============================] - 0s 52ms/step\n",
            "3/3 [==============================] - 0s 48ms/step\n",
            "3/3 [==============================] - 0s 49ms/step\n",
            "3/3 [==============================] - 0s 48ms/step\n",
            "3/3 [==============================] - 0s 50ms/step\n",
            "3/3 [==============================] - 0s 49ms/step\n",
            "Fitness    = 0.2919626765756609\n",
            "3/3 [==============================] - 0s 57ms/step\n",
            "3/3 [==============================] - 0s 51ms/step\n",
            "3/3 [==============================] - 0s 49ms/step\n",
            "3/3 [==============================] - 0s 52ms/step\n",
            "3/3 [==============================] - 0s 49ms/step\n",
            "3/3 [==============================] - 0s 51ms/step\n",
            "3/3 [==============================] - 0s 51ms/step\n",
            "3/3 [==============================] - 0s 56ms/step\n",
            "3/3 [==============================] - 0s 50ms/step\n",
            "Generation = 22\n",
            "3/3 [==============================] - 0s 49ms/step\n",
            "3/3 [==============================] - 0s 54ms/step\n",
            "3/3 [==============================] - 0s 50ms/step\n",
            "3/3 [==============================] - 0s 51ms/step\n",
            "3/3 [==============================] - 0s 49ms/step\n",
            "3/3 [==============================] - 0s 86ms/step\n",
            "3/3 [==============================] - 0s 91ms/step\n",
            "3/3 [==============================] - 0s 80ms/step\n",
            "3/3 [==============================] - 0s 86ms/step\n",
            "Fitness    = 1.2408412341112967\n",
            "3/3 [==============================] - 0s 57ms/step\n",
            "3/3 [==============================] - 0s 49ms/step\n",
            "3/3 [==============================] - 0s 56ms/step\n",
            "3/3 [==============================] - 0s 50ms/step\n",
            "3/3 [==============================] - 0s 50ms/step\n",
            "3/3 [==============================] - 0s 48ms/step\n",
            "3/3 [==============================] - 0s 48ms/step\n",
            "3/3 [==============================] - 0s 50ms/step\n",
            "3/3 [==============================] - 0s 56ms/step\n",
            "Generation = 23\n",
            "3/3 [==============================] - 0s 55ms/step\n",
            "3/3 [==============================] - 0s 50ms/step\n",
            "3/3 [==============================] - 0s 49ms/step\n",
            "3/3 [==============================] - 0s 51ms/step\n",
            "3/3 [==============================] - 0s 50ms/step\n",
            "3/3 [==============================] - 0s 52ms/step\n",
            "3/3 [==============================] - 0s 50ms/step\n",
            "3/3 [==============================] - 0s 51ms/step\n",
            "3/3 [==============================] - 0s 51ms/step\n",
            "Fitness    = 1.2408412341112967\n",
            "3/3 [==============================] - 0s 52ms/step\n",
            "3/3 [==============================] - 0s 49ms/step\n",
            "3/3 [==============================] - 0s 51ms/step\n",
            "3/3 [==============================] - 0s 53ms/step\n",
            "3/3 [==============================] - 0s 50ms/step\n",
            "3/3 [==============================] - 0s 52ms/step\n",
            "3/3 [==============================] - 0s 49ms/step\n",
            "3/3 [==============================] - 0s 54ms/step\n",
            "3/3 [==============================] - 0s 48ms/step\n",
            "Generation = 24\n",
            "3/3 [==============================] - 0s 49ms/step\n",
            "3/3 [==============================] - 0s 53ms/step\n",
            "3/3 [==============================] - 0s 50ms/step\n",
            "3/3 [==============================] - 0s 51ms/step\n",
            "3/3 [==============================] - 0s 72ms/step\n",
            "3/3 [==============================] - 0s 87ms/step\n",
            "3/3 [==============================] - 0s 82ms/step\n",
            "3/3 [==============================] - 0s 86ms/step\n",
            "3/3 [==============================] - 0s 88ms/step\n",
            "Fitness    = 1.2408412341112967\n",
            "3/3 [==============================] - 0s 84ms/step\n",
            "3/3 [==============================] - 0s 51ms/step\n",
            "3/3 [==============================] - 0s 50ms/step\n",
            "3/3 [==============================] - 0s 48ms/step\n",
            "3/3 [==============================] - 0s 49ms/step\n",
            "3/3 [==============================] - 0s 50ms/step\n",
            "1/3 [=========>....................] - ETA: 0s"
          ]
        }
      ]
    }
  ]
}