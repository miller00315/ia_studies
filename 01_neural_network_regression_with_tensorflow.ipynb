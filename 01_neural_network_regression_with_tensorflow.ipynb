{
  "nbformat": 4,
  "nbformat_minor": 0,
  "metadata": {
    "colab": {
      "provenance": [],
      "authorship_tag": "ABX9TyOEiCM+Hnd0P0pU4x5K6Ly1",
      "include_colab_link": true
    },
    "kernelspec": {
      "name": "python3",
      "display_name": "Python 3"
    },
    "language_info": {
      "name": "python"
    }
  },
  "cells": [
    {
      "cell_type": "markdown",
      "metadata": {
        "id": "view-in-github",
        "colab_type": "text"
      },
      "source": [
        "<a href=\"https://colab.research.google.com/github/miller00315/ia_studies/blob/main/01_neural_network_regression_with_tensorflow.ipynb\" target=\"_parent\"><img src=\"https://colab.research.google.com/assets/colab-badge.svg\" alt=\"Open In Colab\"/></a>"
      ]
    },
    {
      "cell_type": "markdown",
      "source": [
        "# Introduction to regretion with Neural networks and tensroflow\n",
        "\n",
        "There are many definitions of regression problem but in our cas, we're going to simplify it: predicting a numerial variable based on some other combination of variable, even shorter.. predicting a number"
      ],
      "metadata": {
        "id": "3nxdp51uJal3"
      }
    },
    {
      "cell_type": "code",
      "execution_count": 1,
      "metadata": {
        "colab": {
          "base_uri": "https://localhost:8080/"
        },
        "id": "AdpUrsUFAZ1J",
        "outputId": "c048bb99-a09d-4455-d9e3-d901e36e062d"
      },
      "outputs": [
        {
          "output_type": "stream",
          "name": "stdout",
          "text": [
            "2.15.0\n"
          ]
        }
      ],
      "source": [
        "# Import tensorflow\n",
        "\n",
        "import tensorflow as tf\n",
        "print(tf.__version__)"
      ]
    },
    {
      "cell_type": "markdown",
      "source": [
        "##Creating data to view and fit"
      ],
      "metadata": {
        "id": "HjhbdNluLJyz"
      }
    },
    {
      "cell_type": "code",
      "source": [
        "import numpy as np\n",
        "import matplotlib.pyplot as plt\n",
        "\n",
        "# Create features\n",
        "X = np.array([-7.0, -4.0, -1.0, 2.0, 5.0, 8.0, 11.0, 14.0])\n",
        "\n",
        "# Create labes\n",
        "y = np.array([3.0, 6.0, 9.0, 12.0, 15.0, 18.0, 21.0, 24.0])\n",
        "\n",
        "# Visualise it\n",
        "plt.scatter(X, y);"
      ],
      "metadata": {
        "colab": {
          "base_uri": "https://localhost:8080/",
          "height": 435
        },
        "id": "eDBdX569K5k_",
        "outputId": "f7265d5d-b8e1-4de9-a395-70594f59badc"
      },
      "execution_count": 37,
      "outputs": [
        {
          "output_type": "display_data",
          "data": {
            "text/plain": [
              "<Figure size 640x480 with 1 Axes>"
            ],
            "image/png": "[encoded data removed]"
          },
          "metadata": {}
        }
      ]
    },
    {
      "cell_type": "code",
      "source": [
        "y == X + 3"
      ],
      "metadata": {
        "colab": {
          "base_uri": "https://localhost:8080/"
        },
        "id": "HBm1w9JvK5gm",
        "outputId": "6b5d3100-c00f-4b40-840e-8a3219483fe3"
      },
      "execution_count": 3,
      "outputs": [
        {
          "output_type": "execute_result",
          "data": {
            "text/plain": [
              "array([False, False, False, False, False, False, False, False])"
            ]
          },
          "metadata": {},
          "execution_count": 3
        }
      ]
    },
    {
      "cell_type": "markdown",
      "source": [
        "# Input and output shapes"
      ],
      "metadata": {
        "id": "e29SJDf72Rnf"
      }
    },
    {
      "cell_type": "code",
      "source": [
        "# Cerate a demo tensor for our housing prise prediction problema\n",
        "\n",
        "house_info = tf.constant([\"bedroom\", \"bathroom\", \"garage\"])\n",
        "house_price = tf.constant([939700])\n",
        "house_info, house_price\n",
        "\n"
      ],
      "metadata": {
        "colab": {
          "base_uri": "https://localhost:8080/"
        },
        "id": "N2LodzXUK5eM",
        "outputId": "e2e45edb-9388-4b32-d35d-73e70aabcdbb"
      },
      "execution_count": 4,
      "outputs": [
        {
          "output_type": "execute_result",
          "data": {
            "text/plain": [
              "(<tf.Tensor: shape=(3,), dtype=string, numpy=array([b'bedroom', b'bathroom', b'garage'], dtype=object)>,\n",
              " <tf.Tensor: shape=(1,), dtype=int32, numpy=array([939700], dtype=int32)>)"
            ]
          },
          "metadata": {},
          "execution_count": 4
        }
      ]
    },
    {
      "cell_type": "code",
      "source": [
        "X[0], y[0]"
      ],
      "metadata": {
        "colab": {
          "base_uri": "https://localhost:8080/"
        },
        "id": "G4PvcUDe3ZSG",
        "outputId": "8a584c08-5e82-4cd0-e634-d6454002a468"
      },
      "execution_count": null,
      "outputs": [
        {
          "output_type": "execute_result",
          "data": {
            "text/plain": [
              "(-7.0, 3.0)"
            ]
          },
          "metadata": {},
          "execution_count": 21
        }
      ]
    },
    {
      "cell_type": "code",
      "source": [
        "X[1], y[1]"
      ],
      "metadata": {
        "colab": {
          "base_uri": "https://localhost:8080/"
        },
        "id": "Ax8g3GRD3ZPW",
        "outputId": "8fb700f2-5966-4ef9-e7cd-167054673705"
      },
      "execution_count": 5,
      "outputs": [
        {
          "output_type": "execute_result",
          "data": {
            "text/plain": [
              "(-4.0, 6.0)"
            ]
          },
          "metadata": {},
          "execution_count": 5
        }
      ]
    },
    {
      "cell_type": "code",
      "source": [
        "input_shape = X[0].shape\n",
        "output_shape = y[0].shape\n",
        "input_shape, output_shape"
      ],
      "metadata": {
        "colab": {
          "base_uri": "https://localhost:8080/"
        },
        "id": "BaAWU0j9K5bz",
        "outputId": "b5461d65-4d37-4f7e-8536-a657d21e3a5e"
      },
      "execution_count": null,
      "outputs": [
        {
          "output_type": "execute_result",
          "data": {
            "text/plain": [
              "((), ())"
            ]
          },
          "metadata": {},
          "execution_count": 11
        }
      ]
    },
    {
      "cell_type": "code",
      "source": [
        "X[0].ndim"
      ],
      "metadata": {
        "colab": {
          "base_uri": "https://localhost:8080/"
        },
        "id": "2y-P7wqJK5Zs",
        "outputId": "53cb1049-a101-4455-ee31-55f039e2a439"
      },
      "execution_count": null,
      "outputs": [
        {
          "output_type": "execute_result",
          "data": {
            "text/plain": [
              "0"
            ]
          },
          "metadata": {},
          "execution_count": 12
        }
      ]
    },
    {
      "cell_type": "code",
      "source": [
        "X[0], y[0]"
      ],
      "metadata": {
        "colab": {
          "base_uri": "https://localhost:8080/"
        },
        "id": "gac6lZZtK5Xn",
        "outputId": "6f80cd66-41a1-4b35-a1c6-837b54ace0e0"
      },
      "execution_count": null,
      "outputs": [
        {
          "output_type": "execute_result",
          "data": {
            "text/plain": [
              "(-7.0, 3.0)"
            ]
          },
          "metadata": {},
          "execution_count": 13
        }
      ]
    },
    {
      "cell_type": "code",
      "source": [
        "#Turn our numpy array into tensors"
      ],
      "metadata": {
        "id": "YicO7AiEK5U_"
      },
      "execution_count": 6,
      "outputs": []
    },
    {
      "cell_type": "code",
      "source": [
        "X = tf.cast(tf.constant(X), dtype=tf.float32)\n",
        "y = tf.cast(tf.constant(y), dtype=tf.float32)\n",
        "X, y"
      ],
      "metadata": {
        "id": "7f1eBKUYK5Sd"
      },
      "execution_count": null,
      "outputs": []
    },
    {
      "cell_type": "code",
      "source": [
        "input_shape = X[0].shape\n",
        "output_shape = y[0].shape\n",
        "input_shape, output_shape"
      ],
      "metadata": {
        "colab": {
          "base_uri": "https://localhost:8080/"
        },
        "id": "uEDEEz8SK5N-",
        "outputId": "9fefd180-95dc-49ce-ef61-49b54bb686ce"
      },
      "execution_count": null,
      "outputs": [
        {
          "output_type": "execute_result",
          "data": {
            "text/plain": [
              "(TensorShape([]), TensorShape([]))"
            ]
          },
          "metadata": {},
          "execution_count": 24
        }
      ]
    },
    {
      "cell_type": "code",
      "source": [
        "plt.scatter(X, y);"
      ],
      "metadata": {
        "colab": {
          "base_uri": "https://localhost:8080/",
          "height": 435
        },
        "id": "8ziAWiyMK5Lx",
        "outputId": "38548ed2-6705-4f8f-c007-4ab8f85a997a"
      },
      "execution_count": 8,
      "outputs": [
        {
          "output_type": "display_data",
          "data": {
            "text/plain": [
              "<Figure size 640x480 with 1 Axes>"
            ],
            "image/png": "[encoded data removed]"
          },
          "metadata": {}
        }
      ]
    },
    {
      "cell_type": "markdown",
      "source": [
        "## Steps in modelling eith tensroflow:\n",
        "\n",
        "1. **Creating a model** - define the input and the output layers, as well as the\n",
        "hidden layers of a deep learning model.\n",
        "2. **Compiling  a model** - define the loss function (in others words, the function which tells our model how wrong it is) and the optimizer (tells our model to improe the patterns its learning) and evaluation metrics (what we can use to interpret perform of our model)\n",
        "3. Fitting a model -  letting the model trye to find patterns between X & y (features and labels)"
      ],
      "metadata": {
        "id": "MJQ6U_6Q--Nl"
      }
    },
    {
      "cell_type": "code",
      "source": [
        "# Set random seed\n",
        "tf.random.set_seed(42)\n",
        "\n",
        "# 1. Create a model using the Sequential API\n",
        "model = tf.keras.Sequential([\n",
        "    tf.keras.layers.Dense(1)\n",
        "    ])\n",
        "\n",
        "\n",
        "# 2. Compile the model\n",
        "\n",
        "model.compile(loss=tf.keras.losses.mae, # mae is short for mean square error\n",
        "              optimizer=tf.keras.optimizers.SGD(), # sgd is short for stochastic gradient descent\n",
        "              metrics=[\"mae\"]\n",
        "              )\n",
        "\n",
        "# 3. Fit the model\n",
        "model.fit(tf.expand_dims(X, axis=-1), y, epochs=4)"
      ],
      "metadata": {
        "id": "Qdit3J_5K5JZ",
        "colab": {
          "base_uri": "https://localhost:8080/"
        },
        "outputId": "31f0a2a5-aaac-443b-c528-563774c745d0"
      },
      "execution_count": null,
      "outputs": [
        {
          "output_type": "stream",
          "name": "stdout",
          "text": [
            "Epoch 1/100\n",
            "1/1 [==============================] - 0s 368ms/step - loss: 13.4974 - mae: 13.4974\n",
            "Epoch 2/100\n",
            "1/1 [==============================] - 0s 10ms/step - loss: 13.3649 - mae: 13.3649\n",
            "Epoch 3/100\n",
            "1/1 [==============================] - 0s 11ms/step - loss: 13.2324 - mae: 13.2324\n",
            "Epoch 4/100\n",
            "1/1 [==============================] - 0s 15ms/step - loss: 13.0999 - mae: 13.0999\n",
            "Epoch 5/100\n",
            "1/1 [==============================] - 0s 11ms/step - loss: 12.9674 - mae: 12.9674\n",
            "Epoch 6/100\n",
            "1/1 [==============================] - 0s 9ms/step - loss: 12.8349 - mae: 12.8349\n",
            "Epoch 7/100\n",
            "1/1 [==============================] - 0s 9ms/step - loss: 12.7024 - mae: 12.7024\n",
            "Epoch 8/100\n",
            "1/1 [==============================] - 0s 13ms/step - loss: 12.5699 - mae: 12.5699\n",
            "Epoch 9/100\n",
            "1/1 [==============================] - 0s 11ms/step - loss: 12.4374 - mae: 12.4374\n",
            "Epoch 10/100\n",
            "1/1 [==============================] - 0s 9ms/step - loss: 12.3049 - mae: 12.3049\n",
            "Epoch 11/100\n",
            "1/1 [==============================] - 0s 11ms/step - loss: 12.1724 - mae: 12.1724\n",
            "Epoch 12/100\n",
            "1/1 [==============================] - 0s 9ms/step - loss: 12.0399 - mae: 12.0399\n",
            "Epoch 13/100\n",
            "1/1 [==============================] - 0s 9ms/step - loss: 11.9074 - mae: 11.9074\n",
            "Epoch 14/100\n",
            "1/1 [==============================] - 0s 10ms/step - loss: 11.7749 - mae: 11.7749\n",
            "Epoch 15/100\n",
            "1/1 [==============================] - 0s 9ms/step - loss: 11.6424 - mae: 11.6424\n",
            "Epoch 16/100\n",
            "1/1 [==============================] - 0s 10ms/step - loss: 11.5099 - mae: 11.5099\n",
            "Epoch 17/100\n",
            "1/1 [==============================] - 0s 10ms/step - loss: 11.3774 - mae: 11.3774\n",
            "Epoch 18/100\n",
            "1/1 [==============================] - 0s 9ms/step - loss: 11.2449 - mae: 11.2449\n",
            "Epoch 19/100\n",
            "1/1 [==============================] - 0s 9ms/step - loss: 11.1124 - mae: 11.1124\n",
            "Epoch 20/100\n",
            "1/1 [==============================] - 0s 10ms/step - loss: 10.9799 - mae: 10.9799\n",
            "Epoch 21/100\n",
            "1/1 [==============================] - 0s 10ms/step - loss: 10.8474 - mae: 10.8474\n",
            "Epoch 22/100\n",
            "1/1 [==============================] - 0s 14ms/step - loss: 10.7149 - mae: 10.7149\n",
            "Epoch 23/100\n",
            "1/1 [==============================] - 0s 10ms/step - loss: 10.5824 - mae: 10.5824\n",
            "Epoch 24/100\n",
            "1/1 [==============================] - 0s 10ms/step - loss: 10.4499 - mae: 10.4499\n",
            "Epoch 25/100\n",
            "1/1 [==============================] - 0s 11ms/step - loss: 10.3174 - mae: 10.3174\n",
            "Epoch 26/100\n",
            "1/1 [==============================] - 0s 10ms/step - loss: 10.1849 - mae: 10.1849\n",
            "Epoch 27/100\n",
            "1/1 [==============================] - 0s 10ms/step - loss: 10.0524 - mae: 10.0524\n",
            "Epoch 28/100\n",
            "1/1 [==============================] - 0s 10ms/step - loss: 9.9199 - mae: 9.9199\n",
            "Epoch 29/100\n",
            "1/1 [==============================] - 0s 11ms/step - loss: 9.7874 - mae: 9.7874\n",
            "Epoch 30/100\n",
            "1/1 [==============================] - 0s 11ms/step - loss: 9.6549 - mae: 9.6549\n",
            "Epoch 31/100\n",
            "1/1 [==============================] - 0s 10ms/step - loss: 9.5224 - mae: 9.5224\n",
            "Epoch 32/100\n",
            "1/1 [==============================] - 0s 10ms/step - loss: 9.3899 - mae: 9.3899\n",
            "Epoch 33/100\n",
            "1/1 [==============================] - 0s 10ms/step - loss: 9.2574 - mae: 9.2574\n",
            "Epoch 34/100\n",
            "1/1 [==============================] - 0s 9ms/step - loss: 9.1249 - mae: 9.1249\n",
            "Epoch 35/100\n",
            "1/1 [==============================] - 0s 9ms/step - loss: 8.9924 - mae: 8.9924\n",
            "Epoch 36/100\n",
            "1/1 [==============================] - 0s 15ms/step - loss: 8.8599 - mae: 8.8599\n",
            "Epoch 37/100\n",
            "1/1 [==============================] - 0s 13ms/step - loss: 8.7274 - mae: 8.7274\n",
            "Epoch 38/100\n",
            "1/1 [==============================] - 0s 11ms/step - loss: 8.5949 - mae: 8.5949\n",
            "Epoch 39/100\n",
            "1/1 [==============================] - 0s 11ms/step - loss: 8.4624 - mae: 8.4624\n",
            "Epoch 40/100\n",
            "1/1 [==============================] - 0s 12ms/step - loss: 8.3299 - mae: 8.3299\n",
            "Epoch 41/100\n",
            "1/1 [==============================] - 0s 11ms/step - loss: 8.1974 - mae: 8.1974\n",
            "Epoch 42/100\n",
            "1/1 [==============================] - 0s 11ms/step - loss: 8.0649 - mae: 8.0649\n",
            "Epoch 43/100\n",
            "1/1 [==============================] - 0s 9ms/step - loss: 7.9324 - mae: 7.9324\n",
            "Epoch 44/100\n",
            "1/1 [==============================] - 0s 9ms/step - loss: 7.7999 - mae: 7.7999\n",
            "Epoch 45/100\n",
            "1/1 [==============================] - 0s 9ms/step - loss: 7.6674 - mae: 7.6674\n",
            "Epoch 46/100\n",
            "1/1 [==============================] - 0s 9ms/step - loss: 7.5349 - mae: 7.5349\n",
            "Epoch 47/100\n",
            "1/1 [==============================] - 0s 9ms/step - loss: 7.4024 - mae: 7.4024\n",
            "Epoch 48/100\n",
            "1/1 [==============================] - 0s 11ms/step - loss: 7.2699 - mae: 7.2699\n",
            "Epoch 49/100\n",
            "1/1 [==============================] - 0s 10ms/step - loss: 7.1400 - mae: 7.1400\n",
            "Epoch 50/100\n",
            "1/1 [==============================] - 0s 10ms/step - loss: 7.1344 - mae: 7.1344\n",
            "Epoch 51/100\n",
            "1/1 [==============================] - 0s 14ms/step - loss: 7.1287 - mae: 7.1287\n",
            "Epoch 52/100\n",
            "1/1 [==============================] - 0s 9ms/step - loss: 7.1231 - mae: 7.1231\n",
            "Epoch 53/100\n",
            "1/1 [==============================] - 0s 13ms/step - loss: 7.1175 - mae: 7.1175\n",
            "Epoch 54/100\n",
            "1/1 [==============================] - 0s 11ms/step - loss: 7.1119 - mae: 7.1119\n",
            "Epoch 55/100\n",
            "1/1 [==============================] - 0s 11ms/step - loss: 7.1063 - mae: 7.1063\n",
            "Epoch 56/100\n",
            "1/1 [==============================] - 0s 10ms/step - loss: 7.1006 - mae: 7.1006\n",
            "Epoch 57/100\n",
            "1/1 [==============================] - 0s 11ms/step - loss: 7.0950 - mae: 7.0950\n",
            "Epoch 58/100\n",
            "1/1 [==============================] - 0s 12ms/step - loss: 7.0894 - mae: 7.0894\n",
            "Epoch 59/100\n",
            "1/1 [==============================] - 0s 11ms/step - loss: 7.0838 - mae: 7.0838\n",
            "Epoch 60/100\n",
            "1/1 [==============================] - 0s 12ms/step - loss: 7.0781 - mae: 7.0781\n",
            "Epoch 61/100\n",
            "1/1 [==============================] - 0s 12ms/step - loss: 7.0725 - mae: 7.0725\n",
            "Epoch 62/100\n",
            "1/1 [==============================] - 0s 10ms/step - loss: 7.0669 - mae: 7.0669\n",
            "Epoch 63/100\n",
            "1/1 [==============================] - 0s 11ms/step - loss: 7.0613 - mae: 7.0613\n",
            "Epoch 64/100\n",
            "1/1 [==============================] - 0s 11ms/step - loss: 7.0556 - mae: 7.0556\n",
            "Epoch 65/100\n",
            "1/1 [==============================] - 0s 13ms/step - loss: 7.0500 - mae: 7.0500\n",
            "Epoch 66/100\n",
            "1/1 [==============================] - 0s 10ms/step - loss: 7.0444 - mae: 7.0444\n",
            "Epoch 67/100\n",
            "1/1 [==============================] - 0s 12ms/step - loss: 7.0387 - mae: 7.0387\n",
            "Epoch 68/100\n",
            "1/1 [==============================] - 0s 11ms/step - loss: 7.0331 - mae: 7.0331\n",
            "Epoch 69/100\n",
            "1/1 [==============================] - 0s 14ms/step - loss: 7.0275 - mae: 7.0275\n",
            "Epoch 70/100\n",
            "1/1 [==============================] - 0s 9ms/step - loss: 7.0219 - mae: 7.0219\n",
            "Epoch 71/100\n",
            "1/1 [==============================] - 0s 11ms/step - loss: 7.0163 - mae: 7.0163\n",
            "Epoch 72/100\n",
            "1/1 [==============================] - 0s 12ms/step - loss: 7.0106 - mae: 7.0106\n",
            "Epoch 73/100\n",
            "1/1 [==============================] - 0s 12ms/step - loss: 7.0050 - mae: 7.0050\n",
            "Epoch 74/100\n",
            "1/1 [==============================] - 0s 10ms/step - loss: 6.9994 - mae: 6.9994\n",
            "Epoch 75/100\n",
            "1/1 [==============================] - 0s 10ms/step - loss: 6.9938 - mae: 6.9938\n",
            "Epoch 76/100\n",
            "1/1 [==============================] - 0s 10ms/step - loss: 6.9881 - mae: 6.9881\n",
            "Epoch 77/100\n",
            "1/1 [==============================] - 0s 9ms/step - loss: 6.9825 - mae: 6.9825\n",
            "Epoch 78/100\n",
            "1/1 [==============================] - 0s 10ms/step - loss: 6.9769 - mae: 6.9769\n",
            "Epoch 79/100\n",
            "1/1 [==============================] - 0s 10ms/step - loss: 6.9713 - mae: 6.9713\n",
            "Epoch 80/100\n",
            "1/1 [==============================] - 0s 10ms/step - loss: 6.9656 - mae: 6.9656\n",
            "Epoch 81/100\n",
            "1/1 [==============================] - 0s 12ms/step - loss: 6.9600 - mae: 6.9600\n",
            "Epoch 82/100\n",
            "1/1 [==============================] - 0s 10ms/step - loss: 6.9544 - mae: 6.9544\n",
            "Epoch 83/100\n",
            "1/1 [==============================] - 0s 10ms/step - loss: 6.9488 - mae: 6.9488\n",
            "Epoch 84/100\n",
            "1/1 [==============================] - 0s 12ms/step - loss: 6.9431 - mae: 6.9431\n",
            "Epoch 85/100\n",
            "1/1 [==============================] - 0s 9ms/step - loss: 6.9375 - mae: 6.9375\n",
            "Epoch 86/100\n",
            "1/1 [==============================] - 0s 10ms/step - loss: 6.9319 - mae: 6.9319\n",
            "Epoch 87/100\n",
            "1/1 [==============================] - 0s 10ms/step - loss: 6.9263 - mae: 6.9263\n",
            "Epoch 88/100\n",
            "1/1 [==============================] - 0s 9ms/step - loss: 6.9206 - mae: 6.9206\n",
            "Epoch 89/100\n",
            "1/1 [==============================] - 0s 9ms/step - loss: 6.9150 - mae: 6.9150\n",
            "Epoch 90/100\n",
            "1/1 [==============================] - 0s 9ms/step - loss: 6.9094 - mae: 6.9094\n",
            "Epoch 91/100\n",
            "1/1 [==============================] - 0s 10ms/step - loss: 6.9038 - mae: 6.9038\n",
            "Epoch 92/100\n",
            "1/1 [==============================] - 0s 15ms/step - loss: 6.8981 - mae: 6.8981\n",
            "Epoch 93/100\n",
            "1/1 [==============================] - 0s 10ms/step - loss: 6.8925 - mae: 6.8925\n",
            "Epoch 94/100\n",
            "1/1 [==============================] - 0s 10ms/step - loss: 6.8869 - mae: 6.8869\n",
            "Epoch 95/100\n",
            "1/1 [==============================] - 0s 11ms/step - loss: 6.8813 - mae: 6.8813\n",
            "Epoch 96/100\n",
            "1/1 [==============================] - 0s 12ms/step - loss: 6.8756 - mae: 6.8756\n",
            "Epoch 97/100\n",
            "1/1 [==============================] - 0s 12ms/step - loss: 6.8700 - mae: 6.8700\n",
            "Epoch 98/100\n",
            "1/1 [==============================] - 0s 14ms/step - loss: 6.8644 - mae: 6.8644\n",
            "Epoch 99/100\n",
            "1/1 [==============================] - 0s 13ms/step - loss: 6.8588 - mae: 6.8588\n",
            "Epoch 100/100\n",
            "1/1 [==============================] - 0s 9ms/step - loss: 6.8531 - mae: 6.8531\n"
          ]
        },
        {
          "output_type": "execute_result",
          "data": {
            "text/plain": [
              "<keras.src.callbacks.History at 0x7901e4856b00>"
            ]
          },
          "metadata": {},
          "execution_count": 27
        }
      ]
    },
    {
      "cell_type": "code",
      "source": [
        "# Check X and y\n",
        "\n",
        "X, y"
      ],
      "metadata": {
        "id": "lWL20-mtK5G5",
        "colab": {
          "base_uri": "https://localhost:8080/"
        },
        "outputId": "3c9c8cf8-4873-4bcb-a0f8-688874b67528"
      },
      "execution_count": null,
      "outputs": [
        {
          "output_type": "execute_result",
          "data": {
            "text/plain": [
              "(<tf.Tensor: shape=(8,), dtype=float32, numpy=array([-7., -4., -1.,  2.,  5.,  8., 11., 14.], dtype=float32)>,\n",
              " <tf.Tensor: shape=(8,), dtype=float32, numpy=array([ 3.,  6.,  9., 12., 15., 18., 21., 24.], dtype=float32)>)"
            ]
          },
          "metadata": {},
          "execution_count": 29
        }
      ]
    },
    {
      "cell_type": "code",
      "source": [
        "# Try and mahe a prediction using our model\n",
        "model.predict([17.0])"
      ],
      "metadata": {
        "id": "Zc_ivHKdK5En",
        "colab": {
          "base_uri": "https://localhost:8080/"
        },
        "outputId": "5c4e071f-eae8-46a9-d6ee-3e7c24c2e21b"
      },
      "execution_count": null,
      "outputs": [
        {
          "output_type": "stream",
          "name": "stdout",
          "text": [
            "1/1 [==============================] - 0s 64ms/step\n"
          ]
        },
        {
          "output_type": "execute_result",
          "data": {
            "text/plain": [
              "array([[29.442749]], dtype=float32)"
            ]
          },
          "metadata": {},
          "execution_count": 30
        }
      ]
    },
    {
      "cell_type": "markdown",
      "source": [
        "##Improving our model\n",
        "\n",
        "We can improve our model, by altering the steps we took to create a model\n",
        "\n",
        "1.**Creating a model** - here we might add more layers, increase the number of the hidden layers, change the activation function of each layer.\n",
        "\n",
        "2.**Compiling a model** - here we might change the optimizantion function or perhaps the **learning rate** of the optimization function\n",
        "\n",
        "3.**Fitting a model** - here we might fit a model for more **epochs** (leave it training for longer) or on more data (give the model more examples to learn from).\n"
      ],
      "metadata": {
        "id": "_cWt1ttXuvbM"
      }
    },
    {
      "cell_type": "code",
      "source": [
        "# Let rebuild our model\n",
        "\n",
        "#1. Create the model\n",
        "model = tf.keras.Sequential([\n",
        "    tf.keras.layers.Dense(1)\n",
        "    ])\n",
        "\n",
        "# 2. Compile the model\n",
        "\n",
        "model.compile(loss=tf.keras.losses.mae, # mae is short for mean square error\n",
        "              optimizer=tf.keras.optimizers.SGD(), # s\n",
        "              metrics=[\"mae\"]\n",
        "              )\n",
        "\n",
        "# Fit the model (this time we'll trin for longer)\n",
        "model.fit(tf.expand_dims(X, axis=-1), y, epochs=100)"
      ],
      "metadata": {
        "id": "AVRYjuZyK5CP",
        "colab": {
          "base_uri": "https://localhost:8080/"
        },
        "outputId": "2413d107-05e8-44e3-a372-7ccf81067c5a"
      },
      "execution_count": null,
      "outputs": [
        {
          "output_type": "stream",
          "name": "stdout",
          "text": [
            "Epoch 1/100\n",
            "1/1 [==============================] - 1s 1s/step - loss: 12.9031 - mae: 12.9031\n",
            "Epoch 2/100\n",
            "1/1 [==============================] - 0s 10ms/step - loss: 12.7706 - mae: 12.7706\n",
            "Epoch 3/100\n",
            "1/1 [==============================] - 0s 9ms/step - loss: 12.6381 - mae: 12.6381\n",
            "Epoch 4/100\n",
            "1/1 [==============================] - 0s 8ms/step - loss: 12.5056 - mae: 12.5056\n",
            "Epoch 5/100\n",
            "1/1 [==============================] - 0s 10ms/step - loss: 12.3731 - mae: 12.3731\n",
            "Epoch 6/100\n",
            "1/1 [==============================] - 0s 9ms/step - loss: 12.2406 - mae: 12.2406\n",
            "Epoch 7/100\n",
            "1/1 [==============================] - 0s 14ms/step - loss: 12.1081 - mae: 12.1081\n",
            "Epoch 8/100\n",
            "1/1 [==============================] - 0s 8ms/step - loss: 11.9756 - mae: 11.9756\n",
            "Epoch 9/100\n",
            "1/1 [==============================] - 0s 10ms/step - loss: 11.8431 - mae: 11.8431\n",
            "Epoch 10/100\n",
            "1/1 [==============================] - 0s 8ms/step - loss: 11.7106 - mae: 11.7106\n",
            "Epoch 11/100\n",
            "1/1 [==============================] - 0s 9ms/step - loss: 11.5781 - mae: 11.5781\n",
            "Epoch 12/100\n",
            "1/1 [==============================] - 0s 11ms/step - loss: 11.4456 - mae: 11.4456\n",
            "Epoch 13/100\n",
            "1/1 [==============================] - 0s 12ms/step - loss: 11.3131 - mae: 11.3131\n",
            "Epoch 14/100\n",
            "1/1 [==============================] - 0s 10ms/step - loss: 11.1806 - mae: 11.1806\n",
            "Epoch 15/100\n",
            "1/1 [==============================] - 0s 9ms/step - loss: 11.0481 - mae: 11.0481\n",
            "Epoch 16/100\n",
            "1/1 [==============================] - 0s 10ms/step - loss: 10.9156 - mae: 10.9156\n",
            "Epoch 17/100\n",
            "1/1 [==============================] - 0s 9ms/step - loss: 10.7831 - mae: 10.7831\n",
            "Epoch 18/100\n",
            "1/1 [==============================] - 0s 8ms/step - loss: 10.6506 - mae: 10.6506\n",
            "Epoch 19/100\n",
            "1/1 [==============================] - 0s 12ms/step - loss: 10.5181 - mae: 10.5181\n",
            "Epoch 20/100\n",
            "1/1 [==============================] - 0s 10ms/step - loss: 10.3856 - mae: 10.3856\n",
            "Epoch 21/100\n",
            "1/1 [==============================] - 0s 12ms/step - loss: 10.2531 - mae: 10.2531\n",
            "Epoch 22/100\n",
            "1/1 [==============================] - 0s 11ms/step - loss: 10.1206 - mae: 10.1206\n",
            "Epoch 23/100\n",
            "1/1 [==============================] - 0s 10ms/step - loss: 9.9881 - mae: 9.9881\n",
            "Epoch 24/100\n",
            "1/1 [==============================] - 0s 10ms/step - loss: 9.8556 - mae: 9.8556\n",
            "Epoch 25/100\n",
            "1/1 [==============================] - 0s 10ms/step - loss: 9.7231 - mae: 9.7231\n",
            "Epoch 26/100\n",
            "1/1 [==============================] - 0s 9ms/step - loss: 9.5906 - mae: 9.5906\n",
            "Epoch 27/100\n",
            "1/1 [==============================] - 0s 13ms/step - loss: 9.4581 - mae: 9.4581\n",
            "Epoch 28/100\n",
            "1/1 [==============================] - 0s 10ms/step - loss: 9.3256 - mae: 9.3256\n",
            "Epoch 29/100\n",
            "1/1 [==============================] - 0s 11ms/step - loss: 9.1931 - mae: 9.1931\n",
            "Epoch 30/100\n",
            "1/1 [==============================] - 0s 14ms/step - loss: 9.0606 - mae: 9.0606\n",
            "Epoch 31/100\n",
            "1/1 [==============================] - 0s 11ms/step - loss: 8.9281 - mae: 8.9281\n",
            "Epoch 32/100\n",
            "1/1 [==============================] - 0s 14ms/step - loss: 8.7956 - mae: 8.7956\n",
            "Epoch 33/100\n",
            "1/1 [==============================] - 0s 9ms/step - loss: 8.6631 - mae: 8.6631\n",
            "Epoch 34/100\n",
            "1/1 [==============================] - 0s 14ms/step - loss: 8.5306 - mae: 8.5306\n",
            "Epoch 35/100\n",
            "1/1 [==============================] - 0s 13ms/step - loss: 8.3981 - mae: 8.3981\n",
            "Epoch 36/100\n",
            "1/1 [==============================] - 0s 13ms/step - loss: 8.2656 - mae: 8.2656\n",
            "Epoch 37/100\n",
            "1/1 [==============================] - 0s 13ms/step - loss: 8.1331 - mae: 8.1331\n",
            "Epoch 38/100\n",
            "1/1 [==============================] - 0s 14ms/step - loss: 8.0006 - mae: 8.0006\n",
            "Epoch 39/100\n",
            "1/1 [==============================] - 0s 17ms/step - loss: 7.8681 - mae: 7.8681\n",
            "Epoch 40/100\n",
            "1/1 [==============================] - 0s 15ms/step - loss: 7.7356 - mae: 7.7356\n",
            "Epoch 41/100\n",
            "1/1 [==============================] - 0s 12ms/step - loss: 7.6031 - mae: 7.6031\n",
            "Epoch 42/100\n",
            "1/1 [==============================] - 0s 11ms/step - loss: 7.4706 - mae: 7.4706\n",
            "Epoch 43/100\n",
            "1/1 [==============================] - 0s 13ms/step - loss: 7.3381 - mae: 7.3381\n",
            "Epoch 44/100\n",
            "1/1 [==============================] - 0s 10ms/step - loss: 7.2056 - mae: 7.2056\n",
            "Epoch 45/100\n",
            "1/1 [==============================] - 0s 10ms/step - loss: 7.1700 - mae: 7.1700\n",
            "Epoch 46/100\n",
            "1/1 [==============================] - 0s 10ms/step - loss: 7.1644 - mae: 7.1644\n",
            "Epoch 47/100\n",
            "1/1 [==============================] - 0s 12ms/step - loss: 7.1588 - mae: 7.1588\n",
            "Epoch 48/100\n",
            "1/1 [==============================] - 0s 13ms/step - loss: 7.1531 - mae: 7.1531\n",
            "Epoch 49/100\n",
            "1/1 [==============================] - 0s 12ms/step - loss: 7.1475 - mae: 7.1475\n",
            "Epoch 50/100\n",
            "1/1 [==============================] - 0s 11ms/step - loss: 7.1419 - mae: 7.1419\n",
            "Epoch 51/100\n",
            "1/1 [==============================] - 0s 12ms/step - loss: 7.1363 - mae: 7.1363\n",
            "Epoch 52/100\n",
            "1/1 [==============================] - 0s 15ms/step - loss: 7.1306 - mae: 7.1306\n",
            "Epoch 53/100\n",
            "1/1 [==============================] - 0s 15ms/step - loss: 7.1250 - mae: 7.1250\n",
            "Epoch 54/100\n",
            "1/1 [==============================] - 0s 10ms/step - loss: 7.1194 - mae: 7.1194\n",
            "Epoch 55/100\n",
            "1/1 [==============================] - 0s 11ms/step - loss: 7.1137 - mae: 7.1137\n",
            "Epoch 56/100\n",
            "1/1 [==============================] - 0s 15ms/step - loss: 7.1081 - mae: 7.1081\n",
            "Epoch 57/100\n",
            "1/1 [==============================] - 0s 14ms/step - loss: 7.1025 - mae: 7.1025\n",
            "Epoch 58/100\n",
            "1/1 [==============================] - 0s 14ms/step - loss: 7.0969 - mae: 7.0969\n",
            "Epoch 59/100\n",
            "1/1 [==============================] - 0s 12ms/step - loss: 7.0912 - mae: 7.0912\n",
            "Epoch 60/100\n",
            "1/1 [==============================] - 0s 10ms/step - loss: 7.0856 - mae: 7.0856\n",
            "Epoch 61/100\n",
            "1/1 [==============================] - 0s 15ms/step - loss: 7.0800 - mae: 7.0800\n",
            "Epoch 62/100\n",
            "1/1 [==============================] - 0s 11ms/step - loss: 7.0744 - mae: 7.0744\n",
            "Epoch 63/100\n",
            "1/1 [==============================] - 0s 9ms/step - loss: 7.0688 - mae: 7.0688\n",
            "Epoch 64/100\n",
            "1/1 [==============================] - 0s 11ms/step - loss: 7.0631 - mae: 7.0631\n",
            "Epoch 65/100\n",
            "1/1 [==============================] - 0s 11ms/step - loss: 7.0575 - mae: 7.0575\n",
            "Epoch 66/100\n",
            "1/1 [==============================] - 0s 12ms/step - loss: 7.0519 - mae: 7.0519\n",
            "Epoch 67/100\n",
            "1/1 [==============================] - 0s 13ms/step - loss: 7.0463 - mae: 7.0463\n",
            "Epoch 68/100\n",
            "1/1 [==============================] - 0s 13ms/step - loss: 7.0406 - mae: 7.0406\n",
            "Epoch 69/100\n",
            "1/1 [==============================] - 0s 11ms/step - loss: 7.0350 - mae: 7.0350\n",
            "Epoch 70/100\n",
            "1/1 [==============================] - 0s 14ms/step - loss: 7.0294 - mae: 7.0294\n",
            "Epoch 71/100\n",
            "1/1 [==============================] - 0s 10ms/step - loss: 7.0238 - mae: 7.0238\n",
            "Epoch 72/100\n",
            "1/1 [==============================] - 0s 13ms/step - loss: 7.0181 - mae: 7.0181\n",
            "Epoch 73/100\n",
            "1/1 [==============================] - 0s 15ms/step - loss: 7.0125 - mae: 7.0125\n",
            "Epoch 74/100\n",
            "1/1 [==============================] - 0s 13ms/step - loss: 7.0069 - mae: 7.0069\n",
            "Epoch 75/100\n",
            "1/1 [==============================] - 0s 10ms/step - loss: 7.0013 - mae: 7.0013\n",
            "Epoch 76/100\n",
            "1/1 [==============================] - 0s 10ms/step - loss: 6.9956 - mae: 6.9956\n",
            "Epoch 77/100\n",
            "1/1 [==============================] - 0s 18ms/step - loss: 6.9900 - mae: 6.9900\n",
            "Epoch 78/100\n",
            "1/1 [==============================] - 0s 13ms/step - loss: 6.9844 - mae: 6.9844\n",
            "Epoch 79/100\n",
            "1/1 [==============================] - 0s 10ms/step - loss: 6.9788 - mae: 6.9788\n",
            "Epoch 80/100\n",
            "1/1 [==============================] - 0s 12ms/step - loss: 6.9731 - mae: 6.9731\n",
            "Epoch 81/100\n",
            "1/1 [==============================] - 0s 12ms/step - loss: 6.9675 - mae: 6.9675\n",
            "Epoch 82/100\n",
            "1/1 [==============================] - 0s 10ms/step - loss: 6.9619 - mae: 6.9619\n",
            "Epoch 83/100\n",
            "1/1 [==============================] - 0s 12ms/step - loss: 6.9563 - mae: 6.9563\n",
            "Epoch 84/100\n",
            "1/1 [==============================] - 0s 12ms/step - loss: 6.9506 - mae: 6.9506\n",
            "Epoch 85/100\n",
            "1/1 [==============================] - 0s 15ms/step - loss: 6.9450 - mae: 6.9450\n",
            "Epoch 86/100\n",
            "1/1 [==============================] - 0s 12ms/step - loss: 6.9394 - mae: 6.9394\n",
            "Epoch 87/100\n",
            "1/1 [==============================] - 0s 12ms/step - loss: 6.9338 - mae: 6.9338\n",
            "Epoch 88/100\n",
            "1/1 [==============================] - 0s 12ms/step - loss: 6.9281 - mae: 6.9281\n",
            "Epoch 89/100\n",
            "1/1 [==============================] - 0s 12ms/step - loss: 6.9225 - mae: 6.9225\n",
            "Epoch 90/100\n",
            "1/1 [==============================] - 0s 12ms/step - loss: 6.9169 - mae: 6.9169\n",
            "Epoch 91/100\n",
            "1/1 [==============================] - 0s 10ms/step - loss: 6.9113 - mae: 6.9113\n",
            "Epoch 92/100\n",
            "1/1 [==============================] - 0s 11ms/step - loss: 6.9056 - mae: 6.9056\n",
            "Epoch 93/100\n",
            "1/1 [==============================] - 0s 12ms/step - loss: 6.9000 - mae: 6.9000\n",
            "Epoch 94/100\n",
            "1/1 [==============================] - 0s 11ms/step - loss: 6.8944 - mae: 6.8944\n",
            "Epoch 95/100\n",
            "1/1 [==============================] - 0s 13ms/step - loss: 6.8888 - mae: 6.8888\n",
            "Epoch 96/100\n",
            "1/1 [==============================] - 0s 12ms/step - loss: 6.8831 - mae: 6.8831\n",
            "Epoch 97/100\n",
            "1/1 [==============================] - 0s 11ms/step - loss: 6.8775 - mae: 6.8775\n",
            "Epoch 98/100\n",
            "1/1 [==============================] - 0s 14ms/step - loss: 6.8719 - mae: 6.8719\n",
            "Epoch 99/100\n",
            "1/1 [==============================] - 0s 12ms/step - loss: 6.8663 - mae: 6.8663\n",
            "Epoch 100/100\n",
            "1/1 [==============================] - 0s 11ms/step - loss: 6.8606 - mae: 6.8606\n"
          ]
        },
        {
          "output_type": "execute_result",
          "data": {
            "text/plain": [
              "<keras.src.callbacks.History at 0x7901d412dab0>"
            ]
          },
          "metadata": {},
          "execution_count": 31
        }
      ]
    },
    {
      "cell_type": "code",
      "source": [
        "# Remind ourselves of the data\n",
        "X, y"
      ],
      "metadata": {
        "id": "SKypkSHMK4_0",
        "colab": {
          "base_uri": "https://localhost:8080/"
        },
        "outputId": "b5106fab-256e-40d2-ee77-9f424b0b3d43"
      },
      "execution_count": null,
      "outputs": [
        {
          "output_type": "execute_result",
          "data": {
            "text/plain": [
              "(<tf.Tensor: shape=(8,), dtype=float32, numpy=array([-7., -4., -1.,  2.,  5.,  8., 11., 14.], dtype=float32)>,\n",
              " <tf.Tensor: shape=(8,), dtype=float32, numpy=array([ 3.,  6.,  9., 12., 15., 18., 21., 24.], dtype=float32)>)"
            ]
          },
          "metadata": {},
          "execution_count": 33
        }
      ]
    },
    {
      "cell_type": "code",
      "source": [
        "model.predict([17.0])"
      ],
      "metadata": {
        "id": "YPh2AgbLK49-",
        "colab": {
          "base_uri": "https://localhost:8080/"
        },
        "outputId": "b456f9bb-6828-4dc5-b749-f94a83c17e18"
      },
      "execution_count": null,
      "outputs": [
        {
          "output_type": "stream",
          "name": "stdout",
          "text": [
            "1/1 [==============================] - 0s 61ms/step\n"
          ]
        },
        {
          "output_type": "execute_result",
          "data": {
            "text/plain": [
              "array([[29.938992]], dtype=float32)"
            ]
          },
          "metadata": {},
          "execution_count": 35
        }
      ]
    },
    {
      "cell_type": "code",
      "source": [
        "# Let rebuild our model\n",
        "\n",
        "#1. Create the model\n",
        "model = tf.keras.Sequential([\n",
        "    tf.keras.layers.Dense(1),\n",
        "    tf.keras.layers.Dense(100),\n",
        "    tf.keras.layers.Dense(100),\n",
        "    tf.keras.layers.Dense(1)\n",
        "    ])\n",
        "\n",
        "# 2. Compile the model\n",
        "model.compile(loss=tf.keras.losses.mae, # mae is short for mean square error\n",
        "              optimizer=tf.keras.optimizers.SGD(), # s\n",
        "              metrics=[\"mae\"]\n",
        "              )\n",
        "\n",
        "# Fit the model (this time we'll trin for longer)\n",
        "model.fit(tf.expand_dims(X, axis=-1), y, epochs=100)"
      ],
      "metadata": {
        "id": "Yk1r9Ai6K47h",
        "colab": {
          "base_uri": "https://localhost:8080/"
        },
        "outputId": "2dc775a4-e58a-4ae3-c063-d733357049ab"
      },
      "execution_count": null,
      "outputs": [
        {
          "output_type": "stream",
          "name": "stdout",
          "text": [
            "Epoch 1/100\n",
            "1/1 [==============================] - 1s 571ms/step - loss: 13.8897 - mae: 13.8897\n",
            "Epoch 2/100\n",
            "1/1 [==============================] - 0s 12ms/step - loss: 12.5588 - mae: 12.5588\n",
            "Epoch 3/100\n",
            "1/1 [==============================] - 0s 16ms/step - loss: 11.2100 - mae: 11.2100\n",
            "Epoch 4/100\n",
            "1/1 [==============================] - 0s 15ms/step - loss: 9.7323 - mae: 9.7323\n",
            "Epoch 5/100\n",
            "1/1 [==============================] - 0s 11ms/step - loss: 7.9956 - mae: 7.9956\n",
            "Epoch 6/100\n",
            "1/1 [==============================] - 0s 10ms/step - loss: 7.7712 - mae: 7.7712\n",
            "Epoch 7/100\n",
            "1/1 [==============================] - 0s 10ms/step - loss: 7.6221 - mae: 7.6221\n",
            "Epoch 8/100\n",
            "1/1 [==============================] - 0s 10ms/step - loss: 7.9209 - mae: 7.9209\n",
            "Epoch 9/100\n",
            "1/1 [==============================] - 0s 11ms/step - loss: 7.2266 - mae: 7.2266\n",
            "Epoch 10/100\n",
            "1/1 [==============================] - 0s 10ms/step - loss: 8.2719 - mae: 8.2719\n",
            "Epoch 11/100\n",
            "1/1 [==============================] - 0s 10ms/step - loss: 8.1356 - mae: 8.1356\n",
            "Epoch 12/100\n",
            "1/1 [==============================] - 0s 10ms/step - loss: 6.9968 - mae: 6.9968\n",
            "Epoch 13/100\n",
            "1/1 [==============================] - 0s 10ms/step - loss: 7.7327 - mae: 7.7327\n",
            "Epoch 14/100\n",
            "1/1 [==============================] - 0s 11ms/step - loss: 7.1785 - mae: 7.1785\n",
            "Epoch 15/100\n",
            "1/1 [==============================] - 0s 11ms/step - loss: 7.3054 - mae: 7.3054\n",
            "Epoch 16/100\n",
            "1/1 [==============================] - 0s 12ms/step - loss: 7.3766 - mae: 7.3766\n",
            "Epoch 17/100\n",
            "1/1 [==============================] - 0s 11ms/step - loss: 6.8498 - mae: 6.8498\n",
            "Epoch 18/100\n",
            "1/1 [==============================] - 0s 10ms/step - loss: 7.7748 - mae: 7.7748\n",
            "Epoch 19/100\n",
            "1/1 [==============================] - 0s 12ms/step - loss: 7.6534 - mae: 7.6534\n",
            "Epoch 20/100\n",
            "1/1 [==============================] - 0s 10ms/step - loss: 6.6424 - mae: 6.6424\n",
            "Epoch 21/100\n",
            "1/1 [==============================] - 0s 12ms/step - loss: 7.1870 - mae: 7.1870\n",
            "Epoch 22/100\n",
            "1/1 [==============================] - 0s 12ms/step - loss: 6.8663 - mae: 6.8663\n",
            "Epoch 23/100\n",
            "1/1 [==============================] - 0s 11ms/step - loss: 6.6874 - mae: 6.6874\n",
            "Epoch 24/100\n",
            "1/1 [==============================] - 0s 11ms/step - loss: 7.2084 - mae: 7.2084\n",
            "Epoch 25/100\n",
            "1/1 [==============================] - 0s 11ms/step - loss: 7.3988 - mae: 7.3988\n",
            "Epoch 26/100\n",
            "1/1 [==============================] - 0s 11ms/step - loss: 6.2688 - mae: 6.2688\n",
            "Epoch 27/100\n",
            "1/1 [==============================] - 0s 10ms/step - loss: 6.8837 - mae: 6.8837\n",
            "Epoch 28/100\n",
            "1/1 [==============================] - 0s 12ms/step - loss: 6.5166 - mae: 6.5166\n",
            "Epoch 29/100\n",
            "1/1 [==============================] - 0s 11ms/step - loss: 6.3281 - mae: 6.3281\n",
            "Epoch 30/100\n",
            "1/1 [==============================] - 0s 14ms/step - loss: 6.9465 - mae: 6.9465\n",
            "Epoch 31/100\n",
            "1/1 [==============================] - 0s 12ms/step - loss: 6.9799 - mae: 6.9799\n",
            "Epoch 32/100\n",
            "1/1 [==============================] - 0s 11ms/step - loss: 6.0082 - mae: 6.0082\n",
            "Epoch 33/100\n",
            "1/1 [==============================] - 0s 12ms/step - loss: 6.4012 - mae: 6.4012\n",
            "Epoch 34/100\n",
            "1/1 [==============================] - 0s 11ms/step - loss: 6.2816 - mae: 6.2816\n",
            "Epoch 35/100\n",
            "1/1 [==============================] - 0s 11ms/step - loss: 5.7718 - mae: 5.7718\n",
            "Epoch 36/100\n",
            "1/1 [==============================] - 0s 13ms/step - loss: 6.9369 - mae: 6.9369\n",
            "Epoch 37/100\n",
            "1/1 [==============================] - 0s 13ms/step - loss: 6.3894 - mae: 6.3894\n",
            "Epoch 38/100\n",
            "1/1 [==============================] - 0s 11ms/step - loss: 5.8278 - mae: 5.8278\n",
            "Epoch 39/100\n",
            "1/1 [==============================] - 0s 15ms/step - loss: 5.7256 - mae: 5.7256\n",
            "Epoch 40/100\n",
            "1/1 [==============================] - 0s 12ms/step - loss: 6.3763 - mae: 6.3763\n",
            "Epoch 41/100\n",
            "1/1 [==============================] - 0s 11ms/step - loss: 6.2729 - mae: 6.2729\n",
            "Epoch 42/100\n",
            "1/1 [==============================] - 0s 11ms/step - loss: 5.4412 - mae: 5.4412\n",
            "Epoch 43/100\n",
            "1/1 [==============================] - 0s 11ms/step - loss: 5.5658 - mae: 5.5658\n",
            "Epoch 44/100\n",
            "1/1 [==============================] - 0s 11ms/step - loss: 5.9610 - mae: 5.9610\n",
            "Epoch 45/100\n",
            "1/1 [==============================] - 0s 10ms/step - loss: 6.0590 - mae: 6.0590\n",
            "Epoch 46/100\n",
            "1/1 [==============================] - 0s 11ms/step - loss: 5.0979 - mae: 5.0979\n",
            "Epoch 47/100\n",
            "1/1 [==============================] - 0s 12ms/step - loss: 5.2975 - mae: 5.2975\n",
            "Epoch 48/100\n",
            "1/1 [==============================] - 0s 11ms/step - loss: 5.6594 - mae: 5.6594\n",
            "Epoch 49/100\n",
            "1/1 [==============================] - 0s 10ms/step - loss: 5.7496 - mae: 5.7496\n",
            "Epoch 50/100\n",
            "1/1 [==============================] - 0s 10ms/step - loss: 4.7781 - mae: 4.7781\n",
            "Epoch 51/100\n",
            "1/1 [==============================] - 0s 10ms/step - loss: 4.9196 - mae: 4.9196\n",
            "Epoch 52/100\n",
            "1/1 [==============================] - 0s 11ms/step - loss: 5.4489 - mae: 5.4489\n",
            "Epoch 53/100\n",
            "1/1 [==============================] - 0s 11ms/step - loss: 5.3414 - mae: 5.3414\n",
            "Epoch 54/100\n",
            "1/1 [==============================] - 0s 10ms/step - loss: 4.4629 - mae: 4.4629\n",
            "Epoch 55/100\n",
            "1/1 [==============================] - 0s 11ms/step - loss: 4.4247 - mae: 4.4247\n",
            "Epoch 56/100\n",
            "1/1 [==============================] - 0s 10ms/step - loss: 5.3115 - mae: 5.3115\n",
            "Epoch 57/100\n",
            "1/1 [==============================] - 0s 9ms/step - loss: 4.8263 - mae: 4.8263\n",
            "Epoch 58/100\n",
            "1/1 [==============================] - 0s 10ms/step - loss: 4.2779 - mae: 4.2779\n",
            "Epoch 59/100\n",
            "1/1 [==============================] - 0s 11ms/step - loss: 5.1464 - mae: 5.1464\n",
            "Epoch 60/100\n",
            "1/1 [==============================] - 0s 12ms/step - loss: 3.5294 - mae: 3.5294\n",
            "Epoch 61/100\n",
            "1/1 [==============================] - 0s 10ms/step - loss: 4.1192 - mae: 4.1192\n",
            "Epoch 62/100\n",
            "1/1 [==============================] - 0s 13ms/step - loss: 4.2743 - mae: 4.2743\n",
            "Epoch 63/100\n",
            "1/1 [==============================] - 0s 10ms/step - loss: 4.4410 - mae: 4.4410\n",
            "Epoch 64/100\n",
            "1/1 [==============================] - 0s 10ms/step - loss: 3.2778 - mae: 3.2778\n",
            "Epoch 65/100\n",
            "1/1 [==============================] - 0s 10ms/step - loss: 4.6981 - mae: 4.6981\n",
            "Epoch 66/100\n",
            "1/1 [==============================] - 0s 10ms/step - loss: 2.5196 - mae: 2.5196\n",
            "Epoch 67/100\n",
            "1/1 [==============================] - 0s 11ms/step - loss: 3.4995 - mae: 3.4995\n",
            "Epoch 68/100\n",
            "1/1 [==============================] - 0s 10ms/step - loss: 3.4335 - mae: 3.4335\n",
            "Epoch 69/100\n",
            "1/1 [==============================] - 0s 11ms/step - loss: 4.8692 - mae: 4.8692\n",
            "Epoch 70/100\n",
            "1/1 [==============================] - 0s 10ms/step - loss: 2.0788 - mae: 2.0788\n",
            "Epoch 71/100\n",
            "1/1 [==============================] - 0s 10ms/step - loss: 2.8302 - mae: 2.8302\n",
            "Epoch 72/100\n",
            "1/1 [==============================] - 0s 10ms/step - loss: 3.4223 - mae: 3.4223\n",
            "Epoch 73/100\n",
            "1/1 [==============================] - 0s 10ms/step - loss: 4.5947 - mae: 4.5947\n",
            "Epoch 74/100\n",
            "1/1 [==============================] - 0s 9ms/step - loss: 1.7692 - mae: 1.7692\n",
            "Epoch 75/100\n",
            "1/1 [==============================] - 0s 10ms/step - loss: 4.0712 - mae: 4.0712\n",
            "Epoch 76/100\n",
            "1/1 [==============================] - 0s 10ms/step - loss: 2.9968 - mae: 2.9968\n",
            "Epoch 77/100\n",
            "1/1 [==============================] - 0s 10ms/step - loss: 4.3012 - mae: 4.3012\n",
            "Epoch 78/100\n",
            "1/1 [==============================] - 0s 10ms/step - loss: 2.1761 - mae: 2.1761\n",
            "Epoch 79/100\n",
            "1/1 [==============================] - 0s 10ms/step - loss: 4.4953 - mae: 4.4953\n",
            "Epoch 80/100\n",
            "1/1 [==============================] - 0s 10ms/step - loss: 1.5447 - mae: 1.5447\n",
            "Epoch 81/100\n",
            "1/1 [==============================] - 0s 11ms/step - loss: 3.4616 - mae: 3.4616\n",
            "Epoch 82/100\n",
            "1/1 [==============================] - 0s 11ms/step - loss: 1.9458 - mae: 1.9458\n",
            "Epoch 83/100\n",
            "1/1 [==============================] - 0s 10ms/step - loss: 4.3166 - mae: 4.3166\n",
            "Epoch 84/100\n",
            "1/1 [==============================] - 0s 10ms/step - loss: 1.3015 - mae: 1.3015\n",
            "Epoch 85/100\n",
            "1/1 [==============================] - 0s 10ms/step - loss: 4.4934 - mae: 4.4934\n",
            "Epoch 86/100\n",
            "1/1 [==============================] - 0s 10ms/step - loss: 0.8621 - mae: 0.8621\n",
            "Epoch 87/100\n",
            "1/1 [==============================] - 0s 10ms/step - loss: 1.7152 - mae: 1.7152\n",
            "Epoch 88/100\n",
            "1/1 [==============================] - 0s 15ms/step - loss: 3.9781 - mae: 3.9781\n",
            "Epoch 89/100\n",
            "1/1 [==============================] - 0s 13ms/step - loss: 3.4333 - mae: 3.4333\n",
            "Epoch 90/100\n",
            "1/1 [==============================] - 0s 12ms/step - loss: 1.8184 - mae: 1.8184\n",
            "Epoch 91/100\n",
            "1/1 [==============================] - 0s 12ms/step - loss: 4.2667 - mae: 4.2667\n",
            "Epoch 92/100\n",
            "1/1 [==============================] - 0s 12ms/step - loss: 0.5255 - mae: 0.5255\n",
            "Epoch 93/100\n",
            "1/1 [==============================] - 0s 11ms/step - loss: 0.8934 - mae: 0.8934\n",
            "Epoch 94/100\n",
            "1/1 [==============================] - 0s 13ms/step - loss: 4.7834 - mae: 4.7834\n",
            "Epoch 95/100\n",
            "1/1 [==============================] - 0s 15ms/step - loss: 0.6494 - mae: 0.6494\n",
            "Epoch 96/100\n",
            "1/1 [==============================] - 0s 11ms/step - loss: 4.8841 - mae: 4.8841\n",
            "Epoch 97/100\n",
            "1/1 [==============================] - 0s 10ms/step - loss: 2.4182 - mae: 2.4182\n",
            "Epoch 98/100\n",
            "1/1 [==============================] - 0s 10ms/step - loss: 2.4613 - mae: 2.4613\n",
            "Epoch 99/100\n",
            "1/1 [==============================] - 0s 10ms/step - loss: 3.3581 - mae: 3.3581\n",
            "Epoch 100/100\n",
            "1/1 [==============================] - 0s 10ms/step - loss: 0.7918 - mae: 0.7918\n"
          ]
        },
        {
          "output_type": "execute_result",
          "data": {
            "text/plain": [
              "<keras.src.callbacks.History at 0x7901d30362f0>"
            ]
          },
          "metadata": {},
          "execution_count": 44
        }
      ]
    },
    {
      "cell_type": "code",
      "source": [
        "model.predict([17.0])"
      ],
      "metadata": {
        "id": "PHCF5jtbK45U",
        "colab": {
          "base_uri": "https://localhost:8080/"
        },
        "outputId": "a2b45ed5-0c0c-4d79-bb5d-8cd86f69259c"
      },
      "execution_count": null,
      "outputs": [
        {
          "output_type": "stream",
          "name": "stderr",
          "text": [
            "WARNING:tensorflow:5 out of the last 6 calls to <function Model.make_predict_function.<locals>.predict_function at 0x7901d17713f0> triggered tf.function retracing. Tracing is expensive and the excessive number of tracings could be due to (1) creating @tf.function repeatedly in a loop, (2) passing tensors with different shapes, (3) passing Python objects instead of tensors. For (1), please define your @tf.function outside of the loop. For (2), @tf.function has reduce_retracing=True option that can avoid unnecessary retracing. For (3), please refer to https://www.tensorflow.org/guide/function#controlling_retracing and https://www.tensorflow.org/api_docs/python/tf/function for  more details.\n"
          ]
        },
        {
          "output_type": "stream",
          "name": "stdout",
          "text": [
            "1/1 [==============================] - 0s 85ms/step\n"
          ]
        },
        {
          "output_type": "execute_result",
          "data": {
            "text/plain": [
              "array([[16.304073]], dtype=float32)"
            ]
          },
          "metadata": {},
          "execution_count": 45
        }
      ]
    },
    {
      "cell_type": "code",
      "source": [
        "# Let's see if we can make another tio improve our model\n",
        "#1. Create the model\n",
        "model = tf.keras.Sequential([\n",
        "    tf.keras.layers.Dense(100, activation='relu'),\n",
        "    tf.keras.layers.Dense(1)\n",
        "    ])\n",
        "\n",
        "# 2. Compile the model\n",
        "\n",
        "model.compile(loss='mae', # mae is short for mean square error\n",
        "              optimizer=tf.keras.optimizers.SGD(), # s\n",
        "              metrics=[\"mae\"]\n",
        "              )\n",
        "\n",
        "# Fit the model (this time we'll trin for longer)\n",
        "model.fit(tf.expand_dims(X, axis=-1), y, epochs=100)"
      ],
      "metadata": {
        "id": "qaGnwjdlK422",
        "colab": {
          "base_uri": "https://localhost:8080/"
        },
        "outputId": "326005be-99be-40b2-8632-559423d67af8"
      },
      "execution_count": null,
      "outputs": [
        {
          "output_type": "stream",
          "name": "stdout",
          "text": [
            "Epoch 1/100\n",
            "1/1 [==============================] - 0s 403ms/step - loss: 13.6860 - mae: 13.6860\n",
            "Epoch 2/100\n",
            "1/1 [==============================] - 0s 12ms/step - loss: 13.1039 - mae: 13.1039\n",
            "Epoch 3/100\n",
            "1/1 [==============================] - 0s 13ms/step - loss: 12.5247 - mae: 12.5247\n",
            "Epoch 4/100\n",
            "1/1 [==============================] - 0s 11ms/step - loss: 11.9410 - mae: 11.9410\n",
            "Epoch 5/100\n",
            "1/1 [==============================] - 0s 12ms/step - loss: 11.3478 - mae: 11.3478\n",
            "Epoch 6/100\n",
            "1/1 [==============================] - 0s 13ms/step - loss: 10.7360 - mae: 10.7360\n",
            "Epoch 7/100\n",
            "1/1 [==============================] - 0s 10ms/step - loss: 10.1019 - mae: 10.1019\n",
            "Epoch 8/100\n",
            "1/1 [==============================] - 0s 10ms/step - loss: 9.4405 - mae: 9.4405\n",
            "Epoch 9/100\n",
            "1/1 [==============================] - 0s 10ms/step - loss: 8.7459 - mae: 8.7459\n",
            "Epoch 10/100\n",
            "1/1 [==============================] - 0s 11ms/step - loss: 8.0109 - mae: 8.0109\n",
            "Epoch 11/100\n",
            "1/1 [==============================] - 0s 10ms/step - loss: 7.2285 - mae: 7.2285\n",
            "Epoch 12/100\n",
            "1/1 [==============================] - 0s 10ms/step - loss: 6.3916 - mae: 6.3916\n",
            "Epoch 13/100\n",
            "1/1 [==============================] - 0s 11ms/step - loss: 5.4933 - mae: 5.4933\n",
            "Epoch 14/100\n",
            "1/1 [==============================] - 0s 10ms/step - loss: 4.5320 - mae: 4.5320\n",
            "Epoch 15/100\n",
            "1/1 [==============================] - 0s 10ms/step - loss: 4.0015 - mae: 4.0015\n",
            "Epoch 16/100\n",
            "1/1 [==============================] - 0s 10ms/step - loss: 3.9009 - mae: 3.9009\n",
            "Epoch 17/100\n",
            "1/1 [==============================] - 0s 12ms/step - loss: 3.9753 - mae: 3.9753\n",
            "Epoch 18/100\n",
            "1/1 [==============================] - 0s 11ms/step - loss: 3.9064 - mae: 3.9064\n",
            "Epoch 19/100\n",
            "1/1 [==============================] - 0s 11ms/step - loss: 3.9493 - mae: 3.9493\n",
            "Epoch 20/100\n",
            "1/1 [==============================] - 0s 10ms/step - loss: 3.9129 - mae: 3.9129\n",
            "Epoch 21/100\n",
            "1/1 [==============================] - 0s 10ms/step - loss: 3.9232 - mae: 3.9232\n",
            "Epoch 22/100\n",
            "1/1 [==============================] - 0s 11ms/step - loss: 3.9246 - mae: 3.9246\n",
            "Epoch 23/100\n",
            "1/1 [==============================] - 0s 11ms/step - loss: 3.9052 - mae: 3.9052\n",
            "Epoch 24/100\n",
            "1/1 [==============================] - 0s 14ms/step - loss: 3.9354 - mae: 3.9354\n",
            "Epoch 25/100\n",
            "1/1 [==============================] - 0s 10ms/step - loss: 3.8787 - mae: 3.8787\n",
            "Epoch 26/100\n",
            "1/1 [==============================] - 0s 11ms/step - loss: 3.9423 - mae: 3.9423\n",
            "Epoch 27/100\n",
            "1/1 [==============================] - 0s 11ms/step - loss: 3.8737 - mae: 3.8737\n",
            "Epoch 28/100\n",
            "1/1 [==============================] - 0s 11ms/step - loss: 3.9267 - mae: 3.9267\n",
            "Epoch 29/100\n",
            "1/1 [==============================] - 0s 10ms/step - loss: 3.8805 - mae: 3.8805\n",
            "Epoch 30/100\n",
            "1/1 [==============================] - 0s 10ms/step - loss: 3.9051 - mae: 3.9051\n",
            "Epoch 31/100\n",
            "1/1 [==============================] - 0s 11ms/step - loss: 3.8964 - mae: 3.8964\n",
            "Epoch 32/100\n",
            "1/1 [==============================] - 0s 11ms/step - loss: 3.8821 - mae: 3.8821\n",
            "Epoch 33/100\n",
            "1/1 [==============================] - 0s 11ms/step - loss: 3.9033 - mae: 3.9033\n",
            "Epoch 34/100\n",
            "1/1 [==============================] - 0s 11ms/step - loss: 3.8553 - mae: 3.8553\n",
            "Epoch 35/100\n",
            "1/1 [==============================] - 0s 11ms/step - loss: 3.9104 - mae: 3.9104\n",
            "Epoch 36/100\n",
            "1/1 [==============================] - 0s 10ms/step - loss: 3.8423 - mae: 3.8423\n",
            "Epoch 37/100\n",
            "1/1 [==============================] - 0s 11ms/step - loss: 3.9027 - mae: 3.9027\n",
            "Epoch 38/100\n",
            "1/1 [==============================] - 0s 10ms/step - loss: 3.8534 - mae: 3.8534\n",
            "Epoch 39/100\n",
            "1/1 [==============================] - 0s 10ms/step - loss: 3.8845 - mae: 3.8845\n",
            "Epoch 40/100\n",
            "1/1 [==============================] - 0s 11ms/step - loss: 3.8653 - mae: 3.8653\n",
            "Epoch 41/100\n",
            "1/1 [==============================] - 0s 10ms/step - loss: 3.8576 - mae: 3.8576\n",
            "Epoch 42/100\n",
            "1/1 [==============================] - 0s 10ms/step - loss: 3.8724 - mae: 3.8724\n",
            "Epoch 43/100\n",
            "1/1 [==============================] - 0s 10ms/step - loss: 3.8305 - mae: 3.8305\n",
            "Epoch 44/100\n",
            "1/1 [==============================] - 0s 11ms/step - loss: 3.8797 - mae: 3.8797\n",
            "Epoch 45/100\n",
            "1/1 [==============================] - 0s 10ms/step - loss: 3.8119 - mae: 3.8119\n",
            "Epoch 46/100\n",
            "1/1 [==============================] - 0s 12ms/step - loss: 3.8815 - mae: 3.8815\n",
            "Epoch 47/100\n",
            "1/1 [==============================] - 0s 10ms/step - loss: 3.8281 - mae: 3.8281\n",
            "Epoch 48/100\n",
            "1/1 [==============================] - 0s 11ms/step - loss: 3.8590 - mae: 3.8590\n",
            "Epoch 49/100\n",
            "1/1 [==============================] - 0s 10ms/step - loss: 3.8353 - mae: 3.8353\n",
            "Epoch 50/100\n",
            "1/1 [==============================] - 0s 10ms/step - loss: 3.8318 - mae: 3.8318\n",
            "Epoch 51/100\n",
            "1/1 [==============================] - 0s 10ms/step - loss: 3.8426 - mae: 3.8426\n",
            "Epoch 52/100\n",
            "1/1 [==============================] - 0s 10ms/step - loss: 3.8045 - mae: 3.8045\n",
            "Epoch 53/100\n",
            "1/1 [==============================] - 0s 10ms/step - loss: 3.8500 - mae: 3.8500\n",
            "Epoch 54/100\n",
            "1/1 [==============================] - 0s 11ms/step - loss: 3.7862 - mae: 3.7862\n",
            "Epoch 55/100\n",
            "1/1 [==============================] - 0s 10ms/step - loss: 3.8596 - mae: 3.8596\n",
            "Epoch 56/100\n",
            "1/1 [==============================] - 0s 10ms/step - loss: 3.7990 - mae: 3.7990\n",
            "Epoch 57/100\n",
            "1/1 [==============================] - 0s 11ms/step - loss: 3.8322 - mae: 3.8322\n",
            "Epoch 58/100\n",
            "1/1 [==============================] - 0s 11ms/step - loss: 3.8063 - mae: 3.8063\n",
            "Epoch 59/100\n",
            "1/1 [==============================] - 0s 14ms/step - loss: 3.8047 - mae: 3.8047\n",
            "Epoch 60/100\n",
            "1/1 [==============================] - 0s 11ms/step - loss: 3.8139 - mae: 3.8139\n",
            "Epoch 61/100\n",
            "1/1 [==============================] - 0s 12ms/step - loss: 3.7772 - mae: 3.7772\n",
            "Epoch 62/100\n",
            "1/1 [==============================] - 0s 12ms/step - loss: 3.8243 - mae: 3.8243\n",
            "Epoch 63/100\n",
            "1/1 [==============================] - 0s 11ms/step - loss: 3.7637 - mae: 3.7637\n",
            "Epoch 64/100\n",
            "1/1 [==============================] - 0s 10ms/step - loss: 3.8318 - mae: 3.8318\n",
            "Epoch 65/100\n",
            "1/1 [==============================] - 0s 13ms/step - loss: 3.7710 - mae: 3.7710\n",
            "Epoch 66/100\n",
            "1/1 [==============================] - 0s 10ms/step - loss: 3.8041 - mae: 3.8041\n",
            "Epoch 67/100\n",
            "1/1 [==============================] - 0s 10ms/step - loss: 3.7786 - mae: 3.7786\n",
            "Epoch 68/100\n",
            "1/1 [==============================] - 0s 11ms/step - loss: 3.7764 - mae: 3.7764\n",
            "Epoch 69/100\n",
            "1/1 [==============================] - 0s 10ms/step - loss: 3.7864 - mae: 3.7864\n",
            "Epoch 70/100\n",
            "1/1 [==============================] - 0s 9ms/step - loss: 3.7509 - mae: 3.7509\n",
            "Epoch 71/100\n",
            "1/1 [==============================] - 0s 10ms/step - loss: 3.8034 - mae: 3.8034\n",
            "Epoch 72/100\n",
            "1/1 [==============================] - 0s 9ms/step - loss: 3.7365 - mae: 3.7365\n",
            "Epoch 73/100\n",
            "1/1 [==============================] - 0s 10ms/step - loss: 3.8027 - mae: 3.8027\n",
            "Epoch 74/100\n",
            "1/1 [==============================] - 0s 10ms/step - loss: 3.7441 - mae: 3.7441\n",
            "Epoch 75/100\n",
            "1/1 [==============================] - 0s 10ms/step - loss: 3.7748 - mae: 3.7748\n",
            "Epoch 76/100\n",
            "1/1 [==============================] - 0s 10ms/step - loss: 3.7519 - mae: 3.7519\n",
            "Epoch 77/100\n",
            "1/1 [==============================] - 0s 10ms/step - loss: 3.7469 - mae: 3.7469\n",
            "Epoch 78/100\n",
            "1/1 [==============================] - 0s 10ms/step - loss: 3.7611 - mae: 3.7611\n",
            "Epoch 79/100\n",
            "1/1 [==============================] - 0s 10ms/step - loss: 3.7272 - mae: 3.7272\n",
            "Epoch 80/100\n",
            "1/1 [==============================] - 0s 12ms/step - loss: 3.7770 - mae: 3.7770\n",
            "Epoch 81/100\n",
            "1/1 [==============================] - 0s 10ms/step - loss: 3.7103 - mae: 3.7103\n",
            "Epoch 82/100\n",
            "1/1 [==============================] - 0s 10ms/step - loss: 3.7725 - mae: 3.7725\n",
            "Epoch 83/100\n",
            "1/1 [==============================] - 0s 17ms/step - loss: 3.7181 - mae: 3.7181\n",
            "Epoch 84/100\n",
            "1/1 [==============================] - 0s 10ms/step - loss: 3.7443 - mae: 3.7443\n",
            "Epoch 85/100\n",
            "1/1 [==============================] - 0s 10ms/step - loss: 3.7262 - mae: 3.7262\n",
            "Epoch 86/100\n",
            "1/1 [==============================] - 0s 9ms/step - loss: 3.7166 - mae: 3.7166\n",
            "Epoch 87/100\n",
            "1/1 [==============================] - 0s 10ms/step - loss: 3.7436 - mae: 3.7436\n",
            "Epoch 88/100\n",
            "1/1 [==============================] - 0s 10ms/step - loss: 3.6961 - mae: 3.6961\n",
            "Epoch 89/100\n",
            "1/1 [==============================] - 0s 10ms/step - loss: 3.7515 - mae: 3.7515\n",
            "Epoch 90/100\n",
            "1/1 [==============================] - 0s 10ms/step - loss: 3.6849 - mae: 3.6849\n",
            "Epoch 91/100\n",
            "1/1 [==============================] - 0s 11ms/step - loss: 3.7410 - mae: 3.7410\n",
            "Epoch 92/100\n",
            "1/1 [==============================] - 0s 10ms/step - loss: 3.6931 - mae: 3.6931\n",
            "Epoch 93/100\n",
            "1/1 [==============================] - 0s 13ms/step - loss: 3.7126 - mae: 3.7126\n",
            "Epoch 94/100\n",
            "1/1 [==============================] - 0s 12ms/step - loss: 3.7014 - mae: 3.7014\n",
            "Epoch 95/100\n",
            "1/1 [==============================] - 0s 10ms/step - loss: 3.6924 - mae: 3.6924\n",
            "Epoch 96/100\n",
            "1/1 [==============================] - 0s 9ms/step - loss: 3.7189 - mae: 3.7189\n",
            "Epoch 97/100\n",
            "1/1 [==============================] - 0s 9ms/step - loss: 3.6639 - mae: 3.6639\n",
            "Epoch 98/100\n",
            "1/1 [==============================] - 0s 10ms/step - loss: 3.7270 - mae: 3.7270\n",
            "Epoch 99/100\n",
            "1/1 [==============================] - 0s 10ms/step - loss: 3.6604 - mae: 3.6604\n",
            "Epoch 100/100\n",
            "1/1 [==============================] - 0s 9ms/step - loss: 3.7086 - mae: 3.7086\n"
          ]
        },
        {
          "output_type": "execute_result",
          "data": {
            "text/plain": [
              "<keras.src.callbacks.History at 0x7901d2fc7670>"
            ]
          },
          "metadata": {},
          "execution_count": 47
        }
      ]
    },
    {
      "cell_type": "code",
      "source": [
        "model.predict([17.0])"
      ],
      "metadata": {
        "colab": {
          "base_uri": "https://localhost:8080/"
        },
        "id": "t-d8IBklOOyP",
        "outputId": "0e10726e-763e-4ef3-a11f-9ef90d5a2367"
      },
      "execution_count": 10,
      "outputs": [
        {
          "output_type": "stream",
          "name": "stdout",
          "text": [
            "1/1 [==============================] - 0s 99ms/step\n"
          ]
        },
        {
          "output_type": "execute_result",
          "data": {
            "text/plain": [
              "array([[27.866007]], dtype=float32)"
            ]
          },
          "metadata": {},
          "execution_count": 10
        }
      ]
    },
    {
      "cell_type": "code",
      "source": [
        "# Let's remind ourselves of the data\n",
        "X, y"
      ],
      "metadata": {
        "colab": {
          "base_uri": "https://localhost:8080/"
        },
        "id": "uiwglxBZORsl",
        "outputId": "c5e226dc-8022-4049-d4cf-2e50344aa24b"
      },
      "execution_count": null,
      "outputs": [
        {
          "output_type": "execute_result",
          "data": {
            "text/plain": [
              "(<tf.Tensor: shape=(8,), dtype=float32, numpy=array([-7., -4., -1.,  2.,  5.,  8., 11., 14.], dtype=float32)>,\n",
              " <tf.Tensor: shape=(8,), dtype=float32, numpy=array([ 3.,  6.,  9., 12., 15., 18., 21., 24.], dtype=float32)>)"
            ]
          },
          "metadata": {},
          "execution_count": 49
        }
      ]
    },
    {
      "cell_type": "code",
      "source": [
        "# Let's see if we can make another tio improve our model\n",
        "#1. Create the model\n",
        "model = tf.keras.Sequential([\n",
        "    tf.keras.layers.Dense(50, activation=None),\n",
        "    tf.keras.layers.Dense(1)\n",
        "    ])\n",
        "\n",
        "# 2. Compile the model\n",
        "\n",
        "model.compile(loss='mae', # mae is short for mean square error\n",
        "              optimizer=tf.keras.optimizers.Adam(learning_rate=0.01), # s\n",
        "              metrics=[\"mae\"]\n",
        "              )\n",
        "\n",
        "# Fit the model (this time we'll trin for longer)\n",
        "model.fit(tf.expand_dims(X, axis=-1), y, epochs=100)"
      ],
      "metadata": {
        "colab": {
          "base_uri": "https://localhost:8080/"
        },
        "id": "9eKVuQyqOVJI",
        "outputId": "09ecc8de-7838-400c-ca6a-d64264f5913d"
      },
      "execution_count": 9,
      "outputs": [
        {
          "output_type": "stream",
          "name": "stdout",
          "text": [
            "Epoch 1/100\n",
            "1/1 [==============================] - 1s 829ms/step - loss: 12.9692 - mae: 12.9692\n",
            "Epoch 2/100\n",
            "1/1 [==============================] - 0s 12ms/step - loss: 12.3013 - mae: 12.3013\n",
            "Epoch 3/100\n",
            "1/1 [==============================] - 0s 11ms/step - loss: 11.6260 - mae: 11.6260\n",
            "Epoch 4/100\n",
            "1/1 [==============================] - 0s 10ms/step - loss: 10.9422 - mae: 10.9422\n",
            "Epoch 5/100\n",
            "1/1 [==============================] - 0s 13ms/step - loss: 10.2485 - mae: 10.2485\n",
            "Epoch 6/100\n",
            "1/1 [==============================] - 0s 12ms/step - loss: 9.5427 - mae: 9.5427\n",
            "Epoch 7/100\n",
            "1/1 [==============================] - 0s 10ms/step - loss: 8.8222 - mae: 8.8222\n",
            "Epoch 8/100\n",
            "1/1 [==============================] - 0s 11ms/step - loss: 8.0848 - mae: 8.0848\n",
            "Epoch 9/100\n",
            "1/1 [==============================] - 0s 11ms/step - loss: 7.3279 - mae: 7.3279\n",
            "Epoch 10/100\n",
            "1/1 [==============================] - 0s 11ms/step - loss: 6.8451 - mae: 6.8451\n",
            "Epoch 11/100\n",
            "1/1 [==============================] - 0s 11ms/step - loss: 7.0111 - mae: 7.0111\n",
            "Epoch 12/100\n",
            "1/1 [==============================] - 0s 12ms/step - loss: 7.2965 - mae: 7.2965\n",
            "Epoch 13/100\n",
            "1/1 [==============================] - 0s 14ms/step - loss: 7.4966 - mae: 7.4966\n",
            "Epoch 14/100\n",
            "1/1 [==============================] - 0s 11ms/step - loss: 7.5764 - mae: 7.5764\n",
            "Epoch 15/100\n",
            "1/1 [==============================] - 0s 10ms/step - loss: 7.4563 - mae: 7.4563\n",
            "Epoch 16/100\n",
            "1/1 [==============================] - 0s 12ms/step - loss: 7.1972 - mae: 7.1972\n",
            "Epoch 17/100\n",
            "1/1 [==============================] - 0s 11ms/step - loss: 6.9831 - mae: 6.9831\n",
            "Epoch 18/100\n",
            "1/1 [==============================] - 0s 11ms/step - loss: 6.7428 - mae: 6.7428\n",
            "Epoch 19/100\n",
            "1/1 [==============================] - 0s 12ms/step - loss: 6.4818 - mae: 6.4818\n",
            "Epoch 20/100\n",
            "1/1 [==============================] - 0s 14ms/step - loss: 6.2158 - mae: 6.2158\n",
            "Epoch 21/100\n",
            "1/1 [==============================] - 0s 13ms/step - loss: 6.1677 - mae: 6.1677\n",
            "Epoch 22/100\n",
            "1/1 [==============================] - 0s 10ms/step - loss: 6.1162 - mae: 6.1162\n",
            "Epoch 23/100\n",
            "1/1 [==============================] - 0s 10ms/step - loss: 6.1914 - mae: 6.1914\n",
            "Epoch 24/100\n",
            "1/1 [==============================] - 0s 10ms/step - loss: 6.2142 - mae: 6.2142\n",
            "Epoch 25/100\n",
            "1/1 [==============================] - 0s 11ms/step - loss: 6.1366 - mae: 6.1366\n",
            "Epoch 26/100\n",
            "1/1 [==============================] - 0s 13ms/step - loss: 5.9707 - mae: 5.9707\n",
            "Epoch 27/100\n",
            "1/1 [==============================] - 0s 10ms/step - loss: 5.7449 - mae: 5.7449\n",
            "Epoch 28/100\n",
            "1/1 [==============================] - 0s 10ms/step - loss: 5.6495 - mae: 5.6495\n",
            "Epoch 29/100\n",
            "1/1 [==============================] - 0s 10ms/step - loss: 5.5514 - mae: 5.5514\n",
            "Epoch 30/100\n",
            "1/1 [==============================] - 0s 10ms/step - loss: 5.4502 - mae: 5.4502\n",
            "Epoch 31/100\n",
            "1/1 [==============================] - 0s 11ms/step - loss: 5.4278 - mae: 5.4278\n",
            "Epoch 32/100\n",
            "1/1 [==============================] - 0s 10ms/step - loss: 5.3913 - mae: 5.3913\n",
            "Epoch 33/100\n",
            "1/1 [==============================] - 0s 10ms/step - loss: 5.3102 - mae: 5.3102\n",
            "Epoch 34/100\n",
            "1/1 [==============================] - 0s 11ms/step - loss: 5.1885 - mae: 5.1885\n",
            "Epoch 35/100\n",
            "1/1 [==============================] - 0s 10ms/step - loss: 5.0301 - mae: 5.0301\n",
            "Epoch 36/100\n",
            "1/1 [==============================] - 0s 10ms/step - loss: 4.8880 - mae: 4.8880\n",
            "Epoch 37/100\n",
            "1/1 [==============================] - 0s 13ms/step - loss: 4.7972 - mae: 4.7972\n",
            "Epoch 38/100\n",
            "1/1 [==============================] - 0s 12ms/step - loss: 4.6997 - mae: 4.6997\n",
            "Epoch 39/100\n",
            "1/1 [==============================] - 0s 11ms/step - loss: 4.5954 - mae: 4.5954\n",
            "Epoch 40/100\n",
            "1/1 [==============================] - 0s 11ms/step - loss: 4.4841 - mae: 4.4841\n",
            "Epoch 41/100\n",
            "1/1 [==============================] - 0s 11ms/step - loss: 4.4054 - mae: 4.4054\n",
            "Epoch 42/100\n",
            "1/1 [==============================] - 0s 10ms/step - loss: 4.2297 - mae: 4.2297\n",
            "Epoch 43/100\n",
            "1/1 [==============================] - 0s 11ms/step - loss: 4.0870 - mae: 4.0870\n",
            "Epoch 44/100\n",
            "1/1 [==============================] - 0s 13ms/step - loss: 3.9373 - mae: 3.9373\n",
            "Epoch 45/100\n",
            "1/1 [==============================] - 0s 18ms/step - loss: 3.7802 - mae: 3.7802\n",
            "Epoch 46/100\n",
            "1/1 [==============================] - 0s 14ms/step - loss: 3.6155 - mae: 3.6155\n",
            "Epoch 47/100\n",
            "1/1 [==============================] - 0s 12ms/step - loss: 3.5143 - mae: 3.5143\n",
            "Epoch 48/100\n",
            "1/1 [==============================] - 0s 11ms/step - loss: 3.3639 - mae: 3.3639\n",
            "Epoch 49/100\n",
            "1/1 [==============================] - 0s 12ms/step - loss: 3.1563 - mae: 3.1563\n",
            "Epoch 50/100\n",
            "1/1 [==============================] - 0s 13ms/step - loss: 2.9462 - mae: 2.9462\n",
            "Epoch 51/100\n",
            "1/1 [==============================] - 0s 10ms/step - loss: 2.7721 - mae: 2.7721\n",
            "Epoch 52/100\n",
            "1/1 [==============================] - 0s 15ms/step - loss: 2.5995 - mae: 2.5995\n",
            "Epoch 53/100\n",
            "1/1 [==============================] - 0s 14ms/step - loss: 2.3773 - mae: 2.3773\n",
            "Epoch 54/100\n",
            "1/1 [==============================] - 0s 10ms/step - loss: 2.1574 - mae: 2.1574\n",
            "Epoch 55/100\n",
            "1/1 [==============================] - 0s 10ms/step - loss: 1.9267 - mae: 1.9267\n",
            "Epoch 56/100\n",
            "1/1 [==============================] - 0s 20ms/step - loss: 1.7536 - mae: 1.7536\n",
            "Epoch 57/100\n",
            "1/1 [==============================] - 0s 11ms/step - loss: 1.5108 - mae: 1.5108\n",
            "Epoch 58/100\n",
            "1/1 [==============================] - 0s 10ms/step - loss: 1.2085 - mae: 1.2085\n",
            "Epoch 59/100\n",
            "1/1 [==============================] - 0s 12ms/step - loss: 0.9677 - mae: 0.9677\n",
            "Epoch 60/100\n",
            "1/1 [==============================] - 0s 10ms/step - loss: 0.6819 - mae: 0.6819\n",
            "Epoch 61/100\n",
            "1/1 [==============================] - 0s 10ms/step - loss: 0.4030 - mae: 0.4030\n",
            "Epoch 62/100\n",
            "1/1 [==============================] - 0s 10ms/step - loss: 0.1125 - mae: 0.1125\n",
            "Epoch 63/100\n",
            "1/1 [==============================] - 0s 10ms/step - loss: 0.1971 - mae: 0.1971\n",
            "Epoch 64/100\n",
            "1/1 [==============================] - 0s 10ms/step - loss: 0.5711 - mae: 0.5711\n",
            "Epoch 65/100\n",
            "1/1 [==============================] - 0s 10ms/step - loss: 0.6600 - mae: 0.6600\n",
            "Epoch 66/100\n",
            "1/1 [==============================] - 0s 12ms/step - loss: 0.7486 - mae: 0.7486\n",
            "Epoch 67/100\n",
            "1/1 [==============================] - 0s 12ms/step - loss: 0.8015 - mae: 0.8015\n",
            "Epoch 68/100\n",
            "1/1 [==============================] - 0s 11ms/step - loss: 0.8247 - mae: 0.8247\n",
            "Epoch 69/100\n",
            "1/1 [==============================] - 0s 12ms/step - loss: 0.8081 - mae: 0.8081\n",
            "Epoch 70/100\n",
            "1/1 [==============================] - 0s 12ms/step - loss: 0.7693 - mae: 0.7693\n",
            "Epoch 71/100\n",
            "1/1 [==============================] - 0s 14ms/step - loss: 0.7073 - mae: 0.7073\n",
            "Epoch 72/100\n",
            "1/1 [==============================] - 0s 12ms/step - loss: 0.6246 - mae: 0.6246\n",
            "Epoch 73/100\n",
            "1/1 [==============================] - 0s 12ms/step - loss: 0.4390 - mae: 0.4390\n",
            "Epoch 74/100\n",
            "1/1 [==============================] - 0s 12ms/step - loss: 0.2772 - mae: 0.2772\n",
            "Epoch 75/100\n",
            "1/1 [==============================] - 0s 12ms/step - loss: 0.1348 - mae: 0.1348\n",
            "Epoch 76/100\n",
            "1/1 [==============================] - 0s 12ms/step - loss: 0.1902 - mae: 0.1902\n",
            "Epoch 77/100\n",
            "1/1 [==============================] - 0s 13ms/step - loss: 0.2013 - mae: 0.2013\n",
            "Epoch 78/100\n",
            "1/1 [==============================] - 0s 14ms/step - loss: 0.3629 - mae: 0.3629\n",
            "Epoch 79/100\n",
            "1/1 [==============================] - 0s 13ms/step - loss: 0.3363 - mae: 0.3363\n",
            "Epoch 80/100\n",
            "1/1 [==============================] - 0s 12ms/step - loss: 0.3963 - mae: 0.3963\n",
            "Epoch 81/100\n",
            "1/1 [==============================] - 0s 11ms/step - loss: 0.3321 - mae: 0.3321\n",
            "Epoch 82/100\n",
            "1/1 [==============================] - 0s 11ms/step - loss: 0.3164 - mae: 0.3164\n",
            "Epoch 83/100\n",
            "1/1 [==============================] - 0s 12ms/step - loss: 0.2596 - mae: 0.2596\n",
            "Epoch 84/100\n",
            "1/1 [==============================] - 0s 12ms/step - loss: 0.1338 - mae: 0.1338\n",
            "Epoch 85/100\n",
            "1/1 [==============================] - 0s 13ms/step - loss: 0.0735 - mae: 0.0735\n",
            "Epoch 86/100\n",
            "1/1 [==============================] - 0s 12ms/step - loss: 0.2123 - mae: 0.2123\n",
            "Epoch 87/100\n",
            "1/1 [==============================] - 0s 13ms/step - loss: 0.2802 - mae: 0.2802\n",
            "Epoch 88/100\n",
            "1/1 [==============================] - 0s 13ms/step - loss: 0.2067 - mae: 0.2067\n",
            "Epoch 89/100\n",
            "1/1 [==============================] - 0s 12ms/step - loss: 0.2547 - mae: 0.2547\n",
            "Epoch 90/100\n",
            "1/1 [==============================] - 0s 12ms/step - loss: 0.1953 - mae: 0.1953\n",
            "Epoch 91/100\n",
            "1/1 [==============================] - 0s 13ms/step - loss: 0.1154 - mae: 0.1154\n",
            "Epoch 92/100\n",
            "1/1 [==============================] - 0s 14ms/step - loss: 0.0634 - mae: 0.0634\n",
            "Epoch 93/100\n",
            "1/1 [==============================] - 0s 12ms/step - loss: 0.1405 - mae: 0.1405\n",
            "Epoch 94/100\n",
            "1/1 [==============================] - 0s 13ms/step - loss: 0.1508 - mae: 0.1508\n",
            "Epoch 95/100\n",
            "1/1 [==============================] - 0s 11ms/step - loss: 0.3152 - mae: 0.3152\n",
            "Epoch 96/100\n",
            "1/1 [==============================] - 0s 12ms/step - loss: 0.2681 - mae: 0.2681\n",
            "Epoch 97/100\n",
            "1/1 [==============================] - 0s 12ms/step - loss: 0.2407 - mae: 0.2407\n",
            "Epoch 98/100\n",
            "1/1 [==============================] - 0s 12ms/step - loss: 0.2765 - mae: 0.2765\n",
            "Epoch 99/100\n",
            "1/1 [==============================] - 0s 12ms/step - loss: 0.0924 - mae: 0.0924\n",
            "Epoch 100/100\n",
            "1/1 [==============================] - 0s 11ms/step - loss: 0.3196 - mae: 0.3196\n"
          ]
        },
        {
          "output_type": "execute_result",
          "data": {
            "text/plain": [
              "<keras.src.callbacks.History at 0x7c98c263ce20>"
            ]
          },
          "metadata": {},
          "execution_count": 9
        }
      ]
    },
    {
      "cell_type": "code",
      "source": [
        "model.predict([17.0])"
      ],
      "metadata": {
        "colab": {
          "base_uri": "https://localhost:8080/"
        },
        "id": "jTsE9aZAOVF8",
        "outputId": "6bb65176-82c8-497a-99ea-30317b66b808"
      },
      "execution_count": null,
      "outputs": [
        {
          "output_type": "stream",
          "name": "stdout",
          "text": [
            "1/1 [==============================] - 0s 72ms/step\n"
          ]
        },
        {
          "output_type": "execute_result",
          "data": {
            "text/plain": [
              "array([[27.609644]], dtype=float32)"
            ]
          },
          "metadata": {},
          "execution_count": 70
        }
      ]
    },
    {
      "cell_type": "markdown",
      "source": [
        "##Evaluating a model\n",
        "\n",
        "In practice , a typical workflow you'll go through when building neural networks is\n",
        "\n",
        "```\n",
        "Build  a model -> fit it -> evaluate it  -> tweak a model -> fit it -> evaluate tweak it -> ...\n",
        "```\n",
        "\n",
        "# When it comes to evaluate>> there are 3 words you should memorize\n",
        "\n",
        "> \"Visualize, visualize, visualise\"\n",
        "\n",
        "It's a good idea to visualize:\n",
        "\n",
        "* The data - what date are we working with? What does it lokk like?\n",
        "* The training of a model how does a model perform while it learns?\n",
        "* The predicions of the model - how the predictions of a model line up against the ground  truth  (the original labels)?"
      ],
      "metadata": {
        "id": "qeAPHYINQVTl"
      }
    },
    {
      "cell_type": "code",
      "source": [
        "# Make a big data set\n",
        "\n",
        "X= tf .range(-100, 100, 4)\n",
        "X"
      ],
      "metadata": {
        "colab": {
          "base_uri": "https://localhost:8080/"
        },
        "id": "xzStA8NhOVEF",
        "outputId": "3094edb2-87cd-4437-c4ea-6f7606fe2c80"
      },
      "execution_count": 78,
      "outputs": [
        {
          "output_type": "execute_result",
          "data": {
            "text/plain": [
              "<tf.Tensor: shape=(50,), dtype=int32, numpy=\n",
              "array([-100,  -96,  -92,  -88,  -84,  -80,  -76,  -72,  -68,  -64,  -60,\n",
              "        -56,  -52,  -48,  -44,  -40,  -36,  -32,  -28,  -24,  -20,  -16,\n",
              "        -12,   -8,   -4,    0,    4,    8,   12,   16,   20,   24,   28,\n",
              "         32,   36,   40,   44,   48,   52,   56,   60,   64,   68,   72,\n",
              "         76,   80,   84,   88,   92,   96], dtype=int32)>"
            ]
          },
          "metadata": {},
          "execution_count": 78
        }
      ]
    },
    {
      "cell_type": "code",
      "source": [
        "# Make labels for the dataset\n",
        "\n",
        "y = X + 10\n",
        "\n",
        "y"
      ],
      "metadata": {
        "colab": {
          "base_uri": "https://localhost:8080/"
        },
        "id": "5q1KfsWmOU_s",
        "outputId": "9a673fa8-f913-4e40-8ea5-81dec80cb737"
      },
      "execution_count": 79,
      "outputs": [
        {
          "output_type": "execute_result",
          "data": {
            "text/plain": [
              "<tf.Tensor: shape=(50,), dtype=int32, numpy=\n",
              "array([-90, -86, -82, -78, -74, -70, -66, -62, -58, -54, -50, -46, -42,\n",
              "       -38, -34, -30, -26, -22, -18, -14, -10,  -6,  -2,   2,   6,  10,\n",
              "        14,  18,  22,  26,  30,  34,  38,  42,  46,  50,  54,  58,  62,\n",
              "        66,  70,  74,  78,  82,  86,  90,  94,  98, 102, 106], dtype=int32)>"
            ]
          },
          "metadata": {},
          "execution_count": 79
        }
      ]
    },
    {
      "cell_type": "code",
      "source": [
        "# Visualize the data\n",
        "\n",
        "import matplotlib.pyplot as plt\n",
        "\n",
        "plt.scatter(X, y);"
      ],
      "metadata": {
        "colab": {
          "base_uri": "https://localhost:8080/",
          "height": 430
        },
        "id": "CYSdzAZyOU9P",
        "outputId": "d06adae0-1743-4783-d5db-169084383063"
      },
      "execution_count": 4,
      "outputs": [
        {
          "output_type": "display_data",
          "data": {
            "text/plain": [
              "<Figure size 640x480 with 1 Axes>"
            ],
            "image/png": "[encoded data removed]"
          },
          "metadata": {}
        }
      ]
    },
    {
      "cell_type": "markdown",
      "source": [
        "### The 3 sets...\n",
        "\n",
        "* **Training set**- the model learns from this dta, which is typically 70%-80% of the data you have available.\n",
        "* **Validation set**- the model gets tuned on this data, this is typicaly 10-15% of teh available data.\n",
        "* **Test set**- the model gets evaluates onthis dta to test what is has learned, this set is typicaly 10-15% ofthe total of data available."
      ],
      "metadata": {
        "id": "-Xt0RyTsuO3A"
      }
    },
    {
      "cell_type": "code",
      "source": [
        "# check the length fo how many samples we have\n",
        "\n",
        "len(X)"
      ],
      "metadata": {
        "id": "XA3wky6LOU6O",
        "colab": {
          "base_uri": "https://localhost:8080/"
        },
        "outputId": "9a972762-f9e0-4629-cb1a-98547216a799"
      },
      "execution_count": 5,
      "outputs": [
        {
          "output_type": "execute_result",
          "data": {
            "text/plain": [
              "50"
            ]
          },
          "metadata": {},
          "execution_count": 5
        }
      ]
    },
    {
      "cell_type": "code",
      "source": [
        "# split the dta into train an test sets\n",
        "\n",
        "X_train = X[:40] # first 40 are training samples (80% of the data)\n",
        "y_train = y[:40]\n",
        "\n",
        "X_test = X[40:] # last 10 are testing samples (20 % of the data)\n",
        "y_test = y[40:]\n",
        "\n",
        "len(X_train), len(X_test), len(y_train), len(y_test)"
      ],
      "metadata": {
        "id": "yr_hESmCOU3h",
        "colab": {
          "base_uri": "https://localhost:8080/"
        },
        "outputId": "34f05851-9b4b-4785-fdea-8c44f8b88019"
      },
      "execution_count": 80,
      "outputs": [
        {
          "output_type": "execute_result",
          "data": {
            "text/plain": [
              "(40, 10, 40, 10)"
            ]
          },
          "metadata": {},
          "execution_count": 80
        }
      ]
    },
    {
      "cell_type": "markdown",
      "source": [
        "## *Visualizing* the data\n",
        "\n",
        "Now we've got our data in training and test sets... let's visualize it again"
      ],
      "metadata": {
        "id": "d7SveMe7wXHO"
      }
    },
    {
      "cell_type": "code",
      "source": [
        "plt.figure(figsize=(10, 7))\n",
        "# Plot training data in blue\n",
        "plt.scatter(X_train, y_train, c='r', label='Training data');\n",
        "# Plot test data in green\n",
        "\n",
        "plt.scatter(X_test, y_test, c='g', label='Testing data');\n",
        "\n",
        "# Show a legend\n",
        "plt.legend();"
      ],
      "metadata": {
        "id": "S90-FUmrOU02",
        "colab": {
          "base_uri": "https://localhost:8080/",
          "height": 599
        },
        "outputId": "52b9a113-7022-4219-83dc-a848c009e8ca"
      },
      "execution_count": 7,
      "outputs": [
        {
          "output_type": "display_data",
          "data": {
            "text/plain": [
              "<Figure size 1000x700 with 1 Axes>"
            ],
            "image/png": "[encoded data removed]"
          },
          "metadata": {}
        }
      ]
    },
    {
      "cell_type": "code",
      "source": [
        "#Let's have a look at how to build a neural network\n",
        "tf.random.set_seed(42)\n",
        "\n",
        "# 1. Create a model using the Sequential API\n",
        "model = tf.keras.Sequential([\n",
        "    tf.keras.layers.Dense(100, input_shape=[1], name=\"input_layer\"),\n",
        "    tf.keras.layers.Dense(1, name=\"output_layer\")\n",
        "    ], name=\"one_of_many_models_we_re_going_to_build\")\n",
        "\n",
        "\n",
        "# 2. Compile the model\n",
        "\n",
        "model.compile(loss=tf.keras.losses.mae, # mae is short for mean square error\n",
        "              optimizer=tf.keras.optimizers.SGD(), # sgd is short for stochastic gradient descent\n",
        "              metrics=[\"mae\"]\n",
        "              )\n",
        "\n",
        "model.fit(X_train, y_train, epochs=100, verbose=1)"
      ],
      "metadata": {
        "id": "loZO-WdlOUyV",
        "colab": {
          "base_uri": "https://localhost:8080/"
        },
        "outputId": "5edd8834-e106-4b9b-d1f6-0134e092bd24"
      },
      "execution_count": 12,
      "outputs": [
        {
          "output_type": "stream",
          "name": "stdout",
          "text": [
            "Epoch 1/100\n",
            "2/2 [==============================] - 1s 11ms/step - loss: 49.6110 - mae: 49.6110\n",
            "Epoch 2/100\n",
            "2/2 [==============================] - 0s 8ms/step - loss: 31.8740 - mae: 31.8740\n",
            "Epoch 3/100\n",
            "2/2 [==============================] - 0s 9ms/step - loss: 36.4790 - mae: 36.4790\n",
            "Epoch 4/100\n",
            "2/2 [==============================] - 0s 8ms/step - loss: 29.2512 - mae: 29.2512\n",
            "Epoch 5/100\n",
            "2/2 [==============================] - 0s 8ms/step - loss: 15.8349 - mae: 15.8349\n",
            "Epoch 6/100\n",
            "2/2 [==============================] - 0s 8ms/step - loss: 12.5494 - mae: 12.5494\n",
            "Epoch 7/100\n",
            "2/2 [==============================] - 0s 8ms/step - loss: 11.8125 - mae: 11.8125\n",
            "Epoch 8/100\n",
            "2/2 [==============================] - 0s 9ms/step - loss: 12.8713 - mae: 12.8713\n",
            "Epoch 9/100\n",
            "2/2 [==============================] - 0s 10ms/step - loss: 33.8100 - mae: 33.8100\n",
            "Epoch 10/100\n",
            "2/2 [==============================] - 0s 7ms/step - loss: 23.1317 - mae: 23.1317\n",
            "Epoch 11/100\n",
            "2/2 [==============================] - 0s 7ms/step - loss: 10.2511 - mae: 10.2511\n",
            "Epoch 12/100\n",
            "2/2 [==============================] - 0s 11ms/step - loss: 25.2800 - mae: 25.2800\n",
            "Epoch 13/100\n",
            "2/2 [==============================] - 0s 7ms/step - loss: 17.0723 - mae: 17.0723\n",
            "Epoch 14/100\n",
            "2/2 [==============================] - 0s 7ms/step - loss: 26.0769 - mae: 26.0769\n",
            "Epoch 15/100\n",
            "2/2 [==============================] - 0s 7ms/step - loss: 18.1207 - mae: 18.1207\n",
            "Epoch 16/100\n",
            "2/2 [==============================] - 0s 8ms/step - loss: 7.8580 - mae: 7.8580\n",
            "Epoch 17/100\n",
            "2/2 [==============================] - 0s 7ms/step - loss: 22.2363 - mae: 22.2363\n",
            "Epoch 18/100\n",
            "2/2 [==============================] - 0s 7ms/step - loss: 10.8298 - mae: 10.8298\n",
            "Epoch 19/100\n",
            "2/2 [==============================] - 0s 8ms/step - loss: 10.7187 - mae: 10.7187\n",
            "Epoch 20/100\n",
            "2/2 [==============================] - 0s 8ms/step - loss: 12.0413 - mae: 12.0413\n",
            "Epoch 21/100\n",
            "2/2 [==============================] - 0s 8ms/step - loss: 20.1590 - mae: 20.1590\n",
            "Epoch 22/100\n",
            "2/2 [==============================] - 0s 7ms/step - loss: 13.7911 - mae: 13.7911\n",
            "Epoch 23/100\n",
            "2/2 [==============================] - 0s 7ms/step - loss: 9.5384 - mae: 9.5384\n",
            "Epoch 24/100\n",
            "2/2 [==============================] - 0s 7ms/step - loss: 11.8955 - mae: 11.8955\n",
            "Epoch 25/100\n",
            "2/2 [==============================] - 0s 7ms/step - loss: 16.2171 - mae: 16.2171\n",
            "Epoch 26/100\n",
            "2/2 [==============================] - 0s 7ms/step - loss: 16.4082 - mae: 16.4082\n",
            "Epoch 27/100\n",
            "2/2 [==============================] - 0s 7ms/step - loss: 11.5870 - mae: 11.5870\n",
            "Epoch 28/100\n",
            "2/2 [==============================] - 0s 7ms/step - loss: 30.0051 - mae: 30.0051\n",
            "Epoch 29/100\n",
            "2/2 [==============================] - 0s 7ms/step - loss: 9.2494 - mae: 9.2494\n",
            "Epoch 30/100\n",
            "2/2 [==============================] - 0s 7ms/step - loss: 30.5493 - mae: 30.5493\n",
            "Epoch 31/100\n",
            "2/2 [==============================] - 0s 7ms/step - loss: 55.5360 - mae: 55.5360\n",
            "Epoch 32/100\n",
            "2/2 [==============================] - 0s 10ms/step - loss: 9.7305 - mae: 9.7305\n",
            "Epoch 33/100\n",
            "2/2 [==============================] - 0s 10ms/step - loss: 12.3499 - mae: 12.3499\n",
            "Epoch 34/100\n",
            "2/2 [==============================] - 0s 7ms/step - loss: 24.7247 - mae: 24.7247\n",
            "Epoch 35/100\n",
            "2/2 [==============================] - 0s 8ms/step - loss: 11.9140 - mae: 11.9140\n",
            "Epoch 36/100\n",
            "2/2 [==============================] - 0s 8ms/step - loss: 22.0906 - mae: 22.0906\n",
            "Epoch 37/100\n",
            "2/2 [==============================] - 0s 7ms/step - loss: 17.5786 - mae: 17.5786\n",
            "Epoch 38/100\n",
            "2/2 [==============================] - 0s 14ms/step - loss: 10.7342 - mae: 10.7342\n",
            "Epoch 39/100\n",
            "2/2 [==============================] - 0s 13ms/step - loss: 11.2520 - mae: 11.2520\n",
            "Epoch 40/100\n",
            "2/2 [==============================] - 0s 10ms/step - loss: 18.2537 - mae: 18.2537\n",
            "Epoch 41/100\n",
            "2/2 [==============================] - 0s 12ms/step - loss: 10.5062 - mae: 10.5062\n",
            "Epoch 42/100\n",
            "2/2 [==============================] - 0s 17ms/step - loss: 7.8419 - mae: 7.8419\n",
            "Epoch 43/100\n",
            "2/2 [==============================] - 0s 9ms/step - loss: 14.2308 - mae: 14.2308\n",
            "Epoch 44/100\n",
            "2/2 [==============================] - 0s 10ms/step - loss: 25.0218 - mae: 25.0218\n",
            "Epoch 45/100\n",
            "2/2 [==============================] - 0s 10ms/step - loss: 10.9681 - mae: 10.9681\n",
            "Epoch 46/100\n",
            "2/2 [==============================] - 0s 9ms/step - loss: 13.0850 - mae: 13.0850\n",
            "Epoch 47/100\n",
            "2/2 [==============================] - 0s 9ms/step - loss: 10.4203 - mae: 10.4203\n",
            "Epoch 48/100\n",
            "2/2 [==============================] - 0s 10ms/step - loss: 17.1243 - mae: 17.1243\n",
            "Epoch 49/100\n",
            "2/2 [==============================] - 0s 11ms/step - loss: 9.6422 - mae: 9.6422\n",
            "Epoch 50/100\n",
            "2/2 [==============================] - 0s 14ms/step - loss: 13.9448 - mae: 13.9448\n",
            "Epoch 51/100\n",
            "2/2 [==============================] - 0s 12ms/step - loss: 11.6422 - mae: 11.6422\n",
            "Epoch 52/100\n",
            "2/2 [==============================] - 0s 11ms/step - loss: 30.8867 - mae: 30.8867\n",
            "Epoch 53/100\n",
            "2/2 [==============================] - 0s 11ms/step - loss: 14.4981 - mae: 14.4981\n",
            "Epoch 54/100\n",
            "2/2 [==============================] - 0s 12ms/step - loss: 24.2276 - mae: 24.2276\n",
            "Epoch 55/100\n",
            "2/2 [==============================] - 0s 12ms/step - loss: 23.4727 - mae: 23.4727\n",
            "Epoch 56/100\n",
            "2/2 [==============================] - 0s 12ms/step - loss: 10.9703 - mae: 10.9703\n",
            "Epoch 57/100\n",
            "2/2 [==============================] - 0s 11ms/step - loss: 12.8646 - mae: 12.8646\n",
            "Epoch 58/100\n",
            "2/2 [==============================] - 0s 11ms/step - loss: 9.6664 - mae: 9.6664\n",
            "Epoch 59/100\n",
            "2/2 [==============================] - 0s 11ms/step - loss: 13.0354 - mae: 13.0354\n",
            "Epoch 60/100\n",
            "2/2 [==============================] - 0s 10ms/step - loss: 10.7069 - mae: 10.7069\n",
            "Epoch 61/100\n",
            "2/2 [==============================] - 0s 10ms/step - loss: 13.2471 - mae: 13.2471\n",
            "Epoch 62/100\n",
            "2/2 [==============================] - 0s 16ms/step - loss: 17.0934 - mae: 17.0934\n",
            "Epoch 63/100\n",
            "2/2 [==============================] - 0s 10ms/step - loss: 9.0571 - mae: 9.0571\n",
            "Epoch 64/100\n",
            "2/2 [==============================] - 0s 10ms/step - loss: 17.7384 - mae: 17.7384\n",
            "Epoch 65/100\n",
            "2/2 [==============================] - 0s 9ms/step - loss: 10.5313 - mae: 10.5313\n",
            "Epoch 66/100\n",
            "2/2 [==============================] - 0s 10ms/step - loss: 21.2306 - mae: 21.2306\n",
            "Epoch 67/100\n",
            "2/2 [==============================] - 0s 20ms/step - loss: 10.5304 - mae: 10.5304\n",
            "Epoch 68/100\n",
            "2/2 [==============================] - 0s 23ms/step - loss: 14.3896 - mae: 14.3896\n",
            "Epoch 69/100\n",
            "2/2 [==============================] - 0s 14ms/step - loss: 10.6240 - mae: 10.6240\n",
            "Epoch 70/100\n",
            "2/2 [==============================] - 0s 15ms/step - loss: 12.7106 - mae: 12.7106\n",
            "Epoch 71/100\n",
            "2/2 [==============================] - 0s 19ms/step - loss: 13.1406 - mae: 13.1406\n",
            "Epoch 72/100\n",
            "2/2 [==============================] - 0s 12ms/step - loss: 19.6637 - mae: 19.6637\n",
            "Epoch 73/100\n",
            "2/2 [==============================] - 0s 19ms/step - loss: 11.2029 - mae: 11.2029\n",
            "Epoch 74/100\n",
            "2/2 [==============================] - 0s 16ms/step - loss: 21.9572 - mae: 21.9572\n",
            "Epoch 75/100\n",
            "2/2 [==============================] - 0s 11ms/step - loss: 7.1874 - mae: 7.1874\n",
            "Epoch 76/100\n",
            "2/2 [==============================] - 0s 15ms/step - loss: 9.4119 - mae: 9.4119\n",
            "Epoch 77/100\n",
            "2/2 [==============================] - 0s 21ms/step - loss: 22.0276 - mae: 22.0276\n",
            "Epoch 78/100\n",
            "2/2 [==============================] - 0s 10ms/step - loss: 17.7393 - mae: 17.7393\n",
            "Epoch 79/100\n",
            "2/2 [==============================] - 0s 11ms/step - loss: 14.8880 - mae: 14.8880\n",
            "Epoch 80/100\n",
            "2/2 [==============================] - 0s 13ms/step - loss: 25.2366 - mae: 25.2366\n",
            "Epoch 81/100\n",
            "2/2 [==============================] - 0s 11ms/step - loss: 10.9544 - mae: 10.9544\n",
            "Epoch 82/100\n",
            "2/2 [==============================] - 0s 15ms/step - loss: 12.7249 - mae: 12.7249\n",
            "Epoch 83/100\n",
            "2/2 [==============================] - 0s 9ms/step - loss: 17.4882 - mae: 17.4882\n",
            "Epoch 84/100\n",
            "2/2 [==============================] - 0s 21ms/step - loss: 7.2813 - mae: 7.2813\n",
            "Epoch 85/100\n",
            "2/2 [==============================] - 0s 21ms/step - loss: 15.0162 - mae: 15.0162\n",
            "Epoch 86/100\n",
            "2/2 [==============================] - 0s 17ms/step - loss: 15.3275 - mae: 15.3275\n",
            "Epoch 87/100\n",
            "2/2 [==============================] - 0s 17ms/step - loss: 19.1889 - mae: 19.1889\n",
            "Epoch 88/100\n",
            "2/2 [==============================] - 0s 10ms/step - loss: 29.6134 - mae: 29.6134\n",
            "Epoch 89/100\n",
            "2/2 [==============================] - 0s 10ms/step - loss: 10.1499 - mae: 10.1499\n",
            "Epoch 90/100\n",
            "2/2 [==============================] - 0s 10ms/step - loss: 21.3517 - mae: 21.3517\n",
            "Epoch 91/100\n",
            "2/2 [==============================] - 0s 12ms/step - loss: 10.5361 - mae: 10.5361\n",
            "Epoch 92/100\n",
            "2/2 [==============================] - 0s 10ms/step - loss: 18.2432 - mae: 18.2432\n",
            "Epoch 93/100\n",
            "2/2 [==============================] - 0s 10ms/step - loss: 6.8146 - mae: 6.8146\n",
            "Epoch 94/100\n",
            "2/2 [==============================] - 0s 9ms/step - loss: 13.0287 - mae: 13.0287\n",
            "Epoch 95/100\n",
            "2/2 [==============================] - 0s 9ms/step - loss: 18.4344 - mae: 18.4344\n",
            "Epoch 96/100\n",
            "2/2 [==============================] - 0s 9ms/step - loss: 10.3615 - mae: 10.3615\n",
            "Epoch 97/100\n",
            "2/2 [==============================] - 0s 9ms/step - loss: 14.4456 - mae: 14.4456\n",
            "Epoch 98/100\n",
            "2/2 [==============================] - 0s 11ms/step - loss: 6.5763 - mae: 6.5763\n",
            "Epoch 99/100\n",
            "2/2 [==============================] - 0s 11ms/step - loss: 12.5904 - mae: 12.5904\n",
            "Epoch 100/100\n",
            "2/2 [==============================] - 0s 7ms/step - loss: 19.3984 - mae: 19.3984\n"
          ]
        },
        {
          "output_type": "execute_result",
          "data": {
            "text/plain": [
              "<keras.src.callbacks.History at 0x7dd83c0b7ac0>"
            ]
          },
          "metadata": {},
          "execution_count": 12
        }
      ]
    },
    {
      "cell_type": "markdown",
      "source": [
        "##Visualizing the model"
      ],
      "metadata": {
        "id": "yS6zcsiE5Qq5"
      }
    },
    {
      "cell_type": "code",
      "source": [
        "model.summary()"
      ],
      "metadata": {
        "id": "hO_3VTn6OUtI",
        "colab": {
          "base_uri": "https://localhost:8080/"
        },
        "outputId": "33610aa7-6fef-40a3-c0f9-ac62767baf73"
      },
      "execution_count": 9,
      "outputs": [
        {
          "output_type": "stream",
          "name": "stdout",
          "text": [
            "Model: \"one_of_many_models_we_re_going_to_build\"\n",
            "_________________________________________________________________\n",
            " Layer (type)                Output Shape              Param #   \n",
            "=================================================================\n",
            " input_layer (Dense)         (None, 10)                20        \n",
            "                                                                 \n",
            " output_layer (Dense)        (None, 1)                 11        \n",
            "                                                                 \n",
            "=================================================================\n",
            "Total params: 31 (124.00 Byte)\n",
            "Trainable params: 31 (124.00 Byte)\n",
            "Non-trainable params: 0 (0.00 Byte)\n",
            "_________________________________________________________________\n"
          ]
        }
      ]
    },
    {
      "cell_type": "markdown",
      "source": [
        "* Total params - total number of parameters in the model.\n",
        "* Trainable parameters - these pare the parameters (patterns) the model ca update as it trains\n",
        "* Non-trainable parameters - thee parameters aren't updated during training (this is typical when ou bring in already lean patterns or parameters from other models during **transfer learning**)"
      ],
      "metadata": {
        "id": "1EMLrgqs62Ew"
      }
    },
    {
      "cell_type": "code",
      "source": [
        "# Get a summary of our model\n",
        "\n",
        "model.summary()"
      ],
      "metadata": {
        "colab": {
          "base_uri": "https://localhost:8080/"
        },
        "id": "MEUjd75g50Sk",
        "outputId": "e94d5f91-7ef2-4ce3-8d94-629368397a36"
      },
      "execution_count": 14,
      "outputs": [
        {
          "output_type": "stream",
          "name": "stdout",
          "text": [
            "Model: \"one_of_many_models_we_re_going_to_build\"\n",
            "_________________________________________________________________\n",
            " Layer (type)                Output Shape              Param #   \n",
            "=================================================================\n",
            " input_layer (Dense)         (None, 100)               200       \n",
            "                                                                 \n",
            " output_layer (Dense)        (None, 1)                 101       \n",
            "                                                                 \n",
            "=================================================================\n",
            "Total params: 301 (1.18 KB)\n",
            "Trainable params: 301 (1.18 KB)\n",
            "Non-trainable params: 0 (0.00 Byte)\n",
            "_________________________________________________________________\n"
          ]
        }
      ]
    },
    {
      "cell_type": "code",
      "source": [
        "from tensorflow.keras.utils import plot_model\n",
        "\n",
        "plot_model(model=model, show_shapes=True)"
      ],
      "metadata": {
        "colab": {
          "base_uri": "https://localhost:8080/",
          "height": 312
        },
        "id": "giC5PEA350NM",
        "outputId": "7c817875-2f85-4b7b-ad53-d9d24859e830"
      },
      "execution_count": 88,
      "outputs": [
        {
          "output_type": "execute_result",
          "data": {
            "image/png": "[encoded data removed]",
            "text/plain": [
              "<IPython.core.display.Image object>"
            ]
          },
          "metadata": {},
          "execution_count": 88
        }
      ]
    },
    {
      "cell_type": "markdown",
      "source": [
        "### Visualizing our model's predictions\n",
        "\n",
        "To visualize predictions, a good idea to plt them against the ground truth labels.\n",
        "\n",
        "Often you'll see this in the gotm of `y_test`or `y_true` versus `y_pred` (ground truht versus your model's predictions)."
      ],
      "metadata": {
        "id": "NH8GCrPwUuHM"
      }
    },
    {
      "cell_type": "code",
      "source": [
        "X_test"
      ],
      "metadata": {
        "colab": {
          "base_uri": "https://localhost:8080/"
        },
        "id": "5ZWgPUhDXFrn",
        "outputId": "091b9e66-d352-4065-8ef4-56738836f957"
      },
      "execution_count": 15,
      "outputs": [
        {
          "output_type": "execute_result",
          "data": {
            "text/plain": [
              "<tf.Tensor: shape=(10,), dtype=int32, numpy=array([60, 64, 68, 72, 76, 80, 84, 88, 92, 96], dtype=int32)>"
            ]
          },
          "metadata": {},
          "execution_count": 15
        }
      ]
    },
    {
      "cell_type": "code",
      "source": [
        "# Make some predictions\n",
        "\n",
        "y_pred = model.predict(X_test)\n",
        "y_pred"
      ],
      "metadata": {
        "colab": {
          "base_uri": "https://localhost:8080/"
        },
        "id": "nm4lZNjf50LB",
        "outputId": "be102dcb-755b-40dc-e2a2-c9e12b585993"
      },
      "execution_count": 16,
      "outputs": [
        {
          "output_type": "stream",
          "name": "stdout",
          "text": [
            "1/1 [==============================] - 0s 88ms/step\n"
          ]
        },
        {
          "output_type": "execute_result",
          "data": {
            "text/plain": [
              "array([[ 95.841385],\n",
              "       [101.99499 ],\n",
              "       [108.148605],\n",
              "       [114.30222 ],\n",
              "       [120.455826],\n",
              "       [126.60945 ],\n",
              "       [132.76309 ],\n",
              "       [138.9167  ],\n",
              "       [145.0703  ],\n",
              "       [151.2239  ]], dtype=float32)"
            ]
          },
          "metadata": {},
          "execution_count": 16
        }
      ]
    },
    {
      "cell_type": "code",
      "source": [
        "y_test"
      ],
      "metadata": {
        "colab": {
          "base_uri": "https://localhost:8080/"
        },
        "id": "G2m8u0RR50Hm",
        "outputId": "d234be0a-811d-4ca1-b16e-d7ab385c2a1a"
      },
      "execution_count": 17,
      "outputs": [
        {
          "output_type": "execute_result",
          "data": {
            "text/plain": [
              "<tf.Tensor: shape=(10,), dtype=int32, numpy=array([ 70,  74,  78,  82,  86,  90,  94,  98, 102, 106], dtype=int32)>"
            ]
          },
          "metadata": {},
          "execution_count": 17
        }
      ]
    },
    {
      "cell_type": "markdown",
      "source": [
        "❎ **NOe"
      ],
      "metadata": {
        "id": "JK9MyUtcXfQy"
      }
    },
    {
      "cell_type": "code",
      "source": [
        "# Let's create a ploting function\n",
        "\n",
        "def plot_predictions(train_data=X_train,\n",
        "                     train_labels=y_train,\n",
        "                     test_data=X_test,\n",
        "                     test_labels=y_test,\n",
        "                     predictions=y_pred):\n",
        "  \"\"\"\n",
        "  Plots training data, test data and compares predictions.\n",
        "  \"\"\"\n",
        "  plt.figure(figsize=(10, 7))\n",
        "  # Plot training data in blue\n",
        "  plt.scatter(train_data, train_labels, c=\"b\", label=\"Training data\")\n",
        "  # Plot test data in green\n",
        "  plt.scatter(test_data, test_labels, c=\"g\", label=\"Testing data\")\n",
        "  # Plot the predictions in red (predictions were made on the test data)\n",
        "  plt.scatter(test_data, predictions, c=\"r\", label=\"Predictions\")\n",
        "  # Show the legend\n",
        "  plt.legend();"
      ],
      "metadata": {
        "id": "Iu4oiGwiOUqa"
      },
      "execution_count": 19,
      "outputs": []
    },
    {
      "cell_type": "code",
      "source": [
        "plot_predictions()"
      ],
      "metadata": {
        "id": "pmYIF-wuOUn1",
        "colab": {
          "base_uri": "https://localhost:8080/",
          "height": 599
        },
        "outputId": "7332baaf-e84a-4a3d-ad28-8a282e541f46"
      },
      "execution_count": 20,
      "outputs": [
        {
          "output_type": "display_data",
          "data": {
            "text/plain": [
              "<Figure size 1000x700 with 1 Axes>"
            ],
            "image/png": "[encoded data removed]"
          },
          "metadata": {}
        }
      ]
    },
    {
      "cell_type": "markdown",
      "source": [
        "###Evaluating our model's predictions with regresion evaluation metrics\n",
        "\n",
        "Depending on the problem you're working on, there will be different evaluation metrics to evaluate your model's performance.\n",
        "\n",
        "Since we'rw working on a regresion, two of main metrics:\n",
        "\n",
        "* MAE - mean absolute error, \"on average, how wrong is each of my model's predictions\"\n",
        "\n",
        "* MSE mean square error, \"square the average errors\""
      ],
      "metadata": {
        "id": "no2rt9fyYrV0"
      }
    },
    {
      "cell_type": "code",
      "source": [
        "# Evaluate the model on the test\n",
        "\n",
        "model.evaluate(X_test, y_test)"
      ],
      "metadata": {
        "id": "SHY8rA4xOUlO",
        "colab": {
          "base_uri": "https://localhost:8080/"
        },
        "outputId": "3e68eb5c-d09b-4ebb-ea91-1096c42859d1"
      },
      "execution_count": 21,
      "outputs": [
        {
          "output_type": "stream",
          "name": "stdout",
          "text": [
            "1/1 [==============================] - 0s 137ms/step - loss: 35.5326 - mae: 35.5326\n"
          ]
        },
        {
          "output_type": "execute_result",
          "data": {
            "text/plain": [
              "[35.532649993896484, 35.532649993896484]"
            ]
          },
          "metadata": {},
          "execution_count": 21
        }
      ]
    },
    {
      "cell_type": "code",
      "source": [
        "# Calculate the mean absolute error\n",
        "\n",
        "tf.metrics.mean_absolute_error(y_true=y_test,\n",
        "                               y_pred=tf.constant(y_pred)).numpy().sum() / len(y_pred)"
      ],
      "metadata": {
        "colab": {
          "base_uri": "https://localhost:8080/"
        },
        "id": "DanSqP6X4dO_",
        "outputId": "620660f2-afe8-4b5b-adef-5ff3324e3f8b"
      },
      "execution_count": 22,
      "outputs": [
        {
          "output_type": "execute_result",
          "data": {
            "text/plain": [
              "35.982366943359374"
            ]
          },
          "metadata": {},
          "execution_count": 22
        }
      ]
    },
    {
      "cell_type": "code",
      "source": [
        "y_test  - y_pred"
      ],
      "metadata": {
        "colab": {
          "base_uri": "https://localhost:8080/"
        },
        "id": "FafQdib84dMD",
        "outputId": "ed3aff21-2c21-4adf-f5dc-dc7d25ae1508"
      },
      "execution_count": 23,
      "outputs": [
        {
          "output_type": "execute_result",
          "data": {
            "text/plain": [
              "<tf.Tensor: shape=(10, 10), dtype=int32, numpy=\n",
              "array([[-25, -21, -17, -13,  -9,  -5,  -1,   3,   7,  11],\n",
              "       [-31, -27, -23, -19, -15, -11,  -7,  -3,   1,   5],\n",
              "       [-38, -34, -30, -26, -22, -18, -14, -10,  -6,  -2],\n",
              "       [-44, -40, -36, -32, -28, -24, -20, -16, -12,  -8],\n",
              "       [-50, -46, -42, -38, -34, -30, -26, -22, -18, -14],\n",
              "       [-56, -52, -48, -44, -40, -36, -32, -28, -24, -20],\n",
              "       [-62, -58, -54, -50, -46, -42, -38, -34, -30, -26],\n",
              "       [-68, -64, -60, -56, -52, -48, -44, -40, -36, -32],\n",
              "       [-75, -71, -67, -63, -59, -55, -51, -47, -43, -39],\n",
              "       [-81, -77, -73, -69, -65, -61, -57, -53, -49, -45]], dtype=int32)>"
            ]
          },
          "metadata": {},
          "execution_count": 23
        }
      ]
    },
    {
      "cell_type": "code",
      "source": [
        "tf.constant(y_pred)"
      ],
      "metadata": {
        "colab": {
          "base_uri": "https://localhost:8080/"
        },
        "id": "tWVzs5Eb4dJU",
        "outputId": "910f3967-a3fc-4cf6-c9ed-7ddeaabedf08"
      },
      "execution_count": 24,
      "outputs": [
        {
          "output_type": "execute_result",
          "data": {
            "text/plain": [
              "<tf.Tensor: shape=(10, 1), dtype=float32, numpy=\n",
              "array([[ 95.841385],\n",
              "       [101.99499 ],\n",
              "       [108.148605],\n",
              "       [114.30222 ],\n",
              "       [120.455826],\n",
              "       [126.60945 ],\n",
              "       [132.76309 ],\n",
              "       [138.9167  ],\n",
              "       [145.0703  ],\n",
              "       [151.2239  ]], dtype=float32)>"
            ]
          },
          "metadata": {},
          "execution_count": 24
        }
      ]
    },
    {
      "cell_type": "code",
      "source": [
        "y_test"
      ],
      "metadata": {
        "colab": {
          "base_uri": "https://localhost:8080/"
        },
        "id": "DdxtViQp4dD5",
        "outputId": "3db437b6-b791-4a6d-913b-996a86d75b25"
      },
      "execution_count": 25,
      "outputs": [
        {
          "output_type": "execute_result",
          "data": {
            "text/plain": [
              "<tf.Tensor: shape=(10,), dtype=int32, numpy=array([ 70,  74,  78,  82,  86,  90,  94,  98, 102, 106], dtype=int32)>"
            ]
          },
          "metadata": {},
          "execution_count": 25
        }
      ]
    },
    {
      "cell_type": "code",
      "source": [
        "tf.squeeze(y_pred)"
      ],
      "metadata": {
        "colab": {
          "base_uri": "https://localhost:8080/"
        },
        "id": "UTz6HnHe4dBU",
        "outputId": "c22f79e4-e1a5-47c3-d6e7-c1ffd79053e1"
      },
      "execution_count": 26,
      "outputs": [
        {
          "output_type": "execute_result",
          "data": {
            "text/plain": [
              "<tf.Tensor: shape=(10,), dtype=float32, numpy=\n",
              "array([ 95.841385, 101.99499 , 108.148605, 114.30222 , 120.455826,\n",
              "       126.60945 , 132.76309 , 138.9167  , 145.0703  , 151.2239  ],\n",
              "      dtype=float32)>"
            ]
          },
          "metadata": {},
          "execution_count": 26
        }
      ]
    },
    {
      "cell_type": "code",
      "source": [
        "mae = tf.metrics.mean_absolute_error(y_true=y_test,\n",
        "                                     y_pred=tf.squeeze(y_pred))\n",
        "mae"
      ],
      "metadata": {
        "colab": {
          "base_uri": "https://localhost:8080/"
        },
        "id": "MT9P6CTZ4c-d",
        "outputId": "c6adb909-049a-430e-a293-f953655ed0f7"
      },
      "execution_count": 27,
      "outputs": [
        {
          "output_type": "execute_result",
          "data": {
            "text/plain": [
              "<tf.Tensor: shape=(), dtype=float32, numpy=35.532646>"
            ]
          },
          "metadata": {},
          "execution_count": 27
        }
      ]
    },
    {
      "cell_type": "markdown",
      "source": [
        "# Calculate mean square error"
      ],
      "metadata": {
        "id": "gz5P3Qo1kIWI"
      }
    },
    {
      "cell_type": "code",
      "source": [
        "mse = tf.metrics.mean_squared_error(y_true=y_test,\n",
        "                                    y_pred=tf.squeeze(y_pred))\n",
        "mse"
      ],
      "metadata": {
        "colab": {
          "base_uri": "https://localhost:8080/"
        },
        "id": "DAdlT_FT4c6-",
        "outputId": "0411d539-f60e-4345-e533-82629312d2f3"
      },
      "execution_count": 28,
      "outputs": [
        {
          "output_type": "execute_result",
          "data": {
            "text/plain": [
              "<tf.Tensor: shape=(), dtype=float32, numpy=1300.833>"
            ]
          },
          "metadata": {},
          "execution_count": 28
        }
      ]
    },
    {
      "cell_type": "code",
      "source": [
        "def mae(y_true, y_pred):\n",
        "  return tf.metrics.mean_absolute_error(y_true=y_true,\n",
        "                                        y_pred=tf.squeeze(y_pred))\n",
        "\n",
        "\n",
        "def mse(y_true, y_pred):\n",
        "  return tf.metrics.mean_squared_error(y_true=y_true,\n",
        "                                      y_pred=tf.squeeze(y_pred))\n",
        "\n",
        "\n",
        "def mae_mse(y_true, y_pred):\n",
        "  return {\n",
        "      \"mae\": mae(y_true, y_pred),\n",
        "      \"mse\": mse(y_true, y_pred)\n",
        "  }\n",
        "\n",
        "mae_mse(y_true=y_test,\n",
        "        y_pred=y_pred)"
      ],
      "metadata": {
        "colab": {
          "base_uri": "https://localhost:8080/"
        },
        "id": "24nJ5DAo4c4P",
        "outputId": "318f5ad0-4573-4267-8e45-dcd89c28d51e"
      },
      "execution_count": 29,
      "outputs": [
        {
          "output_type": "execute_result",
          "data": {
            "text/plain": [
              "{'mae': <tf.Tensor: shape=(), dtype=float32, numpy=35.532646>,\n",
              " 'mse': <tf.Tensor: shape=(), dtype=float32, numpy=1300.833>}"
            ]
          },
          "metadata": {},
          "execution_count": 29
        }
      ]
    },
    {
      "cell_type": "markdown",
      "source": [
        "### Runing experiments to improve our model\n",
        "\n",
        "```\n",
        "Build a model -> fit it -> evaluate it -> tweak it -> fit it -> evaluate it -> fit it...\n",
        "```\n",
        "\n",
        "1. Get more data - get more examples got your model to train  on (more opportunities to learn patterns or relationships between features and labels)\n",
        "2. Make your model larger (using a more complex model) - this might comi in ofr of more labeyers or more hidden units in each layer.\n",
        "3. Train for longer - give your model change to find pattern in data."
      ],
      "metadata": {
        "id": "FHzLxXbGwu38"
      }
    },
    {
      "cell_type": "markdown",
      "source": [
        "Let's do 3 modelling experiments\n",
        "\n",
        "1. `model_1` - same as the original mdoeo, 1 layer, trained for 100 epochs.\n",
        "2. `model_2` - 2 layers, trained for 100 epochs.\n",
        "\n",
        "3. `model_3` - 2 layers, trained fro 500 epochs.\n",
        "\n",
        "**Build `model_1`**"
      ],
      "metadata": {
        "id": "7jro0VuIxntv"
      }
    },
    {
      "cell_type": "code",
      "source": [
        "X_train, y_train"
      ],
      "metadata": {
        "colab": {
          "base_uri": "https://localhost:8080/"
        },
        "id": "4DBzqyWCxlD_",
        "outputId": "917c3057-61bc-4864-86ee-4a44e9b81cae"
      },
      "execution_count": 30,
      "outputs": [
        {
          "output_type": "execute_result",
          "data": {
            "text/plain": [
              "(<tf.Tensor: shape=(40,), dtype=int32, numpy=\n",
              " array([-100,  -96,  -92,  -88,  -84,  -80,  -76,  -72,  -68,  -64,  -60,\n",
              "         -56,  -52,  -48,  -44,  -40,  -36,  -32,  -28,  -24,  -20,  -16,\n",
              "         -12,   -8,   -4,    0,    4,    8,   12,   16,   20,   24,   28,\n",
              "          32,   36,   40,   44,   48,   52,   56], dtype=int32)>,\n",
              " <tf.Tensor: shape=(40,), dtype=int32, numpy=\n",
              " array([-90, -86, -82, -78, -74, -70, -66, -62, -58, -54, -50, -46, -42,\n",
              "        -38, -34, -30, -26, -22, -18, -14, -10,  -6,  -2,   2,   6,  10,\n",
              "         14,  18,  22,  26,  30,  34,  38,  42,  46,  50,  54,  58,  62,\n",
              "         66], dtype=int32)>)"
            ]
          },
          "metadata": {},
          "execution_count": 30
        }
      ]
    },
    {
      "cell_type": "code",
      "source": [
        "import numpy as np\n",
        "\n",
        "# Set random seed\n",
        "tf.random.set_seed(42)\n",
        "\n",
        "# 1. Create the model\n",
        "model_1 = tf.keras.Sequential([\n",
        "    tf.keras.layers.Dense(1)\n",
        "  ])\n",
        "\n",
        "# 2. Compile  the model\n",
        "\n",
        "model_1.compile(loss=tf.keras.losses.mae,\n",
        "                optimizer=tf.keras.optimizers.SGD(),\n",
        "                metrics=[\"mae\"])\n",
        "\n",
        "# 3. Fit the model\n",
        "model_1.fit(np.reshape(X_train, (-1, 1)), y_train, epochs=100, verbose=0)"
      ],
      "metadata": {
        "colab": {
          "base_uri": "https://localhost:8080/"
        },
        "id": "4cSf9mGiyJDQ",
        "outputId": "0772d69f-3beb-40e2-8d8c-42276a8f7de6"
      },
      "execution_count": 114,
      "outputs": [
        {
          "output_type": "execute_result",
          "data": {
            "text/plain": [
              "<keras.src.callbacks.History at 0x7dd82c8efa60>"
            ]
          },
          "metadata": {},
          "execution_count": 114
        }
      ]
    },
    {
      "cell_type": "code",
      "source": [
        "model_1.summary()"
      ],
      "metadata": {
        "colab": {
          "base_uri": "https://localhost:8080/"
        },
        "id": "zg-U1R9y4c1x",
        "outputId": "bc9a5952-5e95-48e2-dac6-6e881cf54b58"
      },
      "execution_count": 115,
      "outputs": [
        {
          "output_type": "stream",
          "name": "stdout",
          "text": [
            "Model: \"sequential_34\"\n",
            "_________________________________________________________________\n",
            " Layer (type)                Output Shape              Param #   \n",
            "=================================================================\n",
            " dense_60 (Dense)            (None, 1)                 2         \n",
            "                                                                 \n",
            "=================================================================\n",
            "Total params: 2 (8.00 Byte)\n",
            "Trainable params: 2 (8.00 Byte)\n",
            "Non-trainable params: 0 (0.00 Byte)\n",
            "_________________________________________________________________\n"
          ]
        }
      ]
    },
    {
      "cell_type": "code",
      "source": [
        "# Make a plot of predictions model_1\n",
        "y_preds_1 = model_1.predict(X_test)\n",
        "\n",
        "y_preds_1"
      ],
      "metadata": {
        "colab": {
          "base_uri": "https://localhost:8080/"
        },
        "id": "OylNpyT3kFYB",
        "outputId": "8064b723-49da-44f9-b5bc-43e4a0ce5a0a"
      },
      "execution_count": 116,
      "outputs": [
        {
          "output_type": "stream",
          "name": "stdout",
          "text": [
            "1/1 [==============================] - 0s 51ms/step\n"
          ]
        },
        {
          "output_type": "execute_result",
          "data": {
            "text/plain": [
              "array([[ 74.57999 ],\n",
              "       [ 79.46669 ],\n",
              "       [ 84.35339 ],\n",
              "       [ 89.240105],\n",
              "       [ 94.126816],\n",
              "       [ 99.01352 ],\n",
              "       [103.90022 ],\n",
              "       [108.786934],\n",
              "       [113.673645],\n",
              "       [118.56035 ]], dtype=float32)"
            ]
          },
          "metadata": {},
          "execution_count": 116
        }
      ]
    },
    {
      "cell_type": "code",
      "source": [
        "plot_predictions(predictions=y_preds_1)"
      ],
      "metadata": {
        "colab": {
          "base_uri": "https://localhost:8080/",
          "height": 599
        },
        "id": "Fy9IsVHJkFUc",
        "outputId": "4e3ff748-5b7c-44d7-84bf-ac9040f746b1"
      },
      "execution_count": 117,
      "outputs": [
        {
          "output_type": "display_data",
          "data": {
            "text/plain": [
              "<Figure size 1000x700 with 1 Axes>"
            ],
            "image/png": "[encoded data removed]"
          },
          "metadata": {}
        }
      ]
    },
    {
      "cell_type": "code",
      "source": [
        "# Calculate model_1 evaluation metrics\n",
        "\n",
        "mae_1 = mae(y_test, tf.squeeze(y_preds_1))\n",
        "mse_1 = mse(y_test, tf.squeeze(y_preds_1))\n",
        "\n",
        "mae_1, mse_1"
      ],
      "metadata": {
        "colab": {
          "base_uri": "https://localhost:8080/"
        },
        "id": "Qc74dGLakFPx",
        "outputId": "bfaf71a5-7587-48a1-c023-b07a4b552c84"
      },
      "execution_count": 45,
      "outputs": [
        {
          "output_type": "execute_result",
          "data": {
            "text/plain": [
              "(<tf.Tensor: shape=(), dtype=float32, numpy=8.575075>,\n",
              " <tf.Tensor: shape=(), dtype=float32, numpy=80.02684>)"
            ]
          },
          "metadata": {},
          "execution_count": 45
        }
      ]
    },
    {
      "cell_type": "markdown",
      "source": [
        "**Build `model_2`**\n",
        "\n",
        "* 2 dense layers, trained form 100 epochs"
      ],
      "metadata": {
        "id": "wQfdxSRY131e"
      }
    },
    {
      "cell_type": "code",
      "source": [
        "# Set random seed\n",
        "tf.random.set_seed(42)\n",
        "\n",
        "model_2 = tf.keras.Sequential([\n",
        "    tf.keras.layers.Dense(10),\n",
        "    tf.keras.layers.Dense(1)\n",
        "])\n",
        "\n",
        "model_2.compile(loss=tf.keras.losses.mae,\n",
        "                optimizer=tf.keras.optimizers.SGD(),\n",
        "                metrics=[\"mae\"])\n",
        "\n",
        "model_2.fit(np.reshape(X_train, (-1, 1)), y_train, epochs=100)"
      ],
      "metadata": {
        "colab": {
          "base_uri": "https://localhost:8080/"
        },
        "id": "_8pemIWtkFMn",
        "outputId": "b55c629f-8cb0-4b4c-9044-a7d559fd6de8"
      },
      "execution_count": 128,
      "outputs": [
        {
          "output_type": "stream",
          "name": "stdout",
          "text": [
            "Epoch 1/100\n",
            "2/2 [==============================] - 1s 15ms/step - loss: 21.0309 - mae: 21.0309\n",
            "Epoch 2/100\n",
            "2/2 [==============================] - 0s 11ms/step - loss: 22.2041 - mae: 22.2041\n",
            "Epoch 3/100\n",
            "2/2 [==============================] - 0s 11ms/step - loss: 27.8990 - mae: 27.8990\n",
            "Epoch 4/100\n",
            "2/2 [==============================] - 0s 11ms/step - loss: 12.6539 - mae: 12.6539\n",
            "Epoch 5/100\n",
            "2/2 [==============================] - 0s 9ms/step - loss: 15.6062 - mae: 15.6062\n",
            "Epoch 6/100\n",
            "2/2 [==============================] - 0s 8ms/step - loss: 12.3747 - mae: 12.3747\n",
            "Epoch 7/100\n",
            "2/2 [==============================] - 0s 9ms/step - loss: 11.6519 - mae: 11.6519\n",
            "Epoch 8/100\n",
            "2/2 [==============================] - 0s 9ms/step - loss: 12.0475 - mae: 12.0475\n",
            "Epoch 9/100\n",
            "2/2 [==============================] - 0s 7ms/step - loss: 37.7313 - mae: 37.7313\n",
            "Epoch 10/100\n",
            "2/2 [==============================] - 0s 8ms/step - loss: 25.3632 - mae: 25.3632\n",
            "Epoch 11/100\n",
            "2/2 [==============================] - 0s 8ms/step - loss: 10.2366 - mae: 10.2366\n",
            "Epoch 12/100\n",
            "2/2 [==============================] - 0s 10ms/step - loss: 25.3633 - mae: 25.3633\n",
            "Epoch 13/100\n",
            "2/2 [==============================] - 0s 9ms/step - loss: 16.9107 - mae: 16.9107\n",
            "Epoch 14/100\n",
            "2/2 [==============================] - 0s 8ms/step - loss: 25.7963 - mae: 25.7963\n",
            "Epoch 15/100\n",
            "2/2 [==============================] - 0s 8ms/step - loss: 17.6323 - mae: 17.6323\n",
            "Epoch 16/100\n",
            "2/2 [==============================] - 0s 8ms/step - loss: 10.0544 - mae: 10.0544\n",
            "Epoch 17/100\n",
            "2/2 [==============================] - 0s 7ms/step - loss: 18.6428 - mae: 18.6428\n",
            "Epoch 18/100\n",
            "2/2 [==============================] - 0s 7ms/step - loss: 11.7740 - mae: 11.7740\n",
            "Epoch 19/100\n",
            "2/2 [==============================] - 0s 9ms/step - loss: 16.4950 - mae: 16.4950\n",
            "Epoch 20/100\n",
            "2/2 [==============================] - 0s 7ms/step - loss: 8.2236 - mae: 8.2236\n",
            "Epoch 21/100\n",
            "2/2 [==============================] - 0s 11ms/step - loss: 14.4026 - mae: 14.4026\n",
            "Epoch 22/100\n",
            "2/2 [==============================] - 0s 12ms/step - loss: 12.8191 - mae: 12.8191\n",
            "Epoch 23/100\n",
            "2/2 [==============================] - 0s 8ms/step - loss: 15.4506 - mae: 15.4506\n",
            "Epoch 24/100\n",
            "2/2 [==============================] - 0s 8ms/step - loss: 15.2406 - mae: 15.2406\n",
            "Epoch 25/100\n",
            "2/2 [==============================] - 0s 11ms/step - loss: 14.3156 - mae: 14.3156\n",
            "Epoch 26/100\n",
            "2/2 [==============================] - 0s 7ms/step - loss: 19.3106 - mae: 19.3106\n",
            "Epoch 27/100\n",
            "2/2 [==============================] - 0s 8ms/step - loss: 11.4518 - mae: 11.4518\n",
            "Epoch 28/100\n",
            "2/2 [==============================] - 0s 10ms/step - loss: 29.2061 - mae: 29.2061\n",
            "Epoch 29/100\n",
            "2/2 [==============================] - 0s 9ms/step - loss: 9.2364 - mae: 9.2364\n",
            "Epoch 30/100\n",
            "2/2 [==============================] - 0s 10ms/step - loss: 29.9254 - mae: 29.9254\n",
            "Epoch 31/100\n",
            "2/2 [==============================] - 0s 12ms/step - loss: 54.3115 - mae: 54.3115\n",
            "Epoch 32/100\n",
            "2/2 [==============================] - 0s 9ms/step - loss: 9.5750 - mae: 9.5750\n",
            "Epoch 33/100\n",
            "2/2 [==============================] - 0s 7ms/step - loss: 12.1711 - mae: 12.1711\n",
            "Epoch 34/100\n",
            "2/2 [==============================] - 0s 7ms/step - loss: 24.0109 - mae: 24.0109\n",
            "Epoch 35/100\n",
            "2/2 [==============================] - 0s 8ms/step - loss: 11.9886 - mae: 11.9886\n",
            "Epoch 36/100\n",
            "2/2 [==============================] - 0s 10ms/step - loss: 22.3546 - mae: 22.3546\n",
            "Epoch 37/100\n",
            "2/2 [==============================] - 0s 7ms/step - loss: 17.1216 - mae: 17.1216\n",
            "Epoch 38/100\n",
            "2/2 [==============================] - 0s 7ms/step - loss: 10.5526 - mae: 10.5526\n",
            "Epoch 39/100\n",
            "2/2 [==============================] - 0s 6ms/step - loss: 11.0736 - mae: 11.0736\n",
            "Epoch 40/100\n",
            "2/2 [==============================] - 0s 9ms/step - loss: 17.7135 - mae: 17.7135\n",
            "Epoch 41/100\n",
            "2/2 [==============================] - 0s 7ms/step - loss: 10.2648 - mae: 10.2648\n",
            "Epoch 42/100\n",
            "2/2 [==============================] - 0s 7ms/step - loss: 7.2631 - mae: 7.2631\n",
            "Epoch 43/100\n",
            "2/2 [==============================] - 0s 10ms/step - loss: 18.7274 - mae: 18.7274\n",
            "Epoch 44/100\n",
            "2/2 [==============================] - 0s 10ms/step - loss: 19.8344 - mae: 19.8344\n",
            "Epoch 45/100\n",
            "2/2 [==============================] - 0s 7ms/step - loss: 10.0170 - mae: 10.0170\n",
            "Epoch 46/100\n",
            "2/2 [==============================] - 0s 10ms/step - loss: 11.2385 - mae: 11.2385\n",
            "Epoch 47/100\n",
            "2/2 [==============================] - 0s 9ms/step - loss: 9.8534 - mae: 9.8534\n",
            "Epoch 48/100\n",
            "2/2 [==============================] - 0s 9ms/step - loss: 17.7008 - mae: 17.7008\n",
            "Epoch 49/100\n",
            "2/2 [==============================] - 0s 7ms/step - loss: 9.2484 - mae: 9.2484\n",
            "Epoch 50/100\n",
            "2/2 [==============================] - 0s 8ms/step - loss: 13.2473 - mae: 13.2473\n",
            "Epoch 51/100\n",
            "2/2 [==============================] - 0s 9ms/step - loss: 11.3729 - mae: 11.3729\n",
            "Epoch 52/100\n",
            "2/2 [==============================] - 0s 7ms/step - loss: 29.0155 - mae: 29.0155\n",
            "Epoch 53/100\n",
            "2/2 [==============================] - 0s 8ms/step - loss: 14.3274 - mae: 14.3274\n",
            "Epoch 54/100\n",
            "2/2 [==============================] - 0s 12ms/step - loss: 23.9300 - mae: 23.9300\n",
            "Epoch 55/100\n",
            "2/2 [==============================] - 0s 11ms/step - loss: 23.1474 - mae: 23.1474\n",
            "Epoch 56/100\n",
            "2/2 [==============================] - 0s 9ms/step - loss: 10.8624 - mae: 10.8624\n",
            "Epoch 57/100\n",
            "2/2 [==============================] - 0s 8ms/step - loss: 12.7200 - mae: 12.7200\n",
            "Epoch 58/100\n",
            "2/2 [==============================] - 0s 8ms/step - loss: 9.5841 - mae: 9.5841\n",
            "Epoch 59/100\n",
            "2/2 [==============================] - 0s 9ms/step - loss: 12.4983 - mae: 12.4983\n",
            "Epoch 60/100\n",
            "2/2 [==============================] - 0s 8ms/step - loss: 12.3038 - mae: 12.3038\n",
            "Epoch 61/100\n",
            "2/2 [==============================] - 0s 8ms/step - loss: 17.4412 - mae: 17.4412\n",
            "Epoch 62/100\n",
            "2/2 [==============================] - 0s 8ms/step - loss: 10.5921 - mae: 10.5921\n",
            "Epoch 63/100\n",
            "2/2 [==============================] - 0s 9ms/step - loss: 10.4787 - mae: 10.4787\n",
            "Epoch 64/100\n",
            "2/2 [==============================] - 0s 7ms/step - loss: 24.8323 - mae: 24.8323\n",
            "Epoch 65/100\n",
            "2/2 [==============================] - 0s 7ms/step - loss: 10.6660 - mae: 10.6660\n",
            "Epoch 66/100\n",
            "2/2 [==============================] - 0s 7ms/step - loss: 21.7730 - mae: 21.7730\n",
            "Epoch 67/100\n",
            "2/2 [==============================] - 0s 9ms/step - loss: 10.7047 - mae: 10.7047\n",
            "Epoch 68/100\n",
            "2/2 [==============================] - 0s 8ms/step - loss: 10.6319 - mae: 10.6319\n",
            "Epoch 69/100\n",
            "2/2 [==============================] - 0s 11ms/step - loss: 22.6952 - mae: 22.6952\n",
            "Epoch 70/100\n",
            "2/2 [==============================] - 0s 11ms/step - loss: 9.3267 - mae: 9.3267\n",
            "Epoch 71/100\n",
            "2/2 [==============================] - 0s 12ms/step - loss: 15.4290 - mae: 15.4290\n",
            "Epoch 72/100\n",
            "2/2 [==============================] - 0s 13ms/step - loss: 6.7360 - mae: 6.7360\n",
            "Epoch 73/100\n",
            "2/2 [==============================] - 0s 13ms/step - loss: 11.6854 - mae: 11.6854\n",
            "Epoch 74/100\n",
            "2/2 [==============================] - 0s 10ms/step - loss: 24.0610 - mae: 24.0610\n",
            "Epoch 75/100\n",
            "2/2 [==============================] - 0s 7ms/step - loss: 9.5892 - mae: 9.5892\n",
            "Epoch 76/100\n",
            "2/2 [==============================] - 0s 10ms/step - loss: 12.4386 - mae: 12.4386\n",
            "Epoch 77/100\n",
            "2/2 [==============================] - 0s 8ms/step - loss: 16.6684 - mae: 16.6684\n",
            "Epoch 78/100\n",
            "2/2 [==============================] - 0s 9ms/step - loss: 9.0578 - mae: 9.0578\n",
            "Epoch 79/100\n",
            "2/2 [==============================] - 0s 8ms/step - loss: 23.9991 - mae: 23.9991\n",
            "Epoch 80/100\n",
            "2/2 [==============================] - 0s 8ms/step - loss: 26.7843 - mae: 26.7843\n",
            "Epoch 81/100\n",
            "2/2 [==============================] - 0s 9ms/step - loss: 11.6835 - mae: 11.6835\n",
            "Epoch 82/100\n",
            "2/2 [==============================] - 0s 7ms/step - loss: 12.0086 - mae: 12.0086\n",
            "Epoch 83/100\n",
            "2/2 [==============================] - 0s 10ms/step - loss: 17.4011 - mae: 17.4011\n",
            "Epoch 84/100\n",
            "2/2 [==============================] - 0s 9ms/step - loss: 7.2543 - mae: 7.2543\n",
            "Epoch 85/100\n",
            "2/2 [==============================] - 0s 7ms/step - loss: 14.9469 - mae: 14.9469\n",
            "Epoch 86/100\n",
            "2/2 [==============================] - 0s 9ms/step - loss: 15.2708 - mae: 15.2708\n",
            "Epoch 87/100\n",
            "2/2 [==============================] - 0s 12ms/step - loss: 19.0794 - mae: 19.0794\n",
            "Epoch 88/100\n",
            "2/2 [==============================] - 0s 9ms/step - loss: 29.8970 - mae: 29.8970\n",
            "Epoch 89/100\n",
            "2/2 [==============================] - 0s 8ms/step - loss: 10.1801 - mae: 10.1801\n",
            "Epoch 90/100\n",
            "2/2 [==============================] - 0s 8ms/step - loss: 21.5887 - mae: 21.5887\n",
            "Epoch 91/100\n",
            "2/2 [==============================] - 0s 10ms/step - loss: 10.5828 - mae: 10.5828\n",
            "Epoch 92/100\n",
            "2/2 [==============================] - 0s 8ms/step - loss: 18.4585 - mae: 18.4585\n",
            "Epoch 93/100\n",
            "2/2 [==============================] - 0s 10ms/step - loss: 7.4147 - mae: 7.4147\n",
            "Epoch 94/100\n",
            "2/2 [==============================] - 0s 9ms/step - loss: 17.7958 - mae: 17.7958\n",
            "Epoch 95/100\n",
            "2/2 [==============================] - 0s 8ms/step - loss: 11.1338 - mae: 11.1338\n",
            "Epoch 96/100\n",
            "2/2 [==============================] - 0s 11ms/step - loss: 19.4947 - mae: 19.4947\n",
            "Epoch 97/100\n",
            "2/2 [==============================] - 0s 7ms/step - loss: 12.5176 - mae: 12.5176\n",
            "Epoch 98/100\n",
            "2/2 [==============================] - 0s 8ms/step - loss: 10.3038 - mae: 10.3038\n",
            "Epoch 99/100\n",
            "2/2 [==============================] - 0s 10ms/step - loss: 13.8546 - mae: 13.8546\n",
            "Epoch 100/100\n",
            "2/2 [==============================] - 0s 7ms/step - loss: 20.1816 - mae: 20.1816\n"
          ]
        },
        {
          "output_type": "execute_result",
          "data": {
            "text/plain": [
              "<keras.src.callbacks.History at 0x7dd82afcfd00>"
            ]
          },
          "metadata": {},
          "execution_count": 128
        }
      ]
    },
    {
      "cell_type": "code",
      "source": [
        "y_preds_2 = model_2.predict(X_test)\n",
        "\n",
        "y_preds_2"
      ],
      "metadata": {
        "colab": {
          "base_uri": "https://localhost:8080/"
        },
        "id": "3e4gZ8cx2qv5",
        "outputId": "0baae069-ed38-4fe1-9fa3-f78a5ff2ce6e"
      },
      "execution_count": 129,
      "outputs": [
        {
          "output_type": "stream",
          "name": "stdout",
          "text": [
            "1/1 [==============================] - 0s 56ms/step\n"
          ]
        },
        {
          "output_type": "execute_result",
          "data": {
            "text/plain": [
              "array([[ 70.47636 ],\n",
              "       [ 75.05885 ],\n",
              "       [ 79.64134 ],\n",
              "       [ 84.22384 ],\n",
              "       [ 88.80632 ],\n",
              "       [ 93.388824],\n",
              "       [ 97.97131 ],\n",
              "       [102.5538  ],\n",
              "       [107.13629 ],\n",
              "       [111.71879 ]], dtype=float32)"
            ]
          },
          "metadata": {},
          "execution_count": 129
        }
      ]
    },
    {
      "cell_type": "code",
      "source": [
        "# Make and plot predictions\n",
        "plot_predictions(predictions=y_preds_2)"
      ],
      "metadata": {
        "colab": {
          "base_uri": "https://localhost:8080/",
          "height": 599
        },
        "id": "VWyt1ZutkFJW",
        "outputId": "68fd20c3-1a81-46d9-ed2b-45789e8cb8c0"
      },
      "execution_count": 130,
      "outputs": [
        {
          "output_type": "display_data",
          "data": {
            "text/plain": [
              "<Figure size 1000x700 with 1 Axes>"
            ],
            "image/png": "[encoded data removed]"
          },
          "metadata": {}
        }
      ]
    },
    {
      "cell_type": "code",
      "source": [
        "# Calculate model 2 evaluation metrics\n",
        "\n",
        "mae_2 = mae(y_test, tf.squeeze(y_preds_2))\n",
        "mse_2 = mse(y_test, tf.squeeze(y_preds_2))\n",
        "\n",
        "mae_2, mse_2"
      ],
      "metadata": {
        "colab": {
          "base_uri": "https://localhost:8080/"
        },
        "id": "_qk_lSUskFGm",
        "outputId": "0511a8f3-f3e7-4d3a-95f5-4336498f17ac"
      },
      "execution_count": 101,
      "outputs": [
        {
          "output_type": "execute_result",
          "data": {
            "text/plain": [
              "(<tf.Tensor: shape=(), dtype=float32, numpy=3.0016618>,\n",
              " <tf.Tensor: shape=(), dtype=float32, numpy=11.774309>)"
            ]
          },
          "metadata": {},
          "execution_count": 101
        }
      ]
    },
    {
      "cell_type": "markdown",
      "source": [
        "** Build `model_3`**\n",
        "* 2 dense layers, trained for 500 epochs\n"
      ],
      "metadata": {
        "id": "WL4Ikffs5SDX"
      }
    },
    {
      "cell_type": "code",
      "source": [
        "# Set random seed\n",
        "tf.random.set_seed(42)\n",
        "\n",
        "model_3 = tf.keras.Sequential([\n",
        "    tf.keras.layers.Dense(10),\n",
        "    tf.keras.layers.Dense(1)\n",
        "])\n",
        "\n",
        "model_3.compile(loss=tf.keras.losses.mae,\n",
        "                optimizer=tf.keras.optimizers.SGD(),\n",
        "                metrics=[\"mae\"])\n",
        "\n",
        "model_3.fit(tf.reshape(X_train, (-1, 1)), y_train, epochs=500)"
      ],
      "metadata": {
        "colab": {
          "base_uri": "https://localhost:8080/"
        },
        "id": "JKpwxTeGkFEA",
        "outputId": "98edbe39-8303-4ee4-bb5c-a207ba055562"
      },
      "execution_count": 103,
      "outputs": [
        {
          "output_type": "stream",
          "name": "stdout",
          "text": [
            "Epoch 1/500\n",
            "2/2 [==============================] - 1s 12ms/step - loss: 25.4899 - mae: 25.4899\n",
            "Epoch 2/500\n",
            "2/2 [==============================] - 0s 8ms/step - loss: 24.1843 - mae: 24.1843\n",
            "Epoch 3/500\n",
            "2/2 [==============================] - 0s 9ms/step - loss: 29.0445 - mae: 29.0445\n",
            "Epoch 4/500\n",
            "2/2 [==============================] - 0s 9ms/step - loss: 19.9866 - mae: 19.9866\n",
            "Epoch 5/500\n",
            "2/2 [==============================] - 0s 7ms/step - loss: 13.4795 - mae: 13.4795\n",
            "Epoch 6/500\n",
            "2/2 [==============================] - 0s 7ms/step - loss: 10.8710 - mae: 10.8710\n",
            "Epoch 7/500\n",
            "2/2 [==============================] - 0s 7ms/step - loss: 11.8564 - mae: 11.8564\n",
            "Epoch 8/500\n",
            "2/2 [==============================] - 0s 8ms/step - loss: 10.8147 - mae: 10.8147\n",
            "Epoch 9/500\n",
            "2/2 [==============================] - 0s 7ms/step - loss: 36.9657 - mae: 36.9657\n",
            "Epoch 10/500\n",
            "2/2 [==============================] - 0s 7ms/step - loss: 24.7171 - mae: 24.7171\n",
            "Epoch 11/500\n",
            "2/2 [==============================] - 0s 7ms/step - loss: 11.0326 - mae: 11.0326\n",
            "Epoch 12/500\n",
            "2/2 [==============================] - 0s 7ms/step - loss: 24.4876 - mae: 24.4876\n",
            "Epoch 13/500\n",
            "2/2 [==============================] - 0s 7ms/step - loss: 19.1665 - mae: 19.1665\n",
            "Epoch 14/500\n",
            "2/2 [==============================] - 0s 8ms/step - loss: 23.3580 - mae: 23.3580\n",
            "Epoch 15/500\n",
            "2/2 [==============================] - 0s 7ms/step - loss: 15.1906 - mae: 15.1906\n",
            "Epoch 16/500\n",
            "2/2 [==============================] - 0s 7ms/step - loss: 11.3219 - mae: 11.3219\n",
            "Epoch 17/500\n",
            "2/2 [==============================] - 0s 7ms/step - loss: 23.1016 - mae: 23.1016\n",
            "Epoch 18/500\n",
            "2/2 [==============================] - 0s 7ms/step - loss: 11.7380 - mae: 11.7380\n",
            "Epoch 19/500\n",
            "2/2 [==============================] - 0s 7ms/step - loss: 16.3986 - mae: 16.3986\n",
            "Epoch 20/500\n",
            "2/2 [==============================] - 0s 7ms/step - loss: 8.2410 - mae: 8.2410\n",
            "Epoch 21/500\n",
            "2/2 [==============================] - 0s 8ms/step - loss: 14.4457 - mae: 14.4457\n",
            "Epoch 22/500\n",
            "2/2 [==============================] - 0s 7ms/step - loss: 12.8644 - mae: 12.8644\n",
            "Epoch 23/500\n",
            "2/2 [==============================] - 0s 7ms/step - loss: 15.4952 - mae: 15.4952\n",
            "Epoch 24/500\n",
            "2/2 [==============================] - 0s 8ms/step - loss: 15.2859 - mae: 15.2859\n",
            "Epoch 25/500\n",
            "2/2 [==============================] - 0s 7ms/step - loss: 14.3492 - mae: 14.3492\n",
            "Epoch 26/500\n",
            "2/2 [==============================] - 0s 10ms/step - loss: 19.3674 - mae: 19.3674\n",
            "Epoch 27/500\n",
            "2/2 [==============================] - 0s 9ms/step - loss: 11.4329 - mae: 11.4329\n",
            "Epoch 28/500\n",
            "2/2 [==============================] - 0s 8ms/step - loss: 29.0236 - mae: 29.0236\n",
            "Epoch 29/500\n",
            "2/2 [==============================] - 0s 10ms/step - loss: 9.2440 - mae: 9.2440\n",
            "Epoch 30/500\n",
            "2/2 [==============================] - 0s 7ms/step - loss: 29.7781 - mae: 29.7781\n",
            "Epoch 31/500\n",
            "2/2 [==============================] - 0s 7ms/step - loss: 54.0243 - mae: 54.0243\n",
            "Epoch 32/500\n",
            "2/2 [==============================] - 0s 7ms/step - loss: 9.5495 - mae: 9.5495\n",
            "Epoch 33/500\n",
            "2/2 [==============================] - 0s 7ms/step - loss: 12.1395 - mae: 12.1395\n",
            "Epoch 34/500\n",
            "2/2 [==============================] - 0s 8ms/step - loss: 23.8359 - mae: 23.8359\n",
            "Epoch 35/500\n",
            "2/2 [==============================] - 0s 8ms/step - loss: 12.6267 - mae: 12.6267\n",
            "Epoch 36/500\n",
            "2/2 [==============================] - 0s 8ms/step - loss: 21.5530 - mae: 21.5530\n",
            "Epoch 37/500\n",
            "2/2 [==============================] - 0s 7ms/step - loss: 11.3517 - mae: 11.3517\n",
            "Epoch 38/500\n",
            "2/2 [==============================] - 0s 8ms/step - loss: 13.4253 - mae: 13.4253\n",
            "Epoch 39/500\n",
            "2/2 [==============================] - 0s 8ms/step - loss: 10.7672 - mae: 10.7672\n",
            "Epoch 40/500\n",
            "2/2 [==============================] - 0s 8ms/step - loss: 16.5505 - mae: 16.5505\n",
            "Epoch 41/500\n",
            "2/2 [==============================] - 0s 10ms/step - loss: 10.9444 - mae: 10.9444\n",
            "Epoch 42/500\n",
            "2/2 [==============================] - 0s 7ms/step - loss: 9.2786 - mae: 9.2786\n",
            "Epoch 43/500\n",
            "2/2 [==============================] - 0s 7ms/step - loss: 9.5821 - mae: 9.5821\n",
            "Epoch 44/500\n",
            "2/2 [==============================] - 0s 8ms/step - loss: 27.9423 - mae: 27.9423\n",
            "Epoch 45/500\n",
            "2/2 [==============================] - 0s 7ms/step - loss: 11.2643 - mae: 11.2643\n",
            "Epoch 46/500\n",
            "2/2 [==============================] - 0s 9ms/step - loss: 14.0346 - mae: 14.0346\n",
            "Epoch 47/500\n",
            "2/2 [==============================] - 0s 8ms/step - loss: 13.5101 - mae: 13.5101\n",
            "Epoch 48/500\n",
            "2/2 [==============================] - 0s 9ms/step - loss: 17.3507 - mae: 17.3507\n",
            "Epoch 49/500\n",
            "2/2 [==============================] - 0s 7ms/step - loss: 9.5010 - mae: 9.5010\n",
            "Epoch 50/500\n",
            "2/2 [==============================] - 0s 7ms/step - loss: 13.6849 - mae: 13.6849\n",
            "Epoch 51/500\n",
            "2/2 [==============================] - 0s 8ms/step - loss: 11.5485 - mae: 11.5485\n",
            "Epoch 52/500\n",
            "2/2 [==============================] - 0s 7ms/step - loss: 30.1947 - mae: 30.1947\n",
            "Epoch 53/500\n",
            "2/2 [==============================] - 0s 7ms/step - loss: 13.7165 - mae: 13.7165\n",
            "Epoch 54/500\n",
            "2/2 [==============================] - 0s 7ms/step - loss: 26.4194 - mae: 26.4194\n",
            "Epoch 55/500\n",
            "2/2 [==============================] - 0s 7ms/step - loss: 26.0060 - mae: 26.0060\n",
            "Epoch 56/500\n",
            "2/2 [==============================] - 0s 7ms/step - loss: 11.2252 - mae: 11.2252\n",
            "Epoch 57/500\n",
            "2/2 [==============================] - 0s 7ms/step - loss: 13.2036 - mae: 13.2036\n",
            "Epoch 58/500\n",
            "2/2 [==============================] - 0s 7ms/step - loss: 9.8602 - mae: 9.8602\n",
            "Epoch 59/500\n",
            "2/2 [==============================] - 0s 8ms/step - loss: 13.4010 - mae: 13.4010\n",
            "Epoch 60/500\n",
            "2/2 [==============================] - 0s 8ms/step - loss: 10.9269 - mae: 10.9269\n",
            "Epoch 61/500\n",
            "2/2 [==============================] - 0s 8ms/step - loss: 13.5534 - mae: 13.5534\n",
            "Epoch 62/500\n",
            "2/2 [==============================] - 0s 8ms/step - loss: 17.8815 - mae: 17.8815\n",
            "Epoch 63/500\n",
            "2/2 [==============================] - 0s 8ms/step - loss: 8.7316 - mae: 8.7316\n",
            "Epoch 64/500\n",
            "2/2 [==============================] - 0s 7ms/step - loss: 16.1401 - mae: 16.1401\n",
            "Epoch 65/500\n",
            "2/2 [==============================] - 0s 7ms/step - loss: 10.7410 - mae: 10.7410\n",
            "Epoch 66/500\n",
            "2/2 [==============================] - 0s 7ms/step - loss: 22.2010 - mae: 22.2010\n",
            "Epoch 67/500\n",
            "2/2 [==============================] - 0s 7ms/step - loss: 10.2657 - mae: 10.2657\n",
            "Epoch 68/500\n",
            "2/2 [==============================] - 0s 7ms/step - loss: 13.4773 - mae: 13.4773\n",
            "Epoch 69/500\n",
            "2/2 [==============================] - 0s 8ms/step - loss: 11.4346 - mae: 11.4346\n",
            "Epoch 70/500\n",
            "2/2 [==============================] - 0s 7ms/step - loss: 13.6210 - mae: 13.6210\n",
            "Epoch 71/500\n",
            "2/2 [==============================] - 0s 7ms/step - loss: 15.6434 - mae: 15.6434\n",
            "Epoch 72/500\n",
            "2/2 [==============================] - 0s 7ms/step - loss: 11.8566 - mae: 11.8566\n",
            "Epoch 73/500\n",
            "2/2 [==============================] - 0s 7ms/step - loss: 16.6455 - mae: 16.6455\n",
            "Epoch 74/500\n",
            "2/2 [==============================] - 0s 7ms/step - loss: 24.1945 - mae: 24.1945\n",
            "Epoch 75/500\n",
            "2/2 [==============================] - 0s 7ms/step - loss: 9.6377 - mae: 9.6377\n",
            "Epoch 76/500\n",
            "2/2 [==============================] - 0s 7ms/step - loss: 12.4928 - mae: 12.4928\n",
            "Epoch 77/500\n",
            "2/2 [==============================] - 0s 8ms/step - loss: 16.7559 - mae: 16.7559\n",
            "Epoch 78/500\n",
            "2/2 [==============================] - 0s 7ms/step - loss: 9.0839 - mae: 9.0839\n",
            "Epoch 79/500\n",
            "2/2 [==============================] - 0s 6ms/step - loss: 24.0942 - mae: 24.0942\n",
            "Epoch 80/500\n",
            "2/2 [==============================] - 0s 8ms/step - loss: 26.8998 - mae: 26.8998\n",
            "Epoch 81/500\n",
            "2/2 [==============================] - 0s 7ms/step - loss: 11.7503 - mae: 11.7503\n",
            "Epoch 82/500\n",
            "2/2 [==============================] - 0s 7ms/step - loss: 11.9848 - mae: 11.9848\n",
            "Epoch 83/500\n",
            "2/2 [==============================] - 0s 7ms/step - loss: 17.3689 - mae: 17.3689\n",
            "Epoch 84/500\n",
            "2/2 [==============================] - 0s 8ms/step - loss: 7.2621 - mae: 7.2621\n",
            "Epoch 85/500\n",
            "2/2 [==============================] - 0s 8ms/step - loss: 14.9274 - mae: 14.9274\n",
            "Epoch 86/500\n",
            "2/2 [==============================] - 0s 8ms/step - loss: 15.2572 - mae: 15.2572\n",
            "Epoch 87/500\n",
            "2/2 [==============================] - 0s 7ms/step - loss: 19.0458 - mae: 19.0458\n",
            "Epoch 88/500\n",
            "2/2 [==============================] - 0s 7ms/step - loss: 29.9901 - mae: 29.9901\n",
            "Epoch 89/500\n",
            "2/2 [==============================] - 0s 8ms/step - loss: 10.2081 - mae: 10.2081\n",
            "Epoch 90/500\n",
            "2/2 [==============================] - 0s 14ms/step - loss: 21.6587 - mae: 21.6587\n",
            "Epoch 91/500\n",
            "2/2 [==============================] - 0s 8ms/step - loss: 10.6127 - mae: 10.6127\n",
            "Epoch 92/500\n",
            "2/2 [==============================] - 0s 10ms/step - loss: 18.5176 - mae: 18.5176\n",
            "Epoch 93/500\n",
            "2/2 [==============================] - 0s 8ms/step - loss: 8.1640 - mae: 8.1640\n",
            "Epoch 94/500\n",
            "2/2 [==============================] - 0s 8ms/step - loss: 11.3744 - mae: 11.3744\n",
            "Epoch 95/500\n",
            "2/2 [==============================] - 0s 8ms/step - loss: 25.4338 - mae: 25.4338\n",
            "Epoch 96/500\n",
            "2/2 [==============================] - 0s 8ms/step - loss: 10.9951 - mae: 10.9951\n",
            "Epoch 97/500\n",
            "2/2 [==============================] - 0s 8ms/step - loss: 16.3039 - mae: 16.3039\n",
            "Epoch 98/500\n",
            "2/2 [==============================] - 0s 8ms/step - loss: 7.0865 - mae: 7.0865\n",
            "Epoch 99/500\n",
            "2/2 [==============================] - 0s 7ms/step - loss: 9.8998 - mae: 9.8998\n",
            "Epoch 100/500\n",
            "2/2 [==============================] - 0s 7ms/step - loss: 19.4013 - mae: 19.4013\n",
            "Epoch 101/500\n",
            "2/2 [==============================] - 0s 8ms/step - loss: 16.0771 - mae: 16.0771\n",
            "Epoch 102/500\n",
            "2/2 [==============================] - 0s 7ms/step - loss: 11.1842 - mae: 11.1842\n",
            "Epoch 103/500\n",
            "2/2 [==============================] - 0s 8ms/step - loss: 9.3152 - mae: 9.3152\n",
            "Epoch 104/500\n",
            "2/2 [==============================] - 0s 8ms/step - loss: 24.9868 - mae: 24.9868\n",
            "Epoch 105/500\n",
            "2/2 [==============================] - 0s 8ms/step - loss: 11.9883 - mae: 11.9883\n",
            "Epoch 106/500\n",
            "2/2 [==============================] - 0s 7ms/step - loss: 10.0796 - mae: 10.0796\n",
            "Epoch 107/500\n",
            "2/2 [==============================] - 0s 7ms/step - loss: 22.5609 - mae: 22.5609\n",
            "Epoch 108/500\n",
            "2/2 [==============================] - 0s 9ms/step - loss: 8.1263 - mae: 8.1263\n",
            "Epoch 109/500\n",
            "2/2 [==============================] - 0s 7ms/step - loss: 13.3579 - mae: 13.3579\n",
            "Epoch 110/500\n",
            "2/2 [==============================] - 0s 7ms/step - loss: 7.9729 - mae: 7.9729\n",
            "Epoch 111/500\n",
            "2/2 [==============================] - 0s 7ms/step - loss: 15.7316 - mae: 15.7316\n",
            "Epoch 112/500\n",
            "2/2 [==============================] - 0s 7ms/step - loss: 8.7499 - mae: 8.7499\n",
            "Epoch 113/500\n",
            "2/2 [==============================] - 0s 7ms/step - loss: 22.7306 - mae: 22.7306\n",
            "Epoch 114/500\n",
            "2/2 [==============================] - 0s 7ms/step - loss: 19.0732 - mae: 19.0732\n",
            "Epoch 115/500\n",
            "2/2 [==============================] - 0s 7ms/step - loss: 11.0980 - mae: 11.0980\n",
            "Epoch 116/500\n",
            "2/2 [==============================] - 0s 7ms/step - loss: 23.1861 - mae: 23.1861\n",
            "Epoch 117/500\n",
            "2/2 [==============================] - 0s 7ms/step - loss: 9.5868 - mae: 9.5868\n",
            "Epoch 118/500\n",
            "2/2 [==============================] - 0s 8ms/step - loss: 10.6547 - mae: 10.6547\n",
            "Epoch 119/500\n",
            "2/2 [==============================] - 0s 7ms/step - loss: 8.0400 - mae: 8.0400\n",
            "Epoch 120/500\n",
            "2/2 [==============================] - 0s 7ms/step - loss: 29.5254 - mae: 29.5254\n",
            "Epoch 121/500\n",
            "2/2 [==============================] - 0s 9ms/step - loss: 8.0764 - mae: 8.0764\n",
            "Epoch 122/500\n",
            "2/2 [==============================] - 0s 7ms/step - loss: 28.1740 - mae: 28.1740\n",
            "Epoch 123/500\n",
            "2/2 [==============================] - 0s 7ms/step - loss: 32.7347 - mae: 32.7347\n",
            "Epoch 124/500\n",
            "2/2 [==============================] - 0s 8ms/step - loss: 19.5071 - mae: 19.5071\n",
            "Epoch 125/500\n",
            "2/2 [==============================] - 0s 7ms/step - loss: 9.5704 - mae: 9.5704\n",
            "Epoch 126/500\n",
            "2/2 [==============================] - 0s 7ms/step - loss: 9.6361 - mae: 9.6361\n",
            "Epoch 127/500\n",
            "2/2 [==============================] - 0s 8ms/step - loss: 12.8217 - mae: 12.8217\n",
            "Epoch 128/500\n",
            "2/2 [==============================] - 0s 7ms/step - loss: 13.3607 - mae: 13.3607\n",
            "Epoch 129/500\n",
            "2/2 [==============================] - 0s 7ms/step - loss: 10.2035 - mae: 10.2035\n",
            "Epoch 130/500\n",
            "2/2 [==============================] - 0s 7ms/step - loss: 17.5244 - mae: 17.5244\n",
            "Epoch 131/500\n",
            "2/2 [==============================] - 0s 7ms/step - loss: 9.5154 - mae: 9.5154\n",
            "Epoch 132/500\n",
            "2/2 [==============================] - 0s 8ms/step - loss: 17.4300 - mae: 17.4300\n",
            "Epoch 133/500\n",
            "2/2 [==============================] - 0s 7ms/step - loss: 7.1024 - mae: 7.1024\n",
            "Epoch 134/500\n",
            "2/2 [==============================] - 0s 7ms/step - loss: 23.8211 - mae: 23.8211\n",
            "Epoch 135/500\n",
            "2/2 [==============================] - 0s 7ms/step - loss: 16.6817 - mae: 16.6817\n",
            "Epoch 136/500\n",
            "2/2 [==============================] - 0s 8ms/step - loss: 14.8928 - mae: 14.8928\n",
            "Epoch 137/500\n",
            "2/2 [==============================] - 0s 8ms/step - loss: 23.1950 - mae: 23.1950\n",
            "Epoch 138/500\n",
            "2/2 [==============================] - 0s 8ms/step - loss: 9.1501 - mae: 9.1501\n",
            "Epoch 139/500\n",
            "2/2 [==============================] - 0s 8ms/step - loss: 8.9280 - mae: 8.9280\n",
            "Epoch 140/500\n",
            "2/2 [==============================] - 0s 8ms/step - loss: 16.4960 - mae: 16.4960\n",
            "Epoch 141/500\n",
            "2/2 [==============================] - 0s 7ms/step - loss: 8.4253 - mae: 8.4253\n",
            "Epoch 142/500\n",
            "2/2 [==============================] - 0s 6ms/step - loss: 36.9936 - mae: 36.9936\n",
            "Epoch 143/500\n",
            "2/2 [==============================] - 0s 7ms/step - loss: 25.6167 - mae: 25.6167\n",
            "Epoch 144/500\n",
            "2/2 [==============================] - 0s 7ms/step - loss: 9.5411 - mae: 9.5411\n",
            "Epoch 145/500\n",
            "2/2 [==============================] - 0s 7ms/step - loss: 26.5963 - mae: 26.5963\n",
            "Epoch 146/500\n",
            "2/2 [==============================] - 0s 7ms/step - loss: 8.7434 - mae: 8.7434\n",
            "Epoch 147/500\n",
            "2/2 [==============================] - 0s 7ms/step - loss: 15.6105 - mae: 15.6105\n",
            "Epoch 148/500\n",
            "2/2 [==============================] - 0s 7ms/step - loss: 18.2952 - mae: 18.2952\n",
            "Epoch 149/500\n",
            "2/2 [==============================] - 0s 7ms/step - loss: 8.2135 - mae: 8.2135\n",
            "Epoch 150/500\n",
            "2/2 [==============================] - 0s 7ms/step - loss: 7.5040 - mae: 7.5040\n",
            "Epoch 151/500\n",
            "2/2 [==============================] - 0s 8ms/step - loss: 18.3657 - mae: 18.3657\n",
            "Epoch 152/500\n",
            "2/2 [==============================] - 0s 11ms/step - loss: 10.3001 - mae: 10.3001\n",
            "Epoch 153/500\n",
            "2/2 [==============================] - 0s 8ms/step - loss: 29.6858 - mae: 29.6858\n",
            "Epoch 154/500\n",
            "2/2 [==============================] - 0s 11ms/step - loss: 10.5493 - mae: 10.5493\n",
            "Epoch 155/500\n",
            "2/2 [==============================] - 0s 7ms/step - loss: 15.4475 - mae: 15.4475\n",
            "Epoch 156/500\n",
            "2/2 [==============================] - 0s 7ms/step - loss: 17.0009 - mae: 17.0009\n",
            "Epoch 157/500\n",
            "2/2 [==============================] - 0s 9ms/step - loss: 32.8666 - mae: 32.8666\n",
            "Epoch 158/500\n",
            "2/2 [==============================] - 0s 8ms/step - loss: 10.7216 - mae: 10.7216\n",
            "Epoch 159/500\n",
            "2/2 [==============================] - 0s 7ms/step - loss: 8.9154 - mae: 8.9154\n",
            "Epoch 160/500\n",
            "2/2 [==============================] - 0s 7ms/step - loss: 22.1659 - mae: 22.1659\n",
            "Epoch 161/500\n",
            "2/2 [==============================] - 0s 7ms/step - loss: 11.7272 - mae: 11.7272\n",
            "Epoch 162/500\n",
            "2/2 [==============================] - 0s 7ms/step - loss: 21.6048 - mae: 21.6048\n",
            "Epoch 163/500\n",
            "2/2 [==============================] - 0s 7ms/step - loss: 19.2793 - mae: 19.2793\n",
            "Epoch 164/500\n",
            "2/2 [==============================] - 0s 7ms/step - loss: 11.0381 - mae: 11.0381\n",
            "Epoch 165/500\n",
            "2/2 [==============================] - 0s 7ms/step - loss: 9.6148 - mae: 9.6148\n",
            "Epoch 166/500\n",
            "2/2 [==============================] - 0s 7ms/step - loss: 21.5749 - mae: 21.5749\n",
            "Epoch 167/500\n",
            "2/2 [==============================] - 0s 7ms/step - loss: 26.3260 - mae: 26.3260\n",
            "Epoch 168/500\n",
            "2/2 [==============================] - 0s 10ms/step - loss: 9.8640 - mae: 9.8640\n",
            "Epoch 169/500\n",
            "2/2 [==============================] - 0s 9ms/step - loss: 22.6039 - mae: 22.6039\n",
            "Epoch 170/500\n",
            "2/2 [==============================] - 0s 7ms/step - loss: 10.1453 - mae: 10.1453\n",
            "Epoch 171/500\n",
            "2/2 [==============================] - 0s 7ms/step - loss: 18.0290 - mae: 18.0290\n",
            "Epoch 172/500\n",
            "2/2 [==============================] - 0s 10ms/step - loss: 28.8799 - mae: 28.8799\n",
            "Epoch 173/500\n",
            "2/2 [==============================] - 0s 7ms/step - loss: 16.5624 - mae: 16.5624\n",
            "Epoch 174/500\n",
            "2/2 [==============================] - 0s 7ms/step - loss: 11.2097 - mae: 11.2097\n",
            "Epoch 175/500\n",
            "2/2 [==============================] - 0s 7ms/step - loss: 27.5726 - mae: 27.5726\n",
            "Epoch 176/500\n",
            "2/2 [==============================] - 0s 8ms/step - loss: 8.2836 - mae: 8.2836\n",
            "Epoch 177/500\n",
            "2/2 [==============================] - 0s 7ms/step - loss: 9.2710 - mae: 9.2710\n",
            "Epoch 178/500\n",
            "2/2 [==============================] - 0s 7ms/step - loss: 18.1817 - mae: 18.1817\n",
            "Epoch 179/500\n",
            "2/2 [==============================] - 0s 7ms/step - loss: 10.5828 - mae: 10.5828\n",
            "Epoch 180/500\n",
            "2/2 [==============================] - 0s 7ms/step - loss: 7.9092 - mae: 7.9092\n",
            "Epoch 181/500\n",
            "2/2 [==============================] - 0s 7ms/step - loss: 17.4337 - mae: 17.4337\n",
            "Epoch 182/500\n",
            "2/2 [==============================] - 0s 7ms/step - loss: 11.0270 - mae: 11.0270\n",
            "Epoch 183/500\n",
            "2/2 [==============================] - 0s 7ms/step - loss: 11.7193 - mae: 11.7193\n",
            "Epoch 184/500\n",
            "2/2 [==============================] - 0s 7ms/step - loss: 30.4568 - mae: 30.4568\n",
            "Epoch 185/500\n",
            "2/2 [==============================] - 0s 7ms/step - loss: 7.5552 - mae: 7.5552\n",
            "Epoch 186/500\n",
            "2/2 [==============================] - 0s 7ms/step - loss: 15.9754 - mae: 15.9754\n",
            "Epoch 187/500\n",
            "2/2 [==============================] - 0s 8ms/step - loss: 8.5667 - mae: 8.5667\n",
            "Epoch 188/500\n",
            "2/2 [==============================] - 0s 7ms/step - loss: 28.7861 - mae: 28.7861\n",
            "Epoch 189/500\n",
            "2/2 [==============================] - 0s 7ms/step - loss: 13.1593 - mae: 13.1593\n",
            "Epoch 190/500\n",
            "2/2 [==============================] - 0s 7ms/step - loss: 18.2993 - mae: 18.2993\n",
            "Epoch 191/500\n",
            "2/2 [==============================] - 0s 7ms/step - loss: 13.7244 - mae: 13.7244\n",
            "Epoch 192/500\n",
            "2/2 [==============================] - 0s 7ms/step - loss: 13.7067 - mae: 13.7067\n",
            "Epoch 193/500\n",
            "2/2 [==============================] - 0s 7ms/step - loss: 28.5721 - mae: 28.5721\n",
            "Epoch 194/500\n",
            "2/2 [==============================] - 0s 7ms/step - loss: 7.0878 - mae: 7.0878\n",
            "Epoch 195/500\n",
            "2/2 [==============================] - 0s 8ms/step - loss: 7.0578 - mae: 7.0578\n",
            "Epoch 196/500\n",
            "2/2 [==============================] - 0s 7ms/step - loss: 21.9888 - mae: 21.9888\n",
            "Epoch 197/500\n",
            "2/2 [==============================] - 0s 7ms/step - loss: 20.8823 - mae: 20.8823\n",
            "Epoch 198/500\n",
            "2/2 [==============================] - 0s 7ms/step - loss: 12.4948 - mae: 12.4948\n",
            "Epoch 199/500\n",
            "2/2 [==============================] - 0s 7ms/step - loss: 17.9433 - mae: 17.9433\n",
            "Epoch 200/500\n",
            "2/2 [==============================] - 0s 7ms/step - loss: 13.7812 - mae: 13.7812\n",
            "Epoch 201/500\n",
            "2/2 [==============================] - 0s 7ms/step - loss: 5.4710 - mae: 5.4710\n",
            "Epoch 202/500\n",
            "2/2 [==============================] - 0s 7ms/step - loss: 13.7311 - mae: 13.7311\n",
            "Epoch 203/500\n",
            "2/2 [==============================] - 0s 7ms/step - loss: 9.4271 - mae: 9.4271\n",
            "Epoch 204/500\n",
            "2/2 [==============================] - 0s 7ms/step - loss: 21.0216 - mae: 21.0216\n",
            "Epoch 205/500\n",
            "2/2 [==============================] - 0s 6ms/step - loss: 9.5653 - mae: 9.5653\n",
            "Epoch 206/500\n",
            "2/2 [==============================] - 0s 7ms/step - loss: 11.7479 - mae: 11.7479\n",
            "Epoch 207/500\n",
            "2/2 [==============================] - 0s 7ms/step - loss: 14.4072 - mae: 14.4072\n",
            "Epoch 208/500\n",
            "2/2 [==============================] - 0s 7ms/step - loss: 14.8861 - mae: 14.8861\n",
            "Epoch 209/500\n",
            "2/2 [==============================] - 0s 7ms/step - loss: 15.0007 - mae: 15.0007\n",
            "Epoch 210/500\n",
            "2/2 [==============================] - 0s 7ms/step - loss: 17.9386 - mae: 17.9386\n",
            "Epoch 211/500\n",
            "2/2 [==============================] - 0s 7ms/step - loss: 9.8480 - mae: 9.8480\n",
            "Epoch 212/500\n",
            "2/2 [==============================] - 0s 7ms/step - loss: 18.3824 - mae: 18.3824\n",
            "Epoch 213/500\n",
            "2/2 [==============================] - 0s 7ms/step - loss: 15.0264 - mae: 15.0264\n",
            "Epoch 214/500\n",
            "2/2 [==============================] - 0s 7ms/step - loss: 14.5796 - mae: 14.5796\n",
            "Epoch 215/500\n",
            "2/2 [==============================] - 0s 7ms/step - loss: 23.2839 - mae: 23.2839\n",
            "Epoch 216/500\n",
            "2/2 [==============================] - 0s 7ms/step - loss: 13.3920 - mae: 13.3920\n",
            "Epoch 217/500\n",
            "2/2 [==============================] - 0s 7ms/step - loss: 9.8793 - mae: 9.8793\n",
            "Epoch 218/500\n",
            "2/2 [==============================] - 0s 13ms/step - loss: 12.5261 - mae: 12.5261\n",
            "Epoch 219/500\n",
            "2/2 [==============================] - 0s 10ms/step - loss: 4.9532 - mae: 4.9532\n",
            "Epoch 220/500\n",
            "2/2 [==============================] - 0s 12ms/step - loss: 13.2637 - mae: 13.2637\n",
            "Epoch 221/500\n",
            "2/2 [==============================] - 0s 7ms/step - loss: 31.8257 - mae: 31.8257\n",
            "Epoch 222/500\n",
            "2/2 [==============================] - 0s 10ms/step - loss: 9.1662 - mae: 9.1662\n",
            "Epoch 223/500\n",
            "2/2 [==============================] - 0s 12ms/step - loss: 9.9137 - mae: 9.9137\n",
            "Epoch 224/500\n",
            "2/2 [==============================] - 0s 10ms/step - loss: 14.4520 - mae: 14.4520\n",
            "Epoch 225/500\n",
            "2/2 [==============================] - 0s 8ms/step - loss: 16.4432 - mae: 16.4432\n",
            "Epoch 226/500\n",
            "2/2 [==============================] - 0s 10ms/step - loss: 15.5969 - mae: 15.5969\n",
            "Epoch 227/500\n",
            "2/2 [==============================] - 0s 8ms/step - loss: 16.0585 - mae: 16.0585\n",
            "Epoch 228/500\n",
            "2/2 [==============================] - 0s 8ms/step - loss: 13.8401 - mae: 13.8401\n",
            "Epoch 229/500\n",
            "2/2 [==============================] - 0s 9ms/step - loss: 17.9405 - mae: 17.9405\n",
            "Epoch 230/500\n",
            "2/2 [==============================] - 0s 9ms/step - loss: 15.5287 - mae: 15.5287\n",
            "Epoch 231/500\n",
            "2/2 [==============================] - 0s 9ms/step - loss: 21.0373 - mae: 21.0373\n",
            "Epoch 232/500\n",
            "2/2 [==============================] - 0s 8ms/step - loss: 25.6527 - mae: 25.6527\n",
            "Epoch 233/500\n",
            "2/2 [==============================] - 0s 7ms/step - loss: 16.6105 - mae: 16.6105\n",
            "Epoch 234/500\n",
            "2/2 [==============================] - 0s 8ms/step - loss: 7.3402 - mae: 7.3402\n",
            "Epoch 235/500\n",
            "2/2 [==============================] - 0s 11ms/step - loss: 17.2661 - mae: 17.2661\n",
            "Epoch 236/500\n",
            "2/2 [==============================] - 0s 9ms/step - loss: 7.2228 - mae: 7.2228\n",
            "Epoch 237/500\n",
            "2/2 [==============================] - 0s 7ms/step - loss: 9.3496 - mae: 9.3496\n",
            "Epoch 238/500\n",
            "2/2 [==============================] - 0s 9ms/step - loss: 8.1729 - mae: 8.1729\n",
            "Epoch 239/500\n",
            "2/2 [==============================] - 0s 10ms/step - loss: 17.3715 - mae: 17.3715\n",
            "Epoch 240/500\n",
            "2/2 [==============================] - 0s 6ms/step - loss: 8.9826 - mae: 8.9826\n",
            "Epoch 241/500\n",
            "2/2 [==============================] - 0s 8ms/step - loss: 13.4035 - mae: 13.4035\n",
            "Epoch 242/500\n",
            "2/2 [==============================] - 0s 8ms/step - loss: 8.8774 - mae: 8.8774\n",
            "Epoch 243/500\n",
            "2/2 [==============================] - 0s 8ms/step - loss: 19.3027 - mae: 19.3027\n",
            "Epoch 244/500\n",
            "2/2 [==============================] - 0s 8ms/step - loss: 13.8797 - mae: 13.8797\n",
            "Epoch 245/500\n",
            "2/2 [==============================] - 0s 14ms/step - loss: 14.5302 - mae: 14.5302\n",
            "Epoch 246/500\n",
            "2/2 [==============================] - 0s 8ms/step - loss: 15.6654 - mae: 15.6654\n",
            "Epoch 247/500\n",
            "2/2 [==============================] - 0s 8ms/step - loss: 17.4964 - mae: 17.4964\n",
            "Epoch 248/500\n",
            "2/2 [==============================] - 0s 8ms/step - loss: 13.0631 - mae: 13.0631\n",
            "Epoch 249/500\n",
            "2/2 [==============================] - 0s 8ms/step - loss: 14.4124 - mae: 14.4124\n",
            "Epoch 250/500\n",
            "2/2 [==============================] - 0s 10ms/step - loss: 27.8054 - mae: 27.8054\n",
            "Epoch 251/500\n",
            "2/2 [==============================] - 0s 7ms/step - loss: 7.4876 - mae: 7.4876\n",
            "Epoch 252/500\n",
            "2/2 [==============================] - 0s 7ms/step - loss: 38.2683 - mae: 38.2683\n",
            "Epoch 253/500\n",
            "2/2 [==============================] - 0s 7ms/step - loss: 23.1524 - mae: 23.1524\n",
            "Epoch 254/500\n",
            "2/2 [==============================] - 0s 8ms/step - loss: 7.2813 - mae: 7.2813\n",
            "Epoch 255/500\n",
            "2/2 [==============================] - 0s 9ms/step - loss: 24.6682 - mae: 24.6682\n",
            "Epoch 256/500\n",
            "2/2 [==============================] - 0s 8ms/step - loss: 12.4043 - mae: 12.4043\n",
            "Epoch 257/500\n",
            "2/2 [==============================] - 0s 7ms/step - loss: 10.5705 - mae: 10.5705\n",
            "Epoch 258/500\n",
            "2/2 [==============================] - 0s 7ms/step - loss: 14.4603 - mae: 14.4603\n",
            "Epoch 259/500\n",
            "2/2 [==============================] - 0s 7ms/step - loss: 8.6151 - mae: 8.6151\n",
            "Epoch 260/500\n",
            "2/2 [==============================] - 0s 8ms/step - loss: 42.9902 - mae: 42.9902\n",
            "Epoch 261/500\n",
            "2/2 [==============================] - 0s 7ms/step - loss: 18.4256 - mae: 18.4256\n",
            "Epoch 262/500\n",
            "2/2 [==============================] - 0s 7ms/step - loss: 6.8936 - mae: 6.8936\n",
            "Epoch 263/500\n",
            "2/2 [==============================] - 0s 7ms/step - loss: 13.7309 - mae: 13.7309\n",
            "Epoch 264/500\n",
            "2/2 [==============================] - 0s 7ms/step - loss: 21.0334 - mae: 21.0334\n",
            "Epoch 265/500\n",
            "2/2 [==============================] - 0s 7ms/step - loss: 19.3341 - mae: 19.3341\n",
            "Epoch 266/500\n",
            "2/2 [==============================] - 0s 7ms/step - loss: 11.4917 - mae: 11.4917\n",
            "Epoch 267/500\n",
            "2/2 [==============================] - 0s 7ms/step - loss: 7.5368 - mae: 7.5368\n",
            "Epoch 268/500\n",
            "2/2 [==============================] - 0s 7ms/step - loss: 21.6619 - mae: 21.6619\n",
            "Epoch 269/500\n",
            "2/2 [==============================] - 0s 7ms/step - loss: 33.1258 - mae: 33.1258\n",
            "Epoch 270/500\n",
            "2/2 [==============================] - 0s 8ms/step - loss: 9.8097 - mae: 9.8097\n",
            "Epoch 271/500\n",
            "2/2 [==============================] - 0s 8ms/step - loss: 7.7147 - mae: 7.7147\n",
            "Epoch 272/500\n",
            "2/2 [==============================] - 0s 7ms/step - loss: 28.4691 - mae: 28.4691\n",
            "Epoch 273/500\n",
            "2/2 [==============================] - 0s 10ms/step - loss: 7.4327 - mae: 7.4327\n",
            "Epoch 274/500\n",
            "2/2 [==============================] - 0s 12ms/step - loss: 6.3325 - mae: 6.3325\n",
            "Epoch 275/500\n",
            "2/2 [==============================] - 0s 8ms/step - loss: 31.8749 - mae: 31.8749\n",
            "Epoch 276/500\n",
            "2/2 [==============================] - 0s 14ms/step - loss: 4.6715 - mae: 4.6715\n",
            "Epoch 277/500\n",
            "2/2 [==============================] - 0s 11ms/step - loss: 19.7739 - mae: 19.7739\n",
            "Epoch 278/500\n",
            "2/2 [==============================] - 0s 8ms/step - loss: 6.4914 - mae: 6.4914\n",
            "Epoch 279/500\n",
            "2/2 [==============================] - 0s 8ms/step - loss: 18.6977 - mae: 18.6977\n",
            "Epoch 280/500\n",
            "2/2 [==============================] - 0s 8ms/step - loss: 29.4084 - mae: 29.4084\n",
            "Epoch 281/500\n",
            "2/2 [==============================] - 0s 7ms/step - loss: 7.4235 - mae: 7.4235\n",
            "Epoch 282/500\n",
            "2/2 [==============================] - 0s 8ms/step - loss: 14.3585 - mae: 14.3585\n",
            "Epoch 283/500\n",
            "2/2 [==============================] - 0s 7ms/step - loss: 10.4219 - mae: 10.4219\n",
            "Epoch 284/500\n",
            "2/2 [==============================] - 0s 8ms/step - loss: 25.2424 - mae: 25.2424\n",
            "Epoch 285/500\n",
            "2/2 [==============================] - 0s 9ms/step - loss: 16.1590 - mae: 16.1590\n",
            "Epoch 286/500\n",
            "2/2 [==============================] - 0s 8ms/step - loss: 5.2465 - mae: 5.2465\n",
            "Epoch 287/500\n",
            "2/2 [==============================] - 0s 8ms/step - loss: 20.7549 - mae: 20.7549\n",
            "Epoch 288/500\n",
            "2/2 [==============================] - 0s 8ms/step - loss: 27.8367 - mae: 27.8367\n",
            "Epoch 289/500\n",
            "2/2 [==============================] - 0s 8ms/step - loss: 10.9655 - mae: 10.9655\n",
            "Epoch 290/500\n",
            "2/2 [==============================] - 0s 9ms/step - loss: 16.1591 - mae: 16.1591\n",
            "Epoch 291/500\n",
            "2/2 [==============================] - 0s 9ms/step - loss: 16.3214 - mae: 16.3214\n",
            "Epoch 292/500\n",
            "2/2 [==============================] - 0s 9ms/step - loss: 14.5862 - mae: 14.5862\n",
            "Epoch 293/500\n",
            "2/2 [==============================] - 0s 9ms/step - loss: 15.9128 - mae: 15.9128\n",
            "Epoch 294/500\n",
            "2/2 [==============================] - 0s 8ms/step - loss: 24.0296 - mae: 24.0296\n",
            "Epoch 295/500\n",
            "2/2 [==============================] - 0s 8ms/step - loss: 14.8243 - mae: 14.8243\n",
            "Epoch 296/500\n",
            "2/2 [==============================] - 0s 8ms/step - loss: 4.3525 - mae: 4.3525\n",
            "Epoch 297/500\n",
            "2/2 [==============================] - 0s 8ms/step - loss: 11.8485 - mae: 11.8485\n",
            "Epoch 298/500\n",
            "2/2 [==============================] - 0s 8ms/step - loss: 23.7297 - mae: 23.7297\n",
            "Epoch 299/500\n",
            "2/2 [==============================] - 0s 9ms/step - loss: 19.0875 - mae: 19.0875\n",
            "Epoch 300/500\n",
            "2/2 [==============================] - 0s 9ms/step - loss: 8.8383 - mae: 8.8383\n",
            "Epoch 301/500\n",
            "2/2 [==============================] - 0s 9ms/step - loss: 15.9413 - mae: 15.9413\n",
            "Epoch 302/500\n",
            "2/2 [==============================] - 0s 9ms/step - loss: 5.7369 - mae: 5.7369\n",
            "Epoch 303/500\n",
            "2/2 [==============================] - 0s 10ms/step - loss: 22.9491 - mae: 22.9491\n",
            "Epoch 304/500\n",
            "2/2 [==============================] - 0s 7ms/step - loss: 26.1386 - mae: 26.1386\n",
            "Epoch 305/500\n",
            "2/2 [==============================] - 0s 9ms/step - loss: 9.6125 - mae: 9.6125\n",
            "Epoch 306/500\n",
            "2/2 [==============================] - 0s 7ms/step - loss: 17.9001 - mae: 17.9001\n",
            "Epoch 307/500\n",
            "2/2 [==============================] - 0s 7ms/step - loss: 9.7735 - mae: 9.7735\n",
            "Epoch 308/500\n",
            "2/2 [==============================] - 0s 10ms/step - loss: 20.5043 - mae: 20.5043\n",
            "Epoch 309/500\n",
            "2/2 [==============================] - 0s 9ms/step - loss: 13.7411 - mae: 13.7411\n",
            "Epoch 310/500\n",
            "2/2 [==============================] - 0s 9ms/step - loss: 6.1351 - mae: 6.1351\n",
            "Epoch 311/500\n",
            "2/2 [==============================] - 0s 9ms/step - loss: 13.9263 - mae: 13.9263\n",
            "Epoch 312/500\n",
            "2/2 [==============================] - 0s 10ms/step - loss: 30.6096 - mae: 30.6096\n",
            "Epoch 313/500\n",
            "2/2 [==============================] - 0s 8ms/step - loss: 4.2546 - mae: 4.2546\n",
            "Epoch 314/500\n",
            "2/2 [==============================] - 0s 9ms/step - loss: 10.3497 - mae: 10.3497\n",
            "Epoch 315/500\n",
            "2/2 [==============================] - 0s 8ms/step - loss: 19.4586 - mae: 19.4586\n",
            "Epoch 316/500\n",
            "2/2 [==============================] - 0s 9ms/step - loss: 6.6344 - mae: 6.6344\n",
            "Epoch 317/500\n",
            "2/2 [==============================] - 0s 11ms/step - loss: 33.4512 - mae: 33.4512\n",
            "Epoch 318/500\n",
            "2/2 [==============================] - 0s 10ms/step - loss: 19.2373 - mae: 19.2373\n",
            "Epoch 319/500\n",
            "2/2 [==============================] - 0s 9ms/step - loss: 5.5879 - mae: 5.5879\n",
            "Epoch 320/500\n",
            "2/2 [==============================] - 0s 8ms/step - loss: 23.4211 - mae: 23.4211\n",
            "Epoch 321/500\n",
            "2/2 [==============================] - 0s 7ms/step - loss: 17.8352 - mae: 17.8352\n",
            "Epoch 322/500\n",
            "2/2 [==============================] - 0s 7ms/step - loss: 12.5301 - mae: 12.5301\n",
            "Epoch 323/500\n",
            "2/2 [==============================] - 0s 12ms/step - loss: 18.5882 - mae: 18.5882\n",
            "Epoch 324/500\n",
            "2/2 [==============================] - 0s 8ms/step - loss: 18.1055 - mae: 18.1055\n",
            "Epoch 325/500\n",
            "2/2 [==============================] - 0s 8ms/step - loss: 7.2304 - mae: 7.2304\n",
            "Epoch 326/500\n",
            "2/2 [==============================] - 0s 10ms/step - loss: 22.0847 - mae: 22.0847\n",
            "Epoch 327/500\n",
            "2/2 [==============================] - 0s 7ms/step - loss: 22.0955 - mae: 22.0955\n",
            "Epoch 328/500\n",
            "2/2 [==============================] - 0s 6ms/step - loss: 13.2633 - mae: 13.2633\n",
            "Epoch 329/500\n",
            "2/2 [==============================] - 0s 9ms/step - loss: 16.1594 - mae: 16.1594\n",
            "Epoch 330/500\n",
            "2/2 [==============================] - 0s 7ms/step - loss: 11.9341 - mae: 11.9341\n",
            "Epoch 331/500\n",
            "2/2 [==============================] - 0s 7ms/step - loss: 22.1092 - mae: 22.1092\n",
            "Epoch 332/500\n",
            "2/2 [==============================] - 0s 7ms/step - loss: 21.2236 - mae: 21.2236\n",
            "Epoch 333/500\n",
            "2/2 [==============================] - 0s 8ms/step - loss: 12.0304 - mae: 12.0304\n",
            "Epoch 334/500\n",
            "2/2 [==============================] - 0s 9ms/step - loss: 8.3006 - mae: 8.3006\n",
            "Epoch 335/500\n",
            "2/2 [==============================] - 0s 8ms/step - loss: 12.4942 - mae: 12.4942\n",
            "Epoch 336/500\n",
            "2/2 [==============================] - 0s 10ms/step - loss: 32.1686 - mae: 32.1686\n",
            "Epoch 337/500\n",
            "2/2 [==============================] - 0s 8ms/step - loss: 10.4059 - mae: 10.4059\n",
            "Epoch 338/500\n",
            "2/2 [==============================] - 0s 8ms/step - loss: 19.5832 - mae: 19.5832\n",
            "Epoch 339/500\n",
            "2/2 [==============================] - 0s 9ms/step - loss: 35.3629 - mae: 35.3629\n",
            "Epoch 340/500\n",
            "2/2 [==============================] - 0s 10ms/step - loss: 10.5651 - mae: 10.5651\n",
            "Epoch 341/500\n",
            "2/2 [==============================] - 0s 8ms/step - loss: 10.1102 - mae: 10.1102\n",
            "Epoch 342/500\n",
            "2/2 [==============================] - 0s 10ms/step - loss: 13.3165 - mae: 13.3165\n",
            "Epoch 343/500\n",
            "2/2 [==============================] - 0s 8ms/step - loss: 11.0841 - mae: 11.0841\n",
            "Epoch 344/500\n",
            "2/2 [==============================] - 0s 9ms/step - loss: 9.9722 - mae: 9.9722\n",
            "Epoch 345/500\n",
            "2/2 [==============================] - 0s 8ms/step - loss: 31.0210 - mae: 31.0210\n",
            "Epoch 346/500\n",
            "2/2 [==============================] - 0s 10ms/step - loss: 10.7153 - mae: 10.7153\n",
            "Epoch 347/500\n",
            "2/2 [==============================] - 0s 10ms/step - loss: 25.7299 - mae: 25.7299\n",
            "Epoch 348/500\n",
            "2/2 [==============================] - 0s 8ms/step - loss: 12.8985 - mae: 12.8985\n",
            "Epoch 349/500\n",
            "2/2 [==============================] - 0s 7ms/step - loss: 13.1799 - mae: 13.1799\n",
            "Epoch 350/500\n",
            "2/2 [==============================] - 0s 8ms/step - loss: 15.4556 - mae: 15.4556\n",
            "Epoch 351/500\n",
            "2/2 [==============================] - 0s 8ms/step - loss: 32.9621 - mae: 32.9621\n",
            "Epoch 352/500\n",
            "2/2 [==============================] - 0s 9ms/step - loss: 14.2219 - mae: 14.2219\n",
            "Epoch 353/500\n",
            "2/2 [==============================] - 0s 7ms/step - loss: 15.9342 - mae: 15.9342\n",
            "Epoch 354/500\n",
            "2/2 [==============================] - 0s 8ms/step - loss: 19.1142 - mae: 19.1142\n",
            "Epoch 355/500\n",
            "2/2 [==============================] - 0s 9ms/step - loss: 34.0536 - mae: 34.0536\n",
            "Epoch 356/500\n",
            "2/2 [==============================] - 0s 10ms/step - loss: 7.7142 - mae: 7.7142\n",
            "Epoch 357/500\n",
            "2/2 [==============================] - 0s 10ms/step - loss: 25.1513 - mae: 25.1513\n",
            "Epoch 358/500\n",
            "2/2 [==============================] - 0s 8ms/step - loss: 22.6147 - mae: 22.6147\n",
            "Epoch 359/500\n",
            "2/2 [==============================] - 0s 9ms/step - loss: 8.9281 - mae: 8.9281\n",
            "Epoch 360/500\n",
            "2/2 [==============================] - 0s 8ms/step - loss: 21.5165 - mae: 21.5165\n",
            "Epoch 361/500\n",
            "2/2 [==============================] - 0s 8ms/step - loss: 20.5135 - mae: 20.5135\n",
            "Epoch 362/500\n",
            "2/2 [==============================] - 0s 10ms/step - loss: 7.1075 - mae: 7.1075\n",
            "Epoch 363/500\n",
            "2/2 [==============================] - 0s 10ms/step - loss: 25.6975 - mae: 25.6975\n",
            "Epoch 364/500\n",
            "2/2 [==============================] - 0s 7ms/step - loss: 32.0783 - mae: 32.0783\n",
            "Epoch 365/500\n",
            "2/2 [==============================] - 0s 7ms/step - loss: 9.9886 - mae: 9.9886\n",
            "Epoch 366/500\n",
            "2/2 [==============================] - 0s 10ms/step - loss: 9.7145 - mae: 9.7145\n",
            "Epoch 367/500\n",
            "2/2 [==============================] - 0s 7ms/step - loss: 30.4548 - mae: 30.4548\n",
            "Epoch 368/500\n",
            "2/2 [==============================] - 0s 8ms/step - loss: 10.5630 - mae: 10.5630\n",
            "Epoch 369/500\n",
            "2/2 [==============================] - 0s 8ms/step - loss: 15.0512 - mae: 15.0512\n",
            "Epoch 370/500\n",
            "2/2 [==============================] - 0s 9ms/step - loss: 14.7003 - mae: 14.7003\n",
            "Epoch 371/500\n",
            "2/2 [==============================] - 0s 8ms/step - loss: 23.4470 - mae: 23.4470\n",
            "Epoch 372/500\n",
            "2/2 [==============================] - 0s 8ms/step - loss: 12.9833 - mae: 12.9833\n",
            "Epoch 373/500\n",
            "2/2 [==============================] - 0s 8ms/step - loss: 8.9068 - mae: 8.9068\n",
            "Epoch 374/500\n",
            "2/2 [==============================] - 0s 8ms/step - loss: 5.8977 - mae: 5.8977\n",
            "Epoch 375/500\n",
            "2/2 [==============================] - 0s 9ms/step - loss: 14.7972 - mae: 14.7972\n",
            "Epoch 376/500\n",
            "2/2 [==============================] - 0s 13ms/step - loss: 16.5442 - mae: 16.5442\n",
            "Epoch 377/500\n",
            "2/2 [==============================] - 0s 7ms/step - loss: 5.3705 - mae: 5.3705\n",
            "Epoch 378/500\n",
            "2/2 [==============================] - 0s 9ms/step - loss: 20.0085 - mae: 20.0085\n",
            "Epoch 379/500\n",
            "2/2 [==============================] - 0s 7ms/step - loss: 30.7839 - mae: 30.7839\n",
            "Epoch 380/500\n",
            "2/2 [==============================] - 0s 9ms/step - loss: 26.7902 - mae: 26.7902\n",
            "Epoch 381/500\n",
            "2/2 [==============================] - 0s 11ms/step - loss: 6.5583 - mae: 6.5583\n",
            "Epoch 382/500\n",
            "2/2 [==============================] - 0s 11ms/step - loss: 7.5923 - mae: 7.5923\n",
            "Epoch 383/500\n",
            "2/2 [==============================] - 0s 9ms/step - loss: 15.4575 - mae: 15.4575\n",
            "Epoch 384/500\n",
            "2/2 [==============================] - 0s 9ms/step - loss: 15.9502 - mae: 15.9502\n",
            "Epoch 385/500\n",
            "2/2 [==============================] - 0s 10ms/step - loss: 11.5871 - mae: 11.5871\n",
            "Epoch 386/500\n",
            "2/2 [==============================] - 0s 8ms/step - loss: 19.8519 - mae: 19.8519\n",
            "Epoch 387/500\n",
            "2/2 [==============================] - 0s 10ms/step - loss: 24.6108 - mae: 24.6108\n",
            "Epoch 388/500\n",
            "2/2 [==============================] - 0s 9ms/step - loss: 8.2681 - mae: 8.2681\n",
            "Epoch 389/500\n",
            "2/2 [==============================] - 0s 9ms/step - loss: 10.8029 - mae: 10.8029\n",
            "Epoch 390/500\n",
            "2/2 [==============================] - 0s 8ms/step - loss: 4.8269 - mae: 4.8269\n",
            "Epoch 391/500\n",
            "2/2 [==============================] - 0s 8ms/step - loss: 18.8273 - mae: 18.8273\n",
            "Epoch 392/500\n",
            "2/2 [==============================] - 0s 6ms/step - loss: 26.9866 - mae: 26.9866\n",
            "Epoch 393/500\n",
            "2/2 [==============================] - 0s 7ms/step - loss: 12.3265 - mae: 12.3265\n",
            "Epoch 394/500\n",
            "2/2 [==============================] - 0s 9ms/step - loss: 11.8490 - mae: 11.8490\n",
            "Epoch 395/500\n",
            "2/2 [==============================] - 0s 9ms/step - loss: 25.3036 - mae: 25.3036\n",
            "Epoch 396/500\n",
            "2/2 [==============================] - 0s 7ms/step - loss: 18.2566 - mae: 18.2566\n",
            "Epoch 397/500\n",
            "2/2 [==============================] - 0s 8ms/step - loss: 11.8171 - mae: 11.8171\n",
            "Epoch 398/500\n",
            "2/2 [==============================] - 0s 8ms/step - loss: 19.6688 - mae: 19.6688\n",
            "Epoch 399/500\n",
            "2/2 [==============================] - 0s 10ms/step - loss: 24.9331 - mae: 24.9331\n",
            "Epoch 400/500\n",
            "2/2 [==============================] - 0s 7ms/step - loss: 14.6124 - mae: 14.6124\n",
            "Epoch 401/500\n",
            "2/2 [==============================] - 0s 11ms/step - loss: 14.5455 - mae: 14.5455\n",
            "Epoch 402/500\n",
            "2/2 [==============================] - 0s 8ms/step - loss: 23.9961 - mae: 23.9961\n",
            "Epoch 403/500\n",
            "2/2 [==============================] - 0s 7ms/step - loss: 17.0142 - mae: 17.0142\n",
            "Epoch 404/500\n",
            "2/2 [==============================] - 0s 8ms/step - loss: 9.8840 - mae: 9.8840\n",
            "Epoch 405/500\n",
            "2/2 [==============================] - 0s 9ms/step - loss: 7.0009 - mae: 7.0009\n",
            "Epoch 406/500\n",
            "2/2 [==============================] - 0s 11ms/step - loss: 20.3112 - mae: 20.3112\n",
            "Epoch 407/500\n",
            "2/2 [==============================] - 0s 8ms/step - loss: 9.1316 - mae: 9.1316\n",
            "Epoch 408/500\n",
            "2/2 [==============================] - 0s 8ms/step - loss: 21.9097 - mae: 21.9097\n",
            "Epoch 409/500\n",
            "2/2 [==============================] - 0s 7ms/step - loss: 27.8287 - mae: 27.8287\n",
            "Epoch 410/500\n",
            "2/2 [==============================] - 0s 6ms/step - loss: 10.7754 - mae: 10.7754\n",
            "Epoch 411/500\n",
            "2/2 [==============================] - 0s 7ms/step - loss: 14.8767 - mae: 14.8767\n",
            "Epoch 412/500\n",
            "2/2 [==============================] - 0s 7ms/step - loss: 21.7229 - mae: 21.7229\n",
            "Epoch 413/500\n",
            "2/2 [==============================] - 0s 18ms/step - loss: 12.6848 - mae: 12.6848\n",
            "Epoch 414/500\n",
            "2/2 [==============================] - 0s 9ms/step - loss: 6.1164 - mae: 6.1164\n",
            "Epoch 415/500\n",
            "2/2 [==============================] - 0s 18ms/step - loss: 13.2248 - mae: 13.2248\n",
            "Epoch 416/500\n",
            "2/2 [==============================] - 0s 15ms/step - loss: 27.4312 - mae: 27.4312\n",
            "Epoch 417/500\n",
            "2/2 [==============================] - 0s 17ms/step - loss: 10.6317 - mae: 10.6317\n",
            "Epoch 418/500\n",
            "2/2 [==============================] - 0s 23ms/step - loss: 12.8421 - mae: 12.8421\n",
            "Epoch 419/500\n",
            "2/2 [==============================] - 0s 24ms/step - loss: 15.9107 - mae: 15.9107\n",
            "Epoch 420/500\n",
            "2/2 [==============================] - 0s 16ms/step - loss: 24.7773 - mae: 24.7773\n",
            "Epoch 421/500\n",
            "2/2 [==============================] - 0s 40ms/step - loss: 17.3253 - mae: 17.3253\n",
            "Epoch 422/500\n",
            "2/2 [==============================] - 0s 28ms/step - loss: 7.8791 - mae: 7.8791\n",
            "Epoch 423/500\n",
            "2/2 [==============================] - 0s 19ms/step - loss: 25.4182 - mae: 25.4182\n",
            "Epoch 424/500\n",
            "2/2 [==============================] - 0s 14ms/step - loss: 15.0164 - mae: 15.0164\n",
            "Epoch 425/500\n",
            "2/2 [==============================] - 0s 19ms/step - loss: 7.2017 - mae: 7.2017\n",
            "Epoch 426/500\n",
            "2/2 [==============================] - 0s 12ms/step - loss: 20.2172 - mae: 20.2172\n",
            "Epoch 427/500\n",
            "2/2 [==============================] - 0s 15ms/step - loss: 6.3514 - mae: 6.3514\n",
            "Epoch 428/500\n",
            "2/2 [==============================] - 0s 14ms/step - loss: 12.6794 - mae: 12.6794\n",
            "Epoch 429/500\n",
            "2/2 [==============================] - 0s 13ms/step - loss: 12.1033 - mae: 12.1033\n",
            "Epoch 430/500\n",
            "2/2 [==============================] - 0s 10ms/step - loss: 11.1130 - mae: 11.1130\n",
            "Epoch 431/500\n",
            "2/2 [==============================] - 0s 15ms/step - loss: 10.0485 - mae: 10.0485\n",
            "Epoch 432/500\n",
            "2/2 [==============================] - 0s 12ms/step - loss: 13.3778 - mae: 13.3778\n",
            "Epoch 433/500\n",
            "2/2 [==============================] - 0s 21ms/step - loss: 11.4285 - mae: 11.4285\n",
            "Epoch 434/500\n",
            "2/2 [==============================] - 0s 16ms/step - loss: 30.4258 - mae: 30.4258\n",
            "Epoch 435/500\n",
            "2/2 [==============================] - 0s 12ms/step - loss: 10.5602 - mae: 10.5602\n",
            "Epoch 436/500\n",
            "2/2 [==============================] - 0s 34ms/step - loss: 28.9205 - mae: 28.9205\n",
            "Epoch 437/500\n",
            "2/2 [==============================] - 0s 10ms/step - loss: 8.6840 - mae: 8.6840\n",
            "Epoch 438/500\n",
            "2/2 [==============================] - 0s 15ms/step - loss: 12.7732 - mae: 12.7732\n",
            "Epoch 439/500\n",
            "2/2 [==============================] - 0s 11ms/step - loss: 33.7014 - mae: 33.7014\n",
            "Epoch 440/500\n",
            "2/2 [==============================] - 0s 12ms/step - loss: 15.1730 - mae: 15.1730\n",
            "Epoch 441/500\n",
            "2/2 [==============================] - 0s 19ms/step - loss: 17.5430 - mae: 17.5430\n",
            "Epoch 442/500\n",
            "2/2 [==============================] - 0s 17ms/step - loss: 22.4063 - mae: 22.4063\n",
            "Epoch 443/500\n",
            "2/2 [==============================] - 0s 13ms/step - loss: 23.3474 - mae: 23.3474\n",
            "Epoch 444/500\n",
            "2/2 [==============================] - 0s 11ms/step - loss: 10.8281 - mae: 10.8281\n",
            "Epoch 445/500\n",
            "2/2 [==============================] - 0s 16ms/step - loss: 14.9955 - mae: 14.9955\n",
            "Epoch 446/500\n",
            "2/2 [==============================] - 0s 17ms/step - loss: 18.1099 - mae: 18.1099\n",
            "Epoch 447/500\n",
            "2/2 [==============================] - 0s 26ms/step - loss: 5.4024 - mae: 5.4024\n",
            "Epoch 448/500\n",
            "2/2 [==============================] - 0s 21ms/step - loss: 10.1758 - mae: 10.1758\n",
            "Epoch 449/500\n",
            "2/2 [==============================] - 0s 25ms/step - loss: 14.1030 - mae: 14.1030\n",
            "Epoch 450/500\n",
            "2/2 [==============================] - 0s 18ms/step - loss: 16.8813 - mae: 16.8813\n",
            "Epoch 451/500\n",
            "2/2 [==============================] - 0s 16ms/step - loss: 14.3532 - mae: 14.3532\n",
            "Epoch 452/500\n",
            "2/2 [==============================] - 0s 14ms/step - loss: 30.6985 - mae: 30.6985\n",
            "Epoch 453/500\n",
            "2/2 [==============================] - 0s 19ms/step - loss: 8.4449 - mae: 8.4449\n",
            "Epoch 454/500\n",
            "2/2 [==============================] - 0s 11ms/step - loss: 27.6233 - mae: 27.6233\n",
            "Epoch 455/500\n",
            "2/2 [==============================] - 0s 16ms/step - loss: 10.0287 - mae: 10.0287\n",
            "Epoch 456/500\n",
            "2/2 [==============================] - 0s 15ms/step - loss: 14.5994 - mae: 14.5994\n",
            "Epoch 457/500\n",
            "2/2 [==============================] - 0s 14ms/step - loss: 17.7524 - mae: 17.7524\n",
            "Epoch 458/500\n",
            "2/2 [==============================] - 0s 13ms/step - loss: 14.0644 - mae: 14.0644\n",
            "Epoch 459/500\n",
            "2/2 [==============================] - 0s 14ms/step - loss: 25.9537 - mae: 25.9537\n",
            "Epoch 460/500\n",
            "2/2 [==============================] - 0s 21ms/step - loss: 14.8989 - mae: 14.8989\n",
            "Epoch 461/500\n",
            "2/2 [==============================] - 0s 27ms/step - loss: 12.0098 - mae: 12.0098\n",
            "Epoch 462/500\n",
            "2/2 [==============================] - 0s 27ms/step - loss: 13.3002 - mae: 13.3002\n",
            "Epoch 463/500\n",
            "2/2 [==============================] - 0s 20ms/step - loss: 29.4997 - mae: 29.4997\n",
            "Epoch 464/500\n",
            "2/2 [==============================] - 0s 22ms/step - loss: 3.5214 - mae: 3.5214\n",
            "Epoch 465/500\n",
            "2/2 [==============================] - 0s 12ms/step - loss: 15.1758 - mae: 15.1758\n",
            "Epoch 466/500\n",
            "2/2 [==============================] - 0s 18ms/step - loss: 20.7646 - mae: 20.7646\n",
            "Epoch 467/500\n",
            "2/2 [==============================] - 0s 22ms/step - loss: 30.6938 - mae: 30.6938\n",
            "Epoch 468/500\n",
            "2/2 [==============================] - 0s 26ms/step - loss: 11.1765 - mae: 11.1765\n",
            "Epoch 469/500\n",
            "2/2 [==============================] - 0s 32ms/step - loss: 12.9552 - mae: 12.9552\n",
            "Epoch 470/500\n",
            "2/2 [==============================] - 0s 25ms/step - loss: 3.6340 - mae: 3.6340\n",
            "Epoch 471/500\n",
            "2/2 [==============================] - 0s 13ms/step - loss: 42.0672 - mae: 42.0672\n",
            "Epoch 472/500\n",
            "2/2 [==============================] - 0s 10ms/step - loss: 3.9466 - mae: 3.9466\n",
            "Epoch 473/500\n",
            "2/2 [==============================] - 0s 11ms/step - loss: 16.1672 - mae: 16.1672\n",
            "Epoch 474/500\n",
            "2/2 [==============================] - 0s 7ms/step - loss: 38.8442 - mae: 38.8442\n",
            "Epoch 475/500\n",
            "2/2 [==============================] - 0s 8ms/step - loss: 15.7648 - mae: 15.7648\n",
            "Epoch 476/500\n",
            "2/2 [==============================] - 0s 10ms/step - loss: 13.5026 - mae: 13.5026\n",
            "Epoch 477/500\n",
            "2/2 [==============================] - 0s 10ms/step - loss: 29.8550 - mae: 29.8550\n",
            "Epoch 478/500\n",
            "2/2 [==============================] - 0s 7ms/step - loss: 4.3898 - mae: 4.3898\n",
            "Epoch 479/500\n",
            "2/2 [==============================] - 0s 8ms/step - loss: 13.6661 - mae: 13.6661\n",
            "Epoch 480/500\n",
            "2/2 [==============================] - 0s 13ms/step - loss: 20.3654 - mae: 20.3654\n",
            "Epoch 481/500\n",
            "2/2 [==============================] - 0s 17ms/step - loss: 24.2586 - mae: 24.2586\n",
            "Epoch 482/500\n",
            "2/2 [==============================] - 0s 16ms/step - loss: 13.1468 - mae: 13.1468\n",
            "Epoch 483/500\n",
            "2/2 [==============================] - 0s 11ms/step - loss: 8.8909 - mae: 8.8909\n",
            "Epoch 484/500\n",
            "2/2 [==============================] - 0s 11ms/step - loss: 28.0163 - mae: 28.0163\n",
            "Epoch 485/500\n",
            "2/2 [==============================] - 0s 9ms/step - loss: 7.8874 - mae: 7.8874\n",
            "Epoch 486/500\n",
            "2/2 [==============================] - 0s 10ms/step - loss: 10.6473 - mae: 10.6473\n",
            "Epoch 487/500\n",
            "2/2 [==============================] - 0s 10ms/step - loss: 14.8401 - mae: 14.8401\n",
            "Epoch 488/500\n",
            "2/2 [==============================] - 0s 10ms/step - loss: 21.2648 - mae: 21.2648\n",
            "Epoch 489/500\n",
            "2/2 [==============================] - 0s 7ms/step - loss: 7.7102 - mae: 7.7102\n",
            "Epoch 490/500\n",
            "2/2 [==============================] - 0s 7ms/step - loss: 10.0712 - mae: 10.0712\n",
            "Epoch 491/500\n",
            "2/2 [==============================] - 0s 7ms/step - loss: 21.2227 - mae: 21.2227\n",
            "Epoch 492/500\n",
            "2/2 [==============================] - 0s 10ms/step - loss: 26.5428 - mae: 26.5428\n",
            "Epoch 493/500\n",
            "2/2 [==============================] - 0s 10ms/step - loss: 9.2601 - mae: 9.2601\n",
            "Epoch 494/500\n",
            "2/2 [==============================] - 0s 12ms/step - loss: 10.2673 - mae: 10.2673\n",
            "Epoch 495/500\n",
            "2/2 [==============================] - 0s 14ms/step - loss: 11.8595 - mae: 11.8595\n",
            "Epoch 496/500\n",
            "2/2 [==============================] - 0s 31ms/step - loss: 11.7067 - mae: 11.7067\n",
            "Epoch 497/500\n",
            "2/2 [==============================] - 0s 23ms/step - loss: 16.8234 - mae: 16.8234\n",
            "Epoch 498/500\n",
            "2/2 [==============================] - 0s 15ms/step - loss: 24.3429 - mae: 24.3429\n",
            "Epoch 499/500\n",
            "2/2 [==============================] - 0s 18ms/step - loss: 19.5341 - mae: 19.5341\n",
            "Epoch 500/500\n",
            "2/2 [==============================] - 0s 16ms/step - loss: 14.0082 - mae: 14.0082\n"
          ]
        },
        {
          "output_type": "execute_result",
          "data": {
            "text/plain": [
              "<keras.src.callbacks.History at 0x7dd82cdbee90>"
            ]
          },
          "metadata": {},
          "execution_count": 103
        }
      ]
    },
    {
      "cell_type": "code",
      "source": [
        "y_preds_3 = model_3.predict(X_test)\n",
        "\n",
        "y_preds_3"
      ],
      "metadata": {
        "colab": {
          "base_uri": "https://localhost:8080/"
        },
        "id": "HliW29cwkE96",
        "outputId": "50dd4a15-8026-443c-bae0-702aad071c0c"
      },
      "execution_count": 105,
      "outputs": [
        {
          "output_type": "stream",
          "name": "stdout",
          "text": [
            "1/1 [==============================] - 0s 87ms/step\n"
          ]
        },
        {
          "output_type": "execute_result",
          "data": {
            "text/plain": [
              "array([[16.977346],\n",
              "       [17.816465],\n",
              "       [18.655588],\n",
              "       [19.49471 ],\n",
              "       [20.333832],\n",
              "       [21.172953],\n",
              "       [22.012075],\n",
              "       [22.851196],\n",
              "       [23.690317],\n",
              "       [24.52944 ]], dtype=float32)"
            ]
          },
          "metadata": {},
          "execution_count": 105
        }
      ]
    },
    {
      "cell_type": "code",
      "source": [
        "plot_predictions(predictions=y_preds_3)"
      ],
      "metadata": {
        "colab": {
          "base_uri": "https://localhost:8080/",
          "height": 599
        },
        "id": "RtP8p5NGkE7L",
        "outputId": "552a6613-e5a7-4bb9-8d7e-1afa593ed6d3"
      },
      "execution_count": 106,
      "outputs": [
        {
          "output_type": "display_data",
          "data": {
            "text/plain": [
              "<Figure size 1000x700 with 1 Axes>"
            ],
            "image/png": "[encoded data removed]"
          },
          "metadata": {}
        }
      ]
    },
    {
      "cell_type": "code",
      "source": [
        "mae_3 = mae(y_test, tf.squeeze(y_preds_3))\n",
        "mse_3 = mse(y_test, tf.squeeze(y_preds_3))\n",
        "\n",
        "mae_3, mse_3"
      ],
      "metadata": {
        "colab": {
          "base_uri": "https://localhost:8080/"
        },
        "id": "LFGfJSIG53I5",
        "outputId": "e412be85-fdd9-4d57-bd2e-4b60642fd11a"
      },
      "execution_count": 107,
      "outputs": [
        {
          "output_type": "execute_result",
          "data": {
            "text/plain": [
              "(<tf.Tensor: shape=(), dtype=float32, numpy=67.246605>,\n",
              " <tf.Tensor: shape=(), dtype=float32, numpy=4604.533>)"
            ]
          },
          "metadata": {},
          "execution_count": 107
        }
      ]
    },
    {
      "cell_type": "markdown",
      "source": [
        "## Comparing the results of our experiments\n",
        "\n",
        "We've run a few experiments, let's compare our experiments"
      ],
      "metadata": {
        "id": "PCpj-6g26hSk"
      }
    },
    {
      "cell_type": "markdown",
      "source": [
        "**Note:** You want to start with small experiments and make sure the work and then increase the scale when necessary"
      ],
      "metadata": {
        "id": "X4EfIII268Wd"
      }
    },
    {
      "cell_type": "code",
      "source": [
        "# Let's compare our models results using pandas dataframe\n",
        "\n",
        "import pandas as pd\n",
        "\n",
        "mode_result = [[\"model_1\", mae_1.numpy(), mse_1.numpy()],\n",
        "              [\"model_2\", mae_2.numpy(), mse_2.numpy()],\n",
        "              [\"model_3\", mae_3.numpy(), mse_3.numpy()]]\n",
        "\n",
        "\n",
        "model_results = pd.DataFrame(mode_result, columns=[\"model\", \"mae\", \"mse\"])\n",
        "\n",
        "model_results\n"
      ],
      "metadata": {
        "colab": {
          "base_uri": "https://localhost:8080/",
          "height": 144
        },
        "id": "RUknTRID53Gy",
        "outputId": "9b03c75f-6249-4fea-c9f2-6a529cfd7622"
      },
      "execution_count": 133,
      "outputs": [
        {
          "output_type": "execute_result",
          "data": {
            "text/plain": [
              "     model        mae          mse\n",
              "0  model_1   8.575075    80.026840\n",
              "1  model_2   3.001662    11.774309\n",
              "2  model_3  67.246605  4604.533203"
            ],
            "text/html": [
              "\n",
              "  <div id=\"df-c1f4ba77-6b05-4dd2-9873-b735173d3ffb\" class=\"colab-df-container\">\n",
              "    <div>\n",
              "<style scoped>\n",
              "    .dataframe tbody tr th:only-of-type {\n",
              "        vertical-align: middle;\n",
              "    }\n",
              "\n",
              "    .dataframe tbody tr th {\n",
              "        vertical-align: top;\n",
              "    }\n",
              "\n",
              "    .dataframe thead th {\n",
              "        text-align: right;\n",
              "    }\n",
              "</style>\n",
              "<table border=\"1\" class=\"dataframe\">\n",
              "  <thead>\n",
              "    <tr style=\"text-align: right;\">\n",
              "      <th></th>\n",
              "      <th>model</th>\n",
              "      <th>mae</th>\n",
              "      <th>mse</th>\n",
              "    </tr>\n",
              "  </thead>\n",
              "  <tbody>\n",
              "    <tr>\n",
              "      <th>0</th>\n",
              "      <td>model_1</td>\n",
              "      <td>8.575075</td>\n",
              "      <td>80.026840</td>\n",
              "    </tr>\n",
              "    <tr>\n",
              "      <th>1</th>\n",
              "      <td>model_2</td>\n",
              "      <td>3.001662</td>\n",
              "      <td>11.774309</td>\n",
              "    </tr>\n",
              "    <tr>\n",
              "      <th>2</th>\n",
              "      <td>model_3</td>\n",
              "      <td>67.246605</td>\n",
              "      <td>4604.533203</td>\n",
              "    </tr>\n",
              "  </tbody>\n",
              "</table>\n",
              "</div>\n",
              "    <div class=\"colab-df-buttons\">\n",
              "\n",
              "  <div class=\"colab-df-container\">\n",
              "    <button class=\"colab-df-convert\" onclick=\"convertToInteractive('df-c1f4ba77-6b05-4dd2-9873-b735173d3ffb')\"\n",
              "            title=\"Convert this dataframe to an interactive table.\"\n",
              "            style=\"display:none;\">\n",
              "\n",
              "  <svg xmlns=\"http://www.w3.org/2000/svg\" height=\"24px\" viewBox=\"0 -960 960 960\">\n",
              "    <path d=\"M120-120v-720h720v720H120Zm60-500h600v-160H180v160Zm220 220h160v-160H400v160Zm0 220h160v-160H400v160ZM180-400h160v-160H180v160Zm440 0h160v-160H620v160ZM180-180h160v-160H180v160Zm440 0h160v-160H620v160Z\"/>\n",
              "  </svg>\n",
              "    </button>\n",
              "\n",
              "  <style>\n",
              "    .colab-df-container {\n",
              "      display:flex;\n",
              "      gap: 12px;\n",
              "    }\n",
              "\n",
              "    .colab-df-convert {\n",
              "      background-color: #E8F0FE;\n",
              "      border: none;\n",
              "      border-radius: 50%;\n",
              "      cursor: pointer;\n",
              "      display: none;\n",
              "      fill: #1967D2;\n",
              "      height: 32px;\n",
              "      padding: 0 0 0 0;\n",
              "      width: 32px;\n",
              "    }\n",
              "\n",
              "    .colab-df-convert:hover {\n",
              "      background-color: #E2EBFA;\n",
              "      box-shadow: 0px 1px 2px rgba(60, 64, 67, 0.3), 0px 1px 3px 1px rgba(60, 64, 67, 0.15);\n",
              "      fill: #174EA6;\n",
              "    }\n",
              "\n",
              "    .colab-df-buttons div {\n",
              "      margin-bottom: 4px;\n",
              "    }\n",
              "\n",
              "    [theme=dark] .colab-df-convert {\n",
              "      background-color: #3B4455;\n",
              "      fill: #D2E3FC;\n",
              "    }\n",
              "\n",
              "    [theme=dark] .colab-df-convert:hover {\n",
              "      background-color: #434B5C;\n",
              "      box-shadow: 0px 1px 3px 1px rgba(0, 0, 0, 0.15);\n",
              "      filter: drop-shadow(0px 1px 2px rgba(0, 0, 0, 0.3));\n",
              "      fill: #FFFFFF;\n",
              "    }\n",
              "  </style>\n",
              "\n",
              "    <script>\n",
              "      const buttonEl =\n",
              "        document.querySelector('#df-c1f4ba77-6b05-4dd2-9873-b735173d3ffb button.colab-df-convert');\n",
              "      buttonEl.style.display =\n",
              "        google.colab.kernel.accessAllowed ? 'block' : 'none';\n",
              "\n",
              "      async function convertToInteractive(key) {\n",
              "        const element = document.querySelector('#df-c1f4ba77-6b05-4dd2-9873-b735173d3ffb');\n",
              "        const dataTable =\n",
              "          await google.colab.kernel.invokeFunction('convertToInteractive',\n",
              "                                                    [key], {});\n",
              "        if (!dataTable) return;\n",
              "\n",
              "        const docLinkHtml = 'Like what you see? Visit the ' +\n",
              "          '<a target=\"_blank\" href=https://colab.research.google.com/notebooks/data_table.ipynb>data table notebook</a>'\n",
              "          + ' to learn more about interactive tables.';\n",
              "        element.innerHTML = '';\n",
              "        dataTable['output_type'] = 'display_data';\n",
              "        await google.colab.output.renderOutput(dataTable, element);\n",
              "        const docLink = document.createElement('div');\n",
              "        docLink.innerHTML = docLinkHtml;\n",
              "        element.appendChild(docLink);\n",
              "      }\n",
              "    </script>\n",
              "  </div>\n",
              "\n",
              "\n",
              "<div id=\"df-8dd2124a-cbb1-4f69-9745-2e54f2eaaee8\">\n",
              "  <button class=\"colab-df-quickchart\" onclick=\"quickchart('df-8dd2124a-cbb1-4f69-9745-2e54f2eaaee8')\"\n",
              "            title=\"Suggest charts\"\n",
              "            style=\"display:none;\">\n",
              "\n",
              "<svg xmlns=\"http://www.w3.org/2000/svg\" height=\"24px\"viewBox=\"0 0 24 24\"\n",
              "     width=\"24px\">\n",
              "    <g>\n",
              "        <path d=\"M19 3H5c-1.1 0-2 .9-2 2v14c0 1.1.9 2 2 2h14c1.1 0 2-.9 2-2V5c0-1.1-.9-2-2-2zM9 17H7v-7h2v7zm4 0h-2V7h2v10zm4 0h-2v-4h2v4z\"/>\n",
              "    </g>\n",
              "</svg>\n",
              "  </button>\n",
              "\n",
              "<style>\n",
              "  .colab-df-quickchart {\n",
              "      --bg-color: #E8F0FE;\n",
              "      --fill-color: #1967D2;\n",
              "      --hover-bg-color: #E2EBFA;\n",
              "      --hover-fill-color: #174EA6;\n",
              "      --disabled-fill-color: #AAA;\n",
              "      --disabled-bg-color: #DDD;\n",
              "  }\n",
              "\n",
              "  [theme=dark] .colab-df-quickchart {\n",
              "      --bg-color: #3B4455;\n",
              "      --fill-color: #D2E3FC;\n",
              "      --hover-bg-color: #434B5C;\n",
              "      --hover-fill-color: #FFFFFF;\n",
              "      --disabled-bg-color: #3B4455;\n",
              "      --disabled-fill-color: #666;\n",
              "  }\n",
              "\n",
              "  .colab-df-quickchart {\n",
              "    background-color: var(--bg-color);\n",
              "    border: none;\n",
              "    border-radius: 50%;\n",
              "    cursor: pointer;\n",
              "    display: none;\n",
              "    fill: var(--fill-color);\n",
              "    height: 32px;\n",
              "    padding: 0;\n",
              "    width: 32px;\n",
              "  }\n",
              "\n",
              "  .colab-df-quickchart:hover {\n",
              "    background-color: var(--hover-bg-color);\n",
              "    box-shadow: 0 1px 2px rgba(60, 64, 67, 0.3), 0 1px 3px 1px rgba(60, 64, 67, 0.15);\n",
              "    fill: var(--button-hover-fill-color);\n",
              "  }\n",
              "\n",
              "  .colab-df-quickchart-complete:disabled,\n",
              "  .colab-df-quickchart-complete:disabled:hover {\n",
              "    background-color: var(--disabled-bg-color);\n",
              "    fill: var(--disabled-fill-color);\n",
              "    box-shadow: none;\n",
              "  }\n",
              "\n",
              "  .colab-df-spinner {\n",
              "    border: 2px solid var(--fill-color);\n",
              "    border-color: transparent;\n",
              "    border-bottom-color: var(--fill-color);\n",
              "    animation:\n",
              "      spin 1s steps(1) infinite;\n",
              "  }\n",
              "\n",
              "  @keyframes spin {\n",
              "    0% {\n",
              "      border-color: transparent;\n",
              "      border-bottom-color: var(--fill-color);\n",
              "      border-left-color: var(--fill-color);\n",
              "    }\n",
              "    20% {\n",
              "      border-color: transparent;\n",
              "      border-left-color: var(--fill-color);\n",
              "      border-top-color: var(--fill-color);\n",
              "    }\n",
              "    30% {\n",
              "      border-color: transparent;\n",
              "      border-left-color: var(--fill-color);\n",
              "      border-top-color: var(--fill-color);\n",
              "      border-right-color: var(--fill-color);\n",
              "    }\n",
              "    40% {\n",
              "      border-color: transparent;\n",
              "      border-right-color: var(--fill-color);\n",
              "      border-top-color: var(--fill-color);\n",
              "    }\n",
              "    60% {\n",
              "      border-color: transparent;\n",
              "      border-right-color: var(--fill-color);\n",
              "    }\n",
              "    80% {\n",
              "      border-color: transparent;\n",
              "      border-right-color: var(--fill-color);\n",
              "      border-bottom-color: var(--fill-color);\n",
              "    }\n",
              "    90% {\n",
              "      border-color: transparent;\n",
              "      border-bottom-color: var(--fill-color);\n",
              "    }\n",
              "  }\n",
              "</style>\n",
              "\n",
              "  <script>\n",
              "    async function quickchart(key) {\n",
              "      const quickchartButtonEl =\n",
              "        document.querySelector('#' + key + ' button');\n",
              "      quickchartButtonEl.disabled = true;  // To prevent multiple clicks.\n",
              "      quickchartButtonEl.classList.add('colab-df-spinner');\n",
              "      try {\n",
              "        const charts = await google.colab.kernel.invokeFunction(\n",
              "            'suggestCharts', [key], {});\n",
              "      } catch (error) {\n",
              "        console.error('Error during call to suggestCharts:', error);\n",
              "      }\n",
              "      quickchartButtonEl.classList.remove('colab-df-spinner');\n",
              "      quickchartButtonEl.classList.add('colab-df-quickchart-complete');\n",
              "    }\n",
              "    (() => {\n",
              "      let quickchartButtonEl =\n",
              "        document.querySelector('#df-8dd2124a-cbb1-4f69-9745-2e54f2eaaee8 button');\n",
              "      quickchartButtonEl.style.display =\n",
              "        google.colab.kernel.accessAllowed ? 'block' : 'none';\n",
              "    })();\n",
              "  </script>\n",
              "</div>\n",
              "\n",
              "  <div id=\"id_d72c494d-b342-4673-af9e-4ce358a3e5c0\">\n",
              "    <style>\n",
              "      .colab-df-generate {\n",
              "        background-color: #E8F0FE;\n",
              "        border: none;\n",
              "        border-radius: 50%;\n",
              "        cursor: pointer;\n",
              "        display: none;\n",
              "        fill: #1967D2;\n",
              "        height: 32px;\n",
              "        padding: 0 0 0 0;\n",
              "        width: 32px;\n",
              "      }\n",
              "\n",
              "      .colab-df-generate:hover {\n",
              "        background-color: #E2EBFA;\n",
              "        box-shadow: 0px 1px 2px rgba(60, 64, 67, 0.3), 0px 1px 3px 1px rgba(60, 64, 67, 0.15);\n",
              "        fill: #174EA6;\n",
              "      }\n",
              "\n",
              "      [theme=dark] .colab-df-generate {\n",
              "        background-color: #3B4455;\n",
              "        fill: #D2E3FC;\n",
              "      }\n",
              "\n",
              "      [theme=dark] .colab-df-generate:hover {\n",
              "        background-color: #434B5C;\n",
              "        box-shadow: 0px 1px 3px 1px rgba(0, 0, 0, 0.15);\n",
              "        filter: drop-shadow(0px 1px 2px rgba(0, 0, 0, 0.3));\n",
              "        fill: #FFFFFF;\n",
              "      }\n",
              "    </style>\n",
              "    <button class=\"colab-df-generate\" onclick=\"generateWithVariable('model_results')\"\n",
              "            title=\"Generate code using this dataframe.\"\n",
              "            style=\"display:none;\">\n",
              "\n",
              "  <svg xmlns=\"http://www.w3.org/2000/svg\" height=\"24px\"viewBox=\"0 0 24 24\"\n",
              "       width=\"24px\">\n",
              "    <path d=\"M7,19H8.4L18.45,9,17,7.55,7,17.6ZM5,21V16.75L18.45,3.32a2,2,0,0,1,2.83,0l1.4,1.43a1.91,1.91,0,0,1,.58,1.4,1.91,1.91,0,0,1-.58,1.4L9.25,21ZM18.45,9,17,7.55Zm-12,3A5.31,5.31,0,0,0,4.9,8.1,5.31,5.31,0,0,0,1,6.5,5.31,5.31,0,0,0,4.9,4.9,5.31,5.31,0,0,0,6.5,1,5.31,5.31,0,0,0,8.1,4.9,5.31,5.31,0,0,0,12,6.5,5.46,5.46,0,0,0,6.5,12Z\"/>\n",
              "  </svg>\n",
              "    </button>\n",
              "    <script>\n",
              "      (() => {\n",
              "      const buttonEl =\n",
              "        document.querySelector('#id_d72c494d-b342-4673-af9e-4ce358a3e5c0 button.colab-df-generate');\n",
              "      buttonEl.style.display =\n",
              "        google.colab.kernel.accessAllowed ? 'block' : 'none';\n",
              "\n",
              "      buttonEl.onclick = () => {\n",
              "        google.colab.notebook.generateWithVariable('model_results');\n",
              "      }\n",
              "      })();\n",
              "    </script>\n",
              "  </div>\n",
              "\n",
              "    </div>\n",
              "  </div>\n"
            ],
            "application/vnd.google.colaboratory.intrinsic+json": {
              "type": "dataframe",
              "variable_name": "model_results",
              "summary": "{\n  \"name\": \"model_results\",\n  \"rows\": 3,\n  \"fields\": [\n    {\n      \"column\": \"model\",\n      \"properties\": {\n        \"dtype\": \"string\",\n        \"num_unique_values\": 3,\n        \"samples\": [\n          \"model_1\",\n          \"model_2\",\n          \"model_3\"\n        ],\n        \"semantic_type\": \"\",\n        \"description\": \"\"\n      }\n    },\n    {\n      \"column\": \"mae\",\n      \"properties\": {\n        \"dtype\": \"float32\",\n        \"num_unique_values\": 3,\n        \"samples\": [\n          8.575075149536133,\n          3.001661777496338,\n          67.2466049194336\n        ],\n        \"semantic_type\": \"\",\n        \"description\": \"\"\n      }\n    },\n    {\n      \"column\": \"mse\",\n      \"properties\": {\n        \"dtype\": \"float32\",\n        \"num_unique_values\": 3,\n        \"samples\": [\n          80.02684020996094,\n          11.774309158325195,\n          4604.533203125\n        ],\n        \"semantic_type\": \"\",\n        \"description\": \"\"\n      }\n    }\n  ]\n}"
            }
          },
          "metadata": {},
          "execution_count": 133
        }
      ]
    },
    {
      "cell_type": "markdown",
      "source": [
        "## Tracking your experiments\n",
        "\n",
        "One really goo habit in machine learning modelling is to track the results of your experiments.\n",
        "\n",
        "Luckily, there are tools to help us!\n",
        "\n",
        "* Tensorboard - a com ponent of the tensorflow library to ehlp modelling experiments (we'll see this one later).\n",
        "* Weights & Biases - a tool for tracking all of kinds of machine learning experiments (plugs straight into Tensorboard)"
      ],
      "metadata": {
        "id": "7XWh2jG880Yg"
      }
    },
    {
      "cell_type": "markdown",
      "source": [
        "## Saving the model\n",
        "\n",
        "Save our model allow us to use them outside of Google collab (or wherever they were trained) such as web or mobile application.\n",
        "\n",
        "There are two main formats we can save our model's too:\n",
        "\n",
        "1. The saved model format\n",
        "\n",
        "2. The HDF5 format"
      ],
      "metadata": {
        "id": "-xskUtZdBhz-"
      }
    },
    {
      "cell_type": "code",
      "source": [
        "model_2.save(\"best_model_saved_model_format\")"
      ],
      "metadata": {
        "id": "qh9-68W253E4"
      },
      "execution_count": 134,
      "outputs": []
    },
    {
      "cell_type": "code",
      "source": [
        "model_2.save(\"best_model_saved_model_format.h5\")"
      ],
      "metadata": {
        "colab": {
          "base_uri": "https://localhost:8080/"
        },
        "id": "sahtRSv353Cu",
        "outputId": "19fc1149-d97f-422b-f204-5d07445f31fc"
      },
      "execution_count": 135,
      "outputs": [
        {
          "output_type": "stream",
          "name": "stderr",
          "text": [
            "/usr/local/lib/python3.10/dist-packages/keras/src/engine/training.py:3103: UserWarning: You are saving your model as an HDF5 file via `model.save()`. This file format is considered legacy. We recommend using instead the native Keras format, e.g. `model.save('my_model.keras')`.\n",
            "  saving_api.save_model(\n"
          ]
        }
      ]
    },
    {
      "cell_type": "code",
      "source": [],
      "metadata": {
        "id": "ZvGJFM2f52-o"
      },
      "execution_count": null,
      "outputs": []
    },
    {
      "cell_type": "code",
      "source": [],
      "metadata": {
        "id": "DJfIfqyK527I"
      },
      "execution_count": null,
      "outputs": []
    },
    {
      "cell_type": "code",
      "source": [],
      "metadata": {
        "id": "3JmFn5en525D"
      },
      "execution_count": null,
      "outputs": []
    },
    {
      "cell_type": "code",
      "source": [],
      "metadata": {
        "id": "yQbASWt5522L"
      },
      "execution_count": null,
      "outputs": []
    },
    {
      "cell_type": "code",
      "source": [],
      "metadata": {
        "id": "QJfN6hR852zN"
      },
      "execution_count": null,
      "outputs": []
    },
    {
      "cell_type": "code",
      "source": [],
      "metadata": {
        "id": "KnDGOj9C52v5"
      },
      "execution_count": null,
      "outputs": []
    },
    {
      "cell_type": "code",
      "source": [],
      "metadata": {
        "id": "qGWiwugz52s3"
      },
      "execution_count": null,
      "outputs": []
    },
    {
      "cell_type": "code",
      "source": [],
      "metadata": {
        "id": "Tp6U_91d52qR"
      },
      "execution_count": null,
      "outputs": []
    },
    {
      "cell_type": "code",
      "source": [],
      "metadata": {
        "id": "aVdwztRh52na"
      },
      "execution_count": null,
      "outputs": []
    },
    {
      "cell_type": "code",
      "source": [],
      "metadata": {
        "id": "E_-C9lmt52il"
      },
      "execution_count": null,
      "outputs": []
    },
    {
      "cell_type": "code",
      "source": [],
      "metadata": {
        "id": "I3EFFLT_52Kv"
      },
      "execution_count": null,
      "outputs": []
    }
  ]
}