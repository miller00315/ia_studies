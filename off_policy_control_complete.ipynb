{
  "cells": [
    {
      "cell_type": "markdown",
      "metadata": {
        "id": "view-in-github",
        "colab_type": "text"
      },
      "source": [
        "<a href=\"https://colab.research.google.com/github/miller00315/ia_studies/blob/main/off_policy_control_complete.ipynb\" target=\"_parent\"><img src=\"https://colab.research.google.com/assets/colab-badge.svg\" alt=\"Open In Colab\"/></a>"
      ]
    },
    {
      "cell_type": "markdown",
      "metadata": {
        "pycharm": {
          "name": "#%%\n"
        },
        "id": "sICgPdT6C407"
      },
      "source": [
        "<div style=\"text-align:center\">\n",
        "    <h1>\n",
        "        Off-policy Monte Carlo Control\n",
        "    </h1>\n",
        "</div>\n",
        "\n",
        "<br>"
      ]
    },
    {
      "cell_type": "code",
      "source": [
        "# @title Setup code (not important) - Run this cell by pressing \"Shift + Enter\"\n",
        "\n",
        "\n",
        "\n",
        "!pip install -qq gym==0.23.0\n",
        "\n",
        "\n",
        "from typing import Tuple, Dict, Optional, Iterable, Callable\n",
        "\n",
        "import numpy as np\n",
        "import seaborn as sns\n",
        "import matplotlib\n",
        "from matplotlib import animation\n",
        "\n",
        "from IPython.display import HTML\n",
        "\n",
        "import gym\n",
        "from gym import spaces\n",
        "from gym.error import DependencyNotInstalled\n",
        "\n",
        "import pygame\n",
        "from pygame import gfxdraw\n",
        "\n",
        "\n",
        "class Maze(gym.Env):\n",
        "\n",
        "    def __init__(self, exploring_starts: bool = False,\n",
        "                 shaped_rewards: bool = False, size: int = 5) -> None:\n",
        "        super().__init__()\n",
        "        self.exploring_starts = exploring_starts\n",
        "        self.shaped_rewards = shaped_rewards\n",
        "        self.state = (size - 1, size - 1)\n",
        "        self.goal = (size - 1, size - 1)\n",
        "        self.maze = self._create_maze(size=size)\n",
        "        self.distances = self._compute_distances(self.goal, self.maze)\n",
        "        self.action_space = spaces.Discrete(n=4)\n",
        "        self.action_space.action_meanings = {0: 'UP', 1: 'RIGHT', 2: 'DOWN', 3: \"LEFT\"}\n",
        "        self.observation_space = spaces.MultiDiscrete([size, size])\n",
        "\n",
        "        self.screen = None\n",
        "        self.agent_transform = None\n",
        "\n",
        "    def step(self, action: int) -> Tuple[Tuple[int, int], float, bool, Dict]:\n",
        "        reward = self.compute_reward(self.state, action)\n",
        "        self.state = self._get_next_state(self.state, action)\n",
        "        done = self.state == self.goal\n",
        "        info = {}\n",
        "        return self.state, reward, done, info\n",
        "\n",
        "    def reset(self) -> Tuple[int, int]:\n",
        "        if self.exploring_starts:\n",
        "            while self.state == self.goal:\n",
        "                self.state = tuple(self.observation_space.sample())\n",
        "        else:\n",
        "            self.state = (0, 0)\n",
        "        return self.state\n",
        "\n",
        "    def render(self, mode: str = 'human') -> Optional[np.ndarray]:\n",
        "        assert mode in ['human', 'rgb_array']\n",
        "\n",
        "        screen_size = 600\n",
        "        scale = screen_size / 5\n",
        "\n",
        "        if self.screen is None:\n",
        "            pygame.init()\n",
        "            self.screen = pygame.Surface((screen_size, screen_size))\n",
        "\n",
        "        surf = pygame.Surface((screen_size, screen_size))\n",
        "        surf.fill((22, 36, 71))\n",
        "\n",
        "\n",
        "        for row in range(5):\n",
        "            for col in range(5):\n",
        "\n",
        "                state = (row, col)\n",
        "                for next_state in [(row + 1, col), (row - 1, col), (row, col + 1), (row, col - 1)]:\n",
        "                    if next_state not in self.maze[state]:\n",
        "\n",
        "                        # Add the geometry of the edges and walls (i.e. the boundaries between\n",
        "                        # adjacent squares that are not connected).\n",
        "                        row_diff, col_diff = np.subtract(next_state, state)\n",
        "                        left = (col + (col_diff > 0)) * scale - 2 * (col_diff != 0)\n",
        "                        right = ((col + 1) - (col_diff < 0)) * scale + 2 * (col_diff != 0)\n",
        "                        top = (5 - (row + (row_diff > 0))) * scale - 2 * (row_diff != 0)\n",
        "                        bottom = (5 - ((row + 1) - (row_diff < 0))) * scale + 2 * (row_diff != 0)\n",
        "\n",
        "                        gfxdraw.filled_polygon(surf, [(left, bottom), (left, top), (right, top), (right, bottom)], (255, 255, 255))\n",
        "\n",
        "        # Add the geometry of the goal square to the viewer.\n",
        "        left, right, top, bottom = scale * 4 + 10, scale * 5 - 10, scale - 10, 10\n",
        "        gfxdraw.filled_polygon(surf, [(left, bottom), (left, top), (right, top), (right, bottom)], (40, 199, 172))\n",
        "\n",
        "        # Add the geometry of the agent to the viewer.\n",
        "        agent_row = int(screen_size - scale * (self.state[0] + .5))\n",
        "        agent_col = int(scale * (self.state[1] + .5))\n",
        "        gfxdraw.filled_circle(surf, agent_col, agent_row, int(scale * .6 / 2), (228, 63, 90))\n",
        "\n",
        "        surf = pygame.transform.flip(surf, False, True)\n",
        "        self.screen.blit(surf, (0, 0))\n",
        "\n",
        "        return np.transpose(\n",
        "                np.array(pygame.surfarray.pixels3d(self.screen)), axes=(1, 0, 2)\n",
        "            )\n",
        "\n",
        "    def close(self) -> None:\n",
        "        if self.screen is not None:\n",
        "            pygame.display.quit()\n",
        "            pygame.quit()\n",
        "            self.screen = None\n",
        "\n",
        "    def compute_reward(self, state: Tuple[int, int], action: int) -> float:\n",
        "        next_state = self._get_next_state(state, action)\n",
        "        if self.shaped_rewards:\n",
        "            return - (self.distances[next_state] / self.distances.max())\n",
        "        return - float(state != self.goal)\n",
        "\n",
        "    def simulate_step(self, state: Tuple[int, int], action: int):\n",
        "        reward = self.compute_reward(state, action)\n",
        "        next_state = self._get_next_state(state, action)\n",
        "        done = next_state == self.goal\n",
        "        info = {}\n",
        "        return next_state, reward, done, info\n",
        "\n",
        "    def _get_next_state(self, state: Tuple[int, int], action: int) -> Tuple[int, int]:\n",
        "        if action == 0:\n",
        "            next_state = (state[0] - 1, state[1])\n",
        "        elif action == 1:\n",
        "            next_state = (state[0], state[1] + 1)\n",
        "        elif action == 2:\n",
        "            next_state = (state[0] + 1, state[1])\n",
        "        elif action == 3:\n",
        "            next_state = (state[0], state[1] - 1)\n",
        "        else:\n",
        "            raise ValueError(\"Action value not supported:\", action)\n",
        "        if next_state in self.maze[state]:\n",
        "            return next_state\n",
        "        return state\n",
        "\n",
        "    @staticmethod\n",
        "    def _create_maze(size: int) -> Dict[Tuple[int, int], Iterable[Tuple[int, int]]]:\n",
        "        maze = {(row, col): [(row - 1, col), (row + 1, col), (row, col - 1), (row, col + 1)]\n",
        "                for row in range(size) for col in range(size)}\n",
        "\n",
        "        left_edges = [[(row, 0), (row, -1)] for row in range(size)]\n",
        "        right_edges = [[(row, size - 1), (row, size)] for row in range(size)]\n",
        "        upper_edges = [[(0, col), (-1, col)] for col in range(size)]\n",
        "        lower_edges = [[(size - 1, col), (size, col)] for col in range(size)]\n",
        "        walls = [\n",
        "            [(1, 0), (1, 1)], [(2, 0), (2, 1)], [(3, 0), (3, 1)],\n",
        "            [(1, 1), (1, 2)], [(2, 1), (2, 2)], [(3, 1), (3, 2)],\n",
        "            [(3, 1), (4, 1)], [(0, 2), (1, 2)], [(1, 2), (1, 3)],\n",
        "            [(2, 2), (3, 2)], [(2, 3), (3, 3)], [(2, 4), (3, 4)],\n",
        "            [(4, 2), (4, 3)], [(1, 3), (1, 4)], [(2, 3), (2, 4)],\n",
        "        ]\n",
        "\n",
        "        obstacles = upper_edges + lower_edges + left_edges + right_edges + walls\n",
        "\n",
        "        for src, dst in obstacles:\n",
        "            maze[src].remove(dst)\n",
        "\n",
        "            if dst in maze:\n",
        "                maze[dst].remove(src)\n",
        "\n",
        "        return maze\n",
        "\n",
        "    @staticmethod\n",
        "    def _compute_distances(goal: Tuple[int, int],\n",
        "                           maze: Dict[Tuple[int, int], Iterable[Tuple[int, int]]]) -> np.ndarray:\n",
        "        distances = np.full((5, 5), np.inf)\n",
        "        visited = set()\n",
        "        distances[goal] = 0.\n",
        "\n",
        "        while visited != set(maze):\n",
        "            sorted_dst = [(v // 5, v % 5) for v in distances.argsort(axis=None)]\n",
        "            closest = next(x for x in sorted_dst if x not in visited)\n",
        "            visited.add(closest)\n",
        "\n",
        "            for neighbour in maze[closest]:\n",
        "                distances[neighbour] = min(distances[neighbour], distances[closest] + 1)\n",
        "        return distances\n",
        "\n",
        "\n",
        "def plot_policy(probs_or_qvals, frame, action_meanings=None):\n",
        "    if action_meanings is None:\n",
        "        action_meanings = {0: 'U', 1: 'R', 2: 'D', 3: 'L'}\n",
        "    fig, axes = plt.subplots(1, 2, figsize=(8, 4))\n",
        "    max_prob_actions = probs_or_qvals.argmax(axis=-1)\n",
        "    probs_copy = max_prob_actions.copy().astype(object)\n",
        "    for key in action_meanings:\n",
        "        probs_copy[probs_copy == key] = action_meanings[key]\n",
        "    sns.heatmap(max_prob_actions, annot=probs_copy, fmt='', cbar=False, cmap='coolwarm',\n",
        "                annot_kws={'weight': 'bold', 'size': 12}, linewidths=2, ax=axes[0])\n",
        "    axes[1].imshow(frame)\n",
        "    axes[0].axis('off')\n",
        "    axes[1].axis('off')\n",
        "    plt.suptitle(\"Policy\", size=18)\n",
        "    plt.tight_layout()\n",
        "\n",
        "\n",
        "def plot_values(state_values, frame):\n",
        "    f, axes = plt.subplots(1, 2, figsize=(10, 4))\n",
        "    sns.heatmap(state_values, annot=True, fmt=\".2f\", cmap='coolwarm',\n",
        "                annot_kws={'weight': 'bold', 'size': 12}, linewidths=2, ax=axes[0])\n",
        "    axes[1].imshow(frame)\n",
        "    axes[0].axis('off')\n",
        "    axes[1].axis('off')\n",
        "    plt.tight_layout()\n",
        "\n",
        "\n",
        "def display_video(frames):\n",
        "    # Copied from: https://colab.research.google.com/github/deepmind/dm_control/blob/master/tutorial.ipynb\n",
        "    orig_backend = matplotlib.get_backend()\n",
        "    matplotlib.use('Agg')\n",
        "    fig, ax = plt.subplots(1, 1, figsize=(5, 5))\n",
        "    matplotlib.use(orig_backend)\n",
        "    ax.set_axis_off()\n",
        "    ax.set_aspect('equal')\n",
        "    ax.set_position([0, 0, 1, 1])\n",
        "    im = ax.imshow(frames[0])\n",
        "    def update(frame):\n",
        "        im.set_data(frame)\n",
        "        return [im]\n",
        "    anim = animation.FuncAnimation(fig=fig, func=update, frames=frames,\n",
        "                                    interval=50, blit=True, repeat=False)\n",
        "    return HTML(anim.to_html5_video())\n",
        "\n",
        "\n",
        "def test_agent(environment, policy, episodes=10):\n",
        "    frames = []\n",
        "    for episode in range(episodes):\n",
        "        state = env.reset()\n",
        "        done = False\n",
        "        frames.append(env.render(mode=\"rgb_array\"))\n",
        "\n",
        "        while not done:\n",
        "            p = policy(state)\n",
        "            if isinstance(p, np.ndarray):\n",
        "                action = np.random.choice(4, p=p)\n",
        "            else:\n",
        "                action = p\n",
        "            next_state, reward, done, extra_info = env.step(action)\n",
        "            img = env.render(mode=\"rgb_array\")\n",
        "            frames.append(img)\n",
        "            state = next_state\n",
        "\n",
        "    return display_video(frames)\n",
        "\n",
        "\n",
        "def plot_action_values(action_values):\n",
        "\n",
        "    text_positions = [\n",
        "        [(0.35, 4.75), (1.35, 4.75), (2.35, 4.75), (3.35, 4.75), (4.35, 4.75),\n",
        "         (0.35, 3.75), (1.35, 3.75), (2.35, 3.75), (3.35, 3.75), (4.35, 3.75),\n",
        "         (0.35, 2.75), (1.35, 2.75), (2.35, 2.75), (3.35, 2.75), (4.35, 2.75),\n",
        "         (0.35, 1.75), (1.35, 1.75), (2.35, 1.75), (3.35, 1.75), (4.35, 1.75),\n",
        "         (0.35, 0.75), (1.35, 0.75), (2.35, 0.75), (3.35, 0.75), (4.35, 0.75)],\n",
        "        [(0.6, 4.45), (1.6, 4.45), (2.6, 4.45), (3.6, 4.45), (4.6, 4.45),\n",
        "         (0.6, 3.45), (1.6, 3.45), (2.6, 3.45), (3.6, 3.45), (4.6, 3.45),\n",
        "         (0.6, 2.45), (1.6, 2.45), (2.6, 2.45), (3.6, 2.45), (4.6, 2.45),\n",
        "         (0.6, 1.45), (1.6, 1.45), (2.6, 1.45), (3.6, 1.45), (4.6, 1.45),\n",
        "         (0.6, 0.45), (1.6, 0.45), (2.6, 0.45), (3.6, 0.45), (4.6, 0.45)],\n",
        "        [(0.35, 4.15), (1.35, 4.15), (2.35, 4.15), (3.35, 4.15), (4.35, 4.15),\n",
        "         (0.35, 3.15), (1.35, 3.15), (2.35, 3.15), (3.35, 3.15), (4.35, 3.15),\n",
        "         (0.35, 2.15), (1.35, 2.15), (2.35, 2.15), (3.35, 2.15), (4.35, 2.15),\n",
        "         (0.35, 1.15), (1.35, 1.15), (2.35, 1.15), (3.35, 1.15), (4.35, 1.15),\n",
        "         (0.35, 0.15), (1.35, 0.15), (2.35, 0.15), (3.35, 0.15), (4.35, 0.15)],\n",
        "        [(0.05, 4.45), (1.05, 4.45), (2.05, 4.45), (3.05, 4.45), (4.05, 4.45),\n",
        "         (0.05, 3.45), (1.05, 3.45), (2.05, 3.45), (3.05, 3.45), (4.05, 3.45),\n",
        "         (0.05, 2.45), (1.05, 2.45), (2.05, 2.45), (3.05, 2.45), (4.05, 2.45),\n",
        "         (0.05, 1.45), (1.05, 1.45), (2.05, 1.45), (3.05, 1.45), (4.05, 1.45),\n",
        "         (0.05, 0.45), (1.05, 0.45), (2.05, 0.45), (3.05, 0.45), (4.05, 0.45)]]\n",
        "\n",
        "    fig, ax = plt.subplots(figsize=(7, 7))\n",
        "    tripcolor = quatromatrix(action_values, ax=ax,\n",
        "                             triplotkw={\"color\": \"k\", \"lw\": 1}, tripcolorkw={\"cmap\": \"coolwarm\"})\n",
        "    ax.margins(0)\n",
        "    ax.set_aspect(\"equal\")\n",
        "    fig.colorbar(tripcolor)\n",
        "\n",
        "    for j, av in enumerate(text_positions):\n",
        "        for i, (xi, yi) in enumerate(av):\n",
        "            plt.text(xi, yi, round(action_values[:, :, j].flatten()[i], 2), size=8, color=\"w\", weight=\"bold\")\n",
        "\n",
        "    plt.title(\"Action values Q(s,a)\", size=18)\n",
        "    plt.tight_layout()\n",
        "    plt.show()\n",
        "\n",
        "\n",
        "def quatromatrix(action_values, ax=None, triplotkw=None, tripcolorkw=None):\n",
        "    action_values = np.flipud(action_values)\n",
        "    n = 5\n",
        "    m = 5\n",
        "    a = np.array([[0, 0], [0, 1], [.5, .5], [1, 0], [1, 1]])\n",
        "    tr = np.array([[0, 1, 2], [0, 2, 3], [2, 3, 4], [1, 2, 4]])\n",
        "    A = np.zeros((n * m * 5, 2))\n",
        "    Tr = np.zeros((n * m * 4, 3))\n",
        "    for i in range(n):\n",
        "        for j in range(m):\n",
        "            k = i * m + j\n",
        "            A[k * 5:(k + 1) * 5, :] = np.c_[a[:, 0] + j, a[:, 1] + i]\n",
        "            Tr[k * 4:(k + 1) * 4, :] = tr + k * 5\n",
        "    C = np.c_[action_values[:, :, 3].flatten(), action_values[:, :, 2].flatten(),\n",
        "              action_values[:, :, 1].flatten(), action_values[:, :, 0].flatten()].flatten()\n",
        "\n",
        "    ax.triplot(A[:, 0], A[:, 1], Tr, **triplotkw)\n",
        "    tripcolor = ax.tripcolor(A[:, 0], A[:, 1], Tr, facecolors=C, **tripcolorkw)\n",
        "    return tripcolor\n",
        "\n",
        "\n"
      ],
      "metadata": {
        "cellView": "form",
        "id": "ePzDjVJaC9bZ",
        "colab": {
          "base_uri": "https://localhost:8080/"
        },
        "outputId": "ef24d0e6-403e-4527-efda-f4d523e36c23"
      },
      "execution_count": 1,
      "outputs": [
        {
          "output_type": "stream",
          "name": "stdout",
          "text": [
            "\u001b[?25l     \u001b[90m━━━━━━━━━━━━━━━━━━━━━━━━━━━━━━━━━━━━━━━━\u001b[0m \u001b[32m0.0/624.4 kB\u001b[0m \u001b[31m?\u001b[0m eta \u001b[36m-:--:--\u001b[0m\r\u001b[2K     \u001b[91m━━━━━━━━━━━━━━\u001b[0m\u001b[90m╺\u001b[0m\u001b[90m━━━━━━━━━━━━━━━━━━━━━━━━━\u001b[0m \u001b[32m225.3/624.4 kB\u001b[0m \u001b[31m6.0 MB/s\u001b[0m eta \u001b[36m0:00:01\u001b[0m\r\u001b[2K     \u001b[91m━━━━━━━━━━━━━━━━━━━━━━━━━━━━━━━━━━━━━━━\u001b[0m\u001b[90m╺\u001b[0m \u001b[32m614.4/624.4 kB\u001b[0m \u001b[31m10.4 MB/s\u001b[0m eta \u001b[36m0:00:01\u001b[0m\r\u001b[2K     \u001b[91m━━━━━━━━━━━━━━━━━━━━━━━━━━━━━━━━━━━━━━━\u001b[0m\u001b[90m╺\u001b[0m \u001b[32m614.4/624.4 kB\u001b[0m \u001b[31m10.4 MB/s\u001b[0m eta \u001b[36m0:00:01\u001b[0m\r\u001b[2K     \u001b[90m━━━━━━━━━━━━━━━━━━━━━━━━━━━━━━━━━━━━━━━━\u001b[0m \u001b[32m624.4/624.4 kB\u001b[0m \u001b[31m4.1 MB/s\u001b[0m eta \u001b[36m0:00:00\u001b[0m\n",
            "\u001b[?25h  Installing build dependencies ... \u001b[?25l\u001b[?25hdone\n",
            "  Getting requirements to build wheel ... \u001b[?25l\u001b[?25hdone\n",
            "  Preparing metadata (pyproject.toml) ... \u001b[?25l\u001b[?25hdone\n",
            "  Building wheel for gym (pyproject.toml) ... \u001b[?25l\u001b[?25hdone\n"
          ]
        }
      ]
    },
    {
      "cell_type": "markdown",
      "metadata": {
        "id": "DrqzCSTJC40-"
      },
      "source": [
        "## Import the necessary software libraries:"
      ]
    },
    {
      "cell_type": "code",
      "execution_count": 2,
      "metadata": {
        "id": "Cbh-c7IHC40-"
      },
      "outputs": [],
      "source": [
        "import numpy as np\n",
        "import matplotlib.pyplot as plt"
      ]
    },
    {
      "cell_type": "markdown",
      "metadata": {
        "id": "a22nOk3cC40_"
      },
      "source": [
        "## Initialize the environment"
      ]
    },
    {
      "cell_type": "code",
      "execution_count": 3,
      "metadata": {
        "id": "6n8qd3UYC40_"
      },
      "outputs": [],
      "source": [
        "env = Maze()"
      ]
    },
    {
      "cell_type": "code",
      "execution_count": 4,
      "metadata": {
        "id": "WIf-YFv4C41A",
        "colab": {
          "base_uri": "https://localhost:8080/",
          "height": 516
        },
        "outputId": "cf5951ce-371b-4b00-dd47-ad41c5d386a0"
      },
      "outputs": [
        {
          "output_type": "execute_result",
          "data": {
            "text/plain": [
              "<matplotlib.image.AxesImage at 0x7b054db211b0>"
            ]
          },
          "metadata": {},
          "execution_count": 4
        },
        {
          "output_type": "display_data",
          "data": {
            "text/plain": [
              "<Figure size 600x600 with 1 Axes>"
            ],
            "image/png": "[encoded data removed]"
          },
          "metadata": {}
        }
      ],
      "source": [
        "frame = env.render(mode='rgb_array')\n",
        "plt.figure(figsize=(6, 6))\n",
        "plt.axis('off')\n",
        "plt.imshow(frame)"
      ]
    },
    {
      "cell_type": "code",
      "execution_count": 5,
      "metadata": {
        "id": "JlaI_roFC41A",
        "colab": {
          "base_uri": "https://localhost:8080/"
        },
        "outputId": "2347e6a5-6d40-45d5-8707-e5714286868d"
      },
      "outputs": [
        {
          "output_type": "stream",
          "name": "stdout",
          "text": [
            "Observation space shape: [5 5]\n",
            "Number of actions: 4\n"
          ]
        }
      ],
      "source": [
        "print(f\"Observation space shape: {env.observation_space.nvec}\")\n",
        "print(f\"Number of actions: {env.action_space.n}\")"
      ]
    },
    {
      "cell_type": "markdown",
      "metadata": {
        "id": "qVJJ6q1HC41A"
      },
      "source": [
        "## Define value table $Q(s, a)$"
      ]
    },
    {
      "cell_type": "markdown",
      "metadata": {
        "id": "ORp1YH_aC41B"
      },
      "source": [
        "#### Create the $Q(s, a)$ table"
      ]
    },
    {
      "cell_type": "code",
      "execution_count": 6,
      "metadata": {
        "id": "cgfl90rHC41B"
      },
      "outputs": [],
      "source": [
        "action_values = np.full((5,5,4), -100)\n",
        "action_values[4,4,:] = 0."
      ]
    },
    {
      "cell_type": "markdown",
      "metadata": {
        "id": "hcP6tTxxC41B"
      },
      "source": [
        "#### Plot Q(s, a)"
      ]
    },
    {
      "cell_type": "code",
      "execution_count": 7,
      "metadata": {
        "id": "oizc7n5CC41B",
        "colab": {
          "base_uri": "https://localhost:8080/",
          "height": 707
        },
        "outputId": "3a2f430e-f4ba-4267-fd00-3886810ec354"
      },
      "outputs": [
        {
          "output_type": "display_data",
          "data": {
            "text/plain": [
              "<Figure size 700x700 with 2 Axes>"
            ],
            "image/png": "[encoded data removed]"
          },
          "metadata": {}
        }
      ],
      "source": [
        "plot_action_values(action_values)"
      ]
    },
    {
      "cell_type": "markdown",
      "metadata": {
        "id": "nbaA_FTOC41B"
      },
      "source": [
        "## Define the target policy $\\pi(s)$"
      ]
    },
    {
      "cell_type": "markdown",
      "metadata": {
        "id": "nukJJ4C5C41B"
      },
      "source": [
        "#### Create the policy $\\pi(s)$"
      ]
    },
    {
      "cell_type": "code",
      "execution_count": 8,
      "metadata": {
        "id": "olq0oBdtC41C"
      },
      "outputs": [],
      "source": [
        "def target_policy(state):\n",
        "    av = action_values[state]\n",
        "    return np.random.choice(np.flatnonzero(av == av.max()))"
      ]
    },
    {
      "cell_type": "markdown",
      "metadata": {
        "id": "cOZ1tTwDC41C"
      },
      "source": [
        "#### Test the policy with state (0, 0)"
      ]
    },
    {
      "cell_type": "code",
      "execution_count": 9,
      "metadata": {
        "id": "_voDy9c_C41C",
        "colab": {
          "base_uri": "https://localhost:8080/"
        },
        "outputId": "dae10766-87a3-4d2f-c3a8-91b1dcb58fea"
      },
      "outputs": [
        {
          "output_type": "stream",
          "name": "stdout",
          "text": [
            "Action taken in state (0,0): 3\n"
          ]
        }
      ],
      "source": [
        "action = target_policy((0,0))\n",
        "print(f\"Action taken in state (0,0): {action}\")"
      ]
    },
    {
      "cell_type": "markdown",
      "metadata": {
        "id": "NFwZnXnuC41C"
      },
      "source": [
        "#### Plot the policy"
      ]
    },
    {
      "cell_type": "code",
      "execution_count": 10,
      "metadata": {
        "scrolled": false,
        "id": "YD94lrg8C41C",
        "colab": {
          "base_uri": "https://localhost:8080/",
          "height": 414
        },
        "outputId": "710be00b-9395-411c-b6af-c0fafcfcb32a"
      },
      "outputs": [
        {
          "output_type": "display_data",
          "data": {
            "text/plain": [
              "<Figure size 800x400 with 2 Axes>"
            ],
            "image/png": "[encoded data removed]"
          },
          "metadata": {}
        }
      ],
      "source": [
        "plot_policy(action_values, frame)"
      ]
    },
    {
      "cell_type": "markdown",
      "metadata": {
        "id": "OpF1hK0pC41C"
      },
      "source": [
        "## Define the exploratory policy $b(s)$"
      ]
    },
    {
      "cell_type": "markdown",
      "metadata": {
        "id": "D1fgpKHNC41C"
      },
      "source": [
        "#### Create the policy $b(s)$"
      ]
    },
    {
      "cell_type": "code",
      "execution_count": 11,
      "metadata": {
        "id": "peLw01SNC41C"
      },
      "outputs": [],
      "source": [
        "def exploratory_policy(state, epsilon=0.):\n",
        "    if np.random.random() < epsilon:\n",
        "        return np.random.randint(4)\n",
        "    else:\n",
        "        av = action_values[state]\n",
        "        return np.random.choice(np.flatnonzero(av == av.max()))"
      ]
    },
    {
      "cell_type": "markdown",
      "metadata": {
        "id": "freAhtDgC41C"
      },
      "source": [
        "#### Test the policy with state (0, 0)"
      ]
    },
    {
      "cell_type": "code",
      "execution_count": 12,
      "metadata": {
        "id": "MDAK-2nxC41C",
        "colab": {
          "base_uri": "https://localhost:8080/"
        },
        "outputId": "eeca568f-6659-43d9-a554-b4becbfa9a0a"
      },
      "outputs": [
        {
          "output_type": "stream",
          "name": "stdout",
          "text": [
            "Action taken in state (0,0): 3\n"
          ]
        }
      ],
      "source": [
        "action = exploratory_policy((0,0))\n",
        "print(f\"Action taken in state (0,0): {action}\")"
      ]
    },
    {
      "cell_type": "markdown",
      "source": [
        "#### Plot the policy"
      ],
      "metadata": {
        "id": "b-8GPBPTDdiG"
      }
    },
    {
      "cell_type": "code",
      "source": [
        "plot_policy(action_values, frame)"
      ],
      "metadata": {
        "id": "IUQ7uj_lDdqj",
        "colab": {
          "base_uri": "https://localhost:8080/",
          "height": 414
        },
        "outputId": "d5b2eca4-4b16-4e8f-f0c8-aeeb80cfa64c"
      },
      "execution_count": 13,
      "outputs": [
        {
          "output_type": "display_data",
          "data": {
            "text/plain": [
              "<Figure size 800x400 with 2 Axes>"
            ],
            "image/png": "[encoded data removed]"
          },
          "metadata": {}
        }
      ]
    },
    {
      "cell_type": "markdown",
      "metadata": {
        "id": "2SQoXrmcC41C"
      },
      "source": [
        "## Implement the algorithm\n"
      ]
    },
    {
      "cell_type": "code",
      "execution_count": 14,
      "metadata": {
        "id": "2Eb9IQLDC41C"
      },
      "outputs": [],
      "source": [
        "def off_policy_mc_control(action_values, target_policy, exploratory_policy, episodes, gamma=0.99, epsilon=0.2):\n",
        "\n",
        "    for episode in range(1, episodes + 1):\n",
        "        G = 0\n",
        "        W = 1\n",
        "        csa = np.zeros((5, 5, 4))\n",
        "        state = env.reset()\n",
        "        done = False\n",
        "        transitions = []\n",
        "\n",
        "        while not done:\n",
        "            action = exploratory_policy(state, epsilon)\n",
        "            next_state, reward, done, _ = env.step(action)\n",
        "            transitions.append([state, action, reward])\n",
        "            state = next_state\n",
        "\n",
        "        for state_t, action_t, reward_t in reversed(transitions):\n",
        "            G = reward_t + gamma * G\n",
        "            csa[state_t][action_t] += W\n",
        "            qsa = action_values[state_t][action_t]\n",
        "            action_values[state_t][action_t] += (W / csa[state_t][action_t]) * (G - qsa)\n",
        "\n",
        "            if action_t != target_policy(state_t):\n",
        "                break\n",
        "\n",
        "            W = W * 1. / (1 - epsilon + epsilon/4)"
      ]
    },
    {
      "cell_type": "code",
      "execution_count": 15,
      "metadata": {
        "id": "KiZKXToPC41C"
      },
      "outputs": [],
      "source": [
        "off_policy_mc_control(action_values, target_policy, exploratory_policy, episodes=1000, epsilon=0.3)"
      ]
    },
    {
      "cell_type": "markdown",
      "metadata": {
        "id": "CYxFltRiC41C"
      },
      "source": [
        "## Show results"
      ]
    },
    {
      "cell_type": "markdown",
      "metadata": {
        "id": "Tal5dKjHC41C"
      },
      "source": [
        "#### Show resulting value table $Q(s, a)$"
      ]
    },
    {
      "cell_type": "code",
      "execution_count": 16,
      "metadata": {
        "id": "iv-WsX5aC41D",
        "colab": {
          "base_uri": "https://localhost:8080/",
          "height": 707
        },
        "outputId": "4052f123-7105-40de-d433-c87acb2e2f66"
      },
      "outputs": [
        {
          "output_type": "display_data",
          "data": {
            "text/plain": [
              "<Figure size 700x700 with 2 Axes>"
            ],
            "image/png": "[encoded data removed]"
          },
          "metadata": {}
        }
      ],
      "source": [
        "plot_action_values(action_values)"
      ]
    },
    {
      "cell_type": "markdown",
      "metadata": {
        "id": "YiqFH-AqC41D"
      },
      "source": [
        "#### Show resulting policy $\\pi(\\cdot|s)$"
      ]
    },
    {
      "cell_type": "code",
      "execution_count": 17,
      "metadata": {
        "id": "uUV8g2HmC41D",
        "colab": {
          "base_uri": "https://localhost:8080/",
          "height": 414
        },
        "outputId": "f47c5488-e7d1-4616-a97b-0b956d0ddf5d"
      },
      "outputs": [
        {
          "output_type": "display_data",
          "data": {
            "text/plain": [
              "<Figure size 800x400 with 2 Axes>"
            ],
            "image/png": "[encoded data removed]"
          },
          "metadata": {}
        }
      ],
      "source": [
        "plot_policy(action_values, frame)"
      ]
    },
    {
      "cell_type": "markdown",
      "metadata": {
        "id": "s0ZNhRacC41D"
      },
      "source": [
        "#### Test the resulting agent"
      ]
    },
    {
      "cell_type": "code",
      "execution_count": 18,
      "metadata": {
        "id": "MsWhGY79C41D",
        "colab": {
          "base_uri": "https://localhost:8080/",
          "height": 521
        },
        "outputId": "a0f737cf-a478-4c35-d537-2c10c4484c28"
      },
      "outputs": [
        {
          "output_type": "execute_result",
          "data": {
            "text/plain": [
              "<IPython.core.display.HTML object>"
            ],
            "text/html": [
              "<video width=\"500\" height=\"500\" controls autoplay>\n",
              "  <source type=\"video/mp4\" src=\"data:video/mp4;base64,AAAAIGZ0eXBNNFYgAAACAE00ViBpc29taXNvMmF2YzEAAAAIZnJlZQAAudJtZGF0AAACrgYF//+q\n",
              "3EXpvebZSLeWLNgg2SPu73gyNjQgLSBjb3JlIDE2MyByMzA2MCA1ZGI2YWE2IC0gSC4yNjQvTVBF\n",
              "Ry00IEFWQyBjb2RlYyAtIENvcHlsZWZ0IDIwMDMtMjAyMSAtIGh0dHA6Ly93d3cudmlkZW9sYW4u\n",
              "b3JnL3gyNjQuaHRtbCAtIG9wdGlvbnM6IGNhYmFjPTEgcmVmPTMgZGVibG9jaz0xOjA6MCBhbmFs\n",
              "eXNlPTB4MzoweDExMyBtZT1oZXggc3VibWU9NyBwc3k9MSBwc3lfcmQ9MS4wMDowLjAwIG1peGVk\n",
              "X3JlZj0xIG1lX3JhbmdlPTE2IGNocm9tYV9tZT0xIHRyZWxsaXM9MSA4eDhkY3Q9MSBjcW09MCBk\n",
              "ZWFkem9uZT0yMSwxMSBmYXN0X3Bza2lwPTEgY2hyb21hX3FwX29mZnNldD0tMiB0aHJlYWRzPTMg\n",
              "bG9va2FoZWFkX3RocmVhZHM9MSBzbGljZWRfdGhyZWFkcz0wIG5yPTAgZGVjaW1hdGU9MSBpbnRl\n",
              "cmxhY2VkPTAgYmx1cmF5X2NvbXBhdD0wIGNvbnN0cmFpbmVkX2ludHJhPTAgYmZyYW1lcz0zIGJf\n",
              "cHlyYW1pZD0yIGJfYWRhcHQ9MSBiX2JpYXM9MCBkaXJlY3Q9MSB3ZWlnaHRiPTEgb3Blbl9nb3A9\n",
              "MCB3ZWlnaHRwPTIga2V5aW50PTI1MCBrZXlpbnRfbWluPTIwIHNjZW5lY3V0PTQwIGludHJhX3Jl\n",
              "ZnJlc2g9MCByY19sb29rYWhlYWQ9NDAgcmM9Y3JmIG1idHJlZT0xIGNyZj0yMy4wIHFjb21wPTAu\n",
              "NjAgcXBtaW49MCBxcG1heD02OSBxcHN0ZXA9NCBpcF9yYXRpbz0xLjQwIGFxPTE6MS4wMACAAAAF\n",
              "MWWIhACf2WdBBMcSgR79PWMxFJhtRQC+1MOxfqRffl+BIGYSpbn04L89reMR6l2wAAADAAADAECn\n",
              "OiagH/jHhnJs3HXkrrQfF5oa8HLd82/vrqnbi9C9vrFggyET+x4Q25j0yND/U4k9M1R0FXm6Lrv0\n",
              "aD/rR83P2BK20vKWX+HkwEbSz9RfrXptVXY+5G7HyoGY9chS34e75Txzfpq1RM27zE3s57b38aFj\n",
              "OwhgHj8mm2atPwNkg4hAwFSzpmNFm+tKbRv/lOAAAm43JrZDa0QCwtM94JXXFM2qwBKZnoWASi1O\n",
              "7PSeWvSSKl4NN9TC+hf+KmRJFgjINlLerUF/wGOVIP46zEbfTmDMz5PxKag4QcI13a5w41BH4u4/\n",
              "yWQAAAMDxrqgsqU2+tlF7vaDtRHXGYp9ePessE8YgLaOtgsBNjaxMRK59BnDQ4w+YdrBosX5JByk\n",
              "6V+Gc0mQgABO1bf/KpErW7HtRJ+LX2McvPeogm2Wpo+HqalEgttqNfI0159kYIYyVpk0Q3AiiDH1\n",
              "LIMZFtURtxN/B92HdRtaPDZ8JAoxhM6raAxcvPiDeYsJhn022FTfOKKIqSS3I6xaCwQDYuT+VQg8\n",
              "oXl3u7Te7whOgQl2wAFEluxNDnFp9z5wn0cz0HbEgq0SxzsUeHfN27lAlE7xgFE2/tSFAkKRlQjK\n",
              "yIh33rzuonMvSFMu73tr1AocGyY/Oo8jL/pIT1XIyTtk1RuJsGCkjergHPm8qhkAlGPjMruvPqal\n",
              "fqCKA6xvhcTulTX8Cp27Ukbt227RyxXEdXQ0kb6LcpO6DRMQ51MSroL+tChjnQ9Z9KNGl0WftPRf\n",
              "ZKm7dR62VSPolXBrLj0sv2APG2a61GBDJnbEv4eyIB0MtHQj1gFeCPg/wumy0ExSW7eamIMv6maJ\n",
              "zkZpB1pr/azNy1xCN2CLySIW5boKPnj7ZDb8Swq7MQ2iMEDeTwv38KdvNPlZ+KWWUtyga7omR/1l\n",
              "Eo1vkuaYgekxlywe049t/7UfVP4XQvaKqR1WhFlRliXgrtfftfyj41l/LboFK2ue2u2sBZ3KbqWm\n",
              "0zHqCKdeQVy2rd8a7W0XtKvWfPre4dDYuia2IdALcav1ETKXF/Z95ywOOjCDq5+vGmfwix2gXTcX\n",
              "rmdKoVaOQEhJRiW+r5YPNp7TaeUoBXJ4GMZW6HlEYGRL3r4wGsTwXVzps3Sl3Vmlo56cepIX/Zer\n",
              "MJARCgAANhJBQiKi8QSN3UlAzqKL9W1fpZni8iMG2Itmv6jqRZ+9n1wariSYodVkw1bxeEZS4ltz\n",
              "QXTKVvFqrx5AP+ZaPru8xlOFWd9vmsCS8bzAqiNJg2hyHOTa0I44H/PvU4oxlyvVs1BSnhWpjzwB\n",
              "nZnjKvKQe8VzdBZgD0K/WsK3eBxpM5pFVUl/AcT8tFcq8/rPHvcqH8P2PqeSgbCP6rZ3FKCQmKK3\n",
              "dKCYMHs48f5sFZDGpIJHkWMdvDDBgvXx7wzAXfTUgiv+NHki9gBRdGP7W0OYc+XoSfsUmKbnKKe1\n",
              "tuRjaAWjIJocE4tF5AJIUJ0ZPfiu+NIgAP5ZArxC22vn5NrfSMJthtUrW4ciRvKcpzmgCTxqG/tb\n",
              "1UU8kBPRbukVNnFA6C3QypOqSRSL4Ib3bcnAsF0NHRoWUCh7Pc4GSbVqIptsEcPRB39IdlIAel+l\n",
              "laVkzG/isPSsz3hCtQ+V+zTWaCJURem+iqmFvjPEWc0ksqBk2iwpIomfOFDrhFUqaBuyA6mh73BE\n",
              "gOSP9GpPpADIBiiP9LX3fA1hgQAAAZRBmiFsSf8AHeN61YNkEcZDcTsrfMztMjE2mAQ/oQn/sVzX\n",
              "rdpW9GJKRe9CdJRNb9+IlESR30HDkaV6Ownz560j8RjiI81HDTgg0i5Y0FYxzEE/8aLuesni6e73\n",
              "fk2VwcXutPxgdFuhZrLfAVkx3jlaqbxlkqq42OcMdJnUSvWj1nLMame/1VEi2adKxcv4y2HCRhBa\n",
              "ZaRcanooyQSmmztCue5K081LNVFkf4n0mT3dG85auZgTwIjinoYOL7y68XU4RI3lGQYa8RePzbJf\n",
              "qpmPzeQsVQVO9kV/RaLSEUNQSKEUbZ/7JIRvaw8kg+6eMJEr2UmdlTSUSoza2KRgUeDSpXF1//VE\n",
              "SX9D3mEV1Q6FVwYE7WNIMSNiULru+XQqPfsUv243ivgE2zvzAxYbUPZvCdWGIAsZuQgITiEjM1W/\n",
              "SWB0OOPBYCndUHhl79wAAcgpuAe5dByQiBbT/QVJL45xHgkVN1TrbKfC84rQ6jVcMwTkl8MDRfG+\n",
              "PkuN7szU7AAAAwAAAwEVlKoAMSnBCmi63PHDtQAAAbJBmkI8IZMphJ8AACA53CAa8GzsVy/AptDN\n",
              "Vjmwb/1/Sel8TAEK6pgJmWG/Mkg1j4QG9Mee7r7XGfZ0JF8lgleeaGHg22j1zKVRgBOi12Odtfm/\n",
              "fxx2LMaaDKMK1yAndVHin1v0JbJvAKRJMuhtiIcizYv+WgGyr/Ow5AbNKWjTA3YKy1CW+OeuONS3\n",
              "h2OuTYMJaEeYWga4LnChohbPEFJoeA1r9hs1CnNBPdCPDHgPr9+DrvRDZramI7emA1/FVa5l7/c3\n",
              "L+A++McqMrXJUguSTouAjCHoH6Y782DAJD7gDE+1eg6ILV7H9FrkPSxqgR9Gzh2m/v5H6q+L9cRF\n",
              "D/7dI3TLDkvKI+Oqk/D43iCIdLETkif7CGNneOp5/BOpjJShEz7nE+tdpkZujYI3Limc5VHKjrJ5\n",
              "jMOL9OW4ksog5KXqlhhnE9m6aM17D7CqQlt+I2nfSSoDoE6r0erv6wgRZ0pFzJFrsihis+XThkC2\n",
              "fAhwsufnS+eQIPLhK3ZOChfw8YbDveVE5GnKNumeZ2AzXHjsXhW/PbAMTf/s4v2PAkukmyinSBdU\n",
              "qBId3xPKQQBxwQAAAadBmmNJ4Q8mUwJPAAADADqf5TouWjloVs1JNJbiH2H71qQBAkp3Rwz5yHW7\n",
              "fxghNz2UdHFZiYLNE5yPZ+l1Ves82SFVjcyRtndeJ9ZXdIGj9IboDc1rVBE3BoLPMC7wqR+14uMQ\n",
              "DKTXDdILEfxxEU38YtV1TIR5BtWt4HpVzLyKIEJF69QXvAlbcfNJbO20neWhf/rga2zNu7pFHAwr\n",
              "vvZ9HqzkSPBEjGMqr1dIWiHqeF4yctDiTKyb3+h4L/I2Qyo2d1ASGsupejPmrBs8hgeG42doqnZf\n",
              "A9+CVoWGUFl3NtymiU9//X/nYtScWIq+771zVYZhFVPfKJgQKiiXJR1+2A2/0xEMOX4/gsmKBM3+\n",
              "XXbsYPdLdqpJ9BZDxcWGVC9CPaiivsu1C2z/FlhiyOXNGVF7pI28JUgYZNnpPTl8CCKbgJgga0L8\n",
              "mrxIbHVN0opI5OQZP3AT7rXDVxoZh7TCIhMt7sinKxMZMwy3q09phMuxViYand06KWjm3o73At1e\n",
              "bYtfRjhdsb2OP3C342eAMRkN9/uoxFwBH8Hp1NxTP72+pt8QesAAAAGSQZqESeEPJlMCTwAAAwAA\n",
              "ar/Llg+fVXDJpsteEi78VgOIBCeFr2Mtk0EAjZ+cD3+S0KuwuX06Kp1lHscLyoGLPlSBPr5jHqvS\n",
              "+ab5yv/LD8QfLYi1gIOpxoi/zvFB7Zh4+qI9F9gUK0TCSqnSvpUkR9dgoXcEiBKPSGriySSqAkxj\n",
              "4SwZa05sPaocyp501yVoY4/e8pBXQRRGoLb8aiFojbpXJfquuvluctPk+KFqpD1hqeLR0Hhp/w1C\n",
              "tGEiAzcA0itU0uIDy22awT78ObViAEM6yUZoSuknJ2r//3ZxBB5vCuaimmatkCBJc9xP/JStbgK6\n",
              "meiibOhUBqgRGE7fiPh+sAYyvpOEpPRWu45j48VSBH6ZBNmYcI40OUDxTshfMiGZvkC7sehMXYRG\n",
              "SbcuYmy3aTBYrQ6/uC7mJzv+ubZfv9QARvKzu+fh+5j5h2GFoLYIP4BXwe19tw0FIhFsD50mW1Nq\n",
              "0xXdjT7A+2y5AuHWaWp+UFBZJ1F55rIfx1YGaItg1OBuHpt7ZqKX3OOxfqYNAAABhEGapUnhDyZT\n",
              "Ak8AAB1P8t6QEcHyOTHj+gCj0+Iip+aLkqS1nGDNr95l9i3/dbenUIDJiMNzyyOWBvz+OqJPxB14\n",
              "9aLo4t7lmmLZeUqpA5wNJb5kyi2E5VSNfLK6kPyx8bkq6KraS+0OR50NfkythUVafdA02pwqVi24\n",
              "cfDLg5VYwZWGBkGAtXjBe9nMRNfIEnU800/i/qUDjuqgcZ13f0NPA0fSULMHWzzH4b43t6dyKZCa\n",
              "0iwxH0pG6ZhxknwgUadWdM7cQ0AlN1AKFhtBGf433R7LkQC+7v/LAb/3C2UvhlQOHWvpKcxwVxCP\n",
              "XuWKhaQ+sKE2Jpff2yPbsHYZLaK4NLCZLGvXhEAoJ5X8dRckEUmoWJBoPawSLgHqTxsUpGbYUkWE\n",
              "D/Y5E76A/Z28Am1znOFrLf7umKbgywVTZU0DktilQG09DER0OOLJpyv8nX4cTrSW22iLzVggmB91\n",
              "TEaC8mzNP2SeBisVecicS+EuUw64wmGrZyJ8YcT9PRwDVcnb9dEAAAGVQZrGSeEPJlMCTwAAAwAA\n",
              "NL8hudlv8VezjR/NOTkIbQ7nZVRFJm0BwEwPsE226SIoxjkdMXH0P1A9VyFvUvRYm0PFdI2YuymQ\n",
              "3MBgCpvVtKL6QrMdQK/UZB2k1PrNr8iTyhjkKs9CFA0QB+q0IJ2QWxrwtkVqCndlo/6ujDt4W29V\n",
              "fx06c/onPr2sJwVQCLKQSr+a6SRy3GQBurUPCLU2EJ7MPKA7toBGlLxHvkEOfy5xY7BbONJ01QK8\n",
              "DPXpAb0Q23Isewv0mNEV7oMxLIcD+vb6oGJew+GdMBGHWzelWnkCAAGQaVt2bIEqmu0bpia7ASv5\n",
              "wpRVvy+PpXg3j1oPJZ/18w02R+ctNoIzb/ja4CL/7gBst35PS6jLiuSAKLlA3yR8J+eK3L5zep5l\n",
              "DoApxpg2OXrT8UkmGqpvMwvBZ3oO5Hu7EGyyUfxMaOShApCinZmsF4xs5Pyn+VIguO9EBWp67/sX\n",
              "u87sj18jUUXXqHTqTWZaD9zuR8Mm65R5eW4bOF+AsD5oY7ld3Doq+b8ENn1eEwq5AAABpkGa50nh\n",
              "DyZTAk8AAAMAAE55Y1EXb+MEJueyj5g2jWAkKZPkvtfXX9Pz5XiInQKFs0/AVR797HPZnO9RJUni\n",
              "mcV0je8+n0edl++VZaDzZ9RT+kPfW0Z+KZ1B8t71SkH95wslYAegaEtIKbq64hlQTzK5JlK6P4P7\n",
              "H1KQvjkurVHGMCougy3r7vV3TBAQBeWGwaq0URSwzmThBZruf0w5ouXNjHhXA1VA8UA4cyAxmP0Q\n",
              "zBfZDn74XTuaid4p53EKy/nRGtMcIJJoUdH1Bq/POdb+kIOllHYPd7JX3VWZGHZnZjL3VcK0y+74\n",
              "R9AIYgFT5N+jS08NWJckC3/N19PBqcMKqZtmNVM8RW54H3cUJUYvyZ/RYMkgGyBQk7fE+fW5a1Bw\n",
              "OIYJ1XmZtzr2uDB2iWBupZEkjn6Bk4R+51e64aFHlJT5GpPyjyZYM3SQ2kjzVTpdm7+BMiWmWOcO\n",
              "uq0Ck8Te33LKMri8V4jfM6KWCUKxouoQunbVn9TUFuO/RkA4JakMGiYNG66S9d4HDwsenaB/7mnr\n",
              "ZpWTisWdAFe4QyAF2Cq/rLM1AAABpEGbCEnhDyZTAk8AAAMAAE2TBO+jTdu/jBCbnspHF7ciB8PV\n",
              "2FRp/3AG0xPHKxETUP6mwTc6yNMYvlcaMWMchdQ2VUfaI/lDcXxeruo77yaUBqK7MGcgWP5DdnNq\n",
              "EZtGShozh45AQFCcyGOPj/3EfzH8TjI2ruHxjg7oD9BlwNOSeHweOEfkwSfK9Fyrxu58+Ipzf1iX\n",
              "noejCYlc8s86ut6O7hAZie8f25Bmh2/wbH39wevIrAYTBJv1FuZ+n6HweY2AdiAy1vykoMwziuDv\n",
              "zS3ZE1TMX1DY4MpgxkRwpJrSRx48i4a2BoRI1jY10ouQcZb3A5++XgADVpgSQHZkwJOlNj623JQl\n",
              "0uvtBLQ8QZkw4vTEiMSJlWWcKhwwXjoAXekZrXqNaBFuj7EPTgNI3pGEm2Sim2uQAIC/OpRESbjg\n",
              "7zm8EPUBr3f2e95e3csnSoYBsYmhqSIst4Sys0geb7vWFVlCHIbazOPtrMVLfBjzmBlWtoc2pTIy\n",
              "jt2caqn4NsF/1kOi2kcL4MfeDFtoA3svufnO94tq+mxj3C3m2BCQAgaCSAAAAZhBmypJ4Q8mUwUR\n",
              "PJ8AAAMAAEGS+FjfYDLbADKkrl6eKfInSdF2qIzdaeioEDjQwPGqecb6vWrS29Etx9Yj7jLuc+ec\n",
              "1rqcA6lubOusaO53jwbBNWKXcJUSP5l7+Y7JGZK+kP3oEmLgm32oEtGhkNJ9gaxdlWRuP9t7mfQj\n",
              "/y2BLUcHHl5EXjFOPc/+S2dcg7XmznQOo9YT+DBllSUUFf7qJUWT1gkhaYy8+OFq7lGGocH34+B4\n",
              "/J8tcXXuSZrmVhDNECT2PVw22f2g32XqzcN+1Ec7YrNbp+uurqAW3TA2Vnhi9Dsa+UnwNw7n/fw+\n",
              "gvUsfzBsRX1gEHk7npLJeipHJ+MSG2RddIWlrdPod1G9gtNC6d9ko3NT5Tf8REylJjVWzb7pKwWQ\n",
              "DgWzXPyqgUVavcX5GuvS8+Gn61mmQItJa5NvIunOygBiyfG4qLYRsDfxUrPl61aVU1GWEXPzaJr2\n",
              "9CHGox1kpUQYpl5dcpMyeLmgT3drCeW5hEmiWiV0hE8JSuPx/CqwQ+JX+hxH3yTjrEfwTw4A6YAA\n",
              "AAAwAZ9JakLfAAADAZOg5r+XK4ndT9tBNOGFu1qR5UnQ0im/ksoT1Jbt0Qu7VT/BjYeBAAABZUGb\n",
              "S0nhDyZTAk8AAAMAADTLE8pVz/LvUpTpwTsxyhoVcH4saBVflaF160CeYRKBiz5aNbbMt97fHIxh\n",
              "AQXI7IjzCSOIuSAfRDbB0h45AHzVQ74PGM0u9/CMjaadnbw4CjVwzl9G1Z9indmsSevwIILHcKAb\n",
              "Sj/oXE3UxHsNJh0Vw5gSbHXCSPQg95SleB6Wm5AvOYeTMynf3Ob7e22iZBCsMLRp9ujXdK23gfe+\n",
              "zqH3CNOMt0U/L6JFvLJQGdG6ZTihfM+f1zxU9yAOKMfbBB3SlHRy2O/5cJZOfyN4pCvy1GT7V2TN\n",
              "Tg41bFCGCFFksO1fNi+I/XIAMGb+t5LhGGADK5BNAMIoy9Kln1rlpXdJUYgx7WlB53rc/6DI3Yeb\n",
              "t2QbsAqyitg2jBvLDV+69mt/U3S73Zppvw6fyOIExVs/G6G6MYSIhssIlDZ5aggcYeP/QntCder7\n",
              "Y/InSwOCrHbcVO7gpgAAAYZBm2xJ4Q8mUwJPAB88CGgUf4KhCrsLl9OiqdZR7HC8qBiz5UgT6/qS\n",
              "rJm8Yb0Ff+WImNcvwX3v2N840Rf53ig9sw8fVEei+wKFaJvymJFS8eMxphim4DF3BIgSj0hrzHvN\n",
              "ON+IoLfw8rTmw9qhzKnnTXJWhjj98GOK+e1/HCSH+cL4bK+NFdbaiMwfQZKv4nihaqQ9Yani2BV6\n",
              "gN6e0YSIDN4Qu+d17cie2MgwoIc2rEAIZ1ko0OLBX4WwfPzzmjNWPH458FmBHanpRG1ncekos6M1\n",
              "kNMtfrkVpRNnuTubDlXX4aeWSaumM4aGIIjCBZvbOsXrrOfsjo85lS4HFM+V5NVxEYxQHSFWiPIf\n",
              "sCeIXnirV5bKG0ml28IvPPGcQyLC2Qbmkg3f0f1zP5T5z5UTlB5n57QdXaT/nh+dOs3Y2tifxjVz\n",
              "akp4nD8dXOxugz98VFBl11sov/gkOOjVddQeX1q4cjonNx6zgvpQALackfqf7J3sEaWRwWvtbCK0\n",
              "TrVrlqoMg4AAAAGBQZuNSeEPJlMCTwAd1wXpfeO1WDnG6ywlGxwyTANYPrRf7oQHuDbruaCrVJSi\n",
              "JI76DhyNFA656Ql07C/xa531qkdrRRpFyxoKxjmIJ/40Xc9ZPFYnMVebkIpvr3Wn4wOi3Qs1JJgU\n",
              "kuEGxr+QBJusquNjnDHSZPKBYGTD6zGpnv9VRItmnSsXL+MthwkYQWmWkXGp6DBhgd8piK57kpwz\n",
              "LUgSGgR66r7OTTaLoiAa/3gRHFPQwcX3l14uqa6RKhP3B+w2Uerf7PVOY/N5CxVBU70BsUUvGgpW\n",
              "9OlgRRtoAwkhG/411aq7c2puWEm/7Ou6SiVGbWxSMCpYaVK4u3y/wLJf0PeYRXVDoVXBgTtY0gxI\n",
              "4cv0F9T1MPtJkVBRwJR71g5ZE7gyMyyqHa/LYdigWM3IQEJxCRmarfpLA6HHHgsBT52EWIU+4AAO\n",
              "QU3APcug5IRAtp/oKkl8c4jqGOdkIwD2tnHlDUi5GYkIn2/danCSqcXw6QVCmHJHmkAZj0pkfQAA\n",
              "Aa9Bm65J4Q8mUwJPAAFd/2S7BZ0gGtXC4ox4kLbA9+P7p3QFJP3b0PAH3yvsO5Uv8SveByvOCZvz\n",
              "3dfa4z7OhIvksErzzQw8G20euZSqIHW9YnH7tr837+OOxZjTQZRhWuQE7qpJ48kQUoAxJaERSe59\n",
              "ExC0/xFf5FCbKv87DkBs0pWjGB08Gy1CW+OeuONS3h2OuTYMJaH+YWgS4LnChohbPDuctfA1r9hs\n",
              "1CnNQ3NCROy5/X78HXeiGzW1MR29LyOlm0X16uz2XPhH98Y5UZWuSpBcYXW5OUfmgfpjvzX+5SH3\n",
              "AGJ9q9B0QWr2U3XaTj8gF/DBdnDtN/fw0oihq29gKH/26RumWHJeUR8nQ0/D43iCIdEbTkif4/Ib\n",
              "O8dTz+Ck3hgzPJk121/KiC49gDKqqqcuHC+yo6yeYzDi/TluJLKIOSl6pVkgsOQ9323O4hhVIS2/\n",
              "EbTvtIrbtCdV6PV39NQIs6Ui5ki12RQxWfLplIGPDc/YrLn50vnkCDy4SvGTgoX8PGGw73hpcek2\n",
              "nM/gPbsHy+47F4Vvz2vupogR73bHgSXSTY+G/SgALiRoYQAAAZpBm89J4Q8mUwJPAAADADqf5Tou\n",
              "WjeNx60KywkPJ+WS9rSeB6k6+L3v4wQm57KOji1hVsgOH1RXfZlfes82SFVjcyRtndeJ9ZXdIGj9\n",
              "IboDc1rVBE3K9vYPLvCpH7Xi4xAMpNcN0gsR/HERTfxi1XVMhHkG1a3geth3ZHcAXgPXqC94Erbj\n",
              "5pLZ22k7y0L/9cDjc81ZFm9TF1vGMef4LORI8ESMYyqvV0haIep4XjJyygWsVk3v7jgv8jZDKjZ3\n",
              "UBIay6l6M+asGzyF8DAFwwVVs7KjuBIJXPr3QWXc23KaJT3/9f97sD4xYir7vvXNVhmEVU98ol+1\n",
              "fH6dAVcnHYhEfcM4OX4/gsmKBM3+XXbsYPdLdqpG3QOULr61U97xP3vTCKpofN/NhYYsjlzRlRe6\n",
              "IZ9HV9wzHpejiOwBq9FYo3YUyfWl14kNjqm6UUkibkGT9w83Hb3lsaGYe0wiITLe7IpysTGTKU96\n",
              "nrcyfhCkEcC/WKh/U7h3hd+29WieO5FqBBUYLzVEQkqxrxiMhvv91GIuAI+TVNkP8QAAAZFBm/BJ\n",
              "4Q8mUwJPAAADAABtP8p0l9uIo0bQwbESNopPTuXvClh1UgRPjp/+CoQq7C5fToqnWUexwvKgYs+V\n",
              "IE+vnyb7Pl1H70Ff+WH4g+WxFrAQdTjRF/neKD2zDx9UR6L7AoVomHxsFEUlSRH12ChdwSIEo9Ia\n",
              "vEoHkHkxSXCWDLWnNh7VDmVPOmuStDHH73l3EiEURqO2/GohaI26VyX6rrr5bnLT5PihaqQ9Yani\n",
              "1LQ9AoefDUK0YSIDN0nXE1TSzColts1gn34c2rEAIZ1kozpDo8rZ3Z+R7ZxBB5vCvplF2grUCBJc\n",
              "9xP/JStbgK6meiibOhUa7rviIauFeisAYyvpOEpPRWu45j48h6O99tmbMw4RxocoHinuV4cV/7OQ\n",
              "Lux6ExdhEZJty5ibLdpMFitEn8nr3Mmr2a5qa5kAnP/60CsAckr7mPmHYYWgtgg/gFfPCX3QxJg3\n",
              "vWMHLB0H9tRqZ2Oxp9g8LZcXXk6N2bvKCgsk6i8krnEVcDNEWwanA3D029s1FL7nHYv1r+oUwAAA\n",
              "AaVBmhFJ4Q8mUwJPAAAdT/MGPvljG5ofJQNUrv56mn7ZmPhsmCBHAe7RwAMtjY1OqhLuzB2EmqNK\n",
              "w2G1RcRqySzbAi2buY/91radICLmIw2vibpz1xYvb0SfiDrx60Yx9cKy01wggyI/ht+++gVTPFGt\n",
              "VZTQgMTHFIfojWYhIi38UqXOSZHnQ1nuO2FRVsadun33rSxgRxEevc+vB3r60teXXHNvgARdlEh9\n",
              "Nk6nmmth/U6bDbTFU5nR3+wuhmmLp4v37GTVPoHjvUgOSkgArrgMR9AFmQYcZJ8IFKAWkjE4u8gf\n",
              "Y8+jwjPglQvnEbTChPCEpmuOvMkmgFspfDKggfsjqRD6FngiubNLF8rv5mRIv59O7bN23YT0JWhN\n",
              "RZ/PMWrRdodygPqv46QPYIpNQsU+dglQ+PQHZnjYdSM2wpIsKTOom+j9rKuOiExcqei1rK34zEU4\n",
              "xlgqPRXQOS2KVAbT0MRHDTYyo3q72zfgpQtpbbaIvNWCCYH3VMRoLwvq7/QFajsZ+6sR9RxBxfDr\n",
              "jCcQPVPPjDifp4luU2U1iPynVKmoOYVfAAAB8kGaNUnhDyZTAk8AAAMAAAMATn/YT5Nkx2RiuBvB\n",
              "l00PyhQOi8u46zW0SVBfj4i3UIiApROlzOurq7ihRA9f3v63KYUhIhZDGSPtG2HLqi+YW2XXEYDA\n",
              "ttcRMzCLjQ7HtdWWN2KcIUNKCeRBDL+YKsV00edDpyVEcRzF8af7CcP3+rUpXriyoMvQDpewjDVU\n",
              "lGvr9DgcMlx24lMhShAuTInJZ6IgvxzxqfvCBQX6yGkyKNBJIkbOEKIy5MHEGO0xnnkQZtsqjLug\n",
              "dVTYmcj14TsMLTBMubJ7Es8gejOUk4QeWzrMyPpT6J0XaeoouddYgWGfK5Kgg9jfzP6t6+sJVXZG\n",
              "lrTdBVqwAeID9xCZLPbqmuGG3dYVBcABPCQd0cEohDFyrNA1XCysVj6ES7AFxnBUO3Isv/rxmeiI\n",
              "sDENYn02xly4GCQdL2MCmfTp23412i23sU7qbrfEMlgDir36N2I///L3BXxq4losQvIxfzGv7ySR\n",
              "9OHA4YimyklXFTyB9AQxw0Io3erFV74YcqBpZO+s7tH5z3ZbhRbd6qdPF28DBSKAwQwb2FcNMyeY\n",
              "Va1DMtHchVIAtGjdRQwUnnutw03LYF5rzGTUBGwK3my2OkjjRquhi6JAOXVKQPDiF/rudOsHM5FK\n",
              "6hBU9lkrxLfTEWhrSQAAADJBnlNFETwl/wAAEGUPwXQBEoQSRLtZWgDaDmZyFTblEwz1f5+3k+wZ\n",
              "d+mCubNSnR19gAAAACkBnnJ0Qt8AABIV9/BOSKpkRGMHLW3yw42uP2xNvROfBFc27E+mrnfHgAAA\n",
              "AB8BnnRqQt8AABJIA0Oo9S2V5hwBIx63Mg8AckVbCC9BAAABoEGaeEmoQWiZTAk/AAADAABOeWNR\n",
              "F2/jBCbnso+YNEs+h5L7X122bV+VzEk+Au2afgKo9+9jnszneokqTxTOK6RvefT6POy/fKstB5s+\n",
              "op/SHvraM/FM6h+W96pSD+84WSsAPQNCWkFN1dcQyoJ5lckyr9H8H9j6lIXxyXVqjjGBUXQZb193\n",
              "q7pggIAvLDYNXaKIpYZzJwgs13P6Yc0XLmxjwrgaqgxbJw5kBjMfohlE9L3Uvwunc1E7xTzuIVl/\n",
              "OiNf4QKy1bpYxpaBc851v6Qg6WUc7nltPc8+SOBtmdmMvdcHL9ifvhH0AhiAVP18t+XHhqxLkgW/\n",
              "5uvp4NThhVTNstPz7ZbngfdxQlRi/Jn9FgySAbIFCUB0EBQXt2oOBxDBOq8zNude1xdsenTA6jrZ\n",
              "4hIwXudXuuGhR5SU+RqT8o8mWDN1NE2JgI3zmktaIbYM2bTLHOHXVaBSeJvb7lviodj4/a1JM5nE\n",
              "p/Z9k03hC9OWx7iUVxAyvPzLGJoiJqKB/0rc9gVcwYXuIH/uau/yza4R4AAGF/xDNXVqgqPzAAAA\n",
              "LUGelkURLCn/AAAR2z4lMlNSla3qHcF3cBfGMefP6+iEkWTyE2iGFUbOFwDrUwAAACQBnrdqQt8A\n",
              "ABJIA0ggu72DGF1N6L5EY8sIQtDH9nhnfSJSEykAAAGgQZq5SahBbJlMCT8AAAMAAFC+BZXQn/YE\n",
              "u3fxghNz2Uji9lak5SK5qm5/RRzOp76oe6h/U2CbnWRpjF8rjRixjkLqGyqj7RH8obi+L1d1HfeT\n",
              "SgNRXZgwrjKBVG7ObUIzaMlDRnDxyAgKE5kMcfH/uI/mP4nGR6VPV3NWDX4i3LgacmN7R9mvYnoJ\n",
              "Plei5V43c+fEU5eaPgX8GVCbN6AO+uU29HdwgMxPeP7cgzQ7f4Nj7+4OXFfVBtZFTJbm3J9sRzjy\n",
              "JFQ3IFV5SUGYZxXB35pbsiapmL6LFkMpiK3wVHjzGXjv8JW61igxv0ZaJb8g4y3uBz9+n8AGhB8k\n",
              "gNjJMSdHxf1Zv28FBpWwS0PEGZMOL0xIjEi9hJA54uoKqwEMmN9HhbAAj3ij7EPTgNI3pGEm2Sim\n",
              "23ngET8RBXkneiYiANIbSs327+z3vL27lk6U91SQKbVRhyNGkWZRTwn7+hqnGmz4rqmcfbWYqjgr\n",
              "ftYouki6zoH/9Kjbl4qp+DbBf9ZDotpHC+DNoaJXEJJG0KOuc73i2r6bGPcLeu88P8AAAAIaQZrd\n",
              "SeEKUmUwJP8AAAMAAEGSv4avllE6+VXevTUPEmigSCmkjGKA59VnAm+/q3L1m91QO163UrLlFD1A\n",
              "79ukeItYo//LxC1ekyaCJqzjMf+6zjcV0wzAh9zJ2+vMFEXH0sOzsV2MNqmae/9BieULfgEgTvO1\n",
              "r9ASw8ywrKrDNnLSki5diD2qKYlIVH15ophFz3TMPgjSNviqpynX+feLZmmsoksCVTLBKvb7XmCe\n",
              "C/M56kNRBKR65k/9FpR4X2iSrcOEAe8FuXwxiXDjwwYfDbp6iy5FJlYNPCH2gk4MkTVAsNCFPNVz\n",
              "JGxI8nO60H9Ysm+PH2kxaWKpAB5d+NZ1r6/eKFa+xUW9r7PsGGpaQixq+c+DYpon0h/famR5X/9t\n",
              "5YGln73vNgqc5j/SplRFLADVbR9BzUk8zgHMb8lLtpUAVAVCXY47WXnUXulVGjuvLCWkXoUc3jwJ\n",
              "Nyv00x3sejxslwlweGgpmuu8BXUFyy8L+kJAr5Xp6gwwZJkehenOEDSlNhSzkSnfQum1Rh7Vkksw\n",
              "Tc/82dxtWsv8pg+B+zjEXHchrPF8gkYJeS6ywxAruUf8c+itMaFHPVp7/5Lbd5mTXym+FfhLo7Zr\n",
              "DZEcDqM+YXw0r6N2+QVLtcEUYmas5bUOA4wC2h+DASrMym6wlJTeGiy0LjJqcNeMWxPSa4PHA/lW\n",
              "0YGkHx0wMyshD4fdGrQAIk8Evhpt4QAAADhBnvtFNEwl/wAAEF7lndcm2oAUj+kjzBTjddLisNlU\n",
              "0kGFtmGgeiTjA4ylMHzmoa/SW60RiPcCjAAAAB4Bnxp0Qt8AABIV9HboYrOnEIGiWvRJFwhYebJg\n",
              "mYEAAAAXAZ8cakLfAAASSAFRCN/3WCvU+Adkn4EAAAFnQZsBSahBaJlMCT8AAAMAAD+S1piP+wjw\n",
              "qqfovqtzvixoFV+U6yvWgTzCJQMWfLRrbZlvvBWY5mWYFyOyI8wkjiLkgH0Q2wdIeOQB81UO+Dxj\n",
              "NLvfwwX4YKx4+89CeuDcO99N0k4vA15qJccE2yLR0A2lH/QuJupiPYaTDorhzAk2OuEoDQzFvlUg\n",
              "vU3IG61y9H7paST1dw/VcmEEKwwtGn26NdyzF0CbPDe3VCoGnGiDaFWfBe3ujt2DOjdMpxQqyxwe\n",
              "ebMB8ADOvReKYv0ogdxk1TnTe0fPkrwIS0kROg+1dkzU9Q8+d0DBCiyWHavkhf5czcAJE9+t5MnZ\n",
              "cyduy5wNC4rzrg3ZUMtlVzO1KOC8+U1qDLwBj2qin6vjAT3WCYnE5DrXCAG0YB3OJ7B1NlC3te4L\n",
              "58Jwc6LpkZrth0wUxHyBii6avQ2Y76Gk+7moN4hT1H4jExKxpdnlC54tjupQjvXwZUIAAAAmQZ8/\n",
              "RREsJf8AABBZBrSDYDSKnQhF501lhvmLN7YZXrY6pmlUSnAAAAAcAZ9edELfAAASFfRwE5CaY5zy\n",
              "lgPNV2onXXVTgQAAACYBn0BqQt8AABJIAVEI3/fUgLAbVJc14wQleK4hfzYhu0INWqBm7AAAAYZB\n",
              "m0JJqEFsmUwJPwAfPAhoFH+CoQq7C5fToqnWUexwvKgYs+VIE+v6kqyZvGG9BX/liJjXL8F979jf\n",
              "ONEX+d4oPbMPH1RHovr00EnITyjNS8eMxphim4DBR0wnID39oaNyIRDez1jM9obrceZXbna2haTe\n",
              "PRiQmJkGz+RxtfvOXX/AMGjQcvcmU6T3lrGSu8TGbOOZftrz1f+KJMDzXzmkfQlpGNbuvbS6iRkW\n",
              "vPeFW+65+dbnNAnVW4DFe/s/PPossWPo0ETotJ7BVx3nNgyJRvhcju9GvEAZbOQW/dht3JKbuhOL\n",
              "s6i4Fqia17GED5EiWBTBQswrAKM6NuekSbc/k0AUtIzO74v5Mr6PIzZNKy50pb5+Uu1fr8k8SSUA\n",
              "J/MrqnD3oW82dyrojBeBsuISsCzszSBGLuymTHq/8emWl/O+XPrd/ifxiAC6B8+iyjODSZqw31ne\n",
              "4oMuutkk81FwVitpXoj663Gb3WleWpwX0oAABSgl3AAAnIZ+/NfALGmwpvEFbMEAAAF4QZtjSeEK\n",
              "UmUwJP8AHdqjlwG+NZkrFKD57XguWPQDVNIQokVzS50Uq1NBVqkpREkd9Bw5Gkq90DIS6dhf4tc7\n",
              "61SO1oo0i5Y0FYxzEE/8aLuesniuVge9TxDheF7rT8YHRboWa0BwECXCDY1/IAk3WVXGxzhjpMpx\n",
              "tJJJh9ZjUz3+qokWzTpWLl/GWw4SMILTLSLjU9EG0g6+iWSue5KauVLNVFWZQ4gaj9ptF0RANf7w\n",
              "IjinoYOL7y68XVaNIh8Z7g/YbKPVv9nqnMfm8hYqgqd59ZeTnGgpW9OlgRRtn/kkhG/EEDbWcG4w\n",
              "d/XVfrOu6SiVGbWxSMCuMaVK4uyt+gWS/oe8wiuqHQquDAnaxpBiRwnJoL6nqYfaTIqCjgSj3rBz\n",
              "iPzQTm7UPZvCdWGIAsZuQgITiEjM1W/SWB0OOPBYCnocHf179wAAcgpuAe5dByQiBbT/QVJL45xH\n",
              "csc7HRgHtbOPKGpFyMxIRPt+61OElU4vgAAYMAAAAalBm4RJ4Q6JlMCT/wAAIDncIBrwbOxXL8Cm\n",
              "0M1WObBv/X9J6XxMAQrqmAmZYb8ySDWPhAb0x57uvtcZ9nQkXyWCV55oYeDbaPXMpVGAE6LXY521\n",
              "+b9/HHYsxpoMowrXICd1UeKfW/Qlsm8ApEky6G2IhyLNi/5aAbKv87DkBs0pWjGBuxAGB/dEvtcc\n",
              "alvDsdcmwYS0I8wtA1wXOFDRC2eIKlJ8Can4TxrmTcrRKEisYfX78HXeiGzW1MR29MCrQ5TbFl7/\n",
              "c3L+A++McqMrXJUguSTouAjCHoH6Y782A1RobgDE+1eg6ILV7H9FrkZELz3phMGMJP7+R+qvi/XE\n",
              "RQ/+3SN0yw5LyiPj4kn4fG8QRDpYickT/YQxs7x1PP4KPM/lT/5Jrtr+VEFx7AGVUhU3LXVRyo6y\n",
              "eYzDi/TluJLKIOSl6pVe9tjKcvKOMvjLD8hhfiNp30kqA6BOq9Hq7+sIEWdKRcyRa7IoYrPl00Kz\n",
              "Lv2fsVlz86XzyBB5cJW7JwUL+HjDYd7wOZK25Rt0zzOwGa48di8K357XnC4TmBBOx4El0k2UFAC2\n",
              "gQAAAZVBm6VJ4Q8mUwJPAAADADqf5TouWjeNx60KywkPJ+WSxbTpk/c3e9/GCE3PZR0cT4R+Hfrf\n",
              "Zlfes82SFVjcyRtndeJ9ZXdIGj9IboDc1rVBE3GxSNW7l9aR+14uMQDKTXDdILEfxxEU38YtV1TI\n",
              "R5BtWt4HrhNbrbwCumq9QXvAlbcfNJbO20neWhf/rgc09n+Ys3qYut4xjz/BZyJHgiRjGVV6ukLR\n",
              "D1PC8ZOW6msVk3v7jgv8jZDKjZ3UBIay6l6M+asGzyGR2uEyHlhRcjEvQiCpnr3QWXc23KaJT3/9\n",
              "f99cDOBYir7vvXNVhmEVU98omGJTdEuUVcnHYhEfcM4OX4/gsmKBM3+XXbsYPdLdqpF5RkzT19aq\n",
              "e94n73phFU0Pm/mwsMWRy5oyovdClLjq+4Zj0vRxHYA2AGsUZMKZPrS68SGx1TdKKSQcMI0/cPNx\n",
              "295bGhmHtMIiEy3uyKcrExkyZZipx3Mn4QpBHAv1iof1O4d4/ftvVonjuRagQVGC81REJKsa8YjI\n",
              "b7/dRiLgCPlwruEAAAGMQZvGSeEPJlMCTwAAAwAAbT/KdJanfrRq7ZMgzsJw4Bq/mPVaOurYLTjk\n",
              "/LrFPnmu7fToqnWUexwvKgYs+VIE+vnadYigSHvnK/8sPxB8tiLWAg6nGiL/O8UHtmHj6oj0X16a\n",
              "CTexVdrVpHGjAOYKBR0wnID39L+IPIPTo4+EsGWtObY1s1YgGCPHoxITEx+qgkQiicwm341ELRG3\n",
              "SuTKdJ7y1jJXeJjNnHMv2156vwDYnffhqFMCkfQlS9UtujziA8ttmsE/E9FW+65+dbnM4KSyTk7V\n",
              "//7s4ghBEGn8dGiatkCBJc9xP/JSuFBCRt7Fs4/0rh3ZNzkggz64ooYyvpOEpPRlFQRGPhHgO+R5\n",
              "lJ0FWSTsj6UudQa8OyXm+QLux6ExdhE6crHSxFpSpXFN6V48nr3MZb2a5qa5kAnP/60Fj6Ii/+gP\n",
              "l9x9P7NgiTHYX0Yn30VJg3vWMHLB0H9xSQY1tVH6sy7ZckUDrNLU/KCgsk6i8krs4Op5Ioc5hfsS\n",
              "HXTra7O1hPXYv1R3AAABgkGb50nhDyZTAk8AAB1P8t6QAB6rOkAUgVyr9QYuo3gWs4wZtfvMvsW/\n",
              "7rb06lwZMRhueFrSwN+fx1RJ+IOvHrRdHFvcs0xbLylVIHOBpLfMmUWwnKv5MBehUh+WPjclXRVb\n",
              "SX7YoZGhr7mVsKirT7oGm1OFSsW3Dj4ZcHKrGDbcwMgwFs0lbbwLKJmRAk6nmmn8X9Sgcd1UDjOu\n",
              "7+hp4Gj6ShZg62eY/DfG9vTuRTITZTgMR9Jpk/2cZJ8IFGnVnTO3ENAJTdQChYbQRn+N91ryDaAR\n",
              "ZNcdgHEfcLZS+GVA4da+kpzHBXEI9e5YqEI0kbF1yml9/bI9uwdhktorg0sJksa9eERmgjj/x1Fy\n",
              "QRSahYkGg9rBIuAepPGxSkZthSRYQP9jkTvoD9nbwCbXOc4Wst/u6YpuDLBVNlTQOS2KVAbT0MRH\n",
              "Q44smnK/ydfhxOtJbbaIvNWCCYH3VMRoLybM0/ZJ4GKxV5yJxL4S5TDrjCYWtnInxhxP09HANXLm\n",
              "qRSBAAABk0GaCEnhDyZTAk8AAAMAAAMATn/UI4Hg9ZBvekv3k8vKiJhM2gOAmB9gm23SRFGMcjpi\n",
              "4+h+oHquQt6l6LE2h4rpGzGB0yG5jiQqb1bSi+kKzHUCv1GQdpNT8xxYcKlgv1DmjZCgaIA/VaEE\n",
              "7ILY14WyK1BTu3EItXRh28Lbeqv46dOf0Tn17WPfXsw6gep2EgnyMkLxkAbq1Dwi1NhCezDygO7a\n",
              "ARpS8R75BDn8uaWOwWzjSdNUCvAz16QG9ENtyLHsK9JjRFe6C7NPd5wnJRT8iXsPhnTARh1s3pVp\n",
              "5HgABqptvdO9lq2KDjdMTXYCV/OFKKt+Xx9K8G8etB5LP+vmGmyPzlptBGbf8bXARf/cANlu/J6X\n",
              "UZcV2QBRO4G+SPhPzxW5fOb1PModAFONMGxy9afikkw1VN5mF4LO9B3I93Yg2WSj+JjRyUIFIUU7\n",
              "M1gvGNnJ+U/ypEFx3ogK1PXf9i93ndkevkaii69Q6dSazLQfudyPhk3XKPLy3DZwvwFgfNDHcru4\n",
              "dFXzfghs+uHngOgAAAGiQZopSeEPJlMCTwAAAwAATnljURdv4wQm57KPmDRLPoeS+19dtm1flcxJ\n",
              "PgLtmn4CqPfvY57M53qJKk8Uziukb3n0+jzsv3yrLQebPqKf0h762jPxTOoflveqUg/vOFkrAD0D\n",
              "QlpBTdXXEMqCeZXJMq/R/B/Y+pSF8cl1ao4xgVF0GW9fd6u6YICALyw2DV2iiKWGcycILNdz+mHN\n",
              "Fy5sY8K4GqoMWycOZAYzH6IZRPS91L8Lp3NRO8U87iFZfzojX+ECstW6WMaWgXPOdb+kIOllHO55\n",
              "bT3PPkjgbZnZjL3XBy/Yn74R9AIYgFT9fLflx4asS5IFv+br6eDU4YVUzbLT8+2W54H3cUJUYvyZ\n",
              "/RYMkgGyBQlAdBAUF7dqDgcQwTqvMzbnXtcXbHp0wOo62eISMF7nV7rhoUeUlPkak/KPJlgzdTRN\n",
              "iYCN85pLWiG2DNm0yxzh11WgUnib2+5b4qHY+P2tSTOZxKf2fZNN4QvTlse4lFcQMrz8yxiaIiai\n",
              "gf9K3PYFXMGF7iB/7mrt4xKnljxb1vMk2XAA5QUf2sk3gAAAAaFBmkpJ4Q8mUwJPAAADAABNkwTv\n",
              "o03bv4wQm57KRxeyt9DBhaM5xANcabieymJJOUta6fSag0Vz/K40YsY5C6hsqo+0R/KG4vi9XdR3\n",
              "3k0oDUV2YNMIATyjdnNqEZtGShozh45AQFCcyGOPj/3EfzH8TjJj/zYyNiDX4i3Lgack8Pg8cI/J\n",
              "gk+V6LlXjdz58RTnR0EwJsb1DFhYpSNv8lWrUcEjE94/tyDNDt/g2Pv7g7AW8zaeVv6IuJD0/Q+D\n",
              "zGwDsQGWt+UlBmGcVwd+aW7ImqZi+inXBlMLvDgQePMZePHkXDWwNCJGsbGulFyDjLe4HP380gAS\n",
              "BivKB6afwk6U2PrbclCXS6+0EtDxBmTDi9MSIxIucQsHPF1BeOgBd6Rmteo1oEW6PsQ9OA0jekYS\n",
              "bZKKbbZQAT4eLBEuPArZ3nN4IeoDXu/s97y9u5ZOlRGDYxNDUkRZbwllZpA833esKrKEOQ21mcfb\n",
              "WYqebDHnMDKtbQ5tSmRlHbs41VPwbYL/rIdFtI4XwZm8GLbQBvZfc/Od7xbV9NjHuFvXeefge/kA\n",
              "AAGKQZprSeEPJlMCTwAAAwAAQZLcH/Fm3PYkPqcC84ZIVQKR/+C1qmn8BdemwKTgcvnOR6FzXpfz\n",
              "WupwDqW5s66xo7nePBsE1YpdwlOpWV8duOyRmSvpD96BJi4Jt9qBLRoZDSfYGsXZVkbj/PWM1zKx\n",
              "pbAlqODjy8iLxinHuf/JbOuQdrwWnnupuMIz20QmPa8aeAoyosnrBJCKIhS/BmSSUYahwffj4Hj8\n",
              "ny1xde5JmuZWEM0QJPY9XDcsV7C55ydKb6b6CdXnVZrdSxG1oq82q/HKES6Hiuxr5SfA3Duf9/Bg\n",
              "l6ljWGOCK+sAg8nc9JZL0VI5PxiQ2yLpZAQt+SSHXwneOmhdO+yUbmp8pv+IiZQNBBCBFjpO8zGw\n",
              "sCa7PyqgUVavcX5GuvS8+Gn7Cxo8UDPrk28i6c7KAGLJ8biothGwN/FSs+XrVpVTUcUPC/miTXt6\n",
              "EONRjrJSogxTLy65SZk8XNAnu7WFj9rFq1fRErpCJ4Slcfj+FVgh8Sv9DiPvknHWI/goOU2UgAAA\n",
              "AWRBmoxJ4Q8mUwJPAAADAAADAHq/y4yz8RmXNZlBxqMT8WNAqvynWV60CeYRKBiz5aNbbMt9/b1u\n",
              "z1zAuR2RHmEkcRckA+iG2DpDxyAPmqh3weMZpd7+JMwqhWPH3noT1wbh3vpuknF4OnNThDvRRCBL\n",
              "liocWVC4m6mI9hpMOiuHMCTY64ThcKbpTEXgelpuQN1rl6P3S0knq7h+q5MIIVhhaNPt0a7pZW8D\n",
              "yb8+fg9SGvGiDaFWfBe3ujt2DOjdMpxRHp9uCc2YGrgDS/Pe43f0ogdxk1TnTe0fPkrwJJ+8tRk+\n",
              "1dkzU9Q8+d0DBCiyWHavjt8xczcAJE9+t5L6JEmxLWSai8Bcy9KlG7L0na1CF4Ax7WlB530c/6DI\n",
              "5qtz1zWTfjEzDShtGDeWGr917Ngmpul3uzTTfh2ET6iEbXR+N0N0ywkRDZYRK72iYUiBHkzHbvtC\n",
              "der7Y/InSwOCrHbcfaBfSQAAAYhBmq1J4Q8mUwJPAB88CGgUf4KhCrsLl9OiqdZR7HC8qBiz5UgT\n",
              "6/qSrJm8Yb0Ff+WImNcvwX3v2N840Rf53ig9sw8fVEei+wKFaJvymJFS8eMxphim4DF3BIgSj0hr\n",
              "zHvNONvhprGZ7Q3W48yG1Q5lTzprkrQxx++DHFfPa/jhBr/gGDRoOXuS/VddfLc5afJ8ULVSHrDU\n",
              "8WwKsaBN3D0+ogM3hGNbuvbS6iRkWvJl/VAgBDOslGgTqrcBivf2fnn0WWLH0Z5wWYDHVqi7K/E2\n",
              "zel6VDTLX65FaUTZ7k7sNu5JTd0JxdnUXAtUTWvYplWb2zrFutcrCsAozo256RJtUcIDhNwr3pvi\n",
              "/kyvo8KtCTxC88VavLZQ2i/JPEklACfzK6pw96FvNmrHWfiXAbLjw5XB/DzPz2g6pAdTv/Hplpfz\n",
              "vlz63f4n8Y1c2pJz4sozg0masN9Z3uKDLrrZJPEhx0arrqDy+tXDkdE5uPWcF9KAAAUnnWSAAiVz\n",
              "n5VHRDXG5z4BhpVvYQAAAXpBms5J4Q8mUwJPAB3XBel947VYOcXosEY6WKmiAQkImpUQqC46Hu13\n",
              "NBVqkpREkd9Bw5GvkNJGQl07C/xa531qkdrRRpFyxoKxjmIJ/40Xc9ZPFIgnwxtyEU317rT8YHRb\n",
              "oWaekwKSXCDY1/IAk3WVXGxzhjpMpXgsC9bg5syT3+qokWzTpWLl/GWw4SMILTLSLjU8/m0g6+iW\n",
              "Sue5JsJiNmqi5MocQNR+02i6IgGv94ERxT0MHF95deLqrCkSoT9wfsNlHq3+z1TmPzeQsVQVO78T\n",
              "I75xoKVvTpYEUbZ/rfIRv+NdWqu3NqblhJv+zrukolRm1sUjArKtWhuLt8v8CyX9D3mEV1Q6FVwY\n",
              "E7WNIMSNrL9BfU9TD7SZFQUcCUe9YOFJO4MjMsqh2vy2HYoFjNyEBCcQkZmq36SwOhxx4LAU8hhF\n",
              "iFPuAADkFNwD3LoOSEQLaf6CpJfHOI6BjnZCMA9rZx5Q1IuRmJCJ9v3WpwkqnF8AAL7ycYEAAAGq\n",
              "QZrvSeEPJlMCTwAAIDncIBrwdcske9767T9QoSY20uogGUDggA1PSOOZlc/xK94HK84Jm/Pd19rj\n",
              "Ps6Ei+SwSvPNDDwbbR65lKookHRQMfu2vzfv447FmNNBlGFa5ATuqlRTuRBSgDEloRFJ7n315fT/\n",
              "ER/kUJsq/zsOQGzSlaMYHTwbLUJb456441LeHY65Ngwlob5haBLgucKGiFs8O5y18DWv2GzUKc0e\n",
              "7wJE7Lh9fvwdd6IbNbUxHb0vI6WbRfXq7PZc+Ef3xjlRla5KkFyTNFwEYRzOAmfIIEO1slvVYn2r\n",
              "0HRBavZSddpOPx+9J57TBjCT+/lfqr3/zwRAv/bpG6ZYcl5RHydDT8PjeIIh0sxOSJ/j8hs7x1PP\n",
              "4KTeGDM8mTXbX8qILj2AMqoqpx3CL7KjrJ5jMOL9OW4ksog5KXqlWSCw5D3fbc7iGFUhLb8RtO+m\n",
              "lQHQJ1Xo9Xf1pAizpSLmSLXZFDFZ8umUgY8Nz9isufnS+eQIPLhK6ZOChfw8YbDveGlx6Tacz+A9\n",
              "uqfL7jsXhW/Pa+6miBHvdseBJdJNlBQC0TEXAAABnEGbEEnhDyZTAk8AAAMAOp/lOi5aN43HrQrL\n",
              "CQ8oOlwAhjQbyB8p7CFUEr9v4wQm57KOjizLnLfqbk/cKfEaa+z74xaGCWTE+srukDR+kN0Bua1q\n",
              "giblESNaqcunYYiYuMQDKTXDdILEfxxEU38YtV1TIR5BtWt4HrNIMW3gFgqB2gveBK24+aS2dtpO\n",
              "8tC//XA4krP8xZvU9G7xjHn+CzkSPBEjGMqr1dIWiHqeF4ycszpkrJvf2OzhQayGVGzuoCQ1l1L0\n",
              "Z81YNnkL2Y+iolhRcdyE50fRi1kozpfzeU0Snv/6/8FLccCxFX3feuarDMIqp75RMFT26JclHX7Y\n",
              "Db/TEQw5fj+CyYoEzf5dduxg90t2qkcFFvBXNdWal6Ee1FFfZdqFtn+LLDFkcuaMqL3RBrwlSBhk\n",
              "2ek9OXwIIBPATBA1oX5NXiQ2OqbpRSRpzCNP3AT7rXDVxoZh7TCIhMt7sinKxMZMm2YqdrTCZdir\n",
              "Ew1O7p0UtHNvR3j9+282xa+jHC7Y3scfuFvxs8AYjIb7/dRiLgCPojFgp3wAAAGOQZsxSeEPJlMC\n",
              "TwAAAwAAar/LkGmAtfUJAaOVE/bpnmMQNozYJLQsv4sbLoCPl9OiqdZR7HC8qBiz5UgT6+eFO13U\n",
              "RTegr/yw/EHy2ItYCDqcaIv87xQe2YePqiPRfYFCtEw/G18FkqSI+uwULuCRAlHpDV7gg8g83fp4\n",
              "SwZa05sPaocyp501yVoY4/e9sOkQiiNR2341ELRG3SuS/VddfLc5afJ8ULVSHrDU8WnUHoFDz4ah\n",
              "WjCRAZuYvRWqaWVG+CWANtVvozasQAhnWSjOA3Ha5O1f/+7OIIPN4Wh04zUFagQJLnuJ/5KVrcBX\n",
              "Uz0UTZ0KiNs70p3sAV6KwBjK+k4Sk9Fa7jmPjx0o7322ZszDhHGhygeKhd4jFYiM5Au7HoTF2ERk\n",
              "m3LmJst2kwWK0SDyevcyavZrmprmQCc//rQKwBySvuY+YdhhaC2CD+AV84JfbTEmDe9YwcsHQf21\n",
              "GpnY7Gn2DctlxdeTo3Zu8oKCyTqLySucRVwM0RbBqcDcPTb2zUUvucdi/WyN33AAAAGHQZtSSeEP\n",
              "JlMCTwAAHU/y3pAAHqs6QBSBY7ua49dVN0shazjBm1+8y+xb/utvTqVbzHJ9kX2tLA35/HVEn4g6\n",
              "8etF0cW9yzTFsvKVUgc4D591MmUmj2mOeBiT+pD8sfG5KvAV7uv09rjI86Gsz62wqKtPugazqkR+\n",
              "xaMu/uAtj7ujai44b74Ak4x7wLKJAxAk6nmmn8X9Sgcd1UDoeu7+jrnTUrDXfv4qaKfDfG9s73aU\n",
              "t9fOAxHz+GT/ZxknwgUaqGJUnF/iClOIVOvSwJCMLb7rV71K0byXI69mI+4Wyl8MqBxQwOmRc+6u\n",
              "J7mzSxfH755kSMQE53bZu27B2ug2iuFpxETatF2iNBBQw/jpn/x+8kCRMtPwWB7WvN5GPP9+TbCk\n",
              "iwgf7JonfrZV00QQ5F8MWtZb/GYinGMsFT2VNA5LYpUBtPQxEdDjiyX+r/bN+Ck60lttoi81YIJg\n",
              "fdUxGgvQP5EZAXgwq37rHFLoWaey0bp0zE3AlnxhxP09HAMbPnZP/J0hwQAAAYtBm3NJ4Q8mUwJP\n",
              "AAADAAADAE5/2E7z8hUypmYQ2h3LyoiYTNoDgJgfYJtt0kRRhVny1HZUCbA9VyFvUvRYm0PFdI2Y\n",
              "wOeQ3McSFTerabq8IVmOoFfqMg78BPzHFhwqdIHIVZ6EH2wkE8Y/+9JzhRFMUxCwOklcqC6MO3hb\n",
              "hP8qYGN/opuiJwe+60HVRITsI/ice5bjIA3VqHwTpE5NDzyegrwu1MO3jN+lrzzjExuei2bUdI9H\n",
              "IDyn2wIG1FnHlGid/AnJZ7nt3nCclExfcQzJGSMbSAtA4zcISKAAKOQYHP3stWxQcbpidG5f17ID\n",
              "hn3CoYUQ6KYrEOdD7fAZrtTDlARQLJm17hT4cWA37Ez77XEZE4BRyCB2I1lf8TfwLKArwoeRHW27\n",
              "4OuJ6fKbuIQ+KAOYVBQZ1r7gqqZtGauhvc3GyJ0EvYzkYzzoRwkxr+77lT8pZYx1R6juuIYmRJ3p\n",
              "S8DBUCrZ9ldldX0izVN0+1/5GWPzihUZ6aGUa+Cxtp7H9ySvnAZNej6jLgAAAZ9Bm5RJ4Q8mUwJP\n",
              "AAADAABOeWNRF2/jBCbnso+YNEs+h5L7X122bV+VzEk+Au2afgKo9+9jnszneokqTxTOK6RvefT6\n",
              "POy/fKstB5s+op/SHvraM/FM6h+W96pSD+84WSsAPQNCWkFN1dcQyoJ5lckyr9H8H9j6lIXxyXVq\n",
              "jjGBUXQZb193q7pggIAvLDYNXaKIpYZzJwgs13P6Yc0XLmxjwrgaqgxbJw5kBjMfohlE9L3U5Qun\n",
              "c1E7xTzuIVl/OiNf480wao49H1Bq/POdb+kIOllHO5WG3GfVWZGHZnZjL3XBy/Yn74R9AIYgFT9f\n",
              "Lflx4asS5IFv+br6eDU4YVUzbLT8+2W54H3cUJUYvyZ/RYMkgGyBQlAdBAUF7SZQ+dWyHqvMzbnX\n",
              "tcXbHp0wOo62eIS6N2l3zONR5l4uCl0qp2cllgzdTRNiYCN85pLWiG17qyYyxzh11WgUnib2+5b4\n",
              "qHY+P2tSTOZxKf2fZvd4QvTlse4lFcQMrz8yxiaIiaigf9K3PYFXMGF7iB/7mrxkEIOHsMDApifl\n",
              "6oBsiil0AAABoUGbtUnhDyZTAk8AAAMAAFC+BZXQn/YEu3fxghNz2Uji9lak5SK5qm5/RRzOp76o\n",
              "e6h/U2CbnWRpjF8rjRixjkLqGyqj7RH8obi+L1d1HfeTSgNRXZgwrjKBVG7ObUIzaMlDRnDxyAgK\n",
              "E5kMcfH/uI/mP4nGR6VPV3NWDX4i3Lgack8Pg8cI/Jgk+V6LlXjdz58RTl5o+BfwZUJiVzyzzq63\n",
              "o7uEBmJ7x/bkGaHb/Bsff3B0VthtKiY4w8IY9P0Pg8xsA7EBlrflJQZhnFcHfmluyJqmYvowygym\n",
              "LQlsIPHl3nHjyLhrYGhEjWNjXSi5BxlvcDn7914AFEb9qQRmn8JOlNj623JQl0uvtBLQ8QZkw4vT\n",
              "EiMSL76Tf/DhgvHQAu9IzWvUa0CLdH2IenAaRvSMJNslFNtv8gGmPb0MXJNxwd5zeCHqA17v7Pe8\n",
              "vbuWTpUdg2MTQVSYWW8JZWaQPN93rCqyhDkNtZnH21mKqlo+pubCmkoL70pkZR27ONVT8G2C/6yH\n",
              "RbSOF8GsvBC20Ab2X3Pzne8W1fTYx7hb13nh/wAAAYlBm9lJ4Q8mUwJPAAADAABBktwf8sA4xLXs\n",
              "e2JxT+zyJWONUL9u2O7ne1Tfak9wOXznI9C5r0v5rXU4B1Lc2ddY0dzvHg2CasUu4SnXSe+O3HZI\n",
              "zJX0h+9AkxcE2+1Alo0MhpPsDWLsqyNx/nzQ8LuQ0tgS1HBx5eRF4xTj3P/ktnXIO14MmXFq3GEZ\n",
              "7aITHteNPAUZUWT1gkh87RS/CO7aYw1Dg+/HwPH5Plri69yTNcysIZogSex6uG5jpqEQNocOQY30\n",
              "pEH2KzW6liNrRV5tV+OUIl0PFdjXyk+BuHc/7+EkVpLDMMcEV9YBB5O56SyXoqRyfjEhtkXUPk6N\n",
              "8kkOOhO8dNC6d9ko3NT5Tf8REymOCCECLGziasbCwJrs/KqBRVq9xfka69Lz4aftJ2GjSAEVRpmr\n",
              "Mc7KAGLJ8biothGwN/FSs+XrVpVTUcXhc/K8mvb0IcajHWSlRBimXl1ykzJ4uaBPd2sLd7WLVq+i\n",
              "JXSETwlK4/H8KrBD4lf6HEffJOOsR/BOfeAAAABJQZ/3RRE8Jf8CDKH4BAQEnYAcj4QIM9j6tfet\n",
              "Q/mI/Y1ABhlsDSOx8HKPF/j0UumoXDzLMI0cRWztj6CBp/KDnfc2mquT+tE0kQAAACIBnhZ0Qt8C\n",
              "QrvgIYP2TtuMkNpgTQtS3XqZUOX99lAk7tSBAAAAHwGeGGpC3wJI/pAUXIJzncJoGjC4TwyLQrGS\n",
              "myU7raEAAAFjQZoaSahBaJlMCT8AAAMAAAMAN9/c4A/sXvAVM7TO+LGgVX6B5p16zDgOr4Mpd5aN\n",
              "bbMt9/VUKtyzAuR2RHg4kDqII/SihbB0h45AHzVQ74PGM0u9/FVW2QrHmvhaA1wzl9G1Z9infC5q\n",
              "NQcvIJixMsVDiyoXE3UxHsNJh0Vw5gSbHXCgnu1NXx75tkRabkC84do2zKd/c5vt7baJkEKwwtGn\n",
              "26Ndy1H0CgeOwSkW4O5od+dMkfnEIZk+I7j5UFOKHfpnbbzZgYtAbymfGvYzOPcLjJqnOm9o+fJX\n",
              "gM5SoROg+1dkzU8Coud0DBCiyWHavjhfEfrkAHfB3NMOhvopHkS1vf1+2i2XolBM39cTWoQvAGPa\n",
              "0oPPFvH/QZHHvJ04AF58YmYaUNowbyw1fuvZzk0V0u92aab8OnmOQQja6Pxuhushd1JAQy4kT46y\n",
              "TeIxX/oT2hOvV9sfkTpYHBVjtsMcxwAAAZJBmjtJ4QpSZTAk/wAfPAhoFH+CoQq7C5fToqnWUexw\n",
              "vKgYs+VIE+v6kqyZvGG9BX/liJjXL8F979jfONEX+d4oPbMPH1RHovr00EnITyjNS8eMxphim4DB\n",
              "R0wnID39oaNyIRDez1jM9obrceZXbna2haTePRiQmJkGz+RxtfvOXX/AMGjQcvcmU6T3lrGSu8TG\n",
              "bOOZftrz1f+KJMDzXzmkfQlpGNbuvbS6iRkWvPeFW+65+dbnNAnVW4DFe/s/PPossWPo0ETotJ7B\n",
              "Vx3nNgyJRvhcju9GvEAZbOQW/dht3JKbuhOLs6i4Fqia17GED5EiWBTBQswrAKM6NuekSbc/k0AU\n",
              "tIzO74v5Mr6PIzZNKy50pb5+Uu1fr8k8SSUAJ/MrqnD3oW82dyrojBeBsuISsCzszSBGLuymTHq/\n",
              "8emWl/O+XPrd/ifxiAC6B8+iyjODSZqw31ne4oMuutkk81FwVitpXoj663Gb3WleWpwX0oAABSed\n",
              "ZIACJFCdpmkJTSik8TFZkboTfZ4ig/Og4aohM1gAAAF8QZpcSeEOiZTAk/8AHdqjl91wBC3KOnaO\n",
              "wXUnMIJcEh0Qgqj+ZffmaIXc0FWqSlESR30HDkaUb3QMhLp2F/i1zvrVI7WijSLljQVjHMQT/xou\n",
              "56yeLdmB71PEOF4XutPxgdFuhZsyHAQJcINjX8gCTdZVcbHOGOkynU0kkmH1mNTPf6qiRbNOlYuX\n",
              "8ZbDhIwgtMtIuNT0bKSDj6JZK57koLC0s1UVZlDiBqP2m0XREA1/vAiOKehg4vvLrxdVmEjrpFqw\n",
              "5Wyo9W/2eqcx+byFiqCp3h23BOcaClb06WBFG2g8ySEb8QQNtZwbjB39dV+s67pKJUZtbFIwK6Rp\n",
              "Uri7K36BZL+h7zCK6odCq4MCdrGkGJGtJyFcv8ND7SZFQUcCUe9YOoT+aCc3ah7N4TqwxAFjNyEB\n",
              "CcQkZmq36SwOhxx4LAU9GVode/cAAHIKbgHuXQckIgW0/0FSS+OcR3rHOx0YB7WzjyhqRcjMSET7\n",
              "futThJVOL4AGV+m42IEAAAGoQZp9SeEPJlMCTwAAIDncIBrwbOxXL8Cm0M1WObBv/X9J6XxMAQrq\n",
              "mAmZYb8ySDWPhAb0x57uvtcZ9nQkXyWCV55oYeDbaPXMpVGAE6LXY521+b9/HHYsxpoMowrXICd1\n",
              "UeKfW/Qlsm8ApEky6G2IhyLNi/5aAbKv87DkBs0pWjGBuxAGB/dEvtccalvDsdcmwYS0I8wtA1wX\n",
              "OFDRC2eIKlJ8Can4TxrmTcrRKEisYfX78HXeiGzW1MR29MCrQ5TbFl7/c3L+A++McqMrXJUguSTo\n",
              "uAjCHoH6Y782A1RobgDE+1eg6ILV7H9FrkZELz3phMGMJP7+R+qvi/XERQ/+3SN0yw5LyiPj4kn4\n",
              "fG8QRDpYickT/YQxs7x1PP4KPM/lT/5Jrtr+VEFx7AGVUhU3LXVRyo6yeYzDi/TluJLKIOSl6pVe\n",
              "9tjKcvKOMvjLD8hhfiNp30kqA6BOq9Hq7+sIEWdKRcyRa7IoYrPl00KzLv2fsVlz86XzyBB5cJW7\n",
              "JwUL+HjDYd7wOZK25Rt0zzOwGa48di8K357XnC4TmBBOx4El0k2UFAC2gQAAAZVBmp5J4Q8mUwJP\n",
              "AAADADqf5TouWjeNx60KywkPJ+WSxbTpk/c3e9/GCE3PZR0cT4R+HfrfZlfes82SFVjcyRtndeJ9\n",
              "ZXdIGj9IboDc1rVBE3GxSNW7l9aR+14uMQDKTXDdILEfxxEU38YtV1TIR5BtWt4HrhNbrbwCumq9\n",
              "QXvAlbcfNJbO20neWhf/rgc09n+Ys3qYut4xjz/BZyJHgiRjGVV6ukLRD1PC8ZOW6msVk3v7jgv8\n",
              "jZDKjZ3UBIay6l6M+asGzyGR2uEyHlhRcjEvQiCpnr3QWXc23KaJT3/9f99cDOBYir7vvXNVhmEV\n",
              "U98omGJTdEuUVcnHYhEfcM4OX4/gsmKBM3+XXbsYPdLdqpF5RkzT19aqe94n73phFU0Pm/mwsMWR\n",
              "y5oyovdClLjq+4Zj0vRxHYA2AGsUZMKZPrS68SGx1TdKKSQcMI0/cPNx295bGhmHtMIiEy3uyKcr\n",
              "ExkyZZipx3Mn4QpBHAv1iof1O4d4/ftvVonjuRagQVGC81REJKsa8YjIb7/dRiLgCPlwruAAAAGO\n",
              "QZq/SeEPJlMCTwAAAwAAbT/KdJanfrRq7ZMgzsJw4Bq/mPVaOurYLTjk/LrFPnmu7fToqnWUexwv\n",
              "KgYs+VIE+vnadYigSHvnK/8sPxB8tiLWAg6nGiL/O8UHtmHj6oj0X2BQrRMQ2tfCpKkiPrsFC7gk\n",
              "QJR6Q1eWIPIPTo4+EsGWtObD2qHMqedNclaGOP3va+pEIonMJt+NRC0Rt0rkv1XXXy3OWnyfFC1U\n",
              "h6w1PFpwMw0/4ahWjCRAZuV6pbdHnEB5bbNYJ9+HNqxACGdZKM4KSyTk7V//7s4gg83hZ8zjTNWy\n",
              "BAkue4n/kpWtwFdTPRRNnQqEmy7aIAIM+uKKGMr6ThKT0VruOY+PHyjvkeZSdBVkk7I2p6lQTWHs\n",
              "l5vkC7sehMXYRGSbcuYmy3aTBYrRGXJ69zGW9muamuZAJz/+tArAHJK+5j5h2GFoLYIP4BXy+l99\n",
              "FSYN71jBywdB/bUamdjsafYMu2XJFA6zS1PygoLJOovJK5xFXAzRFsGpwNw9NvbNRS+5x2L9UdgA\n",
              "AAGCQZrASeEPJlMCTwAAHU/y3pAAHqs6QBSBXKv1Bi6jeBazjBm1+8y+xb/utvTqXBkxGG54WtLA\n",
              "35/HVEn4g68etF0cW9yzTFsvKVUgc4Gkt8yZRbCcq/kwF6FSH5Y+NyVdFVtJftihkaGvuZWwqKtP\n",
              "ugabU4VKxbcOPhlwcqsYNtzAyDAWzSVtvAsomZECTqeaafxf1KBx3VQOM67v6GngaPpKFmDrZ5j8\n",
              "N8b29O5FMhNlOAxH0mmT/ZxknwgUadWdM7cQ0AlN1AKFhtBGf433WvINoBFk1x2AcR9wtlL4ZUDh\n",
              "1r6SnMcFcQj17lioQjSRsXXKaX39sj27B2GS2iuDSwmSxr14RGaCOP/HUXJBFJqFiQaD2sEi4B6k\n",
              "8bFKRm2FJFhA/2ORO+gP2dvAJtc5zhay3+7pim4MsFU2VNA5LYpUBtPQxEdDjiyacr/J1+HE60lt\n",
              "toi81YIJgfdUxGgvJszT9kngYrFXnInEvhLlMOuMJha2cifGHE/T0cA1cuapFIEAAAGRQZriSeEP\n",
              "JlMFETyfAAADAAADAE5/1COB4PWQb3pL95PLyoiYTNoDgJgfYJtt0kRRhVnyjH75fqB6rkLepeix\n",
              "NoeK6RsxgdMhuY4kKm9W0oXwhWY6gV+oyDvwE/McWHCp0gchVnoQfbCQen3mPFbOFEUxTELA6SVy\n",
              "oLow7eFuE/ypgY3+im6InB77x82VD1Owj+Jx7luMgDdWofBslObs3PJ6CvC7Uw7eM36WjPOMTG56\n",
              "LZtcU0uCnfV4dDe8P7g9RYmIdaDvjPAXZp7vOE5KJj5YldKMkY2kBaBxm4QkUAAN1Nt/N3stWxQc\n",
              "bpibyJ/17IDhn3CoXSOOvcz/xvgbeiMXtfnLTaCM2/42uAjEMxO+jSb0vtcRkTgBl8oG+SPhPxN9\n",
              "Ap7X+duK0JEdbbvg64np8pu4hA6WtXgs70Hcj3diDZZKP4mKdzkwCXsZyMZ50I4SrSn+UzguO9EB\n",
              "Wp67/sXu87sj2ug6CljzV7jdvpFmqbp9r//iJVhnDAQ4/gLCHWmtrOx/ckr5wGTXo9jiRUgAAAAs\n",
              "AZ8BakLfAAASa74jN0IXjA3zYAvoKQRUEBGXlDgycP5sK6c0BlariGuuZ4EAAAGhQZsDSeEPJlMC\n",
              "TwAAAwAATnljURdv4wQm57KPmDRLPoeS+19dtm1flcxJPgLtmn4CqPfvY57M53qJKk8Uziukb3n0\n",
              "+jzsv3yrLQebPqKf0h762jPxTOoflveqUg/vOFkrAD0DQlpBTdXXEMqCeZXJMq/R/B/Y+pSF8cl1\n",
              "ao4xgVF0GW9fd6u6YICALyw2DV2iiKWGcycILNdz+mHNFy5sY8K4GqoMWycOZAYzH6IZRPS91OUL\n",
              "p3NRO8U87iFZfzojX+PNMGqOPR9QavzznW/pCDpZRzuVhtxn1VmRh2Z2Yy91wcv2J++EfQCGIBU/\n",
              "Xy35ceGrEuSBb/m6+ng1OGFVM2y0/PtlueB93FCVGL8mf0WDJIBsgUJQHQQFBe0mUPnVsh6rzM25\n",
              "17XF2x6dMDqOtniEujdpd8zjUeZeLgpdKqdnJZYM3U0TYmAjfOaS1ohte6smMsc4ddVoFJ4m9vuW\n",
              "+Kh2Pj9rUkzmcSn9n2b3eEL05bHuJRXEDK8/MsYmiImooH/Stz2BVzBhe4gf+5q7eMSp5Y8W9bzJ\n",
              "NlwAOUFH++BgAAABoUGbJEnhDyZTAk8AAAMAAE2TBO+jTdu/jBCbnspHF7K30MGFpOlGmiAV335W\n",
              "Iiah/U2CbnWRpjF8rjRixjkLqGyqj7RH8obi+L1d1HfeTSgNRXZgzTIxCqN2c2oRm0ZKGjOHjkBA\n",
              "UJzIY4+P/cR/MfxOMlJHNjI2INfiLcuBpyTw+Dxwj8mCT5XouVeN3PnxFObRQTAmxvUMWFilI2/y\n",
              "VatRwSMT3j+3IM0O3+DY+/uDr3V5dlHo4w8Ic5P0Pg8xsA7EBlrflJQZhnFcHfmluyJqmYvotagk\n",
              "M1zLSqPHmMvHjyLhrYGhEjWNjXSi5BxlvcDn7+qwAKQpXlA9NP4SdKbH1tuShLpdfaCWh4gzJhxe\n",
              "mJEYkWQB8znj5gvHQAu9IzWvUa0CLdH2IenAaRvSMJNslFNttoAKsvFgiXHgVs7zm8EPUBr3f2e9\n",
              "5e3csnSoqpsYmhqSIst4Sys0geb7vWFVlCHIbazOPtrMVRbR9TmBlWtoc2pTIyjt2caqn4NsF/1k\n",
              "Oi2kcL4M9eDFtoA3svufnO94tq+mxj3C3rvPPwbfwQAAAZBBm0hJ4Q8mUwJPAAADAABBktwf8sEe\n",
              "mTIMqD6YciPFqjnChazHP3O9uW+1J7gcvnOR6FzXpfzWupwDqW5s66xo7nePBsE1YpdwlOuk98du\n",
              "OyRmSvpD96BJi4Jt9qBLRoZDSfYGsXZVkbj/Pmh4Xe7zWBLUcHJ3RluK1JWm5CFJbOuQdrwZMuMJ\n",
              "uMIz20ITBwtNf7qJUWT1gkh87RS/CGqSUYahwffj4HF5ntTrrn+aAGZWEM0QJPY9XDct01CIG0OH\n",
              "9MbG2uD7FZrdSxG1oq82q/GCYFsXodjXyk+BuHc/7+EkVpLGsMcEV9YBB5O56PuVkslosxiQ2yLq\n",
              "CAZA+SSHXwneOmhdO+yUbGe4wCFYcySAbk5SMQghAix0s5gbAkpg4VbGqqBRVq9xfka69Lz4afs5\n",
              "2GjS19U2DmrMc7KAGLJ8bh6L74AX+KlZ8vWrSqmo5VC5+aJte3oQ41GOslKiDBciy6qJXd4uaBPd\n",
              "2sLd7WLVq9iJXSETwlK4/H8KrA3LQ0R0pnGScdYj+CoO5CLhAAAASkGfZkURPCX/AAAQZQ/DIpCX\n",
              "S+Jbg79wNri0TMrLMmq5e4AA8iGBpHY922pNWBQQwCIoSHmc6d8W/1hBVPF6TPS/GCGC7iJ4VKCj\n",
              "AAAAIQGfhXRC3wAAEhX39Ji9fIWgm0MTsQ+MtGvZevt5eitsoQAAAB4Bn4dqQt8AABJIA0Ww2Ksd\n",
              "oDY3uVxNSDI9qpHfNiAAAAFlQZuJSahBaJlMCT8AAAMAAAMAer/Ljd/LRh7MAY4o6uv+CoAUdpTr\n",
              "K9aBPMIlAxZ8tGttmW+8aFmErmBcjsiPMJI4i7Z05jpxwAAeQA81UNW6xhNLrvxBFt9OzsunG1Gr\n",
              "bof6Npz7FO6eYVMh3oocIjnkiAklQp66piPWKTDoq1zAimOuE4WUX0KVMGbttNyButc8oE9vc06u\n",
              "SLbbKw2I1g5Gn26Ndyq3WB+WMBmU0VIaWaHpvA5LgJ24XJQGdG6ZTihvlhKjLMqhygIMVelb/iww\n",
              "IHGTVObx7R8+SvAg6JWRGT7V2TNUJ7xSwsuR70budq+TF8R+twAvdv63ksoMdmVmBKmLW9o9ClZ6\n",
              "Xok1qELwBj2r6DzxXGr0GRz3BLY7RqwBzYK2DaMG8qdX7r2dqISPqYVn2m/DsMIZUEEEz8bobqYX\n",
              "dQQEMuK7QWMEBSklDiE1oTr1fbH5EmWBwVY7bj8zHtSAAAABiUGbqknhClJlMCT/AB88CGgUf4Kh\n",
              "CrsLl9OiqdZR7HC8qBiz5UgT6/qSrJm8Yb0Ff+WImNcvwX3v2N840Rf53ig9sw8fVEei+wKFaJvy\n",
              "mJFS8eMxphim4DF3BIgSj0hrzHvNONvhprGZ7Q3W48yG1Q5lTzprkrQxx++DHFfPa/jhBr/gGDRo\n",
              "OXuS/VddfLc5afJ8VywumvbPzqAqxoE3cPT6iAzeEY1u69tLqJGRa8mX9P8PPvh2b1CTx9gsE5uE\n",
              "a8+iyxY+jO2vlxl2CrjvObBkSjfC5G5vPYEMpNiBATuw27klN3QnF2dRcC1RNa9ijQ2lml701a5W\n",
              "FYBRnRtz0iTaK4QHCbhXvTfF/JlfR4VaEniF5661gWyhtF+SeJJKAE/mV1Th70LebNWOs/Eq5dPj\n",
              "l+fB/DzDT2g6pAdTv/Hplpfzvlz63f4n8Y1TGpJz4sozg0masN9Z3uKDLrrZJPEhx0arUDA4cDer\n",
              "0C3RJl9bEsoAAAiKFzAAAnvgnaZpG6uEB+ozK70tgQAAAYJBm8tJ4Q6JlMCT/wAd1xGfYgEF0kVl\n",
              "5lr6lLWXmVgnVcBJTOSRc7Fq9f1CtTQVapKURJHfQcORpYIR5IcKkfiMcRHmo4acEGkXLGgrGOYg\n",
              "n/jRdz1k8ZFA7cxPEOF4XutPxgdFuhaaFQk8QyJzNr+QBJusquNjnDHSZUxb3+TGtNsyT3+qokWz\n",
              "TpWLl/GWw4SMILTLSLjU8spwixzKYiue5F1S5auFSOy0HEDUftNouiIBr/eBEcU9DBxfeXXi6sjS\n",
              "huza1YcrZUerf7PVOY/N5CxVBU8SddrYoMaClb06WBFG2fvheMcBawNtZwbjB39dV+s67pKJUZtb\n",
              "FIwKuhyzPo9KZ29WSUQcP9FdUOhVcGBO1jSDEiyXpYI0/DQ+0mRUFHAlHvWDR9H0hnQbUPZvCdWG\n",
              "IAsZuQgITiEjM1W/SWB0OOPBYCnY1WwXL9wAAcgpuAe5dByQiBbT/QVJL45xGvSM7HqbzdbOPKGp\n",
              "FyMxIRPt+61OElU4vgAZX8a4sqKCngAAAaxBm+xJ4Q8mUwJPABq/MCFYGx/QDWrhcUY8SFtge/H9\n",
              "07oMmIQV53gD75X16AJb/Er3gcrzgmb893X2uM+zoSL5LBK880MPBttHrmUqh6+WdptjNWeysggf\n",
              "SAMDbpewrXICd1UkKeSIKUAYktCIpPc+iYhaf4iv8ihNlX+dhyA2aUrRjA6eDZahLfHPXHGpbw7H\n",
              "XJsGEtD/MLQJcFzhQ0Qtnh3OWvga1+w2ahTmobmhInZc/r9+DrvRDZramI7el5HSzaL69XZ7Lnwj\n",
              "++McqMrXJUguMLrcnKPzQP0x35r/cpD7gDE+1eg6ILV7KbrtJx+QC/hguzh2m/v4aURQ1bewFD/7\n",
              "dI3TLDkvKI+Toafh8bxBEOiNpyRP8fkNneOp5/BSbwwZnkya7a/lRBcewBlVVVOXDhfZUdZPMZhx\n",
              "fpy3EllEHJS9UqyQWHIe77bncQwqkJbfiNp32kVt2hOq9Hq7+moEWdKRcyRa7IoYrPl0ykDHhufs\n",
              "Vlz86XzyBB5cJXjJwUL+HjDYd7w0uPSbTmfwHt2D5fcdi8K357X3U0QI97tjwJLpJseUAmX5AQAA\n",
              "AZxBmg1J4Q8mUwJPAAADADqf5TouWjeNx60KywkPKDpcAIY0G8gfKewhVBK/b+MEJueyjo4sy5y3\n",
              "6m5P3CnxGmvs++MWhglkxPrK7pA0fpDdAbmtaoIm5REjWqnLp2GImLjEAyk1w3SCxH8cRFN/GLVd\n",
              "UyEeQbVreB6zSDFt4BYKgdoL3gStuPmktnbaTvLQv/1wOJKz/MWb1PRu8Yx5/gs5EjwRIxjKq9XS\n",
              "Foh6nheMnLM6ZKyb39js4UGshlRs7qAkNZdS9GfNWDZ5C9mPoqJYUXHchOdH0YtZKM6X83lNEp7/\n",
              "+v/BS3HAsRV933rmqwzCKqe+UTBU9uiXJR1+2A2/0xEMOX4/gsmKBM3+XXbsYPdLdqpHBRbwVzXV\n",
              "mpehHtRRX2XahbZ/iywxZHLmjKi90Qa8JUgYZNnpPTl8CCATwEwQNaF+TV4kNjqm6UUkacwjT9wE\n",
              "+61w1caGYe0wiITLe7IpysTGTJtmKna0wmXYqxMNTu6dFLRzb0d4/ftvNsWvoxwu2N7HH7hb8bPA\n",
              "GIyG+/3UYi4Aj6IxYKd9AAABjkGaLknhDyZTAk8AAAMAAGq/y5BpgLX1CQGjlRP26Z5jEDaM2CS0\n",
              "LL+LGy6Aj5fToqnWUexwvKgYs+VIE+vnhTtd1EU3oK/8sPxB8tiLWAg6nGiL/O8UHtmHj6oj0X2B\n",
              "QrRMPxtfBZKkiPrsFC7gkQJR6Q1e4IPIPN36eEsGWtObD2qHMqedNclaGOP3vbDpEIojUdt+NRC0\n",
              "Rt0rkv1XXXy3OWnyfFC1Uh6w1PFp1B6BQ8+GoVowkQGbmL0VqmllRvglgDbVb6M2rEAIZ1kozgNx\n",
              "2uTtX//uziCDzeFodOM1BWoECS57if+Sla3AV1M9FE2dCojbO9Kd7AFeisAYyvpOEpPRWu45j48d\n",
              "KO99tmbMw4RxocoHioXeIxWIjOQLux6ExdhEZJty5ibLdpMFitEg8nr3Mmr2a5qa5kAnP/60CsAc\n",
              "kr7mPmHYYWgtgg/gFfOCX20xJg3vWMHLB0H9tRqZ2Oxp9g3LZcXXk6N2bvKCgsk6i8krnEVcDNEW\n",
              "wanA3D029s1FL7nHYv1sjd9xAAABi0GaT0nhDyZTAk8AAB1P8t6QAB6rOkAP09o3jqJ0TLJZbEas\n",
              "ks2v3mX2Lf91t6dSreY5Psi+2DYG/P46ok/EHXj1ouji3uWaYtl5SqkDnAfPupkyk0e0xzwMSf1I\n",
              "flj43JV4Cvd1+ntcZHnQ1mfW2FRVp90DWdUiP2LRl39wFsfd0bUXGnffAEnGPeBZRIGGNPXq00/i\n",
              "/qUDjuqgdD13f0dc6alYa79/FTRT4b43tne7Slvr5wGI+fwyf7OMk+ECjVQxKk4v8QUpxCp16WBI\n",
              "RhbfdavepWjeS5HXsxH3C2UvhlQOKGB0yLn3VxPc2aWL4/fPMiRiAnO7bN23YO10G0VwtOIibVou\n",
              "0RoIKGH8dM/+P3kgSJlp+CwPa15vIx5/vybYUkWED/ZNE79bKumiCHIvhi1rLf4zEU4xlgqeypoH\n",
              "JbFKgNp6GIjoccWS/1f7ZvwUnWktttEXmrBBMD7qmI0F6B/IjIC8GFW/dY4pdCzT2WjdOmYm4Es+\n",
              "MOJ+no4BjZ86uYzGCxjdvsNjAAABwEGac0nhDyZTAk8AAAMAAAMATn/YTvPyFTKmZhEqgJnfRalD\n",
              "ldpBNA+py73UYd31zL4dQXLPlqNFfxw2AYYFvVBvJbm0QtiuI+howf3Wnltn7O54KV/+KoQcUa8d\n",
              "PLc2CHNhOkS/zUpkASG0WlEWPEHAzjVyN2NXacU88IbCfImyhgDFlMfW9AtMoBWgqz0Pj6NKAzdv\n",
              "+fUmeRynnh21tui3iS6sJEdc9f9olU8jP+AWhAhcjGJPGMuG0FsiWDvqygTB82gjn0/VgUKzHb6g\n",
              "nJEijCM+DEoZ0lF4mYJ2AQotd8yl8cwNd2pHmp/8sh+TQEk0eHbHl5s8AAHnQJtpcNzZOPAl63GZ\n",
              "cEtxTS88WiJqRfL9iphMHb+2XQJh/6RE0YIlvJ1GgyMbg+AB9X1v0ASPacQBdNQM72jb+SVrCXLI\n",
              "kqr/ODw1st2EJFMFdJr4g6QsEkrK52rVYP9h+ocQvOUON14eHFuSteIpPZHZ8kkjVwc3i+IavD81\n",
              "GBuxLABO9bF+yaLWHHiNsk9omWTfCXf2G7oWQbA7lov53zU/HyUR83IhJC1mvVE/BjvDW8wYZ1nb\n",
              "E/gDN7GrkJA+5HWlLnYAAAAxQZ6RRRE8Jf8AAAMBbDL9QUt3aERMxPTQIMJ7mpbDMv+odlHE/mIH\n",
              "lxal7ayySM12VgAAACUBnrB0Qt8AAAMBjKCgh7y51uIEk1j83FjHRNyvzNYqBN1iuFSBAAAAHQGe\n",
              "smpC3wAAAwGQqpkTtgp779dAcH/BHqeZB+lAAAABoUGatUmoQWiZTBTyfwAAAwAATnljURdv4wQm\n",
              "57KPmDRLPoeS+19dtm1flcxJPgLtmn4CqPfvY57M53qJKk8Uziukb3n0+jzsv3yrLQebPqKf0h76\n",
              "2jPxTOoflveqUg/vOFkrAD0DQlpBTdXXEMqCeZXJMq/R/B/Y+pSF8cl1ao4xgVF0GW9fd6u6YICA\n",
              "Lyw2DV2iiKWGcycILNdz+mHNFy5sY8K4GqoMWycOZAYzH6IZRPS91OULp3NRO8U87iFZfzojX+PN\n",
              "MGqOPR9QavzznW/pCDpZRzuVhtxn1VmRh2Z2Yy91wcv2J++EfQCGIBU/Xy35ceGrEuSBb/m6+ng1\n",
              "OGFVM2y0/PtlueB93FCVGL8mf0WDJIBsgUJQHQQFBe0mUPnVsh6rzM2517XF2x6dMDqOtniEujdp\n",
              "d8zjUeZeLgpdKqdnJZYM3U0TYmAjfOaS1ohte6smMsc4ddVoFJ4m9vuW+Kh2Pj9rUkzmcSn9n2b3\n",
              "eEL05bHuJRXEDK8/MsYmiImooH/Stz2BVzBhe4gf+5q7fAZwAAL0nd/bfe4C7K3tEAAAAC0BntRq\n",
              "Qt8AAAMBknSDWMQPPg3IxJ6ifjDr4m3KU5fMHayZpTcKu+oFFc18BYEAAAGkQZrWSeEKUmUwJP8A\n",
              "AAMAAFC+BZXQn/YEu3fxghNz2Uji9lak5SK5qm5/RRzOp76oe6h/U2CbnWRpjF8rjRixjkLqGyqj\n",
              "7RH8obi+L1d1HfeTSgNRXZgwrjKBVG7ObUIzaMlDRnDxyAgKE5kMcfH/uI/mP4nGR6VPV3NWDX4i\n",
              "3Lgack8Pg8cI/Jgk+V6LlXjdz58RTl5o+BfwZUJiVzyzzq63o7uEBmJ7x/bkGaHb/Bsff3B0Vtht\n",
              "KiY4w8IY9P0Pg8xsA7EBlrflJQZhnFcHfmluyJqmYvowygymLQlsIPHl3nHjyLhrYGhEjWNjXSi5\n",
              "BxlvcDn7914AFEb9qQRmn8JOlNj623JQl0uvtBLQ8QZkw4vTEiMSL76Tf/DhgvHQAu9IzWvUa0CL\n",
              "dH2IenAaRvSMJNslFNtv8gGmPb0MXJNxwd5zeCHqA17v7Pe8vbuWTpUdg2MTQVSYWW8JZWaQPN93\n",
              "rCqyhDkNtZnH21mKqlo+pubCmkoL70pkZR27ONVT8G2C/6yHRbSOF8GsvBC20Ab2X3Pzne8W1fTY\n",
              "x7hb13noGqvoAAABi0Ga+knhDomUwJP/AAADAABBktwf8sEemTIMqD6YT0ZH875UWGdsd3O9uW+1\n",
              "J7gcvnOR6FzXpfzWupwDqW5s66xo7nePBsE1YpdwlOuk98duOyRmSvpD96BJi4Jt9qBLRoZDSfYG\n",
              "sXZVkbj/Pmh4Xe7zWBLUcHHl5EXjFOPc/+S2dcg7XgyZcYTcYRntohMe1408BRlRZPWCSHztFL8I\n",
              "apJRhqHB9+PgePyfLXF17kma5lYQzRAk9j1cNzHTUIgbQ4cgxvpXoPsVmt1LEbWirzar8coRLoeK\n",
              "7GvlJ8DcO5/38JIrSWNYY4Ir6wCDydz0lkvRUjk/GJDbIuogB0b5JIdfCd46aF077JRuanym/4iJ\n",
              "lMcEEIEWOk7zMbCwJrs/KqBRVq9xfka69Lz4aftJ2GjS6fXJt5F052UAMWT43FRbCNgb+KlZ8vWr\n",
              "Sqmo4vC5+aJNe3oQ41GOslKiDFMvLrlJmTxc0Ce7tYW72sWrV9ESukInhKVx+P4VWCHxK/0OI++S\n",
              "cdYj+CjI+ehBAAAASEGfGEURPCX/AAADAWu+lshdHOhGn+mQS4UjB6abGIAOwhgaR2MLGizjZOLH\n",
              "Uu4bdtK+6A8Alauw3NeipfvKYyseX39uPwhBhQAAACEBnzd0Qt8AAAMBjJWgLcyzpxCBok1Vw8pu\n",
              "5dtOhR283b0AAAAhAZ85akLfAAADAZCjM7I1QOXmWi6I6e7n3o/6sJURu5zBAAABZEGbO0moQWiZ\n",
              "TAk/AAADAAADADff3OAP7F7wFTOyc74saBVflOsr1oE8wiUDFny0a22Zb7+qoZzLMC5HZEeYSRxF\n",
              "2zpzHTjgAA8gB5qoat1jCaXXfiqrnIVjx952e+rbof6Npz7FO6XLtfMASocIjnkiAklQp66piPWK\n",
              "TDoq1zAimOuFBPdqbiO/Htem03IG61zygT29zTq5IttsrDYjWDkafbo13LUfQKFCQGcYem4Oxxoi\n",
              "/F4Ypv/RwbBnRumU4oZ+oSoyzKoOAAdb5VPpWLDAgcZNU5vHtHz5K8CtT/kToPtXZM1QnvFLCy5H\n",
              "vRu52r5QX+XM3AC92/reS2/sRzEtZJqh5Ojgnrtx+E8cAoQvAGPavoPPE4avQZHPcEtjtGrAHNgr\n",
              "YNowbyp1fuvZ7oQPgihs0034dhhDKgggmfjdDdXC7qCAhlxXaCxggKUkocQmtCder7Y/IkywOCrH\n",
              "bb4RrkowAAABkUGbXEnhClJlMCT/AB88CGgUf4KhCrsLl9OiqdZR7HC8qBiz5UgT6/qSrJm8Yb0F\n",
              "f+WImNcvwX3v2N840Rf53ig9sw8fVEei+vTQSchPKM1Lx4zGmGKbgMFHTCcgPf2ho3IhEN7PWMz2\n",
              "hutx5ldudraFpN49GJCYmQbP5HG1+85df8AwaNBy9yZTpPeWsZK7xMa2Qg/VqHi2BVjQJu4nNSHR\n",
              "W37JzuvbS6iRkWvMbkwcc8HreEuQSePsFgnNwjXn0WWLH0Z7YKWMuwVcd5zYMiUb4XI6fQWo/KUC\n",
              "wFv3YbdySm7oTi7OouBaomtexNPvISywKYKFmFYBRnRtz0iTH0kmgClpGZ3fF/JlfR4+bI1rkShl\n",
              "y824sP9fkniSSgBP5ldU4e9C3mzfVRsYLENDtykAVuDzBeGg6pAdTv/Hplpfzvlz63f4nwofbT2N\n",
              "Sucozg0masN9Z3uKDLrrZJPEqxzarHWTW5MSrysZnZL61fZQAABEULmAABO4ZNXpZt64cli6xQbI\n",
              "3qWSWGBFD+R7MuJxAAABfUGbfUnhDomUwJP/AB3ao4tE5q12g0Y/UsXHsRXDAEIlIeonmRh2Rt13\n",
              "NBVqkpREkd9Bw5Gkg91jIS6dhf4tc761SO1oo0i5Y0FYxzEE/8aLuesnirZge7zxDheF7rT8YHRb\n",
              "oWavQwKSXCDY1/IAk3WVXGxzhjpMpvNJJJh9ZjUz3+qokWzTpWLl/GWw4SMILTLSLjU9EG0g6+iW\n",
              "Sue5J0dFqQJDQI9dV9nJptF0RANf7wIjinoYOL7y68XVYrJAkz3B+w2Uerf7PVOY/N5CxVBU7x2m\n",
              "m3ONBSt6dLAijbQb5JCN/xrq1V25tTcsJN/2dd0lEqM2tikYFbo0qVxdvl/gWS/oe8wiuqHQquDA\n",
              "naxpBiRunOoL6nqYfaTIqCjgSj3rBzR13BkZllUO1+Ww7FAsZuQgITiEjM1W/SWB0OOPBYCnnisO\n",
              "KX7gAA5BTcA9y6DkhEC2n+gqSXxziO2Iqbr5hm62ceUNSLkZiQifb91qcJKpxfAAywPIDOoFUQAA\n",
              "AalBm55J4Q8mUwJPABnKuFTbS6QDW7gXjH2z8mhhBuOrXF1viq34UAMfvtGC4xH7bf2Lww7CZvz3\n",
              "dfa4z7OhIvksErzzQw8G20euZSqFAJ0W2xztr837+OOxZjTQZRhWuQE7qogU/N+hLZN4BSJJl0MM\n",
              "1vp/ib/y0A2Vf52HIDZpStGMDdiAMD+6Jfa441LeHY65NgwloR5haBrgucKGiFs8QVKT4E1PwnjX\n",
              "Mm5WiUJFYw+v34Ou9ENmtqYjt6YFWhym2LL3+5uX8B98Y5UZWuSpBcX9W5OjYS6+i9wzYDVGhuAM\n",
              "T7V6DogtXsf0WuRkQvPemEwYwk/v4D6q+L9cRFD/7dI3TLDkvKI+PiSfh8bxBEOiGJyRP9hDGzvH\n",
              "U8/go8z+VP/kmu2v5UQXHsAZVSFTctdVHKjrJ5jMOL9OW4ksog5KXqlV722Mpy8o4y+MsPyGF+I2\n",
              "nfY9W3aE6r0erv6wgRZ0pFzJFrsihis+XTQrMu/Z+xWXPzpfPIEHlwlbsnBQv4eMNh3vA5krblG3\n",
              "TPM7AZrjx2LwrfntecLhOYEE7HgSXSTY8oATcAAAAZVBm79J4Q8mUwJPAAADADqf5TouWjeNx60K\n",
              "ywkPJ+WSxbTpk/c3e9/GCE3PZR0cT4R+HfrfZlfes82SFVjcyRtndeJ9ZXdIGj9IboDc1rVBE3Gx\n",
              "SNW7l9aR+14uMQDKTXDdILEfxxEU38YtV1TIR5BtWt4HrhNbrbwCumq9QXvAlbcfNJbO20neWhf/\n",
              "rgc09n+Ys3qYut4xjz/BZyJHgiRjGVV6ukLRD1PC8ZOW6msVk3v7jgv8jZDKjZ3UBIay6l6M+asG\n",
              "zyGR2uEyHlhRcjEvQiCpnr3QWXc23KaJT3/9f99cDOBYir7vvXNVhmEVU98omGJTdEuUVcnHYhEf\n",
              "cM4OX4/gsmKBM3+XXbsYPdLdqpF5RkzT19aqe94n73phFU0Pm/mwsMWRy5oyovdClLjq+4Zj0vRx\n",
              "HYA2AGsUZMKZPrS68SGx1TdKKSQcMI0/cPNx295bGhmHtMIiEy3uyKcrExkyZZipx3Mn4QpBHAv1\n",
              "iof1O4d4/ftvVonjuRagQVGC81REJKsa8YjIb7/dRiLgCPlwruAAAAGMQZvASeEPJlMCTwAAAwAA\n",
              "bT/KdJanfrRq7ZMgzsJw4Bq/mPVaOurYLTjk/LrFPnmu7fToqnWUexwvKgYs+VIE+vnadYigSHvn\n",
              "K/8sPxB8tiLWAg6nGiL/O8UHtmHj6oj0X16aCTexVdrVpHGjAOYKBR0wnID39L+IPIPTo4+EsGWt\n",
              "ObY1s1YgGCPHoxITEx+qgkQiicwm341ELRG3SuTKdJ7y1jJXeJjNnHMv2156vwDYnffhqFMCkfQl\n",
              "S9UtujziA8ttmsE/E9FW+65+dbnM4KSyTk7V//7s4ghBEGn8dGiatkCBJc9xP/JSuFBCRt7Fs4/0\n",
              "rh3ZNzkggz64ooYyvpOEpPRlFQRGPhHgO+R5lJ0FWSTsj6UudQa8OyXm+QLux6ExdhE6crHSxFpS\n",
              "pXFN6V48nr3MZb2a5qa5kAnP/60Fj6Ii/+gPl9x9P7NgiTHYX0Yn30VJg3vWMHLB0H9xSQY1tVH6\n",
              "sy7ZckUDrNLU/KCgsk6i8krs4Op5Ioc5hfsSHXTra7O1hPXYv1R3AAABgkGb4UnhDyZTAk8AAB1P\n",
              "8t6QAB6rOkAUgVyr9QYuo3gWs4wZtfvMvsW/7rb06lwZMRhueFrSwN+fx1RJ+IOvHrRdHFvcs0xb\n",
              "LylVIHOBpLfMmUWwnKv5MBehUh+WPjclXRVbSX7YoZGhr7mVsKirT7oGm1OFSsW3Dj4ZcHKrGDbc\n",
              "wMgwFs0lbbwLKJmRAk6nmmn8X9Sgcd1UDjOu7+hp4Gj6ShZg62eY/DfG9vTuRTITZTgMR9Jpk/2c\n",
              "ZJ8IFGnVnTO3ENAJTdQChYbQRn+N91ryDaARZNcdgHEfcLZS+GVA4da+kpzHBXEI9e5YqEI0kbF1\n",
              "yml9/bI9uwdhktorg0sJksa9eERmgjj/x1FyQRSahYkGg9rBIuAepPGxSkZthSRYQP9jkTvoD9nb\n",
              "wCbXOc4Wst/u6YpuDLBVNlTQOS2KVAbT0MRHQ44smnK/ydfhxOtJbbaIvNWCCYH3VMRoLybM0/ZJ\n",
              "4GKxV5yJxL4S5TDrjCYWtnInxhxP09HANXLmqRSAAAABlUGaA0nhDyZTBRE8nwAAAwAAAwBOf9Qj\n",
              "geD1kG96S/eTy8qImEzaA4CYH2CbbdJEUYxyOmLj6H6geq5C3qXosTaHiukbMYHTIbmOJCpvVtKL\n",
              "6QrMdQK/UZB2k1PzHFhwqWC/UOaNkKBogD9VoQTsgtjXhbIrUFO7cQi1dGHbwtt6q/jp05/ROfXt\n",
              "Y99ezDqB6nYSCfIyQvGQBurUPCLU2EJ7MPKA7toBGlLxHvkEOfy5pY7BbONJ01QK8DPXpAb0Q23I\n",
              "sewr0mNEV7oLs093nCclFPyJew+GdMBGHWzelWnkeAAGqm29072WrYoON0xNdgJX84Uoq35fH0rw\n",
              "bx60Hks/6+YabI/OWm0EZt/xtcBF/9wA2W78npdRlxXZAFE7gb5I+E/PFbl85vU8yh0AU40wbHL1\n",
              "p+KSTDVU3mYXgs70Hcj3diDZZKP4mNHJQgUhRTszWC8Y2cn5T/KkQXHeiArU9d/2L3ed2R6+RqKL\n",
              "r1Dp1JrMtB+53I+GTdco8vLcNnC/AWB80Mdyu7h0VfN+CGz64eeA6QAAAC8BniJqQt8AABJrviM3\n",
              "QixzxWienFGZKGziQ0Ws0uCnVaI1a6Pa3TwTpYuKbfeP5wAAAaFBmiRJ4Q8mUwJPAAADAABOeWNR\n",
              "F2/jBCbnso+YNEs+h5L7X122bV+VzEk+Au2afgKo9+9jnszneokqTxTOK6RvefT6POy/fKstB5s+\n",
              "op/SHvraM/FM6h+W96pSD+84WSsAPQNCWkFN1dcQyoJ5lckyr9H8H9j6lIXxyXVqjjGBUXQZb193\n",
              "q7pggIAvLDYNXaKIpYZzJwgs13P6Yc0XLmxjwrgaqgxbJw5kBjMfohlE9L3U5Qunc1E7xTzuIVl/\n",
              "OiNf480wao49H1Bq/POdb+kIOllHO5WG3GfVWZGHZnZjL3XBy/Yn74R9AIYgFT9fLflx4asS5IFv\n",
              "+br6eDU4YVUzbLT8+2W54H3cUJUYvyZ/RYMkgGyBQlAdBAUF7SZQ+dWyHqvMzbnXtcXbHp0wOo62\n",
              "eIS6N2l3zONR5l4uCl0qp2cllgzdTRNiYCN85pLWiG17qyYyxzh11WgUnib2+5b4qHY+P2tSTOZx\n",
              "Kf2fZvd4QvTlse4lFcQMrz8yxiaIiaigf9K3PYFXMGF7iB/7mrt4xFKU72C0n8h7QA9A1YsaH1EA\n",
              "AAGhQZpFSeEPJlMCTwAAAwAATZME76NN27+MEJueykcXsrfQwYWk6UaaIBXfflYiJqH9TYJudZGm\n",
              "MXyuNGLGOQuobKqPtEfyhuL4vV3Ud95NKA1FdmDNMjEKo3ZzahGbRkoaM4eOQEBQnMhjj4/9xH8x\n",
              "/E4yUkc2MjYg1+Ity4GnJPD4PHCPyYJPlei5V43c+fEU5tFBMCbG9QxYWKUjb/JVq1HBIxPeP7cg\n",
              "zQ7f4Nj7+4OvdXl2UejjDwhzk/Q+DzGwDsQGWt+UlBmGcVwd+aW7ImqZi+i1qCQzXMtKo8eYy8eP\n",
              "IuGtgaESNY2NdKLkHGW9wOfv6rAApCleUD00/hJ0psfW25KEul19oJaHiDMmHF6YkRiRZAHzOePm\n",
              "C8dAC70jNa9RrQIt0fYh6cBpG9Iwk2yUU222gAqy8WCJceBWzvObwQ9QGvd/Z73l7dyydKiqmxia\n",
              "GpIiy3hLKzSB5vu9YVWUIchtrM4+2sxVFtH1OYGVa2hzalMjKO3Zxqqfg2wX/WQ6LaRwvgz14MW2\n",
              "gDey+5+c73i2r6bGPcLeu88/Bt/BAAABjEGaZknhDyZTAk8AAAMAAEGS3B/ywR6ZMgyoPphyI8W1\n",
              "fgwxJLQm5DAcrUnuBy+c5HoXNel/Na6nAOpbmzrrGjud48GwTVil3CU60pXx247JGZK+kP3oEmLg\n",
              "m32oEtGhkNJ9gaxdlWRuP89enhd7vNYEtRwcndGW4rUlabkIUls65B2vBgt+6m4wjPbQhMHC01/u\n",
              "olRZPWCSEwGYFrjckkow1Dg+/HwOLzPanXXP80AMysIZogSex6uG52b2Fzzk6Wr02OhtvOqzW6li\n",
              "NrRV5tV+MEwLYvQ7GvlJ8DcO5/38hbIlI6Tja/HV5vgpvx0nvUgm2HxS0WYxIbZF09YWwkn0O+Qn\n",
              "eOmhdO+yUbGe4wCFYcyIpQghAix0sTVjYWA27Y1VQKKtXuL8jXXpefDT9oco0aaT65NvIunOygBi\n",
              "yfG4ei++AF/ipWfL1q0qpqOTdyfnITXt6EONRjrJSogwXIsuqiV3eLmgT3drC8e1i1a7oiV0hE8J\n",
              "SuPx/CqwNy0NEdKZxknHWI/gny2uxwAAAWRBmodJ4Q8mUwJPAAADAAADAHq/y4yz8RmXNZlBxqiR\n",
              "/FjQKr8p1letAnmESgYs+WjW2zLff29bkK5gXI7IjzCSOIu2dOY6ccAAHkAPNVDVusYTS678SZh1\n",
              "CsePvOz31bdD/RtOfYp3ajEnyHeihwiOeSICSVCnrqmI9YpMOirXMCKY64ThcLLi0ItOCCj5A3Wu\n",
              "eUCe3uadXJFttlYbEawcjT7dGu6WVvA/LGAzLuKkNhND03gclwE7cLkoDOjdMpxQ9p7ojFmVQ5QD\n",
              "B/Pg9KxYYEDjJqnN49o+fJXgUz8jIjJ9q7JmqE94pYWXI96N3O1fHb5i5m4AXu39byX0SK4rNnBK\n",
              "mLW9o9ClZ6Xok1qELwBj2r6Dzvo5/0GRz3BLY7RqwBzYK2DaMG8qdX7r2bBPzdLvdmmm/DsMIZUE\n",
              "EEz8bobplhIiGywiWFhxGCApSShxCa0J16vtj8iTLA4Ksdtx9o5ipQAAAYhBmqhJ4Q8mUwJPAB88\n",
              "CGgUf4KhCrsLl9OiqdZR7HC8qBiz5UgT6/qSrJm8Yb0Ff+WImNcvwX3v2N840Rf53ig9sw8fVEei\n",
              "+wKFaJvymJFS8eMxphim4DF3BIgSj0hrzHvNONvhprGZ7Q3W48yG1Q5lTzprkrQxx++DHFfPa/jh\n",
              "Br/gGDRoOXuS/VddfLc5afJ8ULVSHrDU8WwKsaBN3D0+ogM3hGNbuvbS6iRkWvJl/VAgBDOslGgT\n",
              "qrcBivf2fnn0WWLH0Z5wWYDHVqi7K/E2zel6VDTLX65FaUTZ7k7sNu5JTd0JxdnUXAtUTWvYplWb\n",
              "2zrFutcrCsAozo256RJtUcIDhNwr3pvi/kyvo8KtCTxC88VavLZQ2i/JPEklACfzK6pw96FvNmrH\n",
              "WfiXAbLjw5XB/DzPz2g6pAdTv/Hplpfzvlz63f4n8Y1c2pJz4sozg0masN9Z3uKDLrrZJPEhx0ar\n",
              "rqDy+tXDkdE5uPWcF9KAAAUnnWSAAiVzn5VHRDXG5z4BhpVvYAAAAX1BmslJ4Q8mUwJPAB3XBel9\n",
              "47VYOcXosEY6WKmiAQkImpUQqC46Hu13NBVqkpREkd9Bw5GvkNJGQl07C/xa531qkdrRRpFyxoKx\n",
              "jmIJ/40Xc9ZPFIgnwxtyEU317rT8YHRboWaekwKSXCDY1/IAk3WVXGxzhjpMpXgsC9bg5syT3+qo\n",
              "kWzTpWLl/GWw4SMILTLSLjU8/m0g6+iWSue5JsJiNmqi5MocQNR+02i6IgGv94ERxT0MHF95deLq\n",
              "rCkSoT9wfsNlHq3+z1TmPzeQsVQVO78TI75xoKVvTpYEUbZ/rfIRv+NdWqu3NqblhJv+zrukolRm\n",
              "1sUjArKtWhuLt8v8CyX9D3mEV1Q6FVwYE7WNIMSNrL9BfU9TD7SZFQUcCUe9YOFJO4MjMsqh2vy2\n",
              "HYoFjNyEBCcQkZmq36SwOhxx4LAU8hhFiFPuAADkFNwD3LoOSEQLaf6CpJfHOI6BjnZCMA9rZx5Q\n",
              "1IuRmJCJ9v3WpwkqnF8ADK9tL+6I+44AAAGqQZrqSeEPJlMCTwAAIDncIBrwdcske9767T9QoSY2\n",
              "0uogGUDggA1PSOOZlc/xK94HK84Jm/Pd19rjPs6Ei+SwSvPNDDwbbR65lKookHRQMfu2vzfv447F\n",
              "mNNBlGFa5ATuqlRTuRBSgDEloRFJ7n315fT/ER/kUJsq/zsOQGzSlaMYHTwbLUJb456441LeHY65\n",
              "Ngwlob5haBLgucKGiFs8O5y18DWv2GzUKc0e7wJE7Lh9fvwdd6IbNbUxHb0vI6WbRfXq7PZc+Ef3\n",
              "xjlRla5KkFyTNFwEYRzOAmfIIEO1slvVYn2r0HRBavZSddpOPx+9J57TBjCT+/lfqr3/zwRAv/bp\n",
              "G6ZYcl5RHydDT8PjeIIh0sxOSJ/j8hs7x1PP4KTeGDM8mTXbX8qILj2AMqoqpx3CL7KjrJ5jMOL9\n",
              "OW4ksog5KXqlWSCw5D3fbc7iGFUhLb8RtO+mlQHQJ1Xo9Xf1pAizpSLmSLXZFDFZ8umUgY8Nz9is\n",
              "ufnS+eQIPLhK6ZOChfw8YbDveGlx6Tacz+A9uqfL7jsXhW/Pa+6miBHvdseBJdJNlBQC0TEXAAAB\n",
              "nEGbC0nhDyZTAk8AAAMAOp/lOi5aN43HrQrLCQ8oOlwAhjQbyB8p7CFUEr9v4wQm57KOjizLnLfq\n",
              "bk/cKfEaa+z74xaGCWTE+srukDR+kN0Bua1qgiblESNaqcunYYiYuMQDKTXDdILEfxxEU38YtV1T\n",
              "IR5BtWt4HrNIMW3gFgqB2gveBK24+aS2dtpO8tC//XA4krP8xZvU9G7xjHn+CzkSPBEjGMqr1dIW\n",
              "iHqeF4ycszpkrJvf2OzhQayGVGzuoCQ1l1L0Z81YNnkL2Y+iolhRcdyE50fRi1kozpfzeU0Snv/6\n",
              "/8FLccCxFX3feuarDMIqp75RMFT26JclHX7YDb/TEQw5fj+CyYoEzf5dduxg90t2qkcFFvBXNdWa\n",
              "l6Ee1FFfZdqFtn+LLDFkcuaMqL3RBrwlSBhk2ek9OXwIIBPATBA1oX5NXiQ2OqbpRSRpzCNP3AT7\n",
              "rXDVxoZh7TCIhMt7sinKxMZMm2YqdrTCZdirEw1O7p0UtHNvR3j9+282xa+jHC7Y3scfuFvxs8AY\n",
              "jIb7/dRiLgCPojFgp3wAAAGOQZssSeEPJlMCTwAAAwAAar/LkGmAtfUJAaOVE/bpnmMQNozYJLQs\n",
              "v4sbLoCPl9OiqdZR7HC8qBiz5UgT6+eFO13URTegr/yw/EHy2ItYCDqcaIv87xQe2YePqiPRfYFC\n",
              "tEw/G18FkqSI+uwULuCRAlHpDV7gg8g83fp4SwZa05sPaocyp501yVoY4/e9sOkQiiNR2341ELRG\n",
              "3SuS/VddfLc5afJ8ULVSHrDU8WnUHoFDz4ahWjCRAZuYvRWqaWVG+CWANtVvozasQAhnWSjOA3Ha\n",
              "5O1f/+7OIIPN4Wh04zUFagQJLnuJ/5KVrcBXUz0UTZ0KiNs70p3sAV6KwBjK+k4Sk9Fa7jmPjx0o\n",
              "7322ZszDhHGhygeKhd4jFYiM5Au7HoTF2ERkm3LmJst2kwWK0SDyevcyavZrmprmQCc//rQKwByS\n",
              "vuY+YdhhaC2CD+AV84JfbTEmDe9YwcsHQf21GpnY7Gn2DctlxdeTo3Zu8oKCyTqLySucRVwM0RbB\n",
              "qcDcPTb2zUUvucdi/WyN33AAAAGHQZtNSeEPJlMCTwAAHU/y3pAAHqs6QBSBY7ua49dVN0shazjB\n",
              "m1+8y+xb/utvTqVbzHJ9kX2tLA35/HVEn4g68etF0cW9yzTFsvKVUgc4D591MmUmj2mOeBiT+pD8\n",
              "sfG5KvAV7uv09rjI86Gsz62wqKtPugazqkR+xaMu/uAtj7ujai44b74Ak4x7wLKJAxAk6nmmn8X9\n",
              "Sgcd1UDoeu7+jrnTUrDXfv4qaKfDfG9s73aUt9fOAxHz+GT/ZxknwgUaqGJUnF/iClOIVOvSwJCM\n",
              "Lb7rV71K0byXI69mI+4Wyl8MqBxQwOmRc+6uJ7mzSxfH755kSMQE53bZu27B2ug2iuFpxETatF2i\n",
              "NBBQw/jpn/x+8kCRMtPwWB7WvN5GPP9+TbCkiwgf7JonfrZV00QQ5F8MWtZb/GYinGMsFT2VNA5L\n",
              "YpUBtPQxEdDjiyX+r/bN+Ck60lttoi81YIJgfdUxGgvQP5EZAXgwq37rHFLoWaey0bp0zE3Alnxh\n",
              "xP09HAMbPnZP/J0hwQAAAYtBm25J4Q8mUwJPAAADAAADAE5/2E7z8hUypmYQ2h3LyoiYTNoDgJgf\n",
              "YJtt0kRRhVny1HZUCbA9VyFvUvRYm0PFdI2YwOeQ3McSFTerabq8IVmOoFfqMg78BPzHFhwqdIHI\n",
              "VZ6EH2wkE8Y/+9JzhRFMUxCwOklcqC6MO3hbhP8qYGN/opuiJwe+60HVRITsI/ice5bjIA3VqHwT\n",
              "pE5NDzyegrwu1MO3jN+lrzzjExuei2bUdI9HIDyn2wIG1FnHlGid/AnJZ7nt3nCclExfcQzJGSMb\n",
              "SAtA4zcISKAAKOQYHP3stWxQcbpidG5f17IDhn3CoYUQ6KYrEOdD7fAZrtTDlARQLJm17hT4cWA3\n",
              "7Ez77XEZE4BRyCB2I1lf8TfwLKArwoeRHW274OuJ6fKbuIQ+KAOYVBQZ1r7gqqZtGauhvc3GyJ0E\n",
              "vYzkYzzoRwkxr+77lT8pZYx1R6juuIYmRJ3pS8DBUCrZ9ldldX0izVN0+1/5GWPzihUZ6aGUa+Cx\n",
              "tp7H9ySvnAZNej6jLwAAAZ9Bm49J4Q8mUwJPAAADAABOeWNRF2/jBCbnso+YNEs+h5L7X122bV+V\n",
              "zEk+Au2afgKo9+9jnszneokqTxTOK6RvefT6POy/fKstB5s+op/SHvraM/FM6h+W96pSD+84WSsA\n",
              "PQNCWkFN1dcQyoJ5lckyr9H8H9j6lIXxyXVqjjGBUXQZb193q7pggIAvLDYNXaKIpYZzJwgs13P6\n",
              "Yc0XLmxjwrgaqgxbJw5kBjMfohlE9L3U5Qunc1E7xTzuIVl/OiNf480wao49H1Bq/POdb+kIOllH\n",
              "O5WG3GfVWZGHZnZjL3XBy/Yn74R9AIYgFT9fLflx4asS5IFv+br6eDU4YVUzbLT8+2W54H3cUJUY\n",
              "vyZ/RYMkgGyBQlAdBAUF7SZQ+dWyHqvMzbnXtcXbHp0wOo62eIS6N2l3zONR5l4uCl0qp2cllgzd\n",
              "TRNiYCN85pLWiG17qyYyxzh11WgUnib2+5b4qHY+P2tSTOZxKf2fZvd4QvTlse4lFcQMrz8yxiaI\n",
              "iaigf9K3PYFXMGF7iB/7mrt4xKmtZUvHBRe5r9hVAvHzAAABoEGbsEnhDyZTAk8AAAMAAE2TBO+j\n",
              "Tdu/jBCbnspHF7K3ydSQb9sE7Y6B0PE2UxJJylrXT6TUGiuf5XGjFjHIXUNlVH2iP5Q3F8Xq7qO+\n",
              "8mlAaiuzBkD03fIbs5tQjNoyUNGcPHICAoTmQxx8f+4j+Y/icZLc5T+lb/dAfoMuBpyTw+Dxwj8m\n",
              "CT5XouVeN3PnxFObKWOF/BlQmJXPLPOrreju4QGYnvH9uQZodv8Gx9/cHW+hfg4oX9EXEh6fofB5\n",
              "jYB2IDLW/KSgzDOK4O/NLdkTVMxfRalBIZuIHRUePLvOPHkXDWwNCJGsbGulFyDjLe4HP39VgAQ1\n",
              "ivKBGafwk6U2PrbclCXS6+0EtDxBmTDi9MSIxIvQ2BnPHzBeOgBd6Rmteo1oEW6PsQ9OA0jekYSb\n",
              "ZKKbbeQARh+dRIuPArZ3nN4IeoDXu/s97y9u5ZOlRdbYxNDUkRZbwllZpA833esKrKEOQ21mcfbW\n",
              "YqmGj6nMDKtbQ5tSmRlHbs41VPwbYL/rIdFtI4XwaH8GLbQBvZfc/Od7xbV9NjHuFvXeeH+AAAAB\n",
              "iEGb0UnhDyZTAk8AAAMAAEGS3B/ywR6ZMgyoPphPRkfyzXR10gSqJuQxXK4FJwOXznI9C5r0v5rX\n",
              "U4B1Lc2ddY0dzvHg2CasUu4SnXSe+O3HZIzJX0h+9AkxcE2+1Alo0MhpPsDWLsqyNx/n3A8Lvd5r\n",
              "AlqODjy8iLxinHuf/JbOuQdrwZcuMJuMIz20QmPa8aeAoyosnrBJD02il+ENUkow1Dg+/HwPH5Pl\n",
              "ri69yTNcysIZogSex6uG5lpqEQNocOQY3054H2KzW6liNrRV5tV+OUIl0PFdjXyk+BuHc/7+EqVp\n",
              "LGsMcEV9YBB5O56SyXoqRyfjEhtkXUYA+Z8kkOvhO8dNC6d9ko3NT5Tf8REymXm6tm33Ll4sgHAt\n",
              "muflVAoq1e4vyNdel58NP2mbDRpdPrk28i6c7KAGLJ8biothGwN/FSs+XrVpVTUcbhc/NEmvb0Ic\n",
              "ajHWSlRBimXl1ykzJ4uaBPd2sLx7WLVq+iJXSETwlK4/H8KrBD4lf6HEffJOOsR/BOfeAAABYUGb\n",
              "8knhDyZTAk8AAAMAAAMAN9/b7dAFB3hSq2dzvixoFV+U6yvWgTzCJQMWfLRrbZlvwlV1qUswLkdk\n",
              "R5hJHEXbOnMdOOAADyAHmqhq3WMJpdd+K+9P07Oy6cbUatuh/o2nPsU7uJiT5DvRQ4RHPJEBJKhT\n",
              "11TEesUmHRVrmBFMdcKCgr5JjMzgUZ+eteoC1zygT29zTq5IttsrDYjWDkafbo13Ty8YH5YwGcDa\n",
              "W4QZxoi/F4Ypv/RwbBnRumU4obUBnaujMDFoCRq49vpWLDAgcZNU5vHtHz5K8A5mTLUZPtXZM1Qn\n",
              "vFLCy5HvRu52r4nfO9RigCv2/reS6Zbs3ZWEEqY8AMvoUrPS9EmtQheAMe1fQeeEUP+gyOe4JbHa\n",
              "NWAObBWwbRg3lTq/dezqJFKpd7s0034dhhDKgggmfjdDdTC7qCAhlxXaCxggKUkocQmtCder7Y/I\n",
              "kywOCrHbaVfDAAABhEGaE0nhDyZTAk8AHzwIaBR/gqEKuwuX06Kp1lHscLyoGLPlSBPr+pKsmbxh\n",
              "vQV/5YiY1y/Bfe/Y3zjRF/neKD2zDx9UR6L69NBJyE8ozUvHjMaYYpuAwUdMJyA9/aGjciEQ3s9Y\n",
              "zPaG63HmV252toWk3j0YkJiZBs/kcbX7zl1/wDBo0HL3JlOk95axkrvExmzjmX7a89X/iiTA8185\n",
              "pH0JaRjW7r20uokZFrz3hVvuufnW5zQJ1VuAxXv7Pzz6LLFj6NBE6LSewVcd5zYMiUb4XI7vRrxA\n",
              "GWzkFv3YbdySm7oTi7OouBaomtexhA+RIlgUwULMKwCjOjbnpEm3P5NAFLSMzu+L+TK+jyM2TSsu\n",
              "dKW+flLtX6/JPEklACfzK6pw96FvNncq6IwXgbLiErAs7M0gRi7spkx6v/Hplpfzvlz63f4n8YgA\n",
              "ugfPosozg0masN9Z3uKDLrrZJPNRcFYraV6I+utxm91pXlqcF9KAAAUnnWSAAiRQnaZpG6uEB+ow\n",
              "6xgAAAF8QZo0SeEPJlMCTwAd2qOX3XAELco6do7BdScwglwSHRCCqP5l9+ZohdzQVapKURJHfQcO\n",
              "RpRvdAyEunYX+LXO+tUjtaKNIuWNBWMcxBP/Gi7nrJ4t2YHvU8Q4Xhe60/GB0W6FmzIcBAlwg2Nf\n",
              "yAJN1lVxsc4Y6TKdTSSSYfWY1M9/qqJFs06Vi5fxlsOEjCC0y0i41PRspIOPolkrnuSgsLSzVRVm\n",
              "UOIGo/abRdEQDX+8CI4p6GDi+8uvF1WYSOukWrDlbKj1b/Z6pzH5vIWKoKneHbcE5xoKVvTpYEUb\n",
              "aDzJIRvxBA21nBuMHf11X6zrukolRm1sUjArpGlSuLsrfoFkv6HvMIrqh0KrgwJ2saQYka0nIVy/\n",
              "w0PtJkVBRwJR71g6hP5oJzdqHs3hOrDEAWM3IQEJxCRmarfpLA6HHHgsBT0ZWh179wAAcgpuAe5d\n",
              "ByQiBbT/QVJL45xHesc7HRgHtbOPKGpFyMxIRPt+61OElU4vgAZZCb//gGgAAAGoQZpVSeEPJlMC\n",
              "TwAAIDncIBrwbOxXL8Cm0M1WObBv/X9J6XxMAQrqmAmZYb8ySDWPhAb0x57uvtcZ9nQkXyWCV55o\n",
              "YeDbaPXMpVGAE6LXY521+b9/HHYsxpoMowrXICd1UeKfW/Qlsm8ApEky6G2IhyLNi/5aAbKv87Dk\n",
              "Bs0pWjGBuxAGB/dEvtccalvDsdcmwYS0I8wtA1wXOFDRC2eIKlJ8Can4TxrmTcrRKEisYfX78HXe\n",
              "iGzW1MR29MCrQ5TbFl7/c3L+A++McqMrXJUguSTouAjCHoH6Y782A1RobgDE+1eg6ILV7H9FrkZE\n",
              "Lz3phMGMJP7+R+qvi/XERQ/+3SN0yw5LyiPj4kn4fG8QRDpYickT/YQxs7x1PP4KPM/lT/5Jrtr+\n",
              "VEFx7AGVUhU3LXVRyo6yeYzDi/TluJLKIOSl6pVe9tjKcvKOMvjLD8hhfiNp30kqA6BOq9Hq7+sI\n",
              "EWdKRcyRa7IoYrPl00KzLv2fsVlz86XzyBB5cJW7JwUL+HjDYd7wOZK25Rt0zzOwGa48di8K357X\n",
              "nC4TmBBOx4El0k2UFAC2gQAAAZVBmnZJ4Q8mUwJPAAADADqf5TouWjeNx60KywkPJ+WSxbTpk/c3\n",
              "e9/GCE3PZR0cT4R+HfrfZlfes82SFVjcyRtndeJ9ZXdIGj9IboDc1rVBE3GxSNW7l9aR+14uMQDK\n",
              "TXDdILEfxxEU38YtV1TIR5BtWt4HrhNbrbwCumq9QXvAlbcfNJbO20neWhf/rgc09n+Ys3qYut4x\n",
              "jz/BZyJHgiRjGVV6ukLRD1PC8ZOW6msVk3v7jgv8jZDKjZ3UBIay6l6M+asGzyGR2uEyHlhRcjEv\n",
              "QiCpnr3QWXc23KaJT3/9f99cDOBYir7vvXNVhmEVU98omGJTdEuUVcnHYhEfcM4OX4/gsmKBM3+X\n",
              "XbsYPdLdqpF5RkzT19aqe94n73phFU0Pm/mwsMWRy5oyovdClLjq+4Zj0vRxHYA2AGsUZMKZPrS6\n",
              "8SGx1TdKKSQcMI0/cPNx295bGhmHtMIiEy3uyKcrExkyZZipx3Mn4QpBHAv1iof1O4d4/ftvVonj\n",
              "uRagQVGC81REJKsa8YjIb7/dRiLgCPlwruAAAAGOQZqXSeEPJlMCTwAAAwAAbT/KdJanfrRq7ZMg\n",
              "zsJw4Bq/mPVaOurYLTjk/LrFPnmu7fToqnWUexwvKgYs+VIE+vnadYigSHvnK/8sPxB8tiLWAg6n\n",
              "GiL/O8UHtmHj6oj0X2BQrRMQ2tfCpKkiPrsFC7gkQJR6Q1eWIPIPTo4+EsGWtObD2qHMqedNclaG\n",
              "OP3va+pEIonMJt+NRC0Rt0rkv1XXXy3OWnyfFC1Uh6w1PFpwMw0/4ahWjCRAZuV6pbdHnEB5bbNY\n",
              "J9+HNqxACGdZKM4KSyTk7V//7s4gg83hZ8zjTNWyBAkue4n/kpWtwFdTPRRNnQqEmy7aIAIM+uKK\n",
              "GMr6ThKT0VruOY+PHyjvkeZSdBVkk7I2p6lQTWHsl5vkC7sehMXYRGSbcuYmy3aTBYrRGXJ69zGW\n",
              "9muamuZAJz/+tArAHJK+5j5h2GFoLYIP4BXy+l99FSYN71jBywdB/bUamdjsafYMu2XJFA6zS1Py\n",
              "goLJOovJK5xFXAzRFsGpwNw9NvbNRS+5x2L9UdkAAAGBQZq4SeEPJlMCbwAAOj+iMoAAX9U1AExd\n",
              "hD+fGkZALlhTbmbXsexiyuvmyfD+YNFzhG57C3uZarF7R2sROB1c7wOGzswxpi2bC9QjPxv0fA2I\n",
              "SJmvwAQmA22NTwoN5OotSFCHtlyhkaGwT5TLVORSBVl9+nlyN/PRosu94SijVwUkOvGBWklbeBZR\n",
              "RgOVxFuEHjjASpZx3VQaVpp305MNTTgNLMKNGK3z/MvaLkkaMRWG4DEfSddULYqUUIfxkx57YucW\n",
              "ptKLn1n+G0EbTo6uuZNraZ4HcjsBc1tDkxqUZ6XmJHhsw3sJDM+pYP/Fklv1kSNsh/qiMKBRnWJq\n",
              "RKbGzwnr4N68IjBBEwdWjU4rAazrjBTZTkPzadhUnjYkSM2wpI2EPu/4FX0DIPydGxm2wWsx3UTH\n",
              "tihlgqnsJeMCjK0Y6A0YQmSAwKI0PMob8OLG2AHSZFgcW7xH+LQTZkhd/ItINTp4ioXdb2dHCWIY\n",
              "dhUHobv3ukBYV/I1LAwM+qldwQAAAZBBmtlJ4Q8mUwJvAAADAAADAJt+4NMn/0nXWRX/aHc3HwKO\n",
              "oiBH1az7BNk1MSKaprUpi5PkRFcoEKe8/uwUn76DyN9VgE9x1i2NP71rKSRYCZpvJOF6478U0APg\n",
              "hwqdMX8zAihk74thwXuITiOkbFMQ52wOmRSnSr0yG/74mu9tHFv1+3RE4OhHJ2vyUEq/l+mAReUE\n",
              "ANsfvIlw298ittpOj61H9S9cVvpRc84sL42Bbn9EqWp9+nN0LYvE1wZsLptgq0HfGeBKipa5/0du\n",
              "4moex2sdjtPgFLACUTTj4AAMytt/fITJAcowDzdIyU/16nagmd9wsMcde5n/lC+kD4abL7Rmm0UH\n",
              "fwAP8Qd5b7hHlaA+1fq2GJBgC4wgN8kfCfjk/BTOtYkMfIjiR6Laf9YUPPt5MH64YymCy8QIEbB3\n",
              "+dw84NhP2NnJfg/5dJ92cyaO+rCSGDQEfw5AOiOnQfGcDn+hTgvT8FLHmE4URtLLOIR3c8QMTykk\n",
              "ukw7paQhLOwMbae6bVyMx6GTXowZCRUgAAABm0Ga+knhDyZTAm8AAAMAAJk0tc8r7zqNeNXB8pqg\n",
              "gxBkId26EDWXuyAcpfjBg810dlq1lCom/uxnD5I3vPptDUkQuunoTS6rS//xFQkzDPzBbTv9yOgR\n",
              "m/WMs9zgARQNXa2wAoujk5S686sqZWuUUNH3Ch0xIaDdCJXAc/6eMt9PTRutUH+F02UR7WGWO1Kk\n",
              "PXOOBWQN9MOGsfAk9ppvDWcxKFkyK96Ay3mvVvWdTkw1ugRLdOEE350vLva7bJmmTrm3w4odjlp4\n",
              "F50lUkM8rPL9YRcZ/4jcTtK/hbzPKx0DbG3yrt+/p6v+GCH8UeZMay9aoTGEgzYBcqWLObYwc8Hw\n",
              "Jg36wh4O2SWVGsoEcXcGGAZaVmahjaZRce01cS3/sU2oD6eC0z384F7xQ2NEupdpdiU+BPMvGA95\n",
              "VWCkzuVs+72aefoT8gI4iJR0fYzP5jZ8inzOK8nK/qUrqCOOxj7LDOmwICRmWA3u0Nl4PVgcyY6I\n",
              "AEt+WYYrAr/76bnkXWBIbGwe9Yf+5q7eOLS4MSpmAtVroAPcM2J4GQAAAaZBmxtJ4Q8mUwJvAAAD\n",
              "AACf+29AWb/ZNmCHftgmZz2b1AHz5j/eMvjhnw7868kZc8/sVKVKqFlMd7ForoD78NoIn+XZCZUv\n",
              "EHVwnqnlRlQSOi8lt92iu0gPXjJgqA6BAdhdL2kpGl00pAgKHVh89HvLdY/oEwF3hMVPV3Nef4PK\n",
              "1LP3wgsVOWFiPyY6dl76Sxj+fGp0HIhcfAv2VT0CHe9a5aMdjaKrP5aOcgkFJk4KhH+vvhD+FWK8\n",
              "1cMcYeEMf2WbrSZf4CGrYN5/i8y1Hu892OoDsiasm1zzaIgp1cAqqPHmIitjxw8Mxjve2bRlsmBz\n",
              "9Vw0V4D3736AJSpXlAiJ7i2wLUbrpZKZMrJE7QVSlwZgkTOcXhgtCCmDM54up/reDJ1fSRdYlXHu\n",
              "EC2IfRiX/k/CfJYq/J0KAIArOZsq8kmjp1z/WONRjfbv9vlIwSx6ypdAioZTe9HfGFMYRyOykJVy\n",
              "BavLcj1cndRP5wgWgXx/ZzVdOhha/03vUXqhVMrPm2ALp+GHqF7vyJAsha+KEzXJ69U43vFtX029\n",
              "4QE9FgPAau3jGgAAAYVBmz1J4Q8mUwURPEcAAAMAAPby+/9DNm+qu/NBuP/FhHa3gS9i3gTchgOD\n",
              "yRyrgbBbqwIOcKpXXCNajsai3ucbpK4jvCmSf2bO0coeRvD/7YBQ36+svg+1UcpbRQ4j4mn5Etv9\n",
              "PEdbzuH148/sUbfxUtOIJXiMu7nIbXoKk7Ln3pj80icxct4fvnJOL3LimbjIco4BWMgpYVf+o+/P\n",
              "jkbqCRnEp/3QMy02H12wGLwhiPAKdlq2WJC99nvIAHgsAQZsvUDsq5KnlA2ehGBfC1ty3D8nWAtu\n",
              "p5IdNwSWSP6p2EjmrNSoimGIYCcWZnKUg6kjOG85IFLL58vlr4s7sblVD1yvRQXmqOxWwtfhcUxM\n",
              "n/+JjjRS07dihPEsgQUPCLqjUCLmZA/kDxgP6zedoNTqvfF+8V6mCqfATuOmJS6Nfb4shIowh+5X\n",
              "jI7EPH+P/+YvKISgPkB8FJEVMegesCF5zCHtzxhrCuAnl9WlCy/Ng8RwGpRgbrLR8myMGEY2qN45\n",
              "JlankwAAAD0Bn1xqQt8AABJrviRNLS0F6e8UCzx79ZGxFbrO7fuAFBox9he/lQ50ur9w/WiBSwzR\n",
              "4rOy9wkIdCsW3dSJAAABZ0GbXknhDyZTAiP/AAADAAADAcb9EVZ2AlE7bqWc3+P7xGks/oCt9Z3x\n",
              "AqKshRL/qcpZvaDwHhyH0jwRwYk0saqa+vH7aGHXgnVzXHI/N0r9vox0k97CuyyRSB9eZPObp3QZ\n",
              "Rn/qEPbu++BJeMha6rs8ro0sGj6THAZs7xIok5ikOGcP/oGHybfGDSeKElJvvDY2sr3mLncOUN3k\n",
              "XR9XPnAkQmmClYJ70ATpJ1cYBZ+pPsTx7ITkuAGQdhqIrhWKynFCZl08t5df9vADqPK0iqnYYFB9\n",
              "N+OsmvQ6T+SqSZwZpzh2dt6oW7xRBgJ/S6zM7V8lAxc3s4Bg2RLFhqcQ8SNNVQCflri0ehSs3sad\n",
              "EtkR5Mq2GUd+16gJ7q7Kba7XFWCGL3Ei6bEA0mFkuDge0QUMptYLZfIKF5HjgkAqmKnGm3QXmGEj\n",
              "EdP2aFiMdb3j7RjJf3LWsxo4zxIx5SSM5lgwxZE7LRWAAAABiEGbf0nhDyZTAiP/AGSxomjyvvEz\n",
              "wAOrpCJmgK08RhqKshRLqXB2nK/BXdbWumt/0zfS76AJ8f6RmvqkKFWPM7KsMzY1c1/FtIlwCKT6\n",
              "UpVYAKhfkgBIzDGkkO4GB4p0FSV0AxmfvKzjSbEpH9CPof9s6WMXSCj2c9xvEEptftRuLtBcPIYg\n",
              "6mw2L3Ss+bF317IS1n9uAseMng5nAJZIcdU4+p7zczB17e541sICfMgrjRBjpmEJX/eSVLfEf9SC\n",
              "/lUbz6VBt1kqWBSwhR2FTvrsVO3MaqEAsc+KR4wWz7bjqYS7D5n8Kg0zriS0ZnROVub56Aq2fUEx\n",
              "iVbqXEAxVBEGSfhS0jNuVlODlonfUGAnf2HzXPCfxEzk+/JPEkp1YtSI/r86h6Ra79j9dZeVrtuI\n",
              "qTEPMKLAnDul0EVeRL5Up9y/3uqFaqan1VpxOH5mkEjPAm72FMBJpK/jb2pEaI4GDCL4GZ/sO8iC\n",
              "nWuZm08eqAAAUoqC0AAtsYCnKzPaToNZu/rhXkeKAAABg0GbgEnhDyZTAiP/AGEHWT9QAhiUTGjV\n",
              "oZd99CSAMnUoFvz3gFwE3w+rYTEzOxKHQBeV98cRL9Z0ZCWYdbknJBQGPdr7WYMpAcz8N7awXJs3\n",
              "mGHPjlGTaJQoAYPWYhwZfgI/uGc68ViLv2RWVuOwDMVXlA/d+cuw21llb4p3szOputV6ZFmCKPNZ\n",
              "OhiIKLplP5/85SL5yKpfSkcOZT+0Yr0j0d67VbtFsj6vJHf+8d8QmXXKT/o5+uzuro8itGM1rDRb\n",
              "JhWa5+1OYjCaiUfQwgD6VOt+IFphfM15UcE7AmRSyo5094NVvEafQuSfX4Q3cnvFmIo0OVdtUwwp\n",
              "LBEitWhuLtM409ES7E11jEhHDBij2APRr4kWMNP9uN1mTr22mgcFmVJj3wcQu2rKcYgeK2BXFTHl\n",
              "5ZuTqt0CXVx8JYDLAqcYYXECX4k3yXodx8VzmTxB27V4AnXTuW7klXd07ZBT2OdkANZ4Cep6L9iR\n",
              "a8aeO7rxdZenje7gAVEe64qQwrDziwAAAaVBm6FJ4Q8mUwIr/wC0/fU77cPT/ZXIAxhIQJm8m+Kr\n",
              "nB9X2eyCvEGAOtH6fQf85U7MynXJUbutxjqyWaWmuOiGY7p718ST+/J1DvZbew2CRW7wZAHDSGyK\n",
              "x7D/2wpLoNguEXUGiIpLV0Cg/esRoo8TqRib/13wDpuFSy4oBpilAD3nb65Y0w1JOnswz47LO++I\n",
              "KF4MVVpxpFyDI4KBOc1Y8DWnCwNa6mxPQ29pcX71+/B13ucjq7VRsqX/pZTaFk7YCP/M8c0d8FNh\n",
              "zI4s4ulpzzP8Fl6Re6nsfXifIi/bf3UEkGfw2WgItBh8SNs9MjDcOKPuUztyh6mnvSZDw0TMjJ2w\n",
              "CRmjBn5+erKsp+nhyqndPdyKSSV6ngxTY6yMpG6VcMDBkyNDkvjiVpNIunYnWqC0y2LhzwSzvveO\n",
              "MOc+0930XgKTV/ttOW5CW8Tdum9dBZnWYkb+krKP7OCNrkfNx29s2PLzwB3SS7e7YeGzqAfnNFgO\n",
              "dHjlY50Ld4q+Xvu6ek2vRmOhsA+uMjWNouOLzlke2T5P5iuYq1gQmu5QCZuoAMCAAAABokGbwknh\n",
              "DyZTAiv/AAADAef4xq0nBvdO0J57TEBfEQ0AY9oqNeyuPps97dv/W+70iF4hzTvu3/y89UZvm9yB\n",
              "YCAFIwzasky+n+90fBQl4K0WGviDw23Jbxxv5U8F/SW3Onz7qTZJICBY5COIAatDTPbz8pGVmHM3\n",
              "yDZFwwow93RuXz1ToFOKvkzeSlMC0UshVtv0oP9oyOA8A2+p3zq8L7NNGx0NqPFrVBDtt3sOU5vq\n",
              "2I3vydfN/Fb+B6xtRRWMd0M+jQOraSZBXU0rul7Hkp7Ajr7tJoCTGczj5Nyw3Bei80QGb90viqcw\n",
              "33xMPIxXoBMmFrsgI/WsCZbVnb+5QtFzn6vr2lgJtJJUyfwSeeEoZsCWXWdKZlvsLCXZkQfeqUZr\n",
              "t6o/r1K5/DwIPKt41O5pIiEZqF21tcEiyQBPtzRc7GF/r4WM4kChO9iUUkYeDAnFdOTx6z4xYZCM\n",
              "WaRNn2aDXSvIsDGSUu2mBtxA66xJ19tU5QmkkFg70btvb7te/berRM0Cal/8VkO4NTYLSrHkOxsY\n",
              "pfuocAcAkHk01QmMqCEAAAGKQZvjSeEPJlMCK/8AAAMAA3fxmw/1s//NpODjsG5zRC+wRHgc9Pkb\n",
              "/+yA4AdW1aNM/op4iUXBarShUr+NNClO/za+XdPhbal9/zydXSmKMAc1EFCkOWWm7OtaiaTjMepg\n",
              "YsCInGfpdbJB6wEHRTNR+9sKfRxn36qV1f/p99Ns4yGlPmb0JYYukAPTz7QTiRCKH6FAObEpGhAo\n",
              "nC/HnLvPBob9ypVNO1fjYFxkbuB0BTJ8/NHNvd20qJcm7VNL7UWwh6W2gjmMTJIJL/Btygpbq2NG\n",
              "7Hz/pcD0PsXKNGo05wWjPv26ME4KI0hQJADYtFI0RZxgyYYPXsJApdSU8N5mklKURJT2nf81tWWd\n",
              "22pjAqIKAiP3oCufFFMw0qMl3jHcVLo+zmFhyEU7t9acXM7/ugqS6SObddr51ep/UwdV3dtaADDL\n",
              "HMhqEwRAZKOgwiVrixI6XTzdehSma2FmVn1HOeLHT35btMciV5jcdoB8OOuHxQ8H/Y20oQ7lMU3k\n",
              "PEoTjLe7T7HGw052QAAAAYdBmgRJ4Q8mUwIz/wABXfUYegAF1b3QAqBusVjHKeo4fReDIDqbilep\n",
              "aRmX4EQY0n2zmPSeOeg41CstRjHscLz+nOixDRv8amt/giRKLf16d8G6VIqfJLxi5oeC7vQKfL6Y\n",
              "RVaBndyBYfFi1WKnNM2yqJTwTQbjHXKO/hHcYvWxWtu4QpBQeoH/dJhYqqinn3HfGC5Pvu9QTiwi\n",
              "zFt/OlklcHb/ohJmPbvhvlezT8D4i6ncKfNih6O7Xu25hUOKcBHM/WgjynLCTCV9DifWt0/efWUg\n",
              "AJY/ZROFrimgUOm3mihVLlk5LcKmEnHDz4dznHxPxPaTWrywp7LQudZ4G0PbEw/mFK7KRgUwdsJ/\n",
              "7+Re2eyMvHCO9+uY8RQpDqjpn5NNVu0q6yfIhH0DyniYghF7cX1xpWj8VMwBBoDjGk4B1VwbZZBf\n",
              "FBpQNSoWxZ3DD8Fo4RiDFSHMbgfLiv6TVLbI8JH70DOqWTSw+kmcUAK+FKK6bxkEb8+Wn1ubyLJA\n",
              "rUvbLgva2Gj1AAABj0GaJUnhDyZTAjP/AAADAAADA5Phnl3ixnQgr4UjbAGOWz1xvtlzZpKgdLzj\n",
              "TfoiEbPAMQ3+zcVlEWVtDlgHdJ2Ylwgmk7T4KoJ9xDX8N07dls2VUjovjoVaAYTw0c4cAiN49P9e\n",
              "KLoQN4/msbRZTEFPBDKg+j3CF1oLIAQClomF/ruUgPiq8Ynl0h0SDkejW5RnHgnD24TMa/ITvMcA\n",
              "pOj9thBXbgc/cl3lDQc+uVAuNOR74UnsLg8YTr4ZLKJhuT9pA7kSKPlVXxcMTNA0JtxZMkYQdyME\n",
              "n/KIrmpgAAgOM4ZRFSWGCksA/73PtVWynE8sb8Edc/9Q5OQKoMilvzJsx+TrVbIg2MT78+KXKGSI\n",
              "Xq9CeVa1rz6AHmy9eXyz3+0mThJFMjpSJ9dcbzyxW/Z4dxazRXUA8ki7fhJHn186XJ8ntZ105+pO\n",
              "cHt3DJNO07++zQlun+8ZlpYOkBNTDJFrcGDMaUydCsFLHlv7SYd7CDmnMUT9UCRCO4E67yd1jssG\n",
              "2ntf1tVVwCv0noNG/QAAAahBmkZJ4Q8mUwI7/wAAAwAGT32i5xYD/0z960VT2wZKZbXAT+XKJiZl\n",
              "Tzl/ANk34LaaD1jLV0+PsEIucrfDsqcSW16drFTQ1zEFzaZsPN1C/xG8t7YPr2Gqocwt0exkQd/O\n",
              "yP3RB0+1tgGf6PvxVAZA2rh/P6i/9AHRN4RNEYTHrx6sM/N7q7bbRjeG42apmyFiCID7NggGoyNk\n",
              "ft6wMqUJW258SNedNkDzyHDmUldoHrp3HRJDv99zQAtIW8ymtFaPujKfx1OBeuETZKjsctPCO1H+\n",
              "V21f+ZT3G7bggUgcmzBitFSWuasRAsn1nlRZ9/KMm6xIWR+2FPd3IFkC6f6+6uy4whGkIghZcbOh\n",
              "ia72ual7BkkJ2vg2E3HUM2E8TH8MFJPmt6wqYxmNAnSTzu14fwBqVpmY6oBZHk6U09IheP2Uknxm\n",
              "PwrGZ3PFWCE5zGa9Xm4Ti5D7InmAMhAY6vGHqnNdLriTi/lkltpKzVUTkh/ZPFFOTnGv1bmO0PFI\n",
              "5bpcAE2NtMsjQseJWKcA0cRX8h8NJJXtLaJbXGfrOnu58It4D4BfPKGBAAABn0GaZ0nhDyZTAhD/\n",
              "AAADAAi369os2zbWi/shXugPs1VDc8wSO62NDTEqKgTxH3+Rd+V1pO7Wgaltvaffo2ZFJOZCCW6Z\n",
              "gLAjiswsEUXC1a4G9Gei7CHS+CvG5BzQ022oAAdE0HUh7F+WrbqxLb3jqLouKYEw3iN2F0biDyhR\n",
              "seyPp7ADzNCR9v9eA/NRJygXCtL3buBfEG9uJ28mFvwq60palajcegQxogl4zGP5eiU0155cylwG\n",
              "c37M1iH7N1HOB80BzqRB/MZNYRK1+B5moUJaDF7jmQaXhRSmn+8XqI163VyQBoy81jZXUOv+Od5R\n",
              "otIB/4OYAbIl4rqoh2lkPCj481DrUiUH/dnVeC2Fh2BnPj7HjYkUWufOOs0BoBA3vc2Z5Tm8y7+d\n",
              "iG8/kMsnCClbVh84WbCAqI20WY3crCvEYYiU2TfbvYp5OMjZvuZTynbIKWezU3FSNZJTQzlRU4NT\n",
              "iG2Jd0A6vtpr/PJsmuEhSyEen9F/yZULhaYFrPnFGNjgewlYD8lfy8wAV4HmbGfucX3drEJp1l1m\n",
              "5xCgYEEAAAGDQZqISeEPJlMCEv8AAAMADNMjX1iPYFfDU+KnsSpVRC5BBguXHeR+6f5lKXqvieD+\n",
              "Sv3YQ8ylW7rGjdiUoXt8BAe4J04P5/5f1xRAp3diwV6oimsHFZUh0SrEhTpzNlw7g0WASFfw8HHj\n",
              "mhtPKkWCJ9/l774VpbiBbkxXC7ZJtLshFdBQyGeMPOezSd4xXgMWeXTEKKvspkdXeumhohX+9J5j\n",
              "BtxTRpCIY8qgXpws237OuFr4PhwVVCADhjkNNppIuhwDqNyoRb6dJWsNKtZ3TBi6/xv4fs30P1FS\n",
              "apwUXWZ/4JSBUCMBr7MGdFaa6bEmzFTr0wPZeZSYyI1Q44vuJoiUeWy6fC6OGtlW7WJwQGHQEcHf\n",
              "c0DP5LM4x4NRWm8l3nB1gmgQ6/rjqYI6/mEuvjWVp6sFwzKxvWbpt5Za2mrzxedgf5V4u/f3Kn7K\n",
              "nh2/j29gQ0tMu2SOYyJ68/X/l090+LPhMDLfXD4IjvpWb+jnXOrMk6saHUZiMpIvKjWBtsSAAAAB\n",
              "ZEGaqUnhDyZTAhb/AAADAAAQboEElYDXitd6J/rAxyiZytxvG1PoVA5oy3mXclYjfQQ5wgu0huaF\n",
              "20B1Lap2/LvxtWM5CEI4ko5UkKOJ5jBHKbx5l9rlN1mmz8nezTxZHcbSnetX7KR0NQRBJUBTw2zb\n",
              "lhqfJeprGdOIwCj1uvr0XsFTKEeCJrjH+nsQchU6MvSd0RB9Ohg3SBLQPXi8Dl2KxXptsTGA5y1W\n",
              "+H3GsJQn0SjnheBbuGdqx3LSejzrHREgyTMhfWcAADfnRywxF65yrp0ZmtAcLX23ybLheAGba/Jl\n",
              "yyjm+YPxxH6k+5navgwoofMUoZPAjVMM5s0/IytTVGC+zcE7tEIql0fNRyjoGPa0lA5V/j/oMLgV\n",
              "jgkPmIz/i9TGEYF9BZJrUDskNIuL8IwSg5YV8t5PZhEooLTrdBeYYRPzARoN7Pv2PqodT7mpilEY\n",
              "MQJA1hsHntbnyanki1IYAAAG9G1vb3YAAABsbXZoZAAAAAAAAAAAAAAAAAAAA+gAABr0AAEAAAEA\n",
              "AAAAAAAAAAAAAAABAAAAAAAAAAAAAAAAAAAAAQAAAAAAAAAAAAAAAAAAQAAAAAAAAAAAAAAAAAAA\n",
              "AAAAAAAAAAAAAAAAAAAAAAIAAAYedHJhawAAAFx0a2hkAAAAAwAAAAAAAAAAAAAAAQAAAAAAABr0\n",
              "AAAAAAAAAAAAAAAAAAAAAAABAAAAAAAAAAAAAAAAAAAAAQAAAAAAAAAAAAAAAAAAQAAAAAH0AAAB\n",
              "9AAAAAAAJGVkdHMAAAAcZWxzdAAAAAAAAAABAAAa9AAABAAAAQAAAAAFlm1kaWEAAAAgbWRoZAAA\n",
              "AAAAAAAAAAAAAAAAKAAAARQAVcQAAAAAAC1oZGxyAAAAAAAAAAB2aWRlAAAAAAAAAAAAAAAAVmlk\n",
              "ZW9IYW5kbGVyAAAABUFtaW5mAAAAFHZtaGQAAAABAAAAAAAAAAAAAAAkZGluZgAAABxkcmVmAAAA\n",
              "AAAAAAEAAAAMdXJsIAAAAAEAAAUBc3RibAAAALlzdHNkAAAAAAAAAAEAAACpYXZjMQAAAAAAAAAB\n",
              "AAAAAAAAAAAAAAAAAAAAAAH0AfQASAAAAEgAAAAAAAAAAQAAAAAAAAAAAAAAAAAAAAAAAAAAAAAA\n",
              "AAAAAAAAAAAAABj//wAAADdhdmNDAWQAHv/hABpnZAAerNlAgBB554QAAAMABAAAAwCgPFi2WAEA\n",
              "Bmjr48siwP34+AAAAAAcdXVpZGtoQPJfJE/FujmlG88DI/MAAAAAAAAAGHN0dHMAAAAAAAAAAQAA\n",
              "AIoAAAIAAAAAFHN0c3MAAAAAAAAAAQAAAAEAAAGoY3R0cwAAAAAAAAAzAAAACQAABAAAAAABAAAG\n",
              "AAAAAAEAAAIAAAAABwAABAAAAAABAAAKAAAAAAEAAAQAAAAAAQAAAAAAAAABAAACAAAAAAEAAAgA\n",
              "AAAAAgAAAgAAAAABAAAEAAAAAAEAAAoAAAAAAQAABAAAAAABAAAAAAAAAAEAAAIAAAAAAQAACgAA\n",
              "AAABAAAEAAAAAAEAAAAAAAAAAQAAAgAAAAAUAAAEAAAAAAEAAAoAAAAAAQAABAAAAAABAAAAAAAA\n",
              "AAEAAAIAAAAABwAABAAAAAABAAAGAAAAAAEAAAIAAAAAAgAABAAAAAABAAAKAAAAAAEAAAQAAAAA\n",
              "AQAAAAAAAAABAAACAAAAAAcAAAQAAAAAAQAACgAAAAABAAAEAAAAAAEAAAAAAAAAAQAAAgAAAAAB\n",
              "AAAGAAAAAAEAAAIAAAAAAQAABAAAAAABAAAKAAAAAAEAAAQAAAAAAQAAAAAAAAABAAACAAAAAAcA\n",
              "AAQAAAAAAQAABgAAAAABAAACAAAAABgAAAQAAAAAAQAABgAAAAABAAACAAAAAAwAAAQAAAAAHHN0\n",
              "c2MAAAAAAAAAAQAAAAEAAACKAAAAAQAAAjxzdHN6AAAAAAAAAAAAAACKAAAH5wAAAZgAAAG2AAAB\n",
              "qwAAAZYAAAGIAAABmQAAAaoAAAGoAAABnAAAADQAAAFpAAABigAAAYUAAAGzAAABngAAAZUAAAGp\n",
              "AAAB9gAAADYAAAAtAAAAIwAAAaQAAAAxAAAAKAAAAaQAAAIeAAAAPAAAACIAAAAbAAABawAAACoA\n",
              "AAAgAAAAKgAAAYoAAAF8AAABrQAAAZkAAAGQAAABhgAAAZcAAAGmAAABpQAAAY4AAAFoAAABjAAA\n",
              "AX4AAAGuAAABoAAAAZIAAAGLAAABjwAAAaMAAAGlAAABjQAAAE0AAAAmAAAAIwAAAWcAAAGWAAAB\n",
              "gAAAAawAAAGZAAABkgAAAYYAAAGVAAAAMAAAAaUAAAGlAAABlAAAAE4AAAAlAAAAIgAAAWkAAAGN\n",
              "AAABhgAAAbAAAAGgAAABkgAAAY8AAAHEAAAANQAAACkAAAAhAAABpQAAADEAAAGoAAABjwAAAEwA\n",
              "AAAlAAAAJQAAAWgAAAGVAAABgQAAAa0AAAGZAAABkAAAAYYAAAGZAAAAMwAAAaUAAAGlAAABkAAA\n",
              "AWgAAAGMAAABgQAAAa4AAAGgAAABkgAAAYsAAAGPAAABowAAAaQAAAGMAAABZQAAAYgAAAGAAAAB\n",
              "rAAAAZkAAAGSAAABhQAAAZQAAAGfAAABqgAAAYkAAABBAAABawAAAYwAAAGHAAABqQAAAaYAAAGO\n",
              "AAABiwAAAZMAAAGsAAABowAAAYcAAAFoAAAAFHN0Y28AAAAAAAAAAQAAADAAAABidWR0YQAAAFpt\n",
              "ZXRhAAAAAAAAACFoZGxyAAAAAAAAAABtZGlyYXBwbAAAAAAAAAAAAAAAAC1pbHN0AAAAJal0b28A\n",
              "AAAdZGF0YQAAAAEAAAAATGF2ZjU4Ljc2LjEwMA==\n",
              "\">\n",
              "  Your browser does not support the video tag.\n",
              "</video>"
            ]
          },
          "metadata": {},
          "execution_count": 18
        }
      ],
      "source": [
        "test_agent(env, target_policy)"
      ]
    },
    {
      "cell_type": "markdown",
      "metadata": {
        "id": "yS8vAMgUC41D"
      },
      "source": [
        "## Resources"
      ]
    },
    {
      "cell_type": "markdown",
      "metadata": {
        "id": "u450wuAjC41D"
      },
      "source": [
        "[[1] Reinforcement Learning: An Introduction. Ch. 5: Monte Carlo methods](https://web.stanford.edu/class/psych209/Readings/SuttonBartoIPRLBook2ndEd.pdf)"
      ]
    }
  ],
  "metadata": {
    "kernelspec": {
      "display_name": "Python 3",
      "language": "python",
      "name": "python3"
    },
    "language_info": {
      "codemirror_mode": {
        "name": "ipython",
        "version": 3
      },
      "file_extension": ".py",
      "mimetype": "text/x-python",
      "name": "python",
      "nbconvert_exporter": "python",
      "pygments_lexer": "ipython3",
      "version": "3.8.5"
    },
    "colab": {
      "provenance": [],
      "include_colab_link": true
    }
  },
  "nbformat": 4,
  "nbformat_minor": 0
}