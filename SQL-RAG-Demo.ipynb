{
 "cells": [
  {
   "cell_type": "markdown",
   "id": "03a5c00c",
   "metadata": {},
   "source": [
    "## In this Notebook, we will create a basic Q&A chain and Agent over a SQL database"
   ]
  },
  {
   "cell_type": "markdown",
   "id": "d06633c3",
   "metadata": {},
   "source": [
    "### Architecture\n",
    "\n",
    "At a high-level, the steps of any SQL chain and agent are:\n",
    "\n",
    "- `Convert question to SQL query using the LLM Model.`\n",
    "- `Execute the SQL query.`\n",
    "- `getting the Model to respond to user input using the query results.`"
   ]
  },
  {
   "cell_type": "code",
   "execution_count": 1,
   "id": "5ddeeaf6",
   "metadata": {},
   "outputs": [],
   "source": [
    "from langchain.utilities import SQLDatabase\n",
    "from langchain.chat_models import ChatOpenAI\n",
    "from langchain.chains import create_sql_query_chain\n",
    "from langchain_openai import ChatOpenAI\n"
   ]
  },
  {
   "cell_type": "code",
   "execution_count": 14,
   "id": "203dcbe2",
   "metadata": {},
   "outputs": [],
   "source": [
    "llm = ChatOpenAI(temperature=0)"
   ]
  },
  {
   "cell_type": "code",
   "execution_count": 15,
   "id": "a5ac620a",
   "metadata": {},
   "outputs": [],
   "source": [
    "host = '0.0.0.0'\n",
    "port = '5432'\n",
    "username = 'odin'\n",
    "password = 'odin'\n",
    "db_name = 'analytics'\n",
    "postgres_connection = f\"postgresql://{username}:{password}@{host}:{port}/{db_name}\"\n",
    "\n",
    "db = SQLDatabase.from_uri(postgres_connection, sample_rows_in_table_info=2)\n",
    "chain = create_sql_query_chain(llm, db)"
   ]
  },
  {
   "cell_type": "code",
   "execution_count": 16,
   "id": "796c438c",
   "metadata": {},
   "outputs": [
    {
     "name": "stdout",
     "output_type": "stream",
     "text": [
      "postgresql\n",
      "['customer', 'sale']\n"
     ]
    }
   ],
   "source": [
    "print(db.dialect)\n",
    "print(db.get_usable_table_names())"
   ]
  },
  {
   "cell_type": "code",
   "execution_count": 17,
   "id": "8fb4c912",
   "metadata": {},
   "outputs": [
    {
     "data": {
      "text/plain": [
       "'[(1000,)]'"
      ]
     },
     "execution_count": 17,
     "metadata": {},
     "output_type": "execute_result"
    }
   ],
   "source": [
    "db.run(\"SELECT count(*) FROM customer LIMIT 10;\")"
   ]
  },
  {
   "cell_type": "code",
   "execution_count": 18,
   "id": "fb6515e1",
   "metadata": {},
   "outputs": [
    {
     "data": {
      "text/plain": [
       "'SELECT COUNT(customerid) AS total_customers FROM customer;'"
      ]
     },
     "execution_count": 18,
     "metadata": {},
     "output_type": "execute_result"
    }
   ],
   "source": [
    "response = chain.invoke({\"question\": \"How many customer are there\"})\n",
    "response"
   ]
  },
  {
   "cell_type": "code",
   "execution_count": 19,
   "id": "1d66e095",
   "metadata": {},
   "outputs": [
    {
     "data": {
      "text/plain": [
       "'[(1000,)]'"
      ]
     },
     "execution_count": 19,
     "metadata": {},
     "output_type": "execute_result"
    }
   ],
   "source": [
    "db.run(response)"
   ]
  },
  {
   "cell_type": "code",
   "execution_count": 20,
   "id": "b3d18b40",
   "metadata": {},
   "outputs": [
    {
     "name": "stdout",
     "output_type": "stream",
     "text": [
      "SELECT COUNT(*) \n",
      "FROM customer \n",
      "WHERE city = 'Bronx' \n",
      "LIMIT 5;\n"
     ]
    }
   ],
   "source": [
    "response = chain.invoke({\"question\": \"How many customers are from Bronx\"})\n",
    "print(response)"
   ]
  },
  {
   "cell_type": "code",
   "execution_count": 21,
   "id": "eb84b1ba",
   "metadata": {},
   "outputs": [
    {
     "name": "stdout",
     "output_type": "stream",
     "text": [
      "[(2,)]\n"
     ]
    }
   ],
   "source": [
    "print(db.run(response))"
   ]
  },
  {
   "cell_type": "code",
   "execution_count": 22,
   "id": "13a5754c",
   "metadata": {},
   "outputs": [
    {
     "name": "stdout",
     "output_type": "stream",
     "text": [
      "SELECT \"state_\", COUNT(*) as state_count\n",
      "FROM customer\n",
      "GROUP BY \"state_\"\n",
      "ORDER BY state_count DESC\n",
      "LIMIT 1;\n"
     ]
    }
   ],
   "source": [
    "response = chain.invoke({\"question\": \"Which state are customers most from?\"})\n",
    "print(response)\n"
   ]
  },
  {
   "cell_type": "code",
   "execution_count": 23,
   "id": "393e48fd",
   "metadata": {},
   "outputs": [
    {
     "name": "stdout",
     "output_type": "stream",
     "text": [
      "[('CA', 79)]\n"
     ]
    }
   ],
   "source": [
    "print(db.run(response))"
   ]
  },
  {
   "cell_type": "code",
   "execution_count": 103,
   "id": "c293f9d4",
   "metadata": {},
   "outputs": [
    {
     "name": "stdout",
     "output_type": "stream",
     "text": [
      "SELECT c.customerid, c.firstname, c.lastname, s.shipping\n",
      "FROM customer c\n",
      "JOIN sale s ON c.customerid = s.customerid\n",
      "ORDER BY s.shipping DESC\n",
      "LIMIT 5;\n"
     ]
    }
   ],
   "source": [
    "response = chain.invoke({\"question\": \"Give me the top 5 customers who paid the highest shipping charges\"})\n",
    "print(response)\n"
   ]
  },
  {
   "cell_type": "code",
   "execution_count": 80,
   "id": "a1fc6919",
   "metadata": {},
   "outputs": [],
   "source": [
    "class Payment:\n",
    "    id: int\n",
    "    name: str\n",
    "    surname: str\n",
    "    shipping: float\n",
    "\n",
    "    def __init__(\n",
    "            self,\n",
    "            id: int,\n",
    "            name: str,\n",
    "            surname: str,\n",
    "            shipping: float) -> None:\n",
    "        self.id = id\n",
    "        self.name = name\n",
    "        self.surname = surname\n",
    "        self.shipping = shipping\n",
    "\n",
    "    @staticmethod\n",
    "    def from_tuple(data: tuple):\n",
    "        return Payment(\n",
    "            id = data[0],\n",
    "            name = data[1],\n",
    "            surname = data[2],\n",
    "            shipping = data[3],\n",
    "        )\n",
    "    \n",
    "    def __str__(self) -> str:\n",
    "        return f\"\"\"\n",
    "            id: {self.id}\n",
    "            name: {self.name}\n",
    "            surname: {self.surname}\n",
    "            shipping: {self.shipping}\n",
    "        \"\"\"\n",
    "    \n",
    "    def to_dict(self) -> dict:\n",
    "        return {\n",
    "            'id': self.id,\n",
    "            'name': self.name,\n",
    "            'surname': self.surname,\n",
    "            'shipping': self.shipping\n",
    "        }\n",
    "\n",
    "class Customer:\n",
    "    customerid: int \n",
    "    firstname: str \n",
    "    lastname: str \n",
    "    streetaddress: str \n",
    "    city: str \n",
    "    state_: str \n",
    "    postalcode: str \n",
    "    country: str\n",
    "    phone: str\n",
    "\n",
    "    def __init__(\n",
    "            self,\n",
    "            customerid: int,\n",
    "            firstname: str ,\n",
    "            lastname: str ,\n",
    "            streetaddress: str, \n",
    "            city: str ,\n",
    "            state_: str, \n",
    "            postalcode: str, \n",
    "            country: str,\n",
    "            phone: str  \n",
    "        ) -> None:\n",
    "        self.customerid = customerid\n",
    "        self.firstname = firstname\n",
    "        self.lastname = lastname\n",
    "        self.streetaddress = streetaddress \n",
    "        self.city =  city\n",
    "        self.state_ = state_\n",
    "        self.postalcode = postalcode\n",
    "        self.country = country\n",
    "        self.phone = phone\n",
    "\n",
    "    @staticmethod\n",
    "    def from_tuple(customer: tuple) :\n",
    "        return Customer(\n",
    "                customerid = customer[0],\n",
    "                firstname = customer[1],\n",
    "                lastname = customer[2],\n",
    "                streetaddress = customer[3], \n",
    "                city =  customer[4],\n",
    "                state_ = customer[5],\n",
    "                postalcode = customer[6],\n",
    "                country = customer[7],\n",
    "                phone = customer[8]\n",
    "            )\n",
    "\n",
    "    def to_dict(self) -> dict:\n",
    "        return {\n",
    "           \"customerid\": self.customerid,\n",
    "           \"firstname\": self.firstname,\n",
    "           \"lastname\": self.lastname,\n",
    "           \"streetaddress\": self.streetaddress,\n",
    "           \"city\": self.city,\n",
    "           \"state_\": self.state_,\n",
    "           \"postalcode\": self.postalcode,\n",
    "           \"country\": self.country,\n",
    "           \"phone\": self.phone\n",
    "        }"
   ]
  },
  {
   "cell_type": "code",
   "execution_count": 104,
   "id": "f301db69",
   "metadata": {},
   "outputs": [],
   "source": [
    "res = db.run(response)"
   ]
  },
  {
   "cell_type": "code",
   "execution_count": 105,
   "id": "e9941ff6",
   "metadata": {},
   "outputs": [],
   "source": [
    "import ast\n",
    "\n",
    "payments = []\n",
    "\n",
    "for item in ast.literal_eval(res):\n",
    "    payments.append(Payment.from_tuple(data=item))"
   ]
  },
  {
   "cell_type": "code",
   "execution_count": 106,
   "id": "4fe6d1da",
   "metadata": {},
   "outputs": [
    {
     "name": "stdout",
     "output_type": "stream",
     "text": [
      "     id         name     surname  shipping\n",
      "0  1096       Meliha     Handzic     59.37\n",
      "1  1950         Jack      Freund     54.45\n",
      "2   724  Epaminondas  Kapetanios     54.41\n",
      "3  3979         Glen    Quintana     54.39\n",
      "4  1385        Peter       Pille     52.88\n"
     ]
    }
   ],
   "source": [
    "import pandas as pd\n",
    "\n",
    "users_dicts = [item.to_dict() for item in payments]\n",
    "\n",
    "df = pd.DataFrame(users_dicts)\n",
    "\n",
    "print(df)"
   ]
  },
  {
   "cell_type": "code",
   "execution_count": 107,
   "id": "6cae0326",
   "metadata": {},
   "outputs": [
    {
     "data": {
      "image/png": "[encoded data removed]",
      "text/plain": [
       "<Figure size 1000x600 with 1 Axes>"
      ]
     },
     "metadata": {},
     "output_type": "display_data"
    }
   ],
   "source": [
    "import matplotlib.pyplot as plt \n",
    "\n",
    "# Extracting 'name' and 'value' columns\n",
    "names = df['name']\n",
    "values = df['shipping']\n",
    "\n",
    "# Plotting the data\n",
    "plt.figure(figsize=(10, 6))\n",
    "plt.bar(names, values, color='skyblue')\n",
    "plt.xlabel('Names')\n",
    "plt.ylabel('Shippings')\n",
    "plt.title('Values by Name')\n",
    "plt.xticks(rotation=45)\n",
    "plt.tight_layout()\n",
    "plt.show()\n"
   ]
  },
  {
   "cell_type": "code",
   "execution_count": 86,
   "id": "38513acd",
   "metadata": {},
   "outputs": [],
   "source": [
    "response = chain.invoke({\"question\": \"Give me the last 10 customer ordered by first name\"})"
   ]
  },
  {
   "cell_type": "code",
   "execution_count": 87,
   "id": "ffd1ed79",
   "metadata": {},
   "outputs": [],
   "source": [
    "res = db.run(response)\n",
    "\n",
    "customers = []\n",
    "\n",
    "for item in ast.literal_eval(res):\n",
    "    customers.append(Customer.from_tuple(item))"
   ]
  },
  {
   "cell_type": "code",
   "execution_count": 88,
   "id": "5bcc0d17",
   "metadata": {},
   "outputs": [
    {
     "data": {
      "text/html": [
       "<div>\n",
       "<style scoped>\n",
       "    .dataframe tbody tr th:only-of-type {\n",
       "        vertical-align: middle;\n",
       "    }\n",
       "\n",
       "    .dataframe tbody tr th {\n",
       "        vertical-align: top;\n",
       "    }\n",
       "\n",
       "    .dataframe thead th {\n",
       "        text-align: right;\n",
       "    }\n",
       "</style>\n",
       "<table border=\"1\" class=\"dataframe\">\n",
       "  <thead>\n",
       "    <tr style=\"text-align: right;\">\n",
       "      <th></th>\n",
       "      <th>customerid</th>\n",
       "      <th>firstname</th>\n",
       "      <th>lastname</th>\n",
       "      <th>streetaddress</th>\n",
       "      <th>city</th>\n",
       "      <th>state_</th>\n",
       "      <th>postalcode</th>\n",
       "      <th>country</th>\n",
       "      <th>phone</th>\n",
       "    </tr>\n",
       "  </thead>\n",
       "  <tbody>\n",
       "    <tr>\n",
       "      <th>0</th>\n",
       "      <td>727</td>\n",
       "      <td>Zhiyan</td>\n",
       "      <td>Hu</td>\n",
       "      <td>Po Box 3726</td>\n",
       "      <td>El Centro</td>\n",
       "      <td>CA</td>\n",
       "      <td>92244</td>\n",
       "      <td>USA</td>\n",
       "      <td>(760) 352-4913</td>\n",
       "    </tr>\n",
       "    <tr>\n",
       "      <th>1</th>\n",
       "      <td>500</td>\n",
       "      <td>Zaheeruddin</td>\n",
       "      <td>Asif</td>\n",
       "      <td>46 Mary Ave</td>\n",
       "      <td>East Providence</td>\n",
       "      <td>RI</td>\n",
       "      <td>02914</td>\n",
       "      <td>USA</td>\n",
       "      <td>(401) 434-1321</td>\n",
       "    </tr>\n",
       "    <tr>\n",
       "      <th>2</th>\n",
       "      <td>2006</td>\n",
       "      <td>Yvonne</td>\n",
       "      <td>Weber</td>\n",
       "      <td>2416 S 13th St</td>\n",
       "      <td>Temple</td>\n",
       "      <td>TX</td>\n",
       "      <td>76504</td>\n",
       "      <td>USA</td>\n",
       "      <td>(254) 770-0397</td>\n",
       "    </tr>\n",
       "    <tr>\n",
       "      <th>3</th>\n",
       "      <td>1129</td>\n",
       "      <td>Yungchang</td>\n",
       "      <td>Ku</td>\n",
       "      <td>1951 Liko Pl</td>\n",
       "      <td>Wailuku</td>\n",
       "      <td>HI</td>\n",
       "      <td>96793</td>\n",
       "      <td>USA</td>\n",
       "      <td>(808) 244-5817</td>\n",
       "    </tr>\n",
       "    <tr>\n",
       "      <th>4</th>\n",
       "      <td>1276</td>\n",
       "      <td>Yuan-Hong</td>\n",
       "      <td>Liu</td>\n",
       "      <td>3 Twiller St</td>\n",
       "      <td>Albany</td>\n",
       "      <td>NY</td>\n",
       "      <td>12209</td>\n",
       "      <td>USA</td>\n",
       "      <td>(518) 462-4608</td>\n",
       "    </tr>\n",
       "    <tr>\n",
       "      <th>5</th>\n",
       "      <td>3906</td>\n",
       "      <td>Young-Woo</td>\n",
       "      <td>Sohn</td>\n",
       "      <td>805 E 8th Ave</td>\n",
       "      <td>Kingman</td>\n",
       "      <td>KS</td>\n",
       "      <td>67068</td>\n",
       "      <td>USA</td>\n",
       "      <td>(620) 532-5217</td>\n",
       "    </tr>\n",
       "    <tr>\n",
       "      <th>6</th>\n",
       "      <td>927</td>\n",
       "      <td>Yoichi</td>\n",
       "      <td>Terashita</td>\n",
       "      <td>2110 9th St</td>\n",
       "      <td>Sanger</td>\n",
       "      <td>CA</td>\n",
       "      <td>93657</td>\n",
       "      <td>USA</td>\n",
       "      <td>(559) 875-3682</td>\n",
       "    </tr>\n",
       "    <tr>\n",
       "      <th>7</th>\n",
       "      <td>819</td>\n",
       "      <td>Yishu.Aileen</td>\n",
       "      <td>Ding</td>\n",
       "      <td>851 Lott Rd</td>\n",
       "      <td>Pocatello</td>\n",
       "      <td>ID</td>\n",
       "      <td>83201</td>\n",
       "      <td>USA</td>\n",
       "      <td>(208) 637-8209</td>\n",
       "    </tr>\n",
       "    <tr>\n",
       "      <th>8</th>\n",
       "      <td>1801</td>\n",
       "      <td>Yaniv</td>\n",
       "      <td>Vakrat</td>\n",
       "      <td>33 Booker St</td>\n",
       "      <td>Hampton</td>\n",
       "      <td>VA</td>\n",
       "      <td>23663</td>\n",
       "      <td>USA</td>\n",
       "      <td>(757) 788-8500</td>\n",
       "    </tr>\n",
       "    <tr>\n",
       "      <th>9</th>\n",
       "      <td>2372</td>\n",
       "      <td>Yang</td>\n",
       "      <td>Lee</td>\n",
       "      <td>3501 S Randi Pl</td>\n",
       "      <td>Tucson</td>\n",
       "      <td>AZ</td>\n",
       "      <td>85730</td>\n",
       "      <td>USA</td>\n",
       "      <td>(520) 885-2081</td>\n",
       "    </tr>\n",
       "  </tbody>\n",
       "</table>\n",
       "</div>"
      ],
      "text/plain": [
       "   customerid     firstname   lastname    streetaddress             city  \\\n",
       "0         727        Zhiyan         Hu      Po Box 3726        El Centro   \n",
       "1         500   Zaheeruddin       Asif      46 Mary Ave  East Providence   \n",
       "2        2006        Yvonne      Weber   2416 S 13th St           Temple   \n",
       "3        1129     Yungchang         Ku     1951 Liko Pl          Wailuku   \n",
       "4        1276     Yuan-Hong        Liu     3 Twiller St           Albany   \n",
       "5        3906     Young-Woo       Sohn    805 E 8th Ave          Kingman   \n",
       "6         927        Yoichi  Terashita      2110 9th St           Sanger   \n",
       "7         819  Yishu.Aileen       Ding      851 Lott Rd        Pocatello   \n",
       "8        1801         Yaniv     Vakrat     33 Booker St          Hampton   \n",
       "9        2372          Yang        Lee  3501 S Randi Pl           Tucson   \n",
       "\n",
       "  state_ postalcode country           phone  \n",
       "0     CA      92244     USA  (760) 352-4913  \n",
       "1     RI      02914     USA  (401) 434-1321  \n",
       "2     TX      76504     USA  (254) 770-0397  \n",
       "3     HI      96793     USA  (808) 244-5817  \n",
       "4     NY      12209     USA  (518) 462-4608  \n",
       "5     KS      67068     USA  (620) 532-5217  \n",
       "6     CA      93657     USA  (559) 875-3682  \n",
       "7     ID      83201     USA  (208) 637-8209  \n",
       "8     VA      23663     USA  (757) 788-8500  \n",
       "9     AZ      85730     USA  (520) 885-2081  "
      ]
     },
     "execution_count": 88,
     "metadata": {},
     "output_type": "execute_result"
    }
   ],
   "source": [
    "customers_dicts = [item.to_dict() for item in customers]\n",
    "\n",
    "pd.DataFrame(customers_dicts)"
   ]
  },
  {
   "cell_type": "code",
   "execution_count": 92,
   "id": "f3182878",
   "metadata": {},
   "outputs": [],
   "source": [
    "response = chain.invoke({\"question\": \"Give me firts 3 sales shipping and the customer name\"})"
   ]
  },
  {
   "cell_type": "code",
   "execution_count": 93,
   "id": "bf174fb9",
   "metadata": {},
   "outputs": [
    {
     "name": "stdout",
     "output_type": "stream",
     "text": [
      "SELECT s.shipping, c.firstname, c.lastname\n",
      "FROM sale s\n",
      "JOIN customer c ON s.customerid = c.customerid\n",
      "ORDER BY s.saleid\n",
      "LIMIT 3;\n"
     ]
    }
   ],
   "source": [
    "print(response)"
   ]
  },
  {
   "cell_type": "code",
   "execution_count": 94,
   "id": "1c9b398a",
   "metadata": {},
   "outputs": [
    {
     "name": "stdout",
     "output_type": "stream",
     "text": [
      "[(44.37, 'Xiafeng', 'Wang'), (9.95, 'Herschel', 'Webster'), (39.05, 'John', 'Hebeler')]\n"
     ]
    }
   ],
   "source": [
    "res = db.run(response)\n",
    "\n",
    "print(res)"
   ]
  },
  {
   "cell_type": "code",
   "execution_count": 97,
   "id": "97481c99",
   "metadata": {},
   "outputs": [
    {
     "name": "stdout",
     "output_type": "stream",
     "text": [
      "You are a PostgreSQL expert. Given an input question, first create a syntactically correct PostgreSQL query to run, then look at the results of the query and return the answer to the input question.\n",
      "Unless the user specifies in the question a specific number of examples to obtain, query for at most 5 results using the LIMIT clause as per PostgreSQL. You can order the results to return the most informative data in the database.\n",
      "Never query for all columns from a table. You must query only the columns that are needed to answer the question. Wrap each column name in double quotes (\") to denote them as delimited identifiers.\n",
      "Pay attention to use only the column names you can see in the tables below. Be careful to not query for columns that do not exist. Also, pay attention to which column is in which table.\n",
      "Pay attention to use CURRENT_DATE function to get the current date, if the question involves \"today\".\n",
      "\n",
      "Use the following format:\n",
      "\n",
      "Question: Question here\n",
      "SQLQuery: SQL Query to run\n",
      "SQLResult: Result of the SQLQuery\n",
      "Answer: Final answer here\n",
      "\n",
      "Only use the following tables:\n",
      "\n",
      "CREATE TABLE customer (\n",
      "\tcustomerid BIGINT, \n",
      "\tfirstname VARCHAR(1024), \n",
      "\tlastname VARCHAR(1024), \n",
      "\tstreetaddress VARCHAR(1024), \n",
      "\tcity VARCHAR(1024), \n",
      "\tstate_ VARCHAR(1024), \n",
      "\tpostalcode VARCHAR(1024), \n",
      "\tcountry VARCHAR(1024), \n",
      "\tphone VARCHAR(1024)\n",
      ")\n",
      "\n",
      "/*\n",
      "2 rows from customer table:\n",
      "customerid\tfirstname\tlastname\tstreetaddress\tcity\tstate_\tpostalcode\tcountry\tphone\n",
      "12\tJames\tDominick\t4 Mast Ct\tPortsmouth\tVA\t23703\n"
     ]
    }
   ],
   "source": [
    "prompt_with_context = chain.get_prompts()[0].partial(table_info=context[\"table_info\"])\n",
    "print(prompt_with_context.pretty_repr()[:1500])"
   ]
  },
  {
   "cell_type": "code",
   "execution_count": 98,
   "id": "33c14cc5",
   "metadata": {},
   "outputs": [
    {
     "name": "stdout",
     "output_type": "stream",
     "text": [
      "['table_info', 'table_names']\n",
      "\n",
      "CREATE TABLE customer (\n",
      "\tcustomerid BIGINT, \n",
      "\tfirstname VARCHAR(1024), \n",
      "\tlastname VARCHAR(1024), \n",
      "\tstreetaddress VARCHAR(1024), \n",
      "\tcity VARCHAR(1024), \n",
      "\tstate_ VARCHAR(1024), \n",
      "\tpostalcode VARCHAR(1024), \n",
      "\tcountry VARCHAR(1024), \n",
      "\tphone VARCHAR(1024)\n",
      ")\n",
      "\n",
      "/*\n",
      "2 rows from customer table:\n",
      "customerid\tfirstname\tlastname\tstreetaddress\tcity\tstate_\tpostalcode\tcountry\tphone\n",
      "12\tJames\tDominick\t4 Mast Ct\tPortsmouth\tVA\t23703\tUSA\t(757) 686-2992\n",
      "17\tFredric\tWagner\t11 May St\tEnfield\tNH\t03748\tUSA\t(603) 632-7463\n",
      "*/\n",
      "\n",
      "\n",
      "CREATE TABLE sale (\n",
      "\tsaleid BIGINT, \n",
      "\tsaledate VARCHAR(1024), \n",
      "\tcustomerid BIGINT, \n",
      "\ttax DOUBLE PRECISION, \n",
      "\tshipping DOUBLE PRECISION\n",
      ")\n",
      "\n",
      "/*\n",
      "2 rows from sale table:\n",
      "saleid\tsaledate\tcustomerid\ttax\tshipping\n",
      "191228\t2013-12-31\t1134\t0.0\t44.37\n",
      "191229\t2013-12-31\t14958\t0.0\t9.95\n",
      "*/\n"
     ]
    }
   ],
   "source": [
    "context = db.get_context()\n",
    "print(list(context))\n",
    "print(context[\"table_info\"])"
   ]
  }
 ],
 "metadata": {
  "kernelspec": {
   "display_name": "Python 3 (ipykernel)",
   "language": "python",
   "name": "python3"
  },
  "language_info": {
   "codemirror_mode": {
    "name": "ipython",
    "version": 3
   },
   "file_extension": ".py",
   "mimetype": "text/x-python",
   "name": "python",
   "nbconvert_exporter": "python",
   "pygments_lexer": "ipython3",
   "version": "3.10.12"
  }
 },
 "nbformat": 4,
 "nbformat_minor": 5
}
