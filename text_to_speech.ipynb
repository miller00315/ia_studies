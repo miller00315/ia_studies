{
  "nbformat": 4,
  "nbformat_minor": 0,
  "metadata": {
    "colab": {
      "provenance": [],
      "authorship_tag": "ABX9TyMhjhGPHnkk2F58SLjiqEWf",
      "include_colab_link": true
    },
    "kernelspec": {
      "name": "python3",
      "display_name": "Python 3"
    },
    "language_info": {
      "name": "python"
    }
  },
  "cells": [
    {
      "cell_type": "markdown",
      "metadata": {
        "id": "view-in-github",
        "colab_type": "text"
      },
      "source": [
        "<a href=\"https://colab.research.google.com/github/miller00315/ia_studies/blob/main/text_to_speech.ipynb\" target=\"_parent\"><img src=\"https://colab.research.google.com/assets/colab-badge.svg\" alt=\"Open In Colab\"/></a>"
      ]
    },
    {
      "cell_type": "code",
      "execution_count": 1,
      "metadata": {
        "colab": {
          "base_uri": "https://localhost:8080/"
        },
        "id": "aNdQGnndzA-T",
        "outputId": "a80d04a2-7d0b-4d26-d4a7-fac5d427c742"
      },
      "outputs": [
        {
          "output_type": "stream",
          "name": "stdout",
          "text": [
            "Collecting gTTS\n",
            "  Downloading gTTS-2.5.4-py3-none-any.whl.metadata (4.1 kB)\n",
            "Requirement already satisfied: requests<3,>=2.27 in /usr/local/lib/python3.10/dist-packages (from gTTS) (2.32.3)\n",
            "Requirement already satisfied: click<8.2,>=7.1 in /usr/local/lib/python3.10/dist-packages (from gTTS) (8.1.7)\n",
            "Requirement already satisfied: charset-normalizer<4,>=2 in /usr/local/lib/python3.10/dist-packages (from requests<3,>=2.27->gTTS) (3.4.0)\n",
            "Requirement already satisfied: idna<4,>=2.5 in /usr/local/lib/python3.10/dist-packages (from requests<3,>=2.27->gTTS) (3.10)\n",
            "Requirement already satisfied: urllib3<3,>=1.21.1 in /usr/local/lib/python3.10/dist-packages (from requests<3,>=2.27->gTTS) (2.2.3)\n",
            "Requirement already satisfied: certifi>=2017.4.17 in /usr/local/lib/python3.10/dist-packages (from requests<3,>=2.27->gTTS) (2024.12.14)\n",
            "Downloading gTTS-2.5.4-py3-none-any.whl (29 kB)\n",
            "Installing collected packages: gTTS\n",
            "Successfully installed gTTS-2.5.4\n"
          ]
        }
      ],
      "source": [
        "!pip install gTTS"
      ]
    },
    {
      "cell_type": "code",
      "source": [
        "from gtts import gTTS\n",
        "\n",
        "text_to_say = 'How are you?'\n",
        "\n",
        "language = 'en'\n",
        "\n",
        "gtts_object = gTTS(\n",
        "    text=text_to_say,\n",
        "    lang=language,\n",
        "    slow=False\n",
        ")\n",
        "\n",
        "gtts_object.save('how_are_you.mp3')"
      ],
      "metadata": {
        "id": "PqiVHeNjzKIF"
      },
      "execution_count": 3,
      "outputs": []
    },
    {
      "cell_type": "code",
      "source": [
        "from IPython.display import Audio\n",
        "\n",
        "Audio('how_are_you.mp3')"
      ],
      "metadata": {
        "colab": {
          "base_uri": "https://localhost:8080/",
          "height": 75
        },
        "id": "9JK2Ew5gzKE5",
        "outputId": "cdc60a7a-7b62-4f64-a32b-d5d1e517158f"
      },
      "execution_count": 4,
      "outputs": [
        {
          "output_type": "execute_result",
          "data": {
            "text/plain": [
              "<IPython.lib.display.Audio object>"
            ],
            "text/html": [
              "\n",
              "                <audio  controls=\"controls\" >\n",
              "                    <source src=\"data:audio/mpeg;base64,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\" type=\"audio/mpeg\" />\n",
              "                    Your browser does not support the audio element.\n",
              "                </audio>\n",
              "              "
            ]
          },
          "metadata": {},
          "execution_count": 4
        }
      ]
    },
    {
      "cell_type": "code",
      "source": [
        "frencht_text = 'Je vais au supermaché aujourd\\'hui?'\n",
        "\n",
        "language = 'fr'\n",
        "\n",
        "gtts_object = gTTS(\n",
        "    text=frencht_text,\n",
        "    lang=language,\n",
        "    slow=False\n",
        ")\n",
        "\n",
        "gtts_object.save('how_are_you_in_french.mp3')"
      ],
      "metadata": {
        "id": "l5uLOxYGzKBd"
      },
      "execution_count": 7,
      "outputs": []
    },
    {
      "cell_type": "code",
      "source": [
        "Audio('how_are_you_in_french.mp3')"
      ],
      "metadata": {
        "colab": {
          "base_uri": "https://localhost:8080/",
          "height": 75
        },
        "id": "YEhYrgfHzJ96",
        "outputId": "e02994ce-51e8-493f-fb99-51dbc2f0b311"
      },
      "execution_count": 8,
      "outputs": [
        {
          "output_type": "execute_result",
          "data": {
            "text/plain": [
              "<IPython.lib.display.Audio object>"
            ],
            "text/html": [
              "\n",
              "                <audio  controls=\"controls\" >\n",
              "                    <source src=\"data:audio/mpeg;base64,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\" type=\"audio/mpeg\" />\n",
              "                    Your browser does not support the audio element.\n",
              "                </audio>\n",
              "              "
            ]
          },
          "metadata": {},
          "execution_count": 8
        }
      ]
    },
    {
      "cell_type": "code",
      "source": [],
      "metadata": {
        "id": "sFTPEJ-GzJ7C"
      },
      "execution_count": null,
      "outputs": []
    },
    {
      "cell_type": "code",
      "source": [],
      "metadata": {
        "id": "-D-JaBcrzJ3g"
      },
      "execution_count": null,
      "outputs": []
    },
    {
      "cell_type": "code",
      "source": [],
      "metadata": {
        "id": "YJB0EaIMzJ0B"
      },
      "execution_count": null,
      "outputs": []
    },
    {
      "cell_type": "code",
      "source": [],
      "metadata": {
        "id": "pE7DYOuszJvT"
      },
      "execution_count": null,
      "outputs": []
    },
    {
      "cell_type": "code",
      "source": [],
      "metadata": {
        "id": "g5ZpQ5ffzJsH"
      },
      "execution_count": null,
      "outputs": []
    }
  ]
}