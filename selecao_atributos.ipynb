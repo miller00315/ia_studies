{
  "nbformat": 4,
  "nbformat_minor": 0,
  "metadata": {
    "colab": {
      "provenance": [],
      "authorship_tag": "ABX9TyObr/0MX2otlR4BicNzA8OO",
      "include_colab_link": true
    },
    "kernelspec": {
      "name": "python3",
      "display_name": "Python 3"
    },
    "language_info": {
      "name": "python"
    }
  },
  "cells": [
    {
      "cell_type": "markdown",
      "metadata": {
        "id": "view-in-github",
        "colab_type": "text"
      },
      "source": [
        "<a href=\"https://colab.research.google.com/github/miller00315/ia_studies/blob/main/selecao_atributos.ipynb\" target=\"_parent\"><img src=\"https://colab.research.google.com/assets/colab-badge.svg\" alt=\"Open In Colab\"/></a>"
      ]
    },
    {
      "cell_type": "code",
      "execution_count": 3,
      "metadata": {
        "id": "b1RhKFDcFXVj"
      },
      "outputs": [],
      "source": [
        "import pandas as pd\n",
        "from sklearn.model_selection import train_test_split\n",
        "from sklearn.naive_bayes import GaussianNB\n",
        "from sklearn.metrics import accuracy_score\n",
        "from sklearn.feature_selection import chi2, SelectKBest"
      ]
    },
    {
      "cell_type": "code",
      "source": [
        "anuncio = pd.read_csv(\"ad.data\", header=None)\n",
        "\n",
        "anuncio.shape"
      ],
      "metadata": {
        "colab": {
          "base_uri": "https://localhost:8080/"
        },
        "id": "cGMpxA5_HBYq",
        "outputId": "e2599bdf-51e9-4eef-9d3e-350abdbc1313"
      },
      "execution_count": 4,
      "outputs": [
        {
          "output_type": "execute_result",
          "data": {
            "text/plain": [
              "(3279, 1559)"
            ]
          },
          "metadata": {},
          "execution_count": 4
        }
      ]
    },
    {
      "cell_type": "code",
      "source": [
        "X = anuncio.iloc[:,:-1].values # todas a linhas e as colunas menos a última\n",
        "\n",
        "y  = anuncio.iloc[:, -1].values # todas as linhas e a ultim coluna"
      ],
      "metadata": {
        "id": "3d7RkoFaHBVr"
      },
      "execution_count": 5,
      "outputs": []
    },
    {
      "cell_type": "code",
      "source": [
        "X"
      ],
      "metadata": {
        "colab": {
          "base_uri": "https://localhost:8080/"
        },
        "id": "iWfVpyehHBRh",
        "outputId": "1e116fdd-0b3c-492b-93a0-44ac9a43d024"
      },
      "execution_count": 6,
      "outputs": [
        {
          "output_type": "execute_result",
          "data": {
            "text/plain": [
              "array([[125.    , 125.    ,   1.    , ...,   0.    ,   0.    ,   0.    ],\n",
              "       [ 57.    , 468.    ,   8.2105, ...,   0.    ,   0.    ,   0.    ],\n",
              "       [ 33.    , 230.    ,   6.9696, ...,   0.    ,   0.    ,   0.    ],\n",
              "       ...,\n",
              "       [ 23.    , 120.    ,   5.2173, ...,   0.    ,   0.    ,   0.    ],\n",
              "       [  0.    ,   0.    ,   0.    , ...,   0.    ,   0.    ,   0.    ],\n",
              "       [ 40.    ,  40.    ,   1.    , ...,   0.    ,   0.    ,   0.    ]])"
            ]
          },
          "metadata": {},
          "execution_count": 6
        }
      ]
    },
    {
      "cell_type": "code",
      "source": [
        "y"
      ],
      "metadata": {
        "colab": {
          "base_uri": "https://localhost:8080/"
        },
        "id": "hFw_7iQAHBOU",
        "outputId": "ba770a27-341b-4bc0-a449-eed07bcf7fcb"
      },
      "execution_count": 7,
      "outputs": [
        {
          "output_type": "execute_result",
          "data": {
            "text/plain": [
              "array(['ad.', 'ad.', 'ad.', ..., 'nonad.', 'nonad.', 'nonad.'],\n",
              "      dtype=object)"
            ]
          },
          "metadata": {},
          "execution_count": 7
        }
      ]
    },
    {
      "cell_type": "code",
      "source": [
        "X_train, X_test, y_train, y_test = train_test_split(X, y, test_size=.3, random_state=0)"
      ],
      "metadata": {
        "id": "EUoC_V7pHBKX"
      },
      "execution_count": 9,
      "outputs": []
    },
    {
      "cell_type": "code",
      "source": [
        "model_1 = GaussianNB()\n",
        "\n",
        "model_1.fit(X_train, y_train)\n",
        "\n",
        "previsoes1 = model_1.predict(X_test)\n",
        "\n",
        "print(accuracy_score(y_test, previsoes1))"
      ],
      "metadata": {
        "colab": {
          "base_uri": "https://localhost:8080/"
        },
        "id": "zREyTfKTHBHY",
        "outputId": "b8a91cc6-a05b-4988-8a69-b800ce79de61"
      },
      "execution_count": 10,
      "outputs": [
        {
          "output_type": "stream",
          "name": "stdout",
          "text": [
            "0.7764227642276422\n"
          ]
        }
      ]
    },
    {
      "cell_type": "code",
      "source": [
        "selecao = SelectKBest(chi2, k=7)\n",
        "\n",
        "x_novo = selecao.fit_transform(X, y)\n",
        "\n",
        "x_novo"
      ],
      "metadata": {
        "colab": {
          "base_uri": "https://localhost:8080/"
        },
        "id": "okGoPmVSKloc",
        "outputId": "3c79781b-ada9-4b5e-98dd-d77d795ddaed"
      },
      "execution_count": 11,
      "outputs": [
        {
          "output_type": "execute_result",
          "data": {
            "text/plain": [
              "array([[125.    , 125.    ,   1.    , ...,   1.    ,   0.    ,   1.    ],\n",
              "       [ 57.    , 468.    ,   8.2105, ...,   1.    ,   0.    ,   0.    ],\n",
              "       [ 33.    , 230.    ,   6.9696, ...,   0.    ,   0.    ,   0.    ],\n",
              "       ...,\n",
              "       [ 23.    , 120.    ,   5.2173, ...,   0.    ,   0.    ,   0.    ],\n",
              "       [  0.    ,   0.    ,   0.    , ...,   0.    ,   0.    ,   0.    ],\n",
              "       [ 40.    ,  40.    ,   1.    , ...,   0.    ,   0.    ,   0.    ]])"
            ]
          },
          "metadata": {},
          "execution_count": 11
        }
      ]
    },
    {
      "cell_type": "code",
      "source": [
        "x_novo.shape"
      ],
      "metadata": {
        "colab": {
          "base_uri": "https://localhost:8080/"
        },
        "id": "l5iHz0i7Kllk",
        "outputId": "38807e29-3be2-4ead-b125-dceb03ac7399"
      },
      "execution_count": 13,
      "outputs": [
        {
          "output_type": "execute_result",
          "data": {
            "text/plain": [
              "(3279, 7)"
            ]
          },
          "metadata": {},
          "execution_count": 13
        }
      ]
    },
    {
      "cell_type": "code",
      "source": [
        "print(selecao.get_support())"
      ],
      "metadata": {
        "colab": {
          "base_uri": "https://localhost:8080/"
        },
        "id": "zUm2IqCiLNEf",
        "outputId": "9b71380d-74fa-4967-a5a0-5df9d45dfffd"
      },
      "execution_count": 14,
      "outputs": [
        {
          "output_type": "stream",
          "name": "stdout",
          "text": [
            "[ True  True  True ... False False False]\n"
          ]
        }
      ]
    },
    {
      "cell_type": "code",
      "source": [
        "X_train, X_test, y_train, y_test = train_test_split(x_novo, y, test_size=.3, random_state=0)"
      ],
      "metadata": {
        "id": "tF4FQrVvKljE"
      },
      "execution_count": 16,
      "outputs": []
    },
    {
      "cell_type": "code",
      "source": [
        "model_2 = GaussianNB()\n",
        "\n",
        "model_2.fit(X_train, y_train)\n",
        "\n",
        "previsoes2 = model_2.predict(X_test)\n",
        "\n",
        "print(accuracy_score(y_test, previsoes2))"
      ],
      "metadata": {
        "colab": {
          "base_uri": "https://localhost:8080/"
        },
        "id": "oy_7siNWKlge",
        "outputId": "a9250528-2c51-4aea-a224-2652999acec3"
      },
      "execution_count": 18,
      "outputs": [
        {
          "output_type": "stream",
          "name": "stdout",
          "text": [
            "0.9451219512195121\n"
          ]
        }
      ]
    },
    {
      "cell_type": "code",
      "source": [],
      "metadata": {
        "id": "0W6ANJMHKldT"
      },
      "execution_count": null,
      "outputs": []
    }
  ]
}