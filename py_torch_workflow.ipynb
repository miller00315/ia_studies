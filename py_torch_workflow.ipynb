{
  "nbformat": 4,
  "nbformat_minor": 0,
  "metadata": {
    "colab": {
      "provenance": [],
      "machine_shape": "hm",
      "gpuType": "T4",
      "authorship_tag": "ABX9TyPCqt5OQzbKWgtmoXNHtx5X",
      "include_colab_link": true
    },
    "kernelspec": {
      "name": "python3",
      "display_name": "Python 3"
    },
    "language_info": {
      "name": "python"
    },
    "accelerator": "GPU"
  },
  "cells": [
    {
      "cell_type": "markdown",
      "metadata": {
        "id": "view-in-github",
        "colab_type": "text"
      },
      "source": [
        "<a href=\"https://colab.research.google.com/github/miller00315/ia_studies/blob/main/py_torch_workflow.ipynb\" target=\"_parent\"><img src=\"https://colab.research.google.com/assets/colab-badge.svg\" alt=\"Open In Colab\"/></a>"
      ]
    },
    {
      "cell_type": "markdown",
      "source": [
        "PyTorhc workflow\n",
        "\n",
        "Let's explore an example PyTorch end-to-end workflow\n",
        "\n",
        "\n"
      ],
      "metadata": {
        "id": "XKzy8nOjyzDq"
      }
    },
    {
      "cell_type": "code",
      "source": [
        "import torch\n",
        "from torch import nn # nn contains all of Pytorch's building blocks of neural networks\n",
        "import matplotlib.pyplot as plt"
      ],
      "metadata": {
        "id": "dpwA-TTfy44O"
      },
      "execution_count": 1,
      "outputs": []
    },
    {
      "cell_type": "code",
      "source": [
        "# Check Pytorch version\n",
        "torch.__version__"
      ],
      "metadata": {
        "colab": {
          "base_uri": "https://localhost:8080/",
          "height": 36
        },
        "id": "vM1rC3YVy461",
        "outputId": "fdd01f17-4fd1-4552-b67b-00d8eb58d7b8"
      },
      "execution_count": 2,
      "outputs": [
        {
          "output_type": "execute_result",
          "data": {
            "text/plain": [
              "'2.3.0+cu121'"
            ],
            "application/vnd.google.colaboratory.intrinsic+json": {
              "type": "string"
            }
          },
          "metadata": {},
          "execution_count": 2
        }
      ]
    },
    {
      "cell_type": "markdown",
      "source": [
        "## 1. Data (preparing and loading)\n"
      ],
      "metadata": {
        "id": "A5tP5SXTy49I"
      }
    },
    {
      "cell_type": "code",
      "source": [
        "weight = 0.7\n",
        "bias = 0.3\n",
        "\n",
        "start = 0\n",
        "end = 1\n",
        "step = 0.02\n",
        "X = torch.arange(start, end, step).unsqueeze(dim=1)\n",
        "y = weight * X + bias"
      ],
      "metadata": {
        "id": "9kUCA3YCy4_h"
      },
      "execution_count": 3,
      "outputs": []
    },
    {
      "cell_type": "code",
      "source": [
        "X[:10], y[:10], len(X), len(y)"
      ],
      "metadata": {
        "colab": {
          "base_uri": "https://localhost:8080/"
        },
        "id": "POzl_LY_19VK",
        "outputId": "6061b383-ef6c-4711-9eaa-5f1979999151"
      },
      "execution_count": 5,
      "outputs": [
        {
          "output_type": "execute_result",
          "data": {
            "text/plain": [
              "(tensor([[0.0000],\n",
              "         [0.0200],\n",
              "         [0.0400],\n",
              "         [0.0600],\n",
              "         [0.0800],\n",
              "         [0.1000],\n",
              "         [0.1200],\n",
              "         [0.1400],\n",
              "         [0.1600],\n",
              "         [0.1800]]),\n",
              " tensor([[0.3000],\n",
              "         [0.3140],\n",
              "         [0.3280],\n",
              "         [0.3420],\n",
              "         [0.3560],\n",
              "         [0.3700],\n",
              "         [0.3840],\n",
              "         [0.3980],\n",
              "         [0.4120],\n",
              "         [0.4260]]),\n",
              " 50,\n",
              " 50)"
            ]
          },
          "metadata": {},
          "execution_count": 5
        }
      ]
    },
    {
      "cell_type": "code",
      "source": [
        "plt.scatter(X, y)\n",
        "plt.show()"
      ],
      "metadata": {
        "colab": {
          "base_uri": "https://localhost:8080/",
          "height": 430
        },
        "id": "vC7ZYuxXy5B6",
        "outputId": "f2fa9c01-68c2-43a4-99f2-53d6d280fee0"
      },
      "execution_count": 4,
      "outputs": [
        {
          "output_type": "display_data",
          "data": {
            "text/plain": [
              "<Figure size 640x480 with 1 Axes>"
            ],
            "image/png": "[encoded data removed]"
          },
          "metadata": {}
        }
      ]
    },
    {
      "cell_type": "markdown",
      "source": [
        "### Splitting dta into training and test sets"
      ],
      "metadata": {
        "id": "pw_CNyWY2oYt"
      }
    },
    {
      "cell_type": "code",
      "source": [
        "train_split = int(0.8 * len(X))\n",
        "X_train, y_train = X[:train_split], y[:train_split]\n",
        "X_test, y_test = X[train_split:], y[train_split:]"
      ],
      "metadata": {
        "id": "vjpVOwL_y5Eb"
      },
      "execution_count": 8,
      "outputs": []
    },
    {
      "cell_type": "code",
      "source": [
        "len(X_train), len(y_train), len(X_test), len(y_test)"
      ],
      "metadata": {
        "colab": {
          "base_uri": "https://localhost:8080/"
        },
        "id": "1pbctAady5Gk",
        "outputId": "fcb0f2f6-ea98-41b8-ef13-f04f9a74042c"
      },
      "execution_count": 9,
      "outputs": [
        {
          "output_type": "execute_result",
          "data": {
            "text/plain": [
              "(40, 40, 10, 10)"
            ]
          },
          "metadata": {},
          "execution_count": 9
        }
      ]
    },
    {
      "cell_type": "code",
      "source": [
        "def plot_prediction(\n",
        "    train_data=X_train,\n",
        "    train_labels=y_train,\n",
        "    test_data=X_test,\n",
        "    test_labels=y_test,\n",
        "    predictions=None,\n",
        "):\n",
        "  \"\"\"\n",
        "  Plots training data, test data and compares predictions.\n",
        "  \"\"\"\n",
        "  plt.figure(figsize=(10, 7))\n",
        "\n",
        "    # Plot training data in blue\n",
        "  plt.scatter(train_data, train_labels, c=\"b\", s=4, label=\"Training data\")\n",
        "\n",
        "    # Plot test data in green\n",
        "  plt.scatter(test_data, test_labels, c=\"g\", s=4, label=\"Testing data\")\n",
        "\n",
        "    # Are there predictions?\n",
        "  if predictions is not None:\n",
        "        # Plot the predictions if they exist\n",
        "      plt.scatter(test_data, predictions, c=\"r\", s=4, label=\"Predictions\")\n",
        "\n",
        "  plt.legend(prop={\"size\": 14})\n",
        "  plt.show()\n"
      ],
      "metadata": {
        "id": "qR5kXYoUy5JE"
      },
      "execution_count": 11,
      "outputs": []
    },
    {
      "cell_type": "code",
      "source": [
        "plot_prediction()"
      ],
      "metadata": {
        "colab": {
          "base_uri": "https://localhost:8080/",
          "height": 599
        },
        "id": "m4fzrwkPy5LU",
        "outputId": "884ba8db-82be-45b5-d2e3-76cd8567dcd7"
      },
      "execution_count": 12,
      "outputs": [
        {
          "output_type": "display_data",
          "data": {
            "text/plain": [
              "<Figure size 1000x700 with 1 Axes>"
            ],
            "image/png": "[encoded data removed]"
          },
          "metadata": {}
        }
      ]
    },
    {
      "cell_type": "markdown",
      "source": [
        "## 2. Build model"
      ],
      "metadata": {
        "id": "lqu5S7Ij1CKm"
      }
    },
    {
      "cell_type": "code",
      "source": [
        "# Cerate a linear regression model class\n",
        "\n",
        "class LinearRegresionModel(nn.Module): # <- almost everything in Pytorch inherents from nn.Module\n",
        "    def __init__(self):\n",
        "        super().__init__()\n",
        "        self.weights = nn.Parameter(torch.randn(\n",
        "            1, # <- start with a random weight and try to adjuts it to the ideal weight\n",
        "            requires_grad=True, # <- can this parameter be updated via gradient descent?\n",
        "            dtype=torch.float, # PyTorch loves the dattype torch.float32\n",
        "            ),\n",
        "        )\n",
        "\n",
        "        self.bias = nn.Parameter(torch.randn(1,\n",
        "            requires_grad=True,\n",
        "            dtype=torch.float,\n",
        "            ),\n",
        "        )\n",
        "\n",
        "    # Forward method to define teh computation in the model\n",
        "    def forward(self, x: torch.Tensor) -> torch.Tensor: # <- \"x\" is the input data1\n",
        "        return self.weights * x + self.bias # this is the linear regression formula"
      ],
      "metadata": {
        "id": "9O7iKlrZ1CH6"
      },
      "execution_count": 26,
      "outputs": []
    },
    {
      "cell_type": "markdown",
      "source": [
        "### PyTorch model building essentials"
      ],
      "metadata": {
        "id": "HJWB8e0C1CFF"
      }
    },
    {
      "cell_type": "markdown",
      "source": [
        "### Checking the content of our PyTorch model"
      ],
      "metadata": {
        "id": "mU2UcBMi1CCX"
      }
    },
    {
      "cell_type": "code",
      "source": [
        "# Create a random seed\n",
        "torch.manual_seed(42)\n",
        "\n",
        "# Create an instance of the model (this is a subclass of nn.Module)\n",
        "model_0 = LinearRegresionModel()\n",
        "\n",
        "# Check out the parameters\n",
        "list(model_0.parameters())"
      ],
      "metadata": {
        "colab": {
          "base_uri": "https://localhost:8080/"
        },
        "id": "y7sytyfw1B_l",
        "outputId": "a7c1f0de-82d6-4f73-a658-afa01bbc9724"
      },
      "execution_count": 28,
      "outputs": [
        {
          "output_type": "execute_result",
          "data": {
            "text/plain": [
              "[Parameter containing:\n",
              " tensor([0.3367], requires_grad=True),\n",
              " Parameter containing:\n",
              " tensor([0.1288], requires_grad=True)]"
            ]
          },
          "metadata": {},
          "execution_count": 28
        }
      ]
    },
    {
      "cell_type": "code",
      "source": [
        "# List named parameters\n",
        "\n",
        "model_0.state_dict()"
      ],
      "metadata": {
        "colab": {
          "base_uri": "https://localhost:8080/"
        },
        "id": "sGsHyA2p1B80",
        "outputId": "7daf3ee7-7c42-421e-be50-052f86e7beb3"
      },
      "execution_count": 29,
      "outputs": [
        {
          "output_type": "execute_result",
          "data": {
            "text/plain": [
              "OrderedDict([('weights', tensor([0.3367])), ('bias', tensor([0.1288]))])"
            ]
          },
          "metadata": {},
          "execution_count": 29
        }
      ]
    },
    {
      "cell_type": "markdown",
      "source": [
        "### Making prediciton using `torch.inference_mode()`"
      ],
      "metadata": {
        "id": "Nj0urXua1B6x"
      }
    },
    {
      "cell_type": "code",
      "source": [
        "# Make predicitions with mode\n",
        "\n",
        "with torch.inference_mode():\n",
        "    y_preds = model_0(X_test)\n",
        "\n",
        "y_preds"
      ],
      "metadata": {
        "colab": {
          "base_uri": "https://localhost:8080/"
        },
        "id": "9rUBbgdm1B3T",
        "outputId": "049629a6-e6cf-4346-8c39-055b1f77f8e4"
      },
      "execution_count": 34,
      "outputs": [
        {
          "output_type": "execute_result",
          "data": {
            "text/plain": [
              "tensor([[0.3982],\n",
              "        [0.4049],\n",
              "        [0.4116],\n",
              "        [0.4184],\n",
              "        [0.4251],\n",
              "        [0.4318],\n",
              "        [0.4386],\n",
              "        [0.4453],\n",
              "        [0.4520],\n",
              "        [0.4588]])"
            ]
          },
          "metadata": {},
          "execution_count": 34
        }
      ]
    },
    {
      "cell_type": "code",
      "source": [
        "plot_prediction(predictions=y_preds)"
      ],
      "metadata": {
        "colab": {
          "base_uri": "https://localhost:8080/",
          "height": 599
        },
        "id": "FhTtINOt1B0j",
        "outputId": "25419c2a-3632-4045-86bf-edf21ff62832"
      },
      "execution_count": 35,
      "outputs": [
        {
          "output_type": "display_data",
          "data": {
            "text/plain": [
              "<Figure size 1000x700 with 1 Axes>"
            ],
            "image/png": "[encoded data removed]"
          },
          "metadata": {}
        }
      ]
    },
    {
      "cell_type": "code",
      "source": [
        "with torch.no_grad():\n",
        "    y_preds = model_0(X_test)\n",
        "\n",
        "y_preds"
      ],
      "metadata": {
        "colab": {
          "base_uri": "https://localhost:8080/"
        },
        "id": "1eyr5oFP5ObZ",
        "outputId": "f8bc5fdd-1a5a-4dec-a696-d33fb59c4406"
      },
      "execution_count": 36,
      "outputs": [
        {
          "output_type": "execute_result",
          "data": {
            "text/plain": [
              "tensor([[0.3982],\n",
              "        [0.4049],\n",
              "        [0.4116],\n",
              "        [0.4184],\n",
              "        [0.4251],\n",
              "        [0.4318],\n",
              "        [0.4386],\n",
              "        [0.4453],\n",
              "        [0.4520],\n",
              "        [0.4588]])"
            ]
          },
          "metadata": {},
          "execution_count": 36
        }
      ]
    },
    {
      "cell_type": "code",
      "source": [
        "plot_prediction(predictions=y_preds)"
      ],
      "metadata": {
        "colab": {
          "base_uri": "https://localhost:8080/",
          "height": 599
        },
        "id": "htlqLw7n5OX0",
        "outputId": "bd54ae7e-b0ab-4e21-fe2e-fb18cefd0322"
      },
      "execution_count": 37,
      "outputs": [
        {
          "output_type": "display_data",
          "data": {
            "text/plain": [
              "<Figure size 1000x700 with 1 Axes>"
            ],
            "image/png": "[encoded data removed]"
          },
          "metadata": {}
        }
      ]
    },
    {
      "cell_type": "markdown",
      "source": [
        "## 3. Train model"
      ],
      "metadata": {
        "id": "NvjuFh6s5OUo"
      }
    },
    {
      "cell_type": "code",
      "source": [
        "loss_fn = nn.L1Loss()\n",
        "\n",
        "optimizer = torch.optim.SGD(params=model_0.parameters(), lr=0.01) # lr= learning rate"
      ],
      "metadata": {
        "id": "GrjRtcp25ORk"
      },
      "execution_count": 39,
      "outputs": []
    },
    {
      "cell_type": "markdown",
      "source": [
        "### Building a trainig loop (and testing loop) in PyTorch"
      ],
      "metadata": {
        "id": "VPffVEpt5OO1"
      }
    },
    {
      "cell_type": "code",
      "source": [],
      "metadata": {
        "id": "Cm1kVFO2KHoB"
      },
      "execution_count": 41,
      "outputs": []
    },
    {
      "cell_type": "code",
      "source": [
        "torch.manual_seed(42)\n",
        "\n",
        "epoch_count = []\n",
        "loss_values = []\n",
        "test_loss_values = []\n",
        "\n",
        "epochs = 200\n",
        "\n",
        "### Training\n",
        "# 0. Loop trhough the data\n",
        "for epoch in range(epochs):\n",
        "  model_0.train() # train mode in PyTorch\n",
        "\n",
        "  # Forward pass\n",
        "  y_pred = model_0(X_train)\n",
        "\n",
        "  # Calculate the loss\n",
        "  loss = loss_fn(y_pred, y_train)\n",
        "\n",
        "  # Optimizer zero grad\n",
        "  optimizer.zero_grad()\n",
        "\n",
        "  # Perform backpropagation on the loss with respect to the parameters of the mdoel\n",
        "  loss.backward()\n",
        "\n",
        "  # Step teh optimizer (perform gradient descent)\n",
        "  optimizer.step() # by default hoe the optimizer changes will acumulate through the loop soo... we have to zero them above in step 3\n",
        "\n",
        "  # Testing\n",
        "  model_0.eval() # turns off different settings in the model not needed for evaluation\n",
        "\n",
        "  with torch.inference_mode():\n",
        "     # 1. Do the forward pass\n",
        "     test_pred = model_0(X_test)\n",
        "\n",
        "     # 2. Calculate the loss\n",
        "     test_loss = loss_fn(test_pred, y_test.unsqueeze(dim=1))\n",
        "\n",
        "     # Print out what's happening\n",
        "     if epoch % 10 == 0:\n",
        "\n",
        "        epoch_count.append(epoch)\n",
        "\n",
        "        loss_values.append(loss.detach().numpy())\n",
        "\n",
        "        test_loss_values.append(test_loss.detach().numpy())\n",
        "\n",
        "        print(f\"Epoch: {epoch} | Loss: {loss:.5f} | Test loss: {test_loss:.5f}\")\n",
        "\n",
        "        print(model_0.state_dict())\n",
        "\n",
        "  print(f\"Epoch: {epoch} | Loss: {loss:.5f} | Test loss: {test_loss:.5f}\")"
      ],
      "metadata": {
        "colab": {
          "base_uri": "https://localhost:8080/"
        },
        "id": "wFkC3Dhp5OMD",
        "outputId": "4846f3ad-2066-4c5b-e521-a52f8c584ed1"
      },
      "execution_count": 52,
      "outputs": [
        {
          "output_type": "stream",
          "name": "stdout",
          "text": [
            "Epoch: 0 | Loss: 0.02102 | Test loss: 0.05885\n",
            "OrderedDict([('weights', tensor([0.5972])), ('bias', tensor([0.3433]))])\n",
            "Epoch: 0 | Loss: 0.02102 | Test loss: 0.05885\n",
            "Epoch: 1 | Loss: 0.02068 | Test loss: 0.05864\n",
            "Epoch: 2 | Loss: 0.02034 | Test loss: 0.05802\n",
            "Epoch: 3 | Loss: 0.01999 | Test loss: 0.05782\n",
            "Epoch: 4 | Loss: 0.01965 | Test loss: 0.05723\n",
            "Epoch: 5 | Loss: 0.01930 | Test loss: 0.05664\n",
            "Epoch: 6 | Loss: 0.01896 | Test loss: 0.05645\n",
            "Epoch: 7 | Loss: 0.01862 | Test loss: 0.05588\n",
            "Epoch: 8 | Loss: 0.01827 | Test loss: 0.05569\n",
            "Epoch: 9 | Loss: 0.01793 | Test loss: 0.05514\n",
            "Epoch: 10 | Loss: 0.01759 | Test loss: 0.05496\n",
            "OrderedDict([('weights', tensor([0.6141])), ('bias', tensor([0.3358]))])\n",
            "Epoch: 10 | Loss: 0.01759 | Test loss: 0.05496\n",
            "Epoch: 11 | Loss: 0.01725 | Test loss: 0.05443\n",
            "Epoch: 12 | Loss: 0.01690 | Test loss: 0.05426\n",
            "Epoch: 13 | Loss: 0.01656 | Test loss: 0.05375\n",
            "Epoch: 14 | Loss: 0.01621 | Test loss: 0.05327\n",
            "Epoch: 15 | Loss: 0.01587 | Test loss: 0.05311\n",
            "Epoch: 16 | Loss: 0.01553 | Test loss: 0.05265\n",
            "Epoch: 17 | Loss: 0.01518 | Test loss: 0.05251\n",
            "Epoch: 18 | Loss: 0.01484 | Test loss: 0.05208\n",
            "Epoch: 19 | Loss: 0.01449 | Test loss: 0.05194\n",
            "Epoch: 20 | Loss: 0.01416 | Test loss: 0.05150\n",
            "OrderedDict([('weights', tensor([0.6313])), ('bias', tensor([0.3288]))])\n",
            "Epoch: 20 | Loss: 0.01416 | Test loss: 0.05150\n",
            "Epoch: 21 | Loss: 0.01381 | Test loss: 0.05107\n",
            "Epoch: 22 | Loss: 0.01347 | Test loss: 0.05094\n",
            "Epoch: 23 | Loss: 0.01312 | Test loss: 0.05053\n",
            "Epoch: 24 | Loss: 0.01278 | Test loss: 0.05040\n",
            "Epoch: 25 | Loss: 0.01244 | Test loss: 0.05002\n",
            "Epoch: 26 | Loss: 0.01209 | Test loss: 0.04990\n",
            "Epoch: 27 | Loss: 0.01175 | Test loss: 0.04955\n",
            "Epoch: 28 | Loss: 0.01140 | Test loss: 0.04921\n",
            "Epoch: 29 | Loss: 0.01106 | Test loss: 0.04912\n",
            "Epoch: 30 | Loss: 0.01072 | Test loss: 0.04882\n",
            "OrderedDict([('weights', tensor([0.6485])), ('bias', tensor([0.3218]))])\n",
            "Epoch: 30 | Loss: 0.01072 | Test loss: 0.04882\n",
            "Epoch: 31 | Loss: 0.01038 | Test loss: 0.04874\n",
            "Epoch: 32 | Loss: 0.01003 | Test loss: 0.04849\n",
            "Epoch: 33 | Loss: 0.00969 | Test loss: 0.04842\n",
            "Epoch: 34 | Loss: 0.00935 | Test loss: 0.04817\n",
            "Epoch: 35 | Loss: 0.00900 | Test loss: 0.04810\n",
            "Epoch: 36 | Loss: 0.00866 | Test loss: 0.04785\n",
            "Epoch: 37 | Loss: 0.00831 | Test loss: 0.04760\n",
            "Epoch: 38 | Loss: 0.00797 | Test loss: 0.04753\n",
            "Epoch: 39 | Loss: 0.00763 | Test loss: 0.04728\n",
            "Epoch: 40 | Loss: 0.00728 | Test loss: 0.04721\n",
            "OrderedDict([('weights', tensor([0.6654])), ('bias', tensor([0.3143]))])\n",
            "Epoch: 40 | Loss: 0.00728 | Test loss: 0.04721\n",
            "Epoch: 41 | Loss: 0.00694 | Test loss: 0.04698\n",
            "Epoch: 42 | Loss: 0.00659 | Test loss: 0.04693\n",
            "Epoch: 43 | Loss: 0.00626 | Test loss: 0.04675\n",
            "Epoch: 44 | Loss: 0.00591 | Test loss: 0.04661\n",
            "Epoch: 45 | Loss: 0.00557 | Test loss: 0.04659\n",
            "Epoch: 46 | Loss: 0.00522 | Test loss: 0.04652\n",
            "Epoch: 47 | Loss: 0.00488 | Test loss: 0.04654\n",
            "Epoch: 48 | Loss: 0.00454 | Test loss: 0.04648\n",
            "Epoch: 49 | Loss: 0.00419 | Test loss: 0.04650\n",
            "Epoch: 50 | Loss: 0.00385 | Test loss: 0.04644\n",
            "OrderedDict([('weights', tensor([0.6826])), ('bias', tensor([0.3073]))])\n",
            "Epoch: 50 | Loss: 0.00385 | Test loss: 0.04644\n",
            "Epoch: 51 | Loss: 0.00350 | Test loss: 0.04639\n",
            "Epoch: 52 | Loss: 0.00317 | Test loss: 0.04641\n",
            "Epoch: 53 | Loss: 0.00282 | Test loss: 0.04635\n",
            "Epoch: 54 | Loss: 0.00248 | Test loss: 0.04637\n",
            "Epoch: 55 | Loss: 0.00213 | Test loss: 0.04631\n",
            "Epoch: 56 | Loss: 0.00179 | Test loss: 0.04633\n",
            "Epoch: 57 | Loss: 0.00145 | Test loss: 0.04621\n",
            "Epoch: 58 | Loss: 0.00119 | Test loss: 0.04654\n",
            "Epoch: 59 | Loss: 0.00259 | Test loss: 0.04701\n",
            "Epoch: 60 | Loss: 0.00893 | Test loss: 0.04654\n",
            "OrderedDict([('weights', tensor([0.6951])), ('bias', tensor([0.2993]))])\n",
            "Epoch: 60 | Loss: 0.00893 | Test loss: 0.04654\n",
            "Epoch: 61 | Loss: 0.00259 | Test loss: 0.04701\n",
            "Epoch: 62 | Loss: 0.00893 | Test loss: 0.04654\n",
            "Epoch: 63 | Loss: 0.00259 | Test loss: 0.04701\n",
            "Epoch: 64 | Loss: 0.00893 | Test loss: 0.04654\n",
            "Epoch: 65 | Loss: 0.00259 | Test loss: 0.04701\n",
            "Epoch: 66 | Loss: 0.00893 | Test loss: 0.04654\n",
            "Epoch: 67 | Loss: 0.00259 | Test loss: 0.04701\n",
            "Epoch: 68 | Loss: 0.00893 | Test loss: 0.04654\n",
            "Epoch: 69 | Loss: 0.00259 | Test loss: 0.04701\n",
            "Epoch: 70 | Loss: 0.00893 | Test loss: 0.04654\n",
            "OrderedDict([('weights', tensor([0.6951])), ('bias', tensor([0.2993]))])\n",
            "Epoch: 70 | Loss: 0.00893 | Test loss: 0.04654\n",
            "Epoch: 71 | Loss: 0.00259 | Test loss: 0.04701\n",
            "Epoch: 72 | Loss: 0.00893 | Test loss: 0.04654\n",
            "Epoch: 73 | Loss: 0.00259 | Test loss: 0.04701\n",
            "Epoch: 74 | Loss: 0.00893 | Test loss: 0.04654\n",
            "Epoch: 75 | Loss: 0.00259 | Test loss: 0.04701\n",
            "Epoch: 76 | Loss: 0.00893 | Test loss: 0.04654\n",
            "Epoch: 77 | Loss: 0.00259 | Test loss: 0.04701\n",
            "Epoch: 78 | Loss: 0.00893 | Test loss: 0.04654\n",
            "Epoch: 79 | Loss: 0.00259 | Test loss: 0.04701\n",
            "Epoch: 80 | Loss: 0.00893 | Test loss: 0.04654\n",
            "OrderedDict([('weights', tensor([0.6951])), ('bias', tensor([0.2993]))])\n",
            "Epoch: 80 | Loss: 0.00893 | Test loss: 0.04654\n",
            "Epoch: 81 | Loss: 0.00259 | Test loss: 0.04701\n",
            "Epoch: 82 | Loss: 0.00893 | Test loss: 0.04654\n",
            "Epoch: 83 | Loss: 0.00259 | Test loss: 0.04701\n",
            "Epoch: 84 | Loss: 0.00893 | Test loss: 0.04654\n",
            "Epoch: 85 | Loss: 0.00259 | Test loss: 0.04701\n",
            "Epoch: 86 | Loss: 0.00893 | Test loss: 0.04654\n",
            "Epoch: 87 | Loss: 0.00259 | Test loss: 0.04701\n",
            "Epoch: 88 | Loss: 0.00893 | Test loss: 0.04654\n",
            "Epoch: 89 | Loss: 0.00259 | Test loss: 0.04701\n",
            "Epoch: 90 | Loss: 0.00893 | Test loss: 0.04654\n",
            "OrderedDict([('weights', tensor([0.6951])), ('bias', tensor([0.2993]))])\n",
            "Epoch: 90 | Loss: 0.00893 | Test loss: 0.04654\n",
            "Epoch: 91 | Loss: 0.00259 | Test loss: 0.04701\n",
            "Epoch: 92 | Loss: 0.00893 | Test loss: 0.04654\n",
            "Epoch: 93 | Loss: 0.00259 | Test loss: 0.04701\n",
            "Epoch: 94 | Loss: 0.00893 | Test loss: 0.04654\n",
            "Epoch: 95 | Loss: 0.00259 | Test loss: 0.04701\n",
            "Epoch: 96 | Loss: 0.00893 | Test loss: 0.04654\n",
            "Epoch: 97 | Loss: 0.00259 | Test loss: 0.04701\n",
            "Epoch: 98 | Loss: 0.00893 | Test loss: 0.04654\n",
            "Epoch: 99 | Loss: 0.00259 | Test loss: 0.04701\n",
            "Epoch: 100 | Loss: 0.00893 | Test loss: 0.04654\n",
            "OrderedDict([('weights', tensor([0.6951])), ('bias', tensor([0.2993]))])\n",
            "Epoch: 100 | Loss: 0.00893 | Test loss: 0.04654\n",
            "Epoch: 101 | Loss: 0.00259 | Test loss: 0.04701\n",
            "Epoch: 102 | Loss: 0.00893 | Test loss: 0.04654\n",
            "Epoch: 103 | Loss: 0.00259 | Test loss: 0.04701\n",
            "Epoch: 104 | Loss: 0.00893 | Test loss: 0.04654\n",
            "Epoch: 105 | Loss: 0.00259 | Test loss: 0.04701\n",
            "Epoch: 106 | Loss: 0.00893 | Test loss: 0.04654\n",
            "Epoch: 107 | Loss: 0.00259 | Test loss: 0.04701\n",
            "Epoch: 108 | Loss: 0.00893 | Test loss: 0.04654\n",
            "Epoch: 109 | Loss: 0.00259 | Test loss: 0.04701\n",
            "Epoch: 110 | Loss: 0.00893 | Test loss: 0.04654\n",
            "OrderedDict([('weights', tensor([0.6951])), ('bias', tensor([0.2993]))])\n",
            "Epoch: 110 | Loss: 0.00893 | Test loss: 0.04654\n",
            "Epoch: 111 | Loss: 0.00259 | Test loss: 0.04701\n",
            "Epoch: 112 | Loss: 0.00893 | Test loss: 0.04654\n",
            "Epoch: 113 | Loss: 0.00259 | Test loss: 0.04701\n",
            "Epoch: 114 | Loss: 0.00893 | Test loss: 0.04654\n",
            "Epoch: 115 | Loss: 0.00259 | Test loss: 0.04701\n",
            "Epoch: 116 | Loss: 0.00893 | Test loss: 0.04654\n",
            "Epoch: 117 | Loss: 0.00259 | Test loss: 0.04701\n",
            "Epoch: 118 | Loss: 0.00893 | Test loss: 0.04654\n",
            "Epoch: 119 | Loss: 0.00259 | Test loss: 0.04701\n",
            "Epoch: 120 | Loss: 0.00893 | Test loss: 0.04654\n",
            "OrderedDict([('weights', tensor([0.6951])), ('bias', tensor([0.2993]))])\n",
            "Epoch: 120 | Loss: 0.00893 | Test loss: 0.04654\n",
            "Epoch: 121 | Loss: 0.00259 | Test loss: 0.04701\n",
            "Epoch: 122 | Loss: 0.00893 | Test loss: 0.04654\n",
            "Epoch: 123 | Loss: 0.00259 | Test loss: 0.04701\n",
            "Epoch: 124 | Loss: 0.00893 | Test loss: 0.04654\n",
            "Epoch: 125 | Loss: 0.00259 | Test loss: 0.04701\n",
            "Epoch: 126 | Loss: 0.00893 | Test loss: 0.04654\n",
            "Epoch: 127 | Loss: 0.00259 | Test loss: 0.04701\n",
            "Epoch: 128 | Loss: 0.00893 | Test loss: 0.04654\n",
            "Epoch: 129 | Loss: 0.00259 | Test loss: 0.04701\n",
            "Epoch: 130 | Loss: 0.00893 | Test loss: 0.04654\n",
            "OrderedDict([('weights', tensor([0.6951])), ('bias', tensor([0.2993]))])\n",
            "Epoch: 130 | Loss: 0.00893 | Test loss: 0.04654\n",
            "Epoch: 131 | Loss: 0.00259 | Test loss: 0.04701\n",
            "Epoch: 132 | Loss: 0.00893 | Test loss: 0.04654\n",
            "Epoch: 133 | Loss: 0.00259 | Test loss: 0.04701\n",
            "Epoch: 134 | Loss: 0.00893 | Test loss: 0.04654\n",
            "Epoch: 135 | Loss: 0.00259 | Test loss: 0.04701\n",
            "Epoch: 136 | Loss: 0.00893 | Test loss: 0.04654\n",
            "Epoch: 137 | Loss: 0.00259 | Test loss: 0.04701\n",
            "Epoch: 138 | Loss: 0.00893 | Test loss: 0.04654\n",
            "Epoch: 139 | Loss: 0.00259 | Test loss: 0.04701\n",
            "Epoch: 140 | Loss: 0.00893 | Test loss: 0.04654\n",
            "OrderedDict([('weights', tensor([0.6951])), ('bias', tensor([0.2993]))])\n",
            "Epoch: 140 | Loss: 0.00893 | Test loss: 0.04654\n",
            "Epoch: 141 | Loss: 0.00259 | Test loss: 0.04701\n",
            "Epoch: 142 | Loss: 0.00893 | Test loss: 0.04654\n",
            "Epoch: 143 | Loss: 0.00259 | Test loss: 0.04701\n",
            "Epoch: 144 | Loss: 0.00893 | Test loss: 0.04654\n",
            "Epoch: 145 | Loss: 0.00259 | Test loss: 0.04701\n",
            "Epoch: 146 | Loss: 0.00893 | Test loss: 0.04654\n",
            "Epoch: 147 | Loss: 0.00259 | Test loss: 0.04701\n",
            "Epoch: 148 | Loss: 0.00893 | Test loss: 0.04654\n",
            "Epoch: 149 | Loss: 0.00259 | Test loss: 0.04701\n",
            "Epoch: 150 | Loss: 0.00893 | Test loss: 0.04654\n",
            "OrderedDict([('weights', tensor([0.6951])), ('bias', tensor([0.2993]))])\n",
            "Epoch: 150 | Loss: 0.00893 | Test loss: 0.04654\n",
            "Epoch: 151 | Loss: 0.00259 | Test loss: 0.04701\n",
            "Epoch: 152 | Loss: 0.00893 | Test loss: 0.04654\n",
            "Epoch: 153 | Loss: 0.00259 | Test loss: 0.04701\n",
            "Epoch: 154 | Loss: 0.00893 | Test loss: 0.04654\n",
            "Epoch: 155 | Loss: 0.00259 | Test loss: 0.04701\n",
            "Epoch: 156 | Loss: 0.00893 | Test loss: 0.04654\n",
            "Epoch: 157 | Loss: 0.00259 | Test loss: 0.04701\n",
            "Epoch: 158 | Loss: 0.00893 | Test loss: 0.04654\n",
            "Epoch: 159 | Loss: 0.00259 | Test loss: 0.04701\n",
            "Epoch: 160 | Loss: 0.00893 | Test loss: 0.04654\n",
            "OrderedDict([('weights', tensor([0.6951])), ('bias', tensor([0.2993]))])\n",
            "Epoch: 160 | Loss: 0.00893 | Test loss: 0.04654\n",
            "Epoch: 161 | Loss: 0.00259 | Test loss: 0.04701\n",
            "Epoch: 162 | Loss: 0.00893 | Test loss: 0.04654\n",
            "Epoch: 163 | Loss: 0.00259 | Test loss: 0.04701\n",
            "Epoch: 164 | Loss: 0.00893 | Test loss: 0.04654\n",
            "Epoch: 165 | Loss: 0.00259 | Test loss: 0.04701\n",
            "Epoch: 166 | Loss: 0.00893 | Test loss: 0.04654\n",
            "Epoch: 167 | Loss: 0.00259 | Test loss: 0.04701\n",
            "Epoch: 168 | Loss: 0.00893 | Test loss: 0.04654\n",
            "Epoch: 169 | Loss: 0.00259 | Test loss: 0.04701\n",
            "Epoch: 170 | Loss: 0.00893 | Test loss: 0.04654\n",
            "OrderedDict([('weights', tensor([0.6951])), ('bias', tensor([0.2993]))])\n",
            "Epoch: 170 | Loss: 0.00893 | Test loss: 0.04654\n",
            "Epoch: 171 | Loss: 0.00259 | Test loss: 0.04701\n",
            "Epoch: 172 | Loss: 0.00893 | Test loss: 0.04654\n",
            "Epoch: 173 | Loss: 0.00259 | Test loss: 0.04701\n",
            "Epoch: 174 | Loss: 0.00893 | Test loss: 0.04654\n",
            "Epoch: 175 | Loss: 0.00259 | Test loss: 0.04701\n",
            "Epoch: 176 | Loss: 0.00893 | Test loss: 0.04654\n",
            "Epoch: 177 | Loss: 0.00259 | Test loss: 0.04701\n",
            "Epoch: 178 | Loss: 0.00893 | Test loss: 0.04654\n",
            "Epoch: 179 | Loss: 0.00259 | Test loss: 0.04701\n",
            "Epoch: 180 | Loss: 0.00893 | Test loss: 0.04654\n",
            "OrderedDict([('weights', tensor([0.6951])), ('bias', tensor([0.2993]))])\n",
            "Epoch: 180 | Loss: 0.00893 | Test loss: 0.04654\n",
            "Epoch: 181 | Loss: 0.00259 | Test loss: 0.04701\n",
            "Epoch: 182 | Loss: 0.00893 | Test loss: 0.04654\n",
            "Epoch: 183 | Loss: 0.00259 | Test loss: 0.04701\n",
            "Epoch: 184 | Loss: 0.00893 | Test loss: 0.04654\n",
            "Epoch: 185 | Loss: 0.00259 | Test loss: 0.04701\n",
            "Epoch: 186 | Loss: 0.00893 | Test loss: 0.04654\n",
            "Epoch: 187 | Loss: 0.00259 | Test loss: 0.04701\n",
            "Epoch: 188 | Loss: 0.00893 | Test loss: 0.04654\n",
            "Epoch: 189 | Loss: 0.00259 | Test loss: 0.04701\n",
            "Epoch: 190 | Loss: 0.00893 | Test loss: 0.04654\n",
            "OrderedDict([('weights', tensor([0.6951])), ('bias', tensor([0.2993]))])\n",
            "Epoch: 190 | Loss: 0.00893 | Test loss: 0.04654\n",
            "Epoch: 191 | Loss: 0.00259 | Test loss: 0.04701\n",
            "Epoch: 192 | Loss: 0.00893 | Test loss: 0.04654\n",
            "Epoch: 193 | Loss: 0.00259 | Test loss: 0.04701\n",
            "Epoch: 194 | Loss: 0.00893 | Test loss: 0.04654\n",
            "Epoch: 195 | Loss: 0.00259 | Test loss: 0.04701\n",
            "Epoch: 196 | Loss: 0.00893 | Test loss: 0.04654\n",
            "Epoch: 197 | Loss: 0.00259 | Test loss: 0.04701\n",
            "Epoch: 198 | Loss: 0.00893 | Test loss: 0.04654\n",
            "Epoch: 199 | Loss: 0.00259 | Test loss: 0.04701\n"
          ]
        },
        {
          "output_type": "stream",
          "name": "stderr",
          "text": [
            "/usr/local/lib/python3.10/dist-packages/torch/nn/modules/loss.py:101: UserWarning: Using a target size (torch.Size([10, 1, 1])) that is different to the input size (torch.Size([10, 1])). This will likely lead to incorrect results due to broadcasting. Please ensure they have the same size.\n",
            "  return F.l1_loss(input, target, reduction=self.reduction)\n"
          ]
        }
      ]
    },
    {
      "cell_type": "code",
      "source": [
        "model_0.state_dict()"
      ],
      "metadata": {
        "colab": {
          "base_uri": "https://localhost:8080/"
        },
        "id": "FSAqXCZE5OJl",
        "outputId": "eda4e74d-5b05-4733-ee62-520021c7cc83"
      },
      "execution_count": 48,
      "outputs": [
        {
          "output_type": "execute_result",
          "data": {
            "text/plain": [
              "OrderedDict([('weights', tensor([0.5954])), ('bias', tensor([0.3438]))])"
            ]
          },
          "metadata": {},
          "execution_count": 48
        }
      ]
    },
    {
      "cell_type": "code",
      "source": [
        "weight, bias"
      ],
      "metadata": {
        "colab": {
          "base_uri": "https://localhost:8080/"
        },
        "id": "y_-I1lgMFLPF",
        "outputId": "118b70c0-0ef8-4efe-bee5-c1caa82368d6"
      },
      "execution_count": 49,
      "outputs": [
        {
          "output_type": "execute_result",
          "data": {
            "text/plain": [
              "(0.7, 0.3)"
            ]
          },
          "metadata": {},
          "execution_count": 49
        }
      ]
    },
    {
      "cell_type": "code",
      "source": [
        "with torch.inference_mode():\n",
        "    y_preds = model_0(X_test)\n",
        "\n",
        "y_preds"
      ],
      "metadata": {
        "colab": {
          "base_uri": "https://localhost:8080/"
        },
        "id": "GogOFxmYFLMU",
        "outputId": "b6604db2-929c-4f0f-bade-fc108a6548ec"
      },
      "execution_count": 53,
      "outputs": [
        {
          "output_type": "execute_result",
          "data": {
            "text/plain": [
              "tensor([[0.8685],\n",
              "        [0.8825],\n",
              "        [0.8965],\n",
              "        [0.9105],\n",
              "        [0.9245],\n",
              "        [0.9384],\n",
              "        [0.9524],\n",
              "        [0.9664],\n",
              "        [0.9804],\n",
              "        [0.9944]])"
            ]
          },
          "metadata": {},
          "execution_count": 53
        }
      ]
    },
    {
      "cell_type": "code",
      "source": [
        "plot_prediction(predictions=y_preds)"
      ],
      "metadata": {
        "colab": {
          "base_uri": "https://localhost:8080/",
          "height": 599
        },
        "id": "W4RA4h_wFLHk",
        "outputId": "fadd1443-a94d-4e67-d25d-2cfe6fc444e0"
      },
      "execution_count": 54,
      "outputs": [
        {
          "output_type": "display_data",
          "data": {
            "text/plain": [
              "<Figure size 1000x700 with 1 Axes>"
            ],
            "image/png": "[encoded data removed]"
          },
          "metadata": {}
        }
      ]
    },
    {
      "cell_type": "code",
      "source": [
        "import numpy as np\n",
        "\n",
        "plt.plot(epoch_count, loss_values, label=\"Train loss\")\n",
        "plt.plot(epoch_count, test_loss_values, label=\"Test loss\")\n",
        "plt.title(\"Training and test loss curves\")\n",
        "plt.ylabel(\"Loss\")\n",
        "plt.xlabel(\"Epochs\")\n",
        "plt.legend()\n",
        "plt.show()"
      ],
      "metadata": {
        "colab": {
          "base_uri": "https://localhost:8080/",
          "height": 472
        },
        "id": "E-i3gPuaFLFX",
        "outputId": "4853600f-eeb0-4d3e-fdb1-ab8bb7ac312c"
      },
      "execution_count": 58,
      "outputs": [
        {
          "output_type": "display_data",
          "data": {
            "text/plain": [
              "<Figure size 640x480 with 1 Axes>"
            ],
            "image/png": "[encoded data removed]"
          },
          "metadata": {}
        }
      ]
    },
    {
      "cell_type": "markdown",
      "source": [
        "### Save the model"
      ],
      "metadata": {
        "id": "SPHAP4PUFLDK"
      }
    },
    {
      "cell_type": "code",
      "source": [
        "torch.save(obj=model_0.state_dict(), f=\"01_pytorch_workflow_model_0.pth\")"
      ],
      "metadata": {
        "id": "qJCyKnisFKv6"
      },
      "execution_count": 59,
      "outputs": []
    },
    {
      "cell_type": "code",
      "source": [
        "loaded_model_0 = LinearRegresionModel()\n",
        "\n",
        "loaded_model_0.load_state_dict(torch.load(\"01_pytorch_workflow_model_0.pth\"))"
      ],
      "metadata": {
        "colab": {
          "base_uri": "https://localhost:8080/"
        },
        "id": "ZGap8lZrR23o",
        "outputId": "d3e91b06-e88e-4c4f-c0cd-c39014ceea39"
      },
      "execution_count": 60,
      "outputs": [
        {
          "output_type": "execute_result",
          "data": {
            "text/plain": [
              "<All keys matched successfully>"
            ]
          },
          "metadata": {},
          "execution_count": 60
        }
      ]
    },
    {
      "cell_type": "code",
      "source": [
        "loaded_model_preds = loaded_model_0(X_test)"
      ],
      "metadata": {
        "id": "h16ZfWT8R20w"
      },
      "execution_count": 61,
      "outputs": []
    },
    {
      "cell_type": "code",
      "source": [
        "loaded_model_preds.detach()"
      ],
      "metadata": {
        "colab": {
          "base_uri": "https://localhost:8080/"
        },
        "id": "yx-aBaYFU7qL",
        "outputId": "92b83816-735d-4ead-c11d-7d17f6d1a9a0"
      },
      "execution_count": 66,
      "outputs": [
        {
          "output_type": "execute_result",
          "data": {
            "text/plain": [
              "tensor([[0.8685],\n",
              "        [0.8825],\n",
              "        [0.8965],\n",
              "        [0.9105],\n",
              "        [0.9245],\n",
              "        [0.9384],\n",
              "        [0.9524],\n",
              "        [0.9664],\n",
              "        [0.9804],\n",
              "        [0.9944]])"
            ]
          },
          "metadata": {},
          "execution_count": 66
        }
      ]
    },
    {
      "cell_type": "code",
      "source": [
        "plot_prediction(predictions=loaded_model_preds.detach())"
      ],
      "metadata": {
        "colab": {
          "base_uri": "https://localhost:8080/",
          "height": 599
        },
        "id": "bH7jN_BVR2x4",
        "outputId": "d30171a1-880f-497d-855d-13f6baa89137"
      },
      "execution_count": 67,
      "outputs": [
        {
          "output_type": "display_data",
          "data": {
            "text/plain": [
              "<Figure size 1000x700 with 1 Axes>"
            ],
            "image/png": "[encoded data removed]"
          },
          "metadata": {}
        }
      ]
    },
    {
      "cell_type": "markdown",
      "source": [
        "## Puting it all together"
      ],
      "metadata": {
        "id": "BaGKeJmHR2vO"
      }
    },
    {
      "cell_type": "markdown",
      "source": [
        "#### 6.1 Data"
      ],
      "metadata": {
        "id": "vqHiJ_9zR2sh"
      }
    },
    {
      "cell_type": "code",
      "source": [
        "# setup agnodtic code\n",
        "device = \"cuda\" if torch.cuda.is_available() else \"cpu\"\n",
        "print(f\"Using device: {device}\")"
      ],
      "metadata": {
        "colab": {
          "base_uri": "https://localhost:8080/"
        },
        "id": "Z73vR7mAR2qC",
        "outputId": "022021d6-487f-4d05-a7a0-ff1524ebbad9"
      },
      "execution_count": 68,
      "outputs": [
        {
          "output_type": "stream",
          "name": "stdout",
          "text": [
            "Using device: cuda\n"
          ]
        }
      ]
    },
    {
      "cell_type": "code",
      "source": [
        "# Create some data\n",
        "weight = 0.7\n",
        "bias = 0.3\n",
        "\n",
        "# Create range values\n",
        "start = 0\n",
        "end = 1\n",
        "step = 0.02\n",
        "\n",
        "# Create X and y (features and labels()\n",
        "X = torch.arange(start, end, step).unsqueeze(dim=1)\n",
        "y = weight * X + bias"
      ],
      "metadata": {
        "id": "KY3_dtWfR2oP"
      },
      "execution_count": 70,
      "outputs": []
    },
    {
      "cell_type": "code",
      "source": [
        "# Split data\n",
        "train_split = int(0.8 * len(X))\n",
        "X_train, y_train = X[:train_split], y[:train_split]\n",
        "X_test, y_test = X[train_split:], y[train_split:]"
      ],
      "metadata": {
        "id": "fLgPlDWhR2ke"
      },
      "execution_count": 71,
      "outputs": []
    },
    {
      "cell_type": "code",
      "source": [
        "len(X_train), len(y_train), len(X_test), len(y_test)"
      ],
      "metadata": {
        "colab": {
          "base_uri": "https://localhost:8080/"
        },
        "id": "0bWARXvdR2he",
        "outputId": "1b7e719e-cf07-4d42-8ac0-e2af2498bb45"
      },
      "execution_count": 72,
      "outputs": [
        {
          "output_type": "execute_result",
          "data": {
            "text/plain": [
              "(40, 40, 10, 10)"
            ]
          },
          "metadata": {},
          "execution_count": 72
        }
      ]
    },
    {
      "cell_type": "code",
      "source": [
        "# Plot the data\n",
        "plot_prediction()"
      ],
      "metadata": {
        "colab": {
          "base_uri": "https://localhost:8080/",
          "height": 599
        },
        "id": "Nr5doKwfR2e_",
        "outputId": "270394c3-ddf2-483b-b2c7-7ca94b6ecd21"
      },
      "execution_count": 73,
      "outputs": [
        {
          "output_type": "display_data",
          "data": {
            "text/plain": [
              "<Figure size 1000x700 with 1 Axes>"
            ],
            "image/png": "[encoded data removed]"
          },
          "metadata": {}
        }
      ]
    },
    {
      "cell_type": "markdown",
      "source": [
        "### 6.2 Build aPyTorch Linear model"
      ],
      "metadata": {
        "id": "L_4qP5hfR2b7"
      }
    },
    {
      "cell_type": "markdown",
      "source": [],
      "metadata": {
        "id": "NctOI-apW55i"
      }
    },
    {
      "cell_type": "code",
      "source": [
        "# Create a linear model by subclass nn.Module\n",
        "class LinearRegressionModelV2(nn.Module):\n",
        "    def __init__(self):\n",
        "      super().__init__()\n",
        "      ## Use nn.Linear() for creating the mdoel pareameters\n",
        "\n",
        "      self.linear_layer = nn.Linear(in_features=1,\n",
        "                                   out_features=1)\n",
        "\n",
        "    def forward(self, x: torch.Tensor) -> torch.Tensor:\n",
        "      return self.linear_layer(x)\n",
        "\n",
        "torch.manual_seed(42)\n",
        "model_1 = LinearRegressionModelV2()\n",
        "model_1, model_1.state_dict()"
      ],
      "metadata": {
        "colab": {
          "base_uri": "https://localhost:8080/"
        },
        "id": "xBUSHeTRVsvF",
        "outputId": "d9ee1465-aa2e-47f2-a361-9029068e446b"
      },
      "execution_count": 74,
      "outputs": [
        {
          "output_type": "execute_result",
          "data": {
            "text/plain": [
              "(LinearRegressionModelV2(\n",
              "   (linear_layer): Linear(in_features=1, out_features=1, bias=True)\n",
              " ),\n",
              " OrderedDict([('linear_layer.weight', tensor([[0.7645]])),\n",
              "              ('linear_layer.bias', tensor([0.8300]))]))"
            ]
          },
          "metadata": {},
          "execution_count": 74
        }
      ]
    },
    {
      "cell_type": "code",
      "source": [
        "# Check the mdoel current device\n",
        "next(model_1.parameters()).device"
      ],
      "metadata": {
        "colab": {
          "base_uri": "https://localhost:8080/"
        },
        "id": "aGdaK03kZCjd",
        "outputId": "dea125c3-a92d-4d30-ab25-d75d146e5f60"
      },
      "execution_count": 75,
      "outputs": [
        {
          "output_type": "execute_result",
          "data": {
            "text/plain": [
              "device(type='cpu')"
            ]
          },
          "metadata": {},
          "execution_count": 75
        }
      ]
    },
    {
      "cell_type": "code",
      "source": [
        "# Set the mdoel to use the target device\n",
        "model_1.to(device)\n",
        "next(model_1.parameters()).device"
      ],
      "metadata": {
        "colab": {
          "base_uri": "https://localhost:8080/"
        },
        "id": "pLW8KYYvVssu",
        "outputId": "72178cb5-8635-47c0-9689-ee281d68b4fe"
      },
      "execution_count": 76,
      "outputs": [
        {
          "output_type": "execute_result",
          "data": {
            "text/plain": [
              "device(type='cuda', index=0)"
            ]
          },
          "metadata": {},
          "execution_count": 76
        }
      ]
    },
    {
      "cell_type": "markdown",
      "source": [
        "### 6.3 Training"
      ],
      "metadata": {
        "id": "WFLxkYiYVsqM"
      }
    },
    {
      "cell_type": "code",
      "source": [
        "# Loss function\n",
        "loss_fn = nn.L1Loss()\n",
        "\n",
        "# Optimizer\n",
        "optimizer = torch.optim.SGD(params=model_1.parameters(),\n",
        "                            lr=0.01)"
      ],
      "metadata": {
        "id": "J8OMOb3fVsnw"
      },
      "execution_count": 77,
      "outputs": []
    },
    {
      "cell_type": "code",
      "source": [
        "# Put data on the target device\n",
        "X_train = X_train.to(device)\n",
        "y_train = y_train.to(device)\n",
        "X_test = X_test.to(device)\n",
        "y_test = y_test.to(device)"
      ],
      "metadata": {
        "id": "0kTiY1nvauR-"
      },
      "execution_count": 79,
      "outputs": []
    },
    {
      "cell_type": "code",
      "source": [
        "# Let's write training loop\n",
        "\n",
        "torch.manual_seed(42)\n",
        "\n",
        "epochs = 200\n",
        "\n",
        "for epoch in range(epochs):\n",
        "  ## Training\n",
        "  model_1.train()\n",
        "\n",
        "  # 1. Forward pass\n",
        "  y_pred = model_1(X_train)\n",
        "\n",
        "  # 2. Calculate the loss\n",
        "  loss = loss_fn(y_pred, y_train)\n",
        "\n",
        "  # 3. Optimizer zero grad\n",
        "  optimizer.zero_grad()\n",
        "\n",
        "  # 4. Perform backpropagation on the loss with respect to the parameters of the mdoel\n",
        "  loss.backward()\n",
        "\n",
        "  # 5. Step the optimizer (perform gradient descent)\n",
        "  optimizer.step()\n",
        "\n",
        "  ## Testing\n",
        "  model_1.eval()\n",
        "  with torch.inference_mode():\n",
        "    # 1. Do the predictions\n",
        "    test_preds = model_1(X_test)\n",
        "\n",
        "    # 2. Calculate the loss\n",
        "    test_loss = loss_fn(test_preds, y_test)\n",
        "\n",
        "    # Print out whats's happening\n",
        "    if epoch % 10 == 0:\n",
        "      print(f\"Epoch: {epoch} | Loss: {loss:.5f} | Test loss: {test_loss:.5f}\")\n",
        "      print(model_1.state_dict())\n",
        "      print()\n",
        ""
      ],
      "metadata": {
        "colab": {
          "base_uri": "https://localhost:8080/"
        },
        "id": "R2lB-SPRVslz",
        "outputId": "1b499d32-05dc-44b7-9e30-87b683ef4f3e"
      },
      "execution_count": 80,
      "outputs": [
        {
          "output_type": "stream",
          "name": "stdout",
          "text": [
            "Epoch: 0 | Loss: 0.55518 | Test loss: 0.57398\n",
            "OrderedDict([('linear_layer.weight', tensor([[0.7606]], device='cuda:0')), ('linear_layer.bias', tensor([0.8200], device='cuda:0'))])\n",
            "\n",
            "Epoch: 10 | Loss: 0.43997 | Test loss: 0.43927\n",
            "OrderedDict([('linear_layer.weight', tensor([[0.7216]], device='cuda:0')), ('linear_layer.bias', tensor([0.7200], device='cuda:0'))])\n",
            "\n",
            "Epoch: 20 | Loss: 0.32476 | Test loss: 0.30456\n",
            "OrderedDict([('linear_layer.weight', tensor([[0.6826]], device='cuda:0')), ('linear_layer.bias', tensor([0.6200], device='cuda:0'))])\n",
            "\n",
            "Epoch: 30 | Loss: 0.20955 | Test loss: 0.16985\n",
            "OrderedDict([('linear_layer.weight', tensor([[0.6436]], device='cuda:0')), ('linear_layer.bias', tensor([0.5200], device='cuda:0'))])\n",
            "\n",
            "Epoch: 40 | Loss: 0.09434 | Test loss: 0.03514\n",
            "OrderedDict([('linear_layer.weight', tensor([[0.6046]], device='cuda:0')), ('linear_layer.bias', tensor([0.4200], device='cuda:0'))])\n",
            "\n",
            "Epoch: 50 | Loss: 0.02389 | Test loss: 0.04785\n",
            "OrderedDict([('linear_layer.weight', tensor([[0.5872]], device='cuda:0')), ('linear_layer.bias', tensor([0.3525], device='cuda:0'))])\n",
            "\n",
            "Epoch: 60 | Loss: 0.01996 | Test loss: 0.04580\n",
            "OrderedDict([('linear_layer.weight', tensor([[0.6025]], device='cuda:0')), ('linear_layer.bias', tensor([0.3410], device='cuda:0'))])\n",
            "\n",
            "Epoch: 70 | Loss: 0.01652 | Test loss: 0.03753\n",
            "OrderedDict([('linear_layer.weight', tensor([[0.6196]], device='cuda:0')), ('linear_layer.bias', tensor([0.3340], device='cuda:0'))])\n",
            "\n",
            "Epoch: 80 | Loss: 0.01309 | Test loss: 0.02994\n",
            "OrderedDict([('linear_layer.weight', tensor([[0.6366]], device='cuda:0')), ('linear_layer.bias', tensor([0.3265], device='cuda:0'))])\n",
            "\n",
            "Epoch: 90 | Loss: 0.00965 | Test loss: 0.02167\n",
            "OrderedDict([('linear_layer.weight', tensor([[0.6537]], device='cuda:0')), ('linear_layer.bias', tensor([0.3195], device='cuda:0'))])\n",
            "\n",
            "Epoch: 100 | Loss: 0.00622 | Test loss: 0.01409\n",
            "OrderedDict([('linear_layer.weight', tensor([[0.6707]], device='cuda:0')), ('linear_layer.bias', tensor([0.3120], device='cuda:0'))])\n",
            "\n",
            "Epoch: 110 | Loss: 0.00279 | Test loss: 0.00581\n",
            "OrderedDict([('linear_layer.weight', tensor([[0.6878]], device='cuda:0')), ('linear_layer.bias', tensor([0.3050], device='cuda:0'))])\n",
            "\n",
            "Epoch: 120 | Loss: 0.00126 | Test loss: 0.01380\n",
            "OrderedDict([('linear_layer.weight', tensor([[0.6929]], device='cuda:0')), ('linear_layer.bias', tensor([0.2925], device='cuda:0'))])\n",
            "\n",
            "Epoch: 130 | Loss: 0.00126 | Test loss: 0.01380\n",
            "OrderedDict([('linear_layer.weight', tensor([[0.6929]], device='cuda:0')), ('linear_layer.bias', tensor([0.2925], device='cuda:0'))])\n",
            "\n",
            "Epoch: 140 | Loss: 0.00126 | Test loss: 0.01380\n",
            "OrderedDict([('linear_layer.weight', tensor([[0.6929]], device='cuda:0')), ('linear_layer.bias', tensor([0.2925], device='cuda:0'))])\n",
            "\n",
            "Epoch: 150 | Loss: 0.00126 | Test loss: 0.01380\n",
            "OrderedDict([('linear_layer.weight', tensor([[0.6929]], device='cuda:0')), ('linear_layer.bias', tensor([0.2925], device='cuda:0'))])\n",
            "\n",
            "Epoch: 160 | Loss: 0.00126 | Test loss: 0.01380\n",
            "OrderedDict([('linear_layer.weight', tensor([[0.6929]], device='cuda:0')), ('linear_layer.bias', tensor([0.2925], device='cuda:0'))])\n",
            "\n",
            "Epoch: 170 | Loss: 0.00126 | Test loss: 0.01380\n",
            "OrderedDict([('linear_layer.weight', tensor([[0.6929]], device='cuda:0')), ('linear_layer.bias', tensor([0.2925], device='cuda:0'))])\n",
            "\n",
            "Epoch: 180 | Loss: 0.00126 | Test loss: 0.01380\n",
            "OrderedDict([('linear_layer.weight', tensor([[0.6929]], device='cuda:0')), ('linear_layer.bias', tensor([0.2925], device='cuda:0'))])\n",
            "\n",
            "Epoch: 190 | Loss: 0.00126 | Test loss: 0.01380\n",
            "OrderedDict([('linear_layer.weight', tensor([[0.6929]], device='cuda:0')), ('linear_layer.bias', tensor([0.2925], device='cuda:0'))])\n",
            "\n"
          ]
        }
      ]
    },
    {
      "cell_type": "code",
      "source": [
        "model_1_preds = model_1(X_test)"
      ],
      "metadata": {
        "id": "M4CxGMnvVsj9"
      },
      "execution_count": 81,
      "outputs": []
    },
    {
      "cell_type": "code",
      "source": [
        "model_1_preds"
      ],
      "metadata": {
        "colab": {
          "base_uri": "https://localhost:8080/"
        },
        "id": "MXlRnyTFVsiT",
        "outputId": "0afb3839-90bb-4b1c-8b96-eb34f5408d1f"
      },
      "execution_count": 82,
      "outputs": [
        {
          "output_type": "execute_result",
          "data": {
            "text/plain": [
              "tensor([[0.8600],\n",
              "        [0.8739],\n",
              "        [0.8878],\n",
              "        [0.9018],\n",
              "        [0.9157],\n",
              "        [0.9296],\n",
              "        [0.9436],\n",
              "        [0.9575],\n",
              "        [0.9714],\n",
              "        [0.9854]], device='cuda:0', grad_fn=<AddmmBackward0>)"
            ]
          },
          "metadata": {},
          "execution_count": 82
        }
      ]
    },
    {
      "cell_type": "code",
      "source": [
        "plot_prediction(predictions=model_1_preds.cpu().detach())"
      ],
      "metadata": {
        "colab": {
          "base_uri": "https://localhost:8080/",
          "height": 599
        },
        "id": "u_HoVR2rVsgd",
        "outputId": "4426e024-bec6-4efc-87e5-c95b1ddc85cf"
      },
      "execution_count": 85,
      "outputs": [
        {
          "output_type": "display_data",
          "data": {
            "text/plain": [
              "<Figure size 1000x700 with 1 Axes>"
            ],
            "image/png": "[encoded data removed]"
          },
          "metadata": {}
        }
      ]
    },
    {
      "cell_type": "code",
      "source": [
        "from pathlib import Path\n",
        "\n",
        "# 1. Create a directory to save model\n",
        "MODEL_PATH = Path(\"models\")\n",
        "MODEL_PATH.mkdir(parents=True, exist_ok=True)\n",
        "\n",
        "# 2. Create a model save\n",
        "MODEL_NAME = \"pytorhc_model_1.pth\"\n",
        "MODEL_SAVE_PATH = MODEL_PATH / MODEL_NAME\n",
        "\n",
        "# 3. Save the model state dict\n",
        "torch.save(obj=model_1.state_dict(), f=MODEL_SAVE_PATH)"
      ],
      "metadata": {
        "id": "iF44CEMsVsb3"
      },
      "execution_count": 86,
      "outputs": []
    },
    {
      "cell_type": "code",
      "source": [
        "# load saved model\n",
        "\n",
        "model_1_loaded = LinearRegressionModelV2()\n",
        "model_1_loaded.load_state_dict(torch.load(MODEL_SAVE_PATH))"
      ],
      "metadata": {
        "colab": {
          "base_uri": "https://localhost:8080/"
        },
        "id": "vl7XtvE9VsY4",
        "outputId": "1db18e52-63c5-44ce-df7b-235602e3d073"
      },
      "execution_count": 87,
      "outputs": [
        {
          "output_type": "execute_result",
          "data": {
            "text/plain": [
              "<All keys matched successfully>"
            ]
          },
          "metadata": {},
          "execution_count": 87
        }
      ]
    },
    {
      "cell_type": "code",
      "source": [
        "X_test = X_test.to(\"cpu\")\n",
        "y_test = y_test.to(\"cpu\")\n",
        "\n",
        "model_1_lloaded_preds = model_1_loaded(X_test)\n",
        "\n",
        "plot_prediction(predictions=model_1_lloaded_preds.cpu().detach())"
      ],
      "metadata": {
        "colab": {
          "base_uri": "https://localhost:8080/",
          "height": 599
        },
        "id": "YVNO2aAHVsWr",
        "outputId": "7811b2cc-d76a-4391-a32b-3cec62d1c734"
      },
      "execution_count": 89,
      "outputs": [
        {
          "output_type": "display_data",
          "data": {
            "text/plain": [
              "<Figure size 1000x700 with 1 Axes>"
            ],
            "image/png": "[encoded data removed]"
          },
          "metadata": {}
        }
      ]
    },
    {
      "cell_type": "code",
      "source": [],
      "metadata": {
        "id": "-eQt2mYGVsUn"
      },
      "execution_count": null,
      "outputs": []
    },
    {
      "cell_type": "code",
      "source": [],
      "metadata": {
        "id": "vfLNMj80VsRY"
      },
      "execution_count": null,
      "outputs": []
    }
  ]
}