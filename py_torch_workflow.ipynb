{
  "nbformat": 4,
  "nbformat_minor": 0,
  "metadata": {
    "colab": {
      "provenance": [],
      "machine_shape": "hm",
      "gpuType": "T4",
      "authorship_tag": "ABX9TyM4GpxohF3sYeOAyhXBAPsM",
      "include_colab_link": true
    },
    "kernelspec": {
      "name": "python3",
      "display_name": "Python 3"
    },
    "language_info": {
      "name": "python"
    },
    "accelerator": "GPU"
  },
  "cells": [
    {
      "cell_type": "markdown",
      "metadata": {
        "id": "view-in-github",
        "colab_type": "text"
      },
      "source": [
        "<a href=\"https://colab.research.google.com/github/miller00315/ia_studies/blob/main/py_torch_workflow.ipynb\" target=\"_parent\"><img src=\"https://colab.research.google.com/assets/colab-badge.svg\" alt=\"Open In Colab\"/></a>"
      ]
    },
    {
      "cell_type": "markdown",
      "source": [
        "PyTorhc workflow\n",
        "\n",
        "Let's explore an example PyTorch end-to-end workflow\n",
        "\n",
        "\n"
      ],
      "metadata": {
        "id": "XKzy8nOjyzDq"
      }
    },
    {
      "cell_type": "code",
      "source": [
        "import torch\n",
        "from torch import nn # nn contains all of Pytorch's building blocks of neural networks\n",
        "import matplotlib.pyplot as plt"
      ],
      "metadata": {
        "id": "dpwA-TTfy44O"
      },
      "execution_count": 1,
      "outputs": []
    },
    {
      "cell_type": "code",
      "source": [
        "# Check Pytorch version\n",
        "torch.__version__"
      ],
      "metadata": {
        "colab": {
          "base_uri": "https://localhost:8080/",
          "height": 36
        },
        "id": "vM1rC3YVy461",
        "outputId": "fdd01f17-4fd1-4552-b67b-00d8eb58d7b8"
      },
      "execution_count": 2,
      "outputs": [
        {
          "output_type": "execute_result",
          "data": {
            "text/plain": [
              "'2.3.0+cu121'"
            ],
            "application/vnd.google.colaboratory.intrinsic+json": {
              "type": "string"
            }
          },
          "metadata": {},
          "execution_count": 2
        }
      ]
    },
    {
      "cell_type": "markdown",
      "source": [
        "## 1. Data (preparing and loading)\n"
      ],
      "metadata": {
        "id": "A5tP5SXTy49I"
      }
    },
    {
      "cell_type": "code",
      "source": [
        "weight = 0.7\n",
        "bias = 0.3\n",
        "\n",
        "start = 0\n",
        "end = 1\n",
        "step = 0.02\n",
        "X = torch.arange(start, end, step).unsqueeze(dim=1)\n",
        "y = weight * X + bias"
      ],
      "metadata": {
        "id": "9kUCA3YCy4_h"
      },
      "execution_count": 3,
      "outputs": []
    },
    {
      "cell_type": "code",
      "source": [
        "X[:10], y[:10], len(X), len(y)"
      ],
      "metadata": {
        "colab": {
          "base_uri": "https://localhost:8080/"
        },
        "id": "POzl_LY_19VK",
        "outputId": "6061b383-ef6c-4711-9eaa-5f1979999151"
      },
      "execution_count": 5,
      "outputs": [
        {
          "output_type": "execute_result",
          "data": {
            "text/plain": [
              "(tensor([[0.0000],\n",
              "         [0.0200],\n",
              "         [0.0400],\n",
              "         [0.0600],\n",
              "         [0.0800],\n",
              "         [0.1000],\n",
              "         [0.1200],\n",
              "         [0.1400],\n",
              "         [0.1600],\n",
              "         [0.1800]]),\n",
              " tensor([[0.3000],\n",
              "         [0.3140],\n",
              "         [0.3280],\n",
              "         [0.3420],\n",
              "         [0.3560],\n",
              "         [0.3700],\n",
              "         [0.3840],\n",
              "         [0.3980],\n",
              "         [0.4120],\n",
              "         [0.4260]]),\n",
              " 50,\n",
              " 50)"
            ]
          },
          "metadata": {},
          "execution_count": 5
        }
      ]
    },
    {
      "cell_type": "code",
      "source": [
        "plt.scatter(X, y)\n",
        "plt.show()"
      ],
      "metadata": {
        "colab": {
          "base_uri": "https://localhost:8080/",
          "height": 430
        },
        "id": "vC7ZYuxXy5B6",
        "outputId": "f2fa9c01-68c2-43a4-99f2-53d6d280fee0"
      },
      "execution_count": 4,
      "outputs": [
        {
          "output_type": "display_data",
          "data": {
            "text/plain": [
              "<Figure size 640x480 with 1 Axes>"
            ],
            "image/png": "[encoded data removed]"
          },
          "metadata": {}
        }
      ]
    },
    {
      "cell_type": "markdown",
      "source": [
        "### Splitting dta into training and test sets"
      ],
      "metadata": {
        "id": "pw_CNyWY2oYt"
      }
    },
    {
      "cell_type": "code",
      "source": [
        "train_split = int(0.8 * len(X))\n",
        "X_train, y_train = X[:train_split], y[:train_split]\n",
        "X_test, y_test = X[train_split:], y[train_split:]"
      ],
      "metadata": {
        "id": "vjpVOwL_y5Eb"
      },
      "execution_count": 8,
      "outputs": []
    },
    {
      "cell_type": "code",
      "source": [
        "len(X_train), len(y_train), len(X_test), len(y_test)"
      ],
      "metadata": {
        "colab": {
          "base_uri": "https://localhost:8080/"
        },
        "id": "1pbctAady5Gk",
        "outputId": "fcb0f2f6-ea98-41b8-ef13-f04f9a74042c"
      },
      "execution_count": 9,
      "outputs": [
        {
          "output_type": "execute_result",
          "data": {
            "text/plain": [
              "(40, 40, 10, 10)"
            ]
          },
          "metadata": {},
          "execution_count": 9
        }
      ]
    },
    {
      "cell_type": "code",
      "source": [
        "def plot_prediction(\n",
        "    train_data=X_train,\n",
        "    train_labels=y_train,\n",
        "    test_data=X_test,\n",
        "    test_labels=y_test,\n",
        "    predictions=None,\n",
        "):\n",
        "  \"\"\"\n",
        "  Plots training data, test data and compares predictions.\n",
        "  \"\"\"\n",
        "  plt.figure(figsize=(10, 7))\n",
        "\n",
        "    # Plot training data in blue\n",
        "  plt.scatter(train_data, train_labels, c=\"b\", s=4, label=\"Training data\")\n",
        "\n",
        "    # Plot test data in green\n",
        "  plt.scatter(test_data, test_labels, c=\"g\", s=4, label=\"Testing data\")\n",
        "\n",
        "    # Are there predictions?\n",
        "  if predictions is not None:\n",
        "        # Plot the predictions if they exist\n",
        "      plt.scatter(test_data, predictions, c=\"r\", s=4, label=\"Predictions\")\n",
        "\n",
        "  plt.legend(prop={\"size\": 14})\n",
        "  plt.show()\n"
      ],
      "metadata": {
        "id": "qR5kXYoUy5JE"
      },
      "execution_count": 11,
      "outputs": []
    },
    {
      "cell_type": "code",
      "source": [
        "plot_prediction()"
      ],
      "metadata": {
        "colab": {
          "base_uri": "https://localhost:8080/",
          "height": 599
        },
        "id": "m4fzrwkPy5LU",
        "outputId": "884ba8db-82be-45b5-d2e3-76cd8567dcd7"
      },
      "execution_count": 12,
      "outputs": [
        {
          "output_type": "display_data",
          "data": {
            "text/plain": [
              "<Figure size 1000x700 with 1 Axes>"
            ],
            "image/png": "[encoded data removed]"
          },
          "metadata": {}
        }
      ]
    },
    {
      "cell_type": "markdown",
      "source": [
        "## 2. Build model"
      ],
      "metadata": {
        "id": "lqu5S7Ij1CKm"
      }
    },
    {
      "cell_type": "code",
      "source": [
        "# Cerate a linear regression model class\n",
        "\n",
        "class LinearRegresionModel(nn.Module): # <- almost everything in Pytorch inherents from nn.Module\n",
        "    def __init__(self):\n",
        "        super().__init__()\n",
        "        self.weights = nn.Parameter(torch.randn(\n",
        "            1, # <- start with a random weight and try to adjuts it to the ideal weight\n",
        "            requires_grad=True, # <- can this parameter be updated via gradient descent?\n",
        "            dtype=torch.float, # PyTorch loves the dattype torch.float32\n",
        "            ),\n",
        "        )\n",
        "\n",
        "        self.bias = nn.Parameter(torch.randn(1,\n",
        "            requires_grad=True,\n",
        "            dtype=torch.float,\n",
        "            ),\n",
        "        )\n",
        "\n",
        "    # Forward method to define teh computation in the model\n",
        "    def forward(self, x: torch.Tensor) -> torch.Tensor: # <- \"x\" is the input data1\n",
        "        return self.weights * x + self.bias # this is the linear regression formula"
      ],
      "metadata": {
        "id": "9O7iKlrZ1CH6"
      },
      "execution_count": 26,
      "outputs": []
    },
    {
      "cell_type": "markdown",
      "source": [
        "### PyTorch model building essentials"
      ],
      "metadata": {
        "id": "HJWB8e0C1CFF"
      }
    },
    {
      "cell_type": "markdown",
      "source": [
        "### Checking the content of our PyTorch model"
      ],
      "metadata": {
        "id": "mU2UcBMi1CCX"
      }
    },
    {
      "cell_type": "code",
      "source": [
        "# Create a random seed\n",
        "torch.manual_seed(42)\n",
        "\n",
        "# Create an instance of the model (this is a subclass of nn.Module)\n",
        "model_0 = LinearRegresionModel()\n",
        "\n",
        "# Check out the parameters\n",
        "list(model_0.parameters())"
      ],
      "metadata": {
        "colab": {
          "base_uri": "https://localhost:8080/"
        },
        "id": "y7sytyfw1B_l",
        "outputId": "a7c1f0de-82d6-4f73-a658-afa01bbc9724"
      },
      "execution_count": 28,
      "outputs": [
        {
          "output_type": "execute_result",
          "data": {
            "text/plain": [
              "[Parameter containing:\n",
              " tensor([0.3367], requires_grad=True),\n",
              " Parameter containing:\n",
              " tensor([0.1288], requires_grad=True)]"
            ]
          },
          "metadata": {},
          "execution_count": 28
        }
      ]
    },
    {
      "cell_type": "code",
      "source": [
        "# List named parameters\n",
        "\n",
        "model_0.state_dict()"
      ],
      "metadata": {
        "colab": {
          "base_uri": "https://localhost:8080/"
        },
        "id": "sGsHyA2p1B80",
        "outputId": "7daf3ee7-7c42-421e-be50-052f86e7beb3"
      },
      "execution_count": 29,
      "outputs": [
        {
          "output_type": "execute_result",
          "data": {
            "text/plain": [
              "OrderedDict([('weights', tensor([0.3367])), ('bias', tensor([0.1288]))])"
            ]
          },
          "metadata": {},
          "execution_count": 29
        }
      ]
    },
    {
      "cell_type": "markdown",
      "source": [
        "### Making prediciton using `torch.inference_mode()`"
      ],
      "metadata": {
        "id": "Nj0urXua1B6x"
      }
    },
    {
      "cell_type": "code",
      "source": [
        "# Make predicitions with mode\n",
        "\n",
        "with torch.inference_mode():\n",
        "    y_preds = model_0(X_test)\n",
        "\n",
        "y_preds"
      ],
      "metadata": {
        "colab": {
          "base_uri": "https://localhost:8080/"
        },
        "id": "9rUBbgdm1B3T",
        "outputId": "049629a6-e6cf-4346-8c39-055b1f77f8e4"
      },
      "execution_count": 34,
      "outputs": [
        {
          "output_type": "execute_result",
          "data": {
            "text/plain": [
              "tensor([[0.3982],\n",
              "        [0.4049],\n",
              "        [0.4116],\n",
              "        [0.4184],\n",
              "        [0.4251],\n",
              "        [0.4318],\n",
              "        [0.4386],\n",
              "        [0.4453],\n",
              "        [0.4520],\n",
              "        [0.4588]])"
            ]
          },
          "metadata": {},
          "execution_count": 34
        }
      ]
    },
    {
      "cell_type": "code",
      "source": [
        "plot_prediction(predictions=y_preds)"
      ],
      "metadata": {
        "colab": {
          "base_uri": "https://localhost:8080/",
          "height": 599
        },
        "id": "FhTtINOt1B0j",
        "outputId": "25419c2a-3632-4045-86bf-edf21ff62832"
      },
      "execution_count": 35,
      "outputs": [
        {
          "output_type": "display_data",
          "data": {
            "text/plain": [
              "<Figure size 1000x700 with 1 Axes>"
            ],
            "image/png": "[encoded data removed]"
          },
          "metadata": {}
        }
      ]
    },
    {
      "cell_type": "code",
      "source": [
        "with torch.no_grad():\n",
        "    y_preds = model_0(X_test)\n",
        "\n",
        "y_preds"
      ],
      "metadata": {
        "colab": {
          "base_uri": "https://localhost:8080/"
        },
        "id": "1eyr5oFP5ObZ",
        "outputId": "f8bc5fdd-1a5a-4dec-a696-d33fb59c4406"
      },
      "execution_count": 36,
      "outputs": [
        {
          "output_type": "execute_result",
          "data": {
            "text/plain": [
              "tensor([[0.3982],\n",
              "        [0.4049],\n",
              "        [0.4116],\n",
              "        [0.4184],\n",
              "        [0.4251],\n",
              "        [0.4318],\n",
              "        [0.4386],\n",
              "        [0.4453],\n",
              "        [0.4520],\n",
              "        [0.4588]])"
            ]
          },
          "metadata": {},
          "execution_count": 36
        }
      ]
    },
    {
      "cell_type": "code",
      "source": [
        "plot_prediction(predictions=y_preds)"
      ],
      "metadata": {
        "colab": {
          "base_uri": "https://localhost:8080/",
          "height": 599
        },
        "id": "htlqLw7n5OX0",
        "outputId": "bd54ae7e-b0ab-4e21-fe2e-fb18cefd0322"
      },
      "execution_count": 37,
      "outputs": [
        {
          "output_type": "display_data",
          "data": {
            "text/plain": [
              "<Figure size 1000x700 with 1 Axes>"
            ],
            "image/png": "[encoded data removed]"
          },
          "metadata": {}
        }
      ]
    },
    {
      "cell_type": "markdown",
      "source": [
        "## 3. Train model"
      ],
      "metadata": {
        "id": "NvjuFh6s5OUo"
      }
    },
    {
      "cell_type": "code",
      "source": [
        "loss_fn = nn.L1Loss()\n",
        "\n",
        "optimizer = torch.optim.SGD(params=model_0.parameters(), lr=0.01) # lr= learning rate"
      ],
      "metadata": {
        "id": "GrjRtcp25ORk"
      },
      "execution_count": 39,
      "outputs": []
    },
    {
      "cell_type": "markdown",
      "source": [
        "### Building a trainig loop (and testing loop) in PyTorch"
      ],
      "metadata": {
        "id": "VPffVEpt5OO1"
      }
    },
    {
      "cell_type": "code",
      "source": [],
      "metadata": {
        "id": "Cm1kVFO2KHoB"
      },
      "execution_count": 41,
      "outputs": []
    },
    {
      "cell_type": "code",
      "source": [
        "torch.manual_seed(42)\n",
        "\n",
        "epochs = 100\n",
        "\n",
        "for epoch in range(epochs):\n",
        "  model_0.train() # train mode in PyTorch\n",
        "\n",
        "  # Forward pass\n",
        "  y_pred = model_0(X_train)\n",
        "\n",
        "  # Calculate the loss\n",
        "  loss = loss_fn(y_pred, y_train)\n",
        "\n",
        "  # Optimizer zero grad\n",
        "  optimizer.zero_grad()\n",
        "\n",
        "  # Perform backpropagation on the loss with respect to the parameters of the mdoel\n",
        "  loss.backward()\n",
        "\n",
        "  # Step teh optimizer (perform gradient descent)\n",
        "  optimizer.step() # by default hoe the optimizer changes will acumulate through the loop soo... we have to zero them above in step 3\n",
        "\n",
        "  # Testing\n",
        "  model_0.eval() # turns off different settings in the model not needed for evaluation\n",
        "\n",
        "  with torch.inference_mode():\n",
        "     # 1. Do the forward pass\n",
        "     test_pred = model_0(X_test)\n",
        "\n",
        "     # 2. Calculate the loss\n",
        "     test_loss = loss_fn(test_pred, y_test.unsqueeze(dim=1))\n",
        "\n",
        "     # Print out what's happening\n",
        "     if epoch % 10 == 0:\n",
        "       print(f\"Epoch: {epoch} | Loss: {loss:.5f} | Test loss: {test_loss:.5f}\")\n",
        "\n",
        "       print(model_0.state_dict())\n",
        "\n",
        "  print(f\"Epoch: {epoch} | Loss: {loss:.5f} | Test loss: {test_loss:.5f}\")"
      ],
      "metadata": {
        "colab": {
          "base_uri": "https://localhost:8080/"
        },
        "id": "wFkC3Dhp5OMD",
        "outputId": "48d0cbe1-f1a3-403c-e9d6-3dfd050e1b3d"
      },
      "execution_count": 47,
      "outputs": [
        {
          "output_type": "stream",
          "name": "stdout",
          "text": [
            "Epoch: 0 | Loss: 0.19767 | Test loss: 0.34636\n",
            "OrderedDict([('weights', tensor([0.3796])), ('bias', tensor([0.2388]))])\n",
            "Epoch: 0 | Loss: 0.19767 | Test loss: 0.34636\n",
            "Epoch: 1 | Loss: 0.18615 | Test loss: 0.33288\n",
            "Epoch: 2 | Loss: 0.17463 | Test loss: 0.31941\n",
            "Epoch: 3 | Loss: 0.16311 | Test loss: 0.30594\n",
            "Epoch: 4 | Loss: 0.15159 | Test loss: 0.29247\n",
            "Epoch: 5 | Loss: 0.14007 | Test loss: 0.27900\n",
            "Epoch: 6 | Loss: 0.12855 | Test loss: 0.26553\n",
            "Epoch: 7 | Loss: 0.11702 | Test loss: 0.25206\n",
            "Epoch: 8 | Loss: 0.10609 | Test loss: 0.23960\n",
            "Epoch: 9 | Loss: 0.09681 | Test loss: 0.22818\n",
            "Epoch: 10 | Loss: 0.08909 | Test loss: 0.21730\n",
            "OrderedDict([('weights', tensor([0.4184])), ('bias', tensor([0.3333]))])\n",
            "Epoch: 10 | Loss: 0.08909 | Test loss: 0.21730\n",
            "Epoch: 11 | Loss: 0.08228 | Test loss: 0.20696\n",
            "Epoch: 12 | Loss: 0.07639 | Test loss: 0.19774\n",
            "Epoch: 13 | Loss: 0.07160 | Test loss: 0.18909\n",
            "Epoch: 14 | Loss: 0.06748 | Test loss: 0.18102\n",
            "Epoch: 15 | Loss: 0.06395 | Test loss: 0.17353\n",
            "Epoch: 16 | Loss: 0.06097 | Test loss: 0.16665\n",
            "Epoch: 17 | Loss: 0.05846 | Test loss: 0.16037\n",
            "Epoch: 18 | Loss: 0.05635 | Test loss: 0.15471\n",
            "Epoch: 19 | Loss: 0.05459 | Test loss: 0.14968\n",
            "Epoch: 20 | Loss: 0.05315 | Test loss: 0.14464\n",
            "OrderedDict([('weights', tensor([0.4512])), ('bias', tensor([0.3768]))])\n",
            "Epoch: 20 | Loss: 0.05315 | Test loss: 0.14464\n",
            "Epoch: 21 | Loss: 0.05182 | Test loss: 0.14024\n",
            "Epoch: 22 | Loss: 0.05069 | Test loss: 0.13648\n",
            "Epoch: 23 | Loss: 0.04982 | Test loss: 0.13272\n",
            "Epoch: 24 | Loss: 0.04895 | Test loss: 0.12896\n",
            "Epoch: 25 | Loss: 0.04819 | Test loss: 0.12585\n",
            "Epoch: 26 | Loss: 0.04753 | Test loss: 0.12274\n",
            "Epoch: 27 | Loss: 0.04693 | Test loss: 0.12029\n",
            "Epoch: 28 | Loss: 0.04642 | Test loss: 0.11784\n",
            "Epoch: 29 | Loss: 0.04592 | Test loss: 0.11539\n",
            "Epoch: 30 | Loss: 0.04544 | Test loss: 0.11361\n",
            "OrderedDict([('weights', tensor([0.4748])), ('bias', tensor([0.3868]))])\n",
            "Epoch: 30 | Loss: 0.04544 | Test loss: 0.11361\n",
            "Epoch: 31 | Loss: 0.04504 | Test loss: 0.11183\n",
            "Epoch: 32 | Loss: 0.04464 | Test loss: 0.11005\n",
            "Epoch: 33 | Loss: 0.04424 | Test loss: 0.10827\n",
            "Epoch: 34 | Loss: 0.04384 | Test loss: 0.10649\n",
            "Epoch: 35 | Loss: 0.04344 | Test loss: 0.10475\n",
            "Epoch: 36 | Loss: 0.04307 | Test loss: 0.10367\n",
            "Epoch: 37 | Loss: 0.04273 | Test loss: 0.10259\n",
            "Epoch: 38 | Loss: 0.04238 | Test loss: 0.10152\n",
            "Epoch: 39 | Loss: 0.04203 | Test loss: 0.10044\n",
            "Epoch: 40 | Loss: 0.04168 | Test loss: 0.09936\n",
            "OrderedDict([('weights', tensor([0.4938])), ('bias', tensor([0.3843]))])\n",
            "Epoch: 40 | Loss: 0.04168 | Test loss: 0.09936\n",
            "Epoch: 41 | Loss: 0.04133 | Test loss: 0.09829\n",
            "Epoch: 42 | Loss: 0.04098 | Test loss: 0.09723\n",
            "Epoch: 43 | Loss: 0.04063 | Test loss: 0.09618\n",
            "Epoch: 44 | Loss: 0.04028 | Test loss: 0.09512\n",
            "Epoch: 45 | Loss: 0.03993 | Test loss: 0.09408\n",
            "Epoch: 46 | Loss: 0.03958 | Test loss: 0.09306\n",
            "Epoch: 47 | Loss: 0.03924 | Test loss: 0.09203\n",
            "Epoch: 48 | Loss: 0.03889 | Test loss: 0.09100\n",
            "Epoch: 49 | Loss: 0.03854 | Test loss: 0.08997\n",
            "Epoch: 50 | Loss: 0.03819 | Test loss: 0.08959\n",
            "OrderedDict([('weights', tensor([0.5116])), ('bias', tensor([0.3788]))])\n",
            "Epoch: 50 | Loss: 0.03819 | Test loss: 0.08959\n",
            "Epoch: 51 | Loss: 0.03785 | Test loss: 0.08858\n",
            "Epoch: 52 | Loss: 0.03750 | Test loss: 0.08758\n",
            "Epoch: 53 | Loss: 0.03716 | Test loss: 0.08721\n",
            "Epoch: 54 | Loss: 0.03682 | Test loss: 0.08621\n",
            "Epoch: 55 | Loss: 0.03648 | Test loss: 0.08585\n",
            "Epoch: 56 | Loss: 0.03613 | Test loss: 0.08487\n",
            "Epoch: 57 | Loss: 0.03579 | Test loss: 0.08451\n",
            "Epoch: 58 | Loss: 0.03545 | Test loss: 0.08353\n",
            "Epoch: 59 | Loss: 0.03510 | Test loss: 0.08258\n",
            "Epoch: 60 | Loss: 0.03476 | Test loss: 0.08223\n",
            "OrderedDict([('weights', tensor([0.5288])), ('bias', tensor([0.3718]))])\n",
            "Epoch: 60 | Loss: 0.03476 | Test loss: 0.08223\n",
            "Epoch: 61 | Loss: 0.03441 | Test loss: 0.08127\n",
            "Epoch: 62 | Loss: 0.03407 | Test loss: 0.08092\n",
            "Epoch: 63 | Loss: 0.03373 | Test loss: 0.07999\n",
            "Epoch: 64 | Loss: 0.03338 | Test loss: 0.07965\n",
            "Epoch: 65 | Loss: 0.03304 | Test loss: 0.07872\n",
            "Epoch: 66 | Loss: 0.03269 | Test loss: 0.07780\n",
            "Epoch: 67 | Loss: 0.03236 | Test loss: 0.07747\n",
            "Epoch: 68 | Loss: 0.03201 | Test loss: 0.07656\n",
            "Epoch: 69 | Loss: 0.03167 | Test loss: 0.07623\n",
            "Epoch: 70 | Loss: 0.03132 | Test loss: 0.07534\n",
            "OrderedDict([('weights', tensor([0.5459])), ('bias', tensor([0.3648]))])\n",
            "Epoch: 70 | Loss: 0.03132 | Test loss: 0.07534\n",
            "Epoch: 71 | Loss: 0.03098 | Test loss: 0.07502\n",
            "Epoch: 72 | Loss: 0.03064 | Test loss: 0.07414\n",
            "Epoch: 73 | Loss: 0.03029 | Test loss: 0.07382\n",
            "Epoch: 74 | Loss: 0.02995 | Test loss: 0.07297\n",
            "Epoch: 75 | Loss: 0.02960 | Test loss: 0.07212\n",
            "Epoch: 76 | Loss: 0.02927 | Test loss: 0.07182\n",
            "Epoch: 77 | Loss: 0.02892 | Test loss: 0.07098\n",
            "Epoch: 78 | Loss: 0.02858 | Test loss: 0.07068\n",
            "Epoch: 79 | Loss: 0.02823 | Test loss: 0.06986\n",
            "Epoch: 80 | Loss: 0.02789 | Test loss: 0.06957\n",
            "OrderedDict([('weights', tensor([0.5629])), ('bias', tensor([0.3573]))])\n",
            "Epoch: 80 | Loss: 0.02789 | Test loss: 0.06957\n",
            "Epoch: 81 | Loss: 0.02755 | Test loss: 0.06876\n",
            "Epoch: 82 | Loss: 0.02720 | Test loss: 0.06796\n",
            "Epoch: 83 | Loss: 0.02686 | Test loss: 0.06768\n",
            "Epoch: 84 | Loss: 0.02651 | Test loss: 0.06689\n",
            "Epoch: 85 | Loss: 0.02617 | Test loss: 0.06662\n",
            "Epoch: 86 | Loss: 0.02583 | Test loss: 0.06586\n",
            "Epoch: 87 | Loss: 0.02548 | Test loss: 0.06559\n",
            "Epoch: 88 | Loss: 0.02514 | Test loss: 0.06484\n",
            "Epoch: 89 | Loss: 0.02480 | Test loss: 0.06411\n",
            "Epoch: 90 | Loss: 0.02446 | Test loss: 0.06386\n",
            "OrderedDict([('weights', tensor([0.5800])), ('bias', tensor([0.3503]))])\n",
            "Epoch: 90 | Loss: 0.02446 | Test loss: 0.06386\n",
            "Epoch: 91 | Loss: 0.02411 | Test loss: 0.06314\n",
            "Epoch: 92 | Loss: 0.02377 | Test loss: 0.06289\n",
            "Epoch: 93 | Loss: 0.02342 | Test loss: 0.06220\n",
            "Epoch: 94 | Loss: 0.02308 | Test loss: 0.06195\n",
            "Epoch: 95 | Loss: 0.02274 | Test loss: 0.06127\n",
            "Epoch: 96 | Loss: 0.02239 | Test loss: 0.06103\n",
            "Epoch: 97 | Loss: 0.02205 | Test loss: 0.06036\n",
            "Epoch: 98 | Loss: 0.02171 | Test loss: 0.05971\n",
            "Epoch: 99 | Loss: 0.02137 | Test loss: 0.05949\n"
          ]
        },
        {
          "output_type": "stream",
          "name": "stderr",
          "text": [
            "/usr/local/lib/python3.10/dist-packages/torch/nn/modules/loss.py:101: UserWarning: Using a target size (torch.Size([10, 1, 1])) that is different to the input size (torch.Size([10, 1])). This will likely lead to incorrect results due to broadcasting. Please ensure they have the same size.\n",
            "  return F.l1_loss(input, target, reduction=self.reduction)\n"
          ]
        }
      ]
    },
    {
      "cell_type": "code",
      "source": [
        "model_0.state_dict()"
      ],
      "metadata": {
        "colab": {
          "base_uri": "https://localhost:8080/"
        },
        "id": "FSAqXCZE5OJl",
        "outputId": "eda4e74d-5b05-4733-ee62-520021c7cc83"
      },
      "execution_count": 48,
      "outputs": [
        {
          "output_type": "execute_result",
          "data": {
            "text/plain": [
              "OrderedDict([('weights', tensor([0.5954])), ('bias', tensor([0.3438]))])"
            ]
          },
          "metadata": {},
          "execution_count": 48
        }
      ]
    },
    {
      "cell_type": "code",
      "source": [
        "weight, bias"
      ],
      "metadata": {
        "colab": {
          "base_uri": "https://localhost:8080/"
        },
        "id": "y_-I1lgMFLPF",
        "outputId": "118b70c0-0ef8-4efe-bee5-c1caa82368d6"
      },
      "execution_count": 49,
      "outputs": [
        {
          "output_type": "execute_result",
          "data": {
            "text/plain": [
              "(0.7, 0.3)"
            ]
          },
          "metadata": {},
          "execution_count": 49
        }
      ]
    },
    {
      "cell_type": "code",
      "source": [
        "with torch.inference_mode():\n",
        "    y_preds = model_0(X_test)\n",
        "\n",
        "y_preds"
      ],
      "metadata": {
        "colab": {
          "base_uri": "https://localhost:8080/"
        },
        "id": "GogOFxmYFLMU",
        "outputId": "09a6d085-d17c-448f-c8de-7128df0c918a"
      },
      "execution_count": 50,
      "outputs": [
        {
          "output_type": "execute_result",
          "data": {
            "text/plain": [
              "tensor([[0.8201],\n",
              "        [0.8320],\n",
              "        [0.8439],\n",
              "        [0.8558],\n",
              "        [0.8678],\n",
              "        [0.8797],\n",
              "        [0.8916],\n",
              "        [0.9035],\n",
              "        [0.9154],\n",
              "        [0.9273]])"
            ]
          },
          "metadata": {},
          "execution_count": 50
        }
      ]
    },
    {
      "cell_type": "code",
      "source": [
        "plot_prediction(predictions=y_preds)"
      ],
      "metadata": {
        "colab": {
          "base_uri": "https://localhost:8080/",
          "height": 599
        },
        "id": "W4RA4h_wFLHk",
        "outputId": "1e711906-7e00-44bf-8f1f-55017e5ec425"
      },
      "execution_count": 51,
      "outputs": [
        {
          "output_type": "display_data",
          "data": {
            "text/plain": [
              "<Figure size 1000x700 with 1 Axes>"
            ],
            "image/png": "[encoded data removed]"
          },
          "metadata": {}
        }
      ]
    },
    {
      "cell_type": "code",
      "source": [],
      "metadata": {
        "id": "E-i3gPuaFLFX"
      },
      "execution_count": null,
      "outputs": []
    },
    {
      "cell_type": "code",
      "source": [],
      "metadata": {
        "id": "SPHAP4PUFLDK"
      },
      "execution_count": null,
      "outputs": []
    },
    {
      "cell_type": "code",
      "source": [],
      "metadata": {
        "id": "qJCyKnisFKv6"
      },
      "execution_count": null,
      "outputs": []
    }
  ]
}