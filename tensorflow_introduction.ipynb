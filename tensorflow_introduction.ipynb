{
  "nbformat": 4,
  "nbformat_minor": 0,
  "metadata": {
    "colab": {
      "provenance": [],
      "authorship_tag": "ABX9TyMpuEnb7iunxOaMc7a+CnGe",
      "include_colab_link": true
    },
    "kernelspec": {
      "name": "python3",
      "display_name": "Python 3"
    },
    "language_info": {
      "name": "python"
    }
  },
  "cells": [
    {
      "cell_type": "markdown",
      "metadata": {
        "id": "view-in-github",
        "colab_type": "text"
      },
      "source": [
        "<a href=\"https://colab.research.google.com/github/miller00315/ia_studies/blob/main/tensorflow_introduction.ipynb\" target=\"_parent\"><img src=\"https://colab.research.google.com/assets/colab-badge.svg\" alt=\"Open In Colab\"/></a>"
      ]
    },
    {
      "cell_type": "code",
      "execution_count": 1,
      "metadata": {
        "colab": {
          "base_uri": "https://localhost:8080/"
        },
        "id": "vuK5RubREM32",
        "outputId": "3a1b599b-7d97-42e6-bc3e-400a10baf662"
      },
      "outputs": [
        {
          "output_type": "stream",
          "name": "stdout",
          "text": [
            "2.17.0\n"
          ]
        }
      ],
      "source": [
        "import tensorflow as tf\n",
        "\n",
        "print(tf.__version__)"
      ]
    },
    {
      "cell_type": "markdown",
      "source": [
        "** Declaring variables **"
      ],
      "metadata": {
        "id": "JyeqE-2FE8af"
      }
    },
    {
      "cell_type": "code",
      "source": [
        "v0 = 42\n",
        "v1 = tf.Variable(42) # rank 0 tensor\n",
        "v2 = tf.Variable([1, 2]) # rank 1 tensor\n",
        "v3 = tf.Variable([[1, 2], [3, 4]]) # rank 2 tensor"
      ],
      "metadata": {
        "id": "_t_CB6hXEhkY"
      },
      "execution_count": 3,
      "outputs": []
    },
    {
      "cell_type": "code",
      "source": [
        "v0"
      ],
      "metadata": {
        "colab": {
          "base_uri": "https://localhost:8080/"
        },
        "id": "-CORDO7jEhiO",
        "outputId": "b7662bef-207c-4ba4-8bc0-dbfecba5e3f8"
      },
      "execution_count": 4,
      "outputs": [
        {
          "output_type": "execute_result",
          "data": {
            "text/plain": [
              "42"
            ]
          },
          "metadata": {},
          "execution_count": 4
        }
      ]
    },
    {
      "cell_type": "code",
      "source": [
        "v1"
      ],
      "metadata": {
        "colab": {
          "base_uri": "https://localhost:8080/"
        },
        "id": "OxaEwRXWEhf9",
        "outputId": "83367482-b735-4725-b1ad-0961437404ca"
      },
      "execution_count": 5,
      "outputs": [
        {
          "output_type": "execute_result",
          "data": {
            "text/plain": [
              "<tf.Variable 'Variable:0' shape=() dtype=int32, numpy=42>"
            ]
          },
          "metadata": {},
          "execution_count": 5
        }
      ]
    },
    {
      "cell_type": "code",
      "source": [
        "v2"
      ],
      "metadata": {
        "colab": {
          "base_uri": "https://localhost:8080/"
        },
        "id": "EYg77k1-EhdO",
        "outputId": "7a4c8ef8-1796-4148-e2ff-2015c7124f47"
      },
      "execution_count": 6,
      "outputs": [
        {
          "output_type": "execute_result",
          "data": {
            "text/plain": [
              "<tf.Variable 'Variable:0' shape=(2,) dtype=int32, numpy=array([1, 2], dtype=int32)>"
            ]
          },
          "metadata": {},
          "execution_count": 6
        }
      ]
    },
    {
      "cell_type": "code",
      "source": [
        "v3"
      ],
      "metadata": {
        "colab": {
          "base_uri": "https://localhost:8080/"
        },
        "id": "sxKU29AhEhav",
        "outputId": "520e83f1-2ae6-414d-d829-ff2fb8c3b5f0"
      },
      "execution_count": 7,
      "outputs": [
        {
          "output_type": "execute_result",
          "data": {
            "text/plain": [
              "<tf.Variable 'Variable:0' shape=(2, 2) dtype=int32, numpy=\n",
              "array([[1, 2],\n",
              "       [3, 4]], dtype=int32)>"
            ]
          },
          "metadata": {},
          "execution_count": 7
        }
      ]
    },
    {
      "cell_type": "code",
      "source": [
        "v1.assign(10)\n",
        "\n",
        "v1"
      ],
      "metadata": {
        "colab": {
          "base_uri": "https://localhost:8080/"
        },
        "id": "GNpYm-CWFkqG",
        "outputId": "a0fcbe9b-f08c-4d99-f783-bd901f4a4af7"
      },
      "execution_count": 8,
      "outputs": [
        {
          "output_type": "execute_result",
          "data": {
            "text/plain": [
              "<tf.Variable 'Variable:0' shape=() dtype=int32, numpy=10>"
            ]
          },
          "metadata": {},
          "execution_count": 8
        }
      ]
    },
    {
      "cell_type": "code",
      "source": [
        "c1 = tf.constant(42)\n",
        "c1"
      ],
      "metadata": {
        "colab": {
          "base_uri": "https://localhost:8080/"
        },
        "id": "w4Oz2ns9Fkmq",
        "outputId": "e7c6092a-8d01-4d36-e3d1-a77f43a385da"
      },
      "execution_count": 9,
      "outputs": [
        {
          "output_type": "execute_result",
          "data": {
            "text/plain": [
              "<tf.Tensor: shape=(), dtype=int32, numpy=42>"
            ]
          },
          "metadata": {},
          "execution_count": 9
        }
      ]
    },
    {
      "cell_type": "code",
      "source": [
        "c2 = tf.constant(62, dtype=tf.float64)\n",
        "c2"
      ],
      "metadata": {
        "colab": {
          "base_uri": "https://localhost:8080/"
        },
        "id": "v366hN5cFkkk",
        "outputId": "3331b389-78c4-4e50-ced4-1886bce1bceb"
      },
      "execution_count": 10,
      "outputs": [
        {
          "output_type": "execute_result",
          "data": {
            "text/plain": [
              "<tf.Tensor: shape=(), dtype=float64, numpy=62.0>"
            ]
          },
          "metadata": {},
          "execution_count": 10
        }
      ]
    },
    {
      "cell_type": "markdown",
      "source": [
        "**Shapping a tensor**"
      ],
      "metadata": {
        "id": "Yx-ttk5-H6Vq"
      }
    },
    {
      "cell_type": "code",
      "source": [
        "t4 = tf.Variable([[1, 2, 3], [4, 5, 6]])\n",
        "t4"
      ],
      "metadata": {
        "colab": {
          "base_uri": "https://localhost:8080/"
        },
        "id": "Qxh4RELkFkiH",
        "outputId": "2a6b7fd3-8362-461e-fa09-d8407e8d191c"
      },
      "execution_count": 16,
      "outputs": [
        {
          "output_type": "execute_result",
          "data": {
            "text/plain": [
              "<tf.Variable 'Variable:0' shape=(2, 3) dtype=int32, numpy=\n",
              "array([[1, 2, 3],\n",
              "       [4, 5, 6]], dtype=int32)>"
            ]
          },
          "metadata": {},
          "execution_count": 16
        }
      ]
    },
    {
      "cell_type": "code",
      "source": [
        "t5  = tf.reshape(t4, [1, 6])\n",
        "t5"
      ],
      "metadata": {
        "colab": {
          "base_uri": "https://localhost:8080/"
        },
        "id": "7VqPe6H4Fkd5",
        "outputId": "7c4fb374-885e-4d48-9478-559895374a90"
      },
      "execution_count": 17,
      "outputs": [
        {
          "output_type": "execute_result",
          "data": {
            "text/plain": [
              "<tf.Tensor: shape=(1, 6), dtype=int32, numpy=array([[1, 2, 3, 4, 5, 6]], dtype=int32)>"
            ]
          },
          "metadata": {},
          "execution_count": 17
        }
      ]
    },
    {
      "cell_type": "markdown",
      "source": [
        "**Ranking (dimensions) of a tensor**"
      ],
      "metadata": {
        "id": "0B1LiGJBIV2e"
      }
    },
    {
      "cell_type": "code",
      "source": [
        "tf.rank(t4)"
      ],
      "metadata": {
        "colab": {
          "base_uri": "https://localhost:8080/"
        },
        "id": "UyhVL5HCFkax",
        "outputId": "d9b9d3d1-be0e-4988-c0a7-e3bfe6d85ba1"
      },
      "execution_count": 18,
      "outputs": [
        {
          "output_type": "execute_result",
          "data": {
            "text/plain": [
              "<tf.Tensor: shape=(), dtype=int32, numpy=2>"
            ]
          },
          "metadata": {},
          "execution_count": 18
        }
      ]
    },
    {
      "cell_type": "markdown",
      "source": [
        "**Specifing a element of a tensor**"
      ],
      "metadata": {
        "id": "arzk7HxsIjYY"
      }
    },
    {
      "cell_type": "code",
      "source": [
        "t6 = t4[0, 1]\n",
        "\n",
        "t6"
      ],
      "metadata": {
        "colab": {
          "base_uri": "https://localhost:8080/"
        },
        "id": "rhwU54y3FkWb",
        "outputId": "9292e82f-bfea-481d-dac4-04d5525b4287"
      },
      "execution_count": 19,
      "outputs": [
        {
          "output_type": "execute_result",
          "data": {
            "text/plain": [
              "<tf.Tensor: shape=(), dtype=int32, numpy=2>"
            ]
          },
          "metadata": {},
          "execution_count": 19
        }
      ]
    },
    {
      "cell_type": "code",
      "source": [
        "t6.numpy()"
      ],
      "metadata": {
        "colab": {
          "base_uri": "https://localhost:8080/"
        },
        "id": "ExwLwgr8FkTw",
        "outputId": "628ccb1e-ae35-47f7-b659-b56f0a3d239d"
      },
      "execution_count": 20,
      "outputs": [
        {
          "output_type": "execute_result",
          "data": {
            "text/plain": [
              "2"
            ]
          },
          "metadata": {},
          "execution_count": 20
        }
      ]
    },
    {
      "cell_type": "markdown",
      "source": [
        "**Cast a tensor to numpy**"
      ],
      "metadata": {
        "id": "w2CCYOCnJ1lA"
      }
    },
    {
      "cell_type": "code",
      "source": [
        "t6.numpy()"
      ],
      "metadata": {
        "colab": {
          "base_uri": "https://localhost:8080/"
        },
        "id": "xrvg7Q4hFkRb",
        "outputId": "d2971ed3-4ad2-43da-f03b-bcaabbe37bbc"
      },
      "execution_count": 21,
      "outputs": [
        {
          "output_type": "execute_result",
          "data": {
            "text/plain": [
              "2"
            ]
          },
          "metadata": {},
          "execution_count": 21
        }
      ]
    },
    {
      "cell_type": "markdown",
      "source": [
        "**Finding the number of elements of a tensor**"
      ],
      "metadata": {
        "id": "2OMe0t40Ktz2"
      }
    },
    {
      "cell_type": "code",
      "source": [
        "tf.size(t4)"
      ],
      "metadata": {
        "colab": {
          "base_uri": "https://localhost:8080/"
        },
        "id": "tZumcyhlKtf-",
        "outputId": "ccaf33d1-6871-4599-9e8a-54d7674ed946"
      },
      "execution_count": 22,
      "outputs": [
        {
          "output_type": "execute_result",
          "data": {
            "text/plain": [
              "<tf.Tensor: shape=(), dtype=int32, numpy=6>"
            ]
          },
          "metadata": {},
          "execution_count": 22
        }
      ]
    },
    {
      "cell_type": "markdown",
      "source": [
        "**Specifing element-wise tensor operations**"
      ],
      "metadata": {
        "id": "FCyRsxV1KK7u"
      }
    },
    {
      "cell_type": "code",
      "source": [
        "t7 = tf.Variable([1, 2])\n",
        "t8 = tf.Variable([2, 2])\n"
      ],
      "metadata": {
        "id": "vqj6slQ_FkPW"
      },
      "execution_count": 28,
      "outputs": []
    },
    {
      "cell_type": "code",
      "source": [
        "(t7 * t8).numpy()"
      ],
      "metadata": {
        "colab": {
          "base_uri": "https://localhost:8080/"
        },
        "id": "voUt_Rp4FkMq",
        "outputId": "621ab29a-2e9c-4045-da98-20e909b2d7d3"
      },
      "execution_count": 29,
      "outputs": [
        {
          "output_type": "execute_result",
          "data": {
            "text/plain": [
              "array([2, 4], dtype=int32)"
            ]
          },
          "metadata": {},
          "execution_count": 29
        }
      ]
    },
    {
      "cell_type": "markdown",
      "source": [
        "**Tranposing and matrix multiplication**"
      ],
      "metadata": {
        "id": "PozXOqJkLkMC"
      }
    },
    {
      "cell_type": "code",
      "source": [
        "c1 = tf.constant([[1, 2]])\n",
        "\n",
        "c2 = tf.constant([[3, 4]])\n",
        "\n",
        "tf.matmul(c1, tf.transpose(c2))"
      ],
      "metadata": {
        "colab": {
          "base_uri": "https://localhost:8080/"
        },
        "id": "Wq0WNdtuFkJ7",
        "outputId": "e2864c6d-75cb-49f0-86d2-98557a58699b"
      },
      "execution_count": 30,
      "outputs": [
        {
          "output_type": "execute_result",
          "data": {
            "text/plain": [
              "<tf.Tensor: shape=(1, 1), dtype=int32, numpy=array([[11]], dtype=int32)>"
            ]
          },
          "metadata": {},
          "execution_count": 30
        }
      ]
    },
    {
      "cell_type": "markdown",
      "source": [
        "**Type casting**"
      ],
      "metadata": {
        "id": "NJ2ky-hfMGkl"
      }
    },
    {
      "cell_type": "code",
      "source": [
        "c1"
      ],
      "metadata": {
        "id": "R2hKy_i7FkHi"
      },
      "execution_count": null,
      "outputs": []
    },
    {
      "cell_type": "code",
      "source": [
        "c3 = tf.cast(c1, tf.int64)\n",
        "\n",
        "c3"
      ],
      "metadata": {
        "colab": {
          "base_uri": "https://localhost:8080/"
        },
        "id": "C7Q1xWRtEhYI",
        "outputId": "1634e189-a562-4ea7-aa50-8cf331964f58"
      },
      "execution_count": 31,
      "outputs": [
        {
          "output_type": "execute_result",
          "data": {
            "text/plain": [
              "<tf.Tensor: shape=(1, 2), dtype=int64, numpy=array([[1, 2]])>"
            ]
          },
          "metadata": {},
          "execution_count": 31
        }
      ]
    },
    {
      "cell_type": "markdown",
      "source": [
        "**Declaring ragged tensor**"
      ],
      "metadata": {
        "id": "Ya9NMlhVNwZ6"
      }
    },
    {
      "cell_type": "code",
      "source": [
        "raggeed = tf.ragged.constant([[1], [], [1, 2], [4, 5, 6]])\n",
        "\n",
        "raggeed"
      ],
      "metadata": {
        "colab": {
          "base_uri": "https://localhost:8080/"
        },
        "id": "lCj74oR6NLyX",
        "outputId": "2dc7dcd7-7b14-4ef7-893e-8021b3ec56b9"
      },
      "execution_count": 32,
      "outputs": [
        {
          "output_type": "execute_result",
          "data": {
            "text/plain": [
              "<tf.RaggedTensor [[1], [], [1, 2], [4, 5, 6]]>"
            ]
          },
          "metadata": {},
          "execution_count": 32
        }
      ]
    },
    {
      "cell_type": "markdown",
      "source": [
        "## **Tensor flow Operations**"
      ],
      "metadata": {
        "id": "dRbrg7TuN7Tb"
      }
    },
    {
      "cell_type": "markdown",
      "source": [
        "**Finding mean**"
      ],
      "metadata": {
        "id": "SJQPEwtvOEtU"
      }
    },
    {
      "cell_type": "code",
      "source": [
        "tf.reduce_mean([1,2,3,4,5])"
      ],
      "metadata": {
        "colab": {
          "base_uri": "https://localhost:8080/"
        },
        "id": "ANT5tAf3NLv2",
        "outputId": "cec5a0f4-1e23-4a5e-a6b2-198e9bbe6bb0"
      },
      "execution_count": 35,
      "outputs": [
        {
          "output_type": "execute_result",
          "data": {
            "text/plain": [
              "<tf.Tensor: shape=(), dtype=int32, numpy=3>"
            ]
          },
          "metadata": {},
          "execution_count": 35
        }
      ]
    },
    {
      "cell_type": "markdown",
      "source": [
        "mean across columns use axis = 0"
      ],
      "metadata": {
        "id": "o-L5dDjTPAfl"
      }
    },
    {
      "cell_type": "code",
      "source": [
        "v3 = tf.Variable([[1, 2], [3, 4]])\n",
        "tf.reduce_mean(v3, axis=0)"
      ],
      "metadata": {
        "colab": {
          "base_uri": "https://localhost:8080/"
        },
        "id": "w95IGt3oNLta",
        "outputId": "ede68791-ba53-4d30-ac12-0e41e27c88bf"
      },
      "execution_count": 36,
      "outputs": [
        {
          "output_type": "execute_result",
          "data": {
            "text/plain": [
              "<tf.Tensor: shape=(2,), dtype=int32, numpy=array([2, 3], dtype=int32)>"
            ]
          },
          "metadata": {},
          "execution_count": 36
        }
      ]
    },
    {
      "cell_type": "markdown",
      "source": [
        "mean across rows use axis = 1"
      ],
      "metadata": {
        "id": "JmQtrEYMPFpM"
      }
    },
    {
      "cell_type": "code",
      "source": [
        "v3 = tf.Variable([[1, 2], [3, 4]])\n",
        "tf.reduce_mean(v3, axis=1)"
      ],
      "metadata": {
        "colab": {
          "base_uri": "https://localhost:8080/"
        },
        "id": "GHUkEI8-NLrJ",
        "outputId": "ac7041e2-68c1-4e39-e01e-a12e2ebaf7b1"
      },
      "execution_count": 37,
      "outputs": [
        {
          "output_type": "execute_result",
          "data": {
            "text/plain": [
              "<tf.Tensor: shape=(2,), dtype=int32, numpy=array([1, 3], dtype=int32)>"
            ]
          },
          "metadata": {},
          "execution_count": 37
        }
      ]
    },
    {
      "cell_type": "markdown",
      "source": [
        "##**Generating tensor with random values**"
      ],
      "metadata": {
        "id": "EucA6wihPq4Q"
      }
    },
    {
      "cell_type": "markdown",
      "source": [
        "Random values are frequntly required when developing neural networks"
      ],
      "metadata": {
        "id": "gBdxozFzPzaB"
      }
    },
    {
      "cell_type": "markdown",
      "source": [
        "**tf.random.normal()**"
      ],
      "metadata": {
        "id": "us7_DrbJP51p"
      }
    },
    {
      "cell_type": "code",
      "source": [
        "tf.random.normal([3, 2], mean=2, stddev=2, dtype=tf.float32)"
      ],
      "metadata": {
        "colab": {
          "base_uri": "https://localhost:8080/"
        },
        "id": "tDJpKTUmNLol",
        "outputId": "40074727-545c-4994-aa58-2364928a47fa"
      },
      "execution_count": 38,
      "outputs": [
        {
          "output_type": "execute_result",
          "data": {
            "text/plain": [
              "<tf.Tensor: shape=(3, 2), dtype=float32, numpy=\n",
              "array([[ 0.8314706,  4.5920057],\n",
              "       [-0.7486701,  0.4354756],\n",
              "       [ 4.788207 ,  1.4967747]], dtype=float32)>"
            ]
          },
          "metadata": {},
          "execution_count": 38
        }
      ]
    },
    {
      "cell_type": "markdown",
      "source": [
        "**tf.random.uniform()**"
      ],
      "metadata": {
        "id": "It-x8yIXQGtB"
      }
    },
    {
      "cell_type": "code",
      "source": [
        "tf.random.uniform([3, 2], minval=0, maxval=5, dtype=tf.float32)"
      ],
      "metadata": {
        "colab": {
          "base_uri": "https://localhost:8080/"
        },
        "id": "-5BUBeLLNLmX",
        "outputId": "da25b2aa-29fc-4400-b1fa-b7ac2b5a8a41"
      },
      "execution_count": 39,
      "outputs": [
        {
          "output_type": "execute_result",
          "data": {
            "text/plain": [
              "<tf.Tensor: shape=(3, 2), dtype=float32, numpy=\n",
              "array([[3.2503128 , 0.01602769],\n",
              "       [4.0029726 , 2.4873953 ],\n",
              "       [0.52552044, 4.1736403 ]], dtype=float32)>"
            ]
          },
          "metadata": {},
          "execution_count": 39
        }
      ]
    },
    {
      "cell_type": "markdown",
      "source": [
        "If you want the random values generated to be repeatable, then use tf.random.set_seed()"
      ],
      "metadata": {
        "id": "R8f5d6spQm3m"
      }
    },
    {
      "cell_type": "code",
      "source": [
        "tf.random.set_seed(111)\n",
        "tf.random.normal([3, 2], mean=2, stddev=2, dtype=tf.float32)"
      ],
      "metadata": {
        "colab": {
          "base_uri": "https://localhost:8080/"
        },
        "id": "L-XReaL2NLj_",
        "outputId": "d6827951-6087-4c38-e095-a016790f54d3"
      },
      "execution_count": 41,
      "outputs": [
        {
          "output_type": "execute_result",
          "data": {
            "text/plain": [
              "<tf.Tensor: shape=(3, 2), dtype=float32, numpy=\n",
              "array([[3.5116253, 5.0894527],\n",
              "       [5.2631207, 1.6026206],\n",
              "       [2.1765652, 2.034233 ]], dtype=float32)>"
            ]
          },
          "metadata": {},
          "execution_count": 41
        }
      ]
    },
    {
      "cell_type": "markdown",
      "source": [
        "**Add two tensors**"
      ],
      "metadata": {
        "id": "BWCrXQAyQ_rY"
      }
    },
    {
      "cell_type": "code",
      "source": [
        "v1 = tf.Variable([3, 4])\n",
        "v2 = tf.Variable([2, 1])\n",
        "\n",
        "v1 + v2"
      ],
      "metadata": {
        "colab": {
          "base_uri": "https://localhost:8080/"
        },
        "id": "YPnMIRyXQ8Hg",
        "outputId": "d40839e4-7155-48d6-d4ab-0ac2c224d859"
      },
      "execution_count": 42,
      "outputs": [
        {
          "output_type": "execute_result",
          "data": {
            "text/plain": [
              "<tf.Tensor: shape=(2,), dtype=int32, numpy=array([5, 5], dtype=int32)>"
            ]
          },
          "metadata": {},
          "execution_count": 42
        }
      ]
    },
    {
      "cell_type": "markdown",
      "source": [
        "**Concatinate two tensors**"
      ],
      "metadata": {
        "id": "UDj-sGedRfsR"
      }
    },
    {
      "cell_type": "code",
      "source": [
        "v1 = tf.Variable([3, 4])\n",
        "v2 = tf.Variable([2, 1])\n",
        "\n",
        "v3 = tf.concat([v1, v2], axis=0)\n",
        "\n",
        "v3"
      ],
      "metadata": {
        "colab": {
          "base_uri": "https://localhost:8080/"
        },
        "id": "Oqw-00-VRfN0",
        "outputId": "e5941211-ce50-4bab-97e8-3ba3c79ab2cc"
      },
      "execution_count": 43,
      "outputs": [
        {
          "output_type": "execute_result",
          "data": {
            "text/plain": [
              "<tf.Tensor: shape=(4,), dtype=int32, numpy=array([3, 4, 2, 1], dtype=int32)>"
            ]
          },
          "metadata": {},
          "execution_count": 43
        }
      ]
    },
    {
      "cell_type": "code",
      "source": [
        "v4 = tf.stack([v1, v2], axis=1)\n",
        "\n",
        "v4"
      ],
      "metadata": {
        "colab": {
          "base_uri": "https://localhost:8080/"
        },
        "id": "oSOE77kfRHQx",
        "outputId": "fbd422c8-3de6-47d0-b8d8-d1ac219f1e9a"
      },
      "execution_count": 44,
      "outputs": [
        {
          "output_type": "execute_result",
          "data": {
            "text/plain": [
              "<tf.Tensor: shape=(2, 2), dtype=int32, numpy=\n",
              "array([[3, 2],\n",
              "       [4, 1]], dtype=int32)>"
            ]
          },
          "metadata": {},
          "execution_count": 44
        }
      ]
    },
    {
      "cell_type": "markdown",
      "source": [
        "**Finding minimum and maximum element**"
      ],
      "metadata": {
        "id": "43k5T7BfSgFz"
      }
    },
    {
      "cell_type": "code",
      "source": [
        "v1 = tf.Variable([[1, 2], [3, 4]])\n",
        "v2 = tf.Variable([[6, 7], [8, 9]])\n",
        "\n",
        "v3 = tf.concat([v1, v2], axis=0)\n",
        "\n",
        "v3"
      ],
      "metadata": {
        "colab": {
          "base_uri": "https://localhost:8080/"
        },
        "id": "03sbnk_YRHOd",
        "outputId": "5efb268f-2d5c-423e-9524-e063691322a0"
      },
      "execution_count": 50,
      "outputs": [
        {
          "output_type": "execute_result",
          "data": {
            "text/plain": [
              "<tf.Tensor: shape=(4, 2), dtype=int32, numpy=\n",
              "array([[1, 2],\n",
              "       [3, 4],\n",
              "       [6, 7],\n",
              "       [8, 9]], dtype=int32)>"
            ]
          },
          "metadata": {},
          "execution_count": 50
        }
      ]
    },
    {
      "cell_type": "code",
      "source": [
        "v4 = tf.concat([v1, v2], axis=1)\n",
        "v4"
      ],
      "metadata": {
        "colab": {
          "base_uri": "https://localhost:8080/"
        },
        "id": "TdyzxZX5RHMD",
        "outputId": "eb69451a-268f-4dff-d77e-58ec2e3ce1bc"
      },
      "execution_count": 51,
      "outputs": [
        {
          "output_type": "execute_result",
          "data": {
            "text/plain": [
              "<tf.Tensor: shape=(2, 4), dtype=int32, numpy=\n",
              "array([[1, 2, 6, 7],\n",
              "       [3, 4, 8, 9]], dtype=int32)>"
            ]
          },
          "metadata": {},
          "execution_count": 51
        }
      ]
    },
    {
      "cell_type": "markdown",
      "source": [
        "**Finding minimum and maximum element**"
      ],
      "metadata": {
        "id": "8zc_cncoTXL4"
      }
    },
    {
      "cell_type": "code",
      "source": [
        "v1 = tf.Variable([4, 2, 3, 5])\n",
        "\n",
        "tf.argmax(input=v1).numpy()"
      ],
      "metadata": {
        "colab": {
          "base_uri": "https://localhost:8080/"
        },
        "id": "3YMl4MeKRHJm",
        "outputId": "aad2031c-acff-4a25-e161-0f70c1ed5e96"
      },
      "execution_count": 55,
      "outputs": [
        {
          "output_type": "execute_result",
          "data": {
            "text/plain": [
              "3"
            ]
          },
          "metadata": {},
          "execution_count": 55
        }
      ]
    },
    {
      "cell_type": "code",
      "source": [
        "tf.argmin(input=v1).numpy()"
      ],
      "metadata": {
        "colab": {
          "base_uri": "https://localhost:8080/"
        },
        "id": "wMyQWyPSTWzU",
        "outputId": "76de8dc7-2f36-44ed-889a-afb7be6f50d0"
      },
      "execution_count": 56,
      "outputs": [
        {
          "output_type": "execute_result",
          "data": {
            "text/plain": [
              "1"
            ]
          },
          "metadata": {},
          "execution_count": 56
        }
      ]
    },
    {
      "cell_type": "markdown",
      "source": [
        "**Saving and restoring tensor values using a checkpoint**"
      ],
      "metadata": {
        "id": "pDCk_7unT9rY"
      }
    },
    {
      "cell_type": "code",
      "source": [
        "variable = tf.Variable([1, 2], [3, 4])\n",
        "\n",
        "checkpoint = tf.train.Checkpoint(var=variable)\n",
        "\n",
        "save_path = checkpoint.save('./vars')"
      ],
      "metadata": {
        "id": "lbN85tzCTWwC"
      },
      "execution_count": 58,
      "outputs": []
    },
    {
      "cell_type": "code",
      "source": [
        "save_path"
      ],
      "metadata": {
        "colab": {
          "base_uri": "https://localhost:8080/",
          "height": 35
        },
        "id": "oqKrE_3wTWtk",
        "outputId": "b67ce0ae-743b-4cc2-b09b-27df8841a0b2"
      },
      "execution_count": 59,
      "outputs": [
        {
          "output_type": "execute_result",
          "data": {
            "text/plain": [
              "'./vars-1'"
            ],
            "application/vnd.google.colaboratory.intrinsic+json": {
              "type": "string"
            }
          },
          "metadata": {},
          "execution_count": 59
        }
      ]
    },
    {
      "cell_type": "code",
      "source": [
        "variable.assign([0, 0], [0, 0])\n",
        "\n",
        "variable"
      ],
      "metadata": {
        "colab": {
          "base_uri": "https://localhost:8080/"
        },
        "id": "-J7Ze6W-TWox",
        "outputId": "11304003-c8bd-4ca6-f3e9-9ace9d63fa4e"
      },
      "execution_count": 60,
      "outputs": [
        {
          "output_type": "execute_result",
          "data": {
            "text/plain": [
              "<tf.Variable 'Variable:0' shape=(2,) dtype=int32, numpy=array([0, 0], dtype=int32)>"
            ]
          },
          "metadata": {},
          "execution_count": 60
        }
      ]
    },
    {
      "cell_type": "code",
      "source": [
        "checkpoint.restore(save_path)\n",
        "\n",
        "variable"
      ],
      "metadata": {
        "colab": {
          "base_uri": "https://localhost:8080/"
        },
        "id": "4V8wUmXzTWmX",
        "outputId": "a695eeea-5582-47db-ef46-aceeb00fbcb3"
      },
      "execution_count": 61,
      "outputs": [
        {
          "output_type": "execute_result",
          "data": {
            "text/plain": [
              "<tf.Variable 'Variable:0' shape=(2,) dtype=int32, numpy=array([1, 2], dtype=int32)>"
            ]
          },
          "metadata": {},
          "execution_count": 61
        }
      ]
    },
    {
      "cell_type": "code",
      "source": [],
      "metadata": {
        "id": "f3tkljqWTWkH"
      },
      "execution_count": null,
      "outputs": []
    }
  ]
}