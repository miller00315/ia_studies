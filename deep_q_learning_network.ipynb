{
  "nbformat": 4,
  "nbformat_minor": 0,
  "metadata": {
    "colab": {
      "provenance": [],
      "gpuType": "T4",
      "authorship_tag": "ABX9TyMnMEz4mFeWqgfpQJlqERNR",
      "include_colab_link": true
    },
    "kernelspec": {
      "name": "python3",
      "display_name": "Python 3"
    },
    "language_info": {
      "name": "python"
    },
    "accelerator": "GPU"
  },
  "cells": [
    {
      "cell_type": "markdown",
      "metadata": {
        "id": "view-in-github",
        "colab_type": "text"
      },
      "source": [
        "<a href=\"https://colab.research.google.com/github/miller00315/ia_studies/blob/main/deep_q_learning_network.ipynb\" target=\"_parent\"><img src=\"https://colab.research.google.com/assets/colab-badge.svg\" alt=\"Open In Colab\"/></a>"
      ]
    },
    {
      "cell_type": "code",
      "source": [
        "!pip install numpy==1.23.5"
      ],
      "metadata": {
        "colab": {
          "base_uri": "https://localhost:8080/",
          "height": 593
        },
        "id": "fkwAYnr75JCX",
        "outputId": "8d0e763f-a5fa-4448-d201-fd9659b5d63e"
      },
      "execution_count": 23,
      "outputs": [
        {
          "output_type": "stream",
          "name": "stdout",
          "text": [
            "Collecting numpy==1.23.5\n",
            "  Downloading numpy-1.23.5-cp311-cp311-manylinux_2_17_x86_64.manylinux2014_x86_64.whl.metadata (2.3 kB)\n",
            "Downloading numpy-1.23.5-cp311-cp311-manylinux_2_17_x86_64.manylinux2014_x86_64.whl (17.1 MB)\n",
            "\u001b[2K   \u001b[90m━━━━━━━━━━━━━━━━━━━━━━━━━━━━━━━━━━━━━━━━\u001b[0m \u001b[32m17.1/17.1 MB\u001b[0m \u001b[31m121.7 MB/s\u001b[0m eta \u001b[36m0:00:00\u001b[0m\n",
            "\u001b[?25hInstalling collected packages: numpy\n",
            "  Attempting uninstall: numpy\n",
            "    Found existing installation: numpy 2.2.5\n",
            "    Uninstalling numpy-2.2.5:\n",
            "      Successfully uninstalled numpy-2.2.5\n",
            "\u001b[31mERROR: pip's dependency resolver does not currently take into account all the packages that are installed. This behaviour is the source of the following dependency conflicts.\n",
            "jaxlib 0.5.1 requires numpy>=1.25, but you have numpy 1.23.5 which is incompatible.\n",
            "treescope 0.1.9 requires numpy>=1.25.2, but you have numpy 1.23.5 which is incompatible.\n",
            "bigframes 2.1.0 requires numpy>=1.24.0, but you have numpy 1.23.5 which is incompatible.\n",
            "imbalanced-learn 0.13.0 requires numpy<3,>=1.24.3, but you have numpy 1.23.5 which is incompatible.\n",
            "jax 0.5.2 requires numpy>=1.25, but you have numpy 1.23.5 which is incompatible.\n",
            "albumentations 2.0.6 requires numpy>=1.24.4, but you have numpy 1.23.5 which is incompatible.\n",
            "pymc 5.22.0 requires numpy>=1.25.0, but you have numpy 1.23.5 which is incompatible.\n",
            "tensorflow 2.18.0 requires numpy<2.1.0,>=1.26.0, but you have numpy 1.23.5 which is incompatible.\n",
            "thinc 8.3.6 requires numpy<3.0.0,>=2.0.0, but you have numpy 1.23.5 which is incompatible.\n",
            "scikit-image 0.25.2 requires numpy>=1.24, but you have numpy 1.23.5 which is incompatible.\n",
            "xarray 2025.3.1 requires numpy>=1.24, but you have numpy 1.23.5 which is incompatible.\n",
            "albucore 0.0.24 requires numpy>=1.24.4, but you have numpy 1.23.5 which is incompatible.\n",
            "blosc2 3.3.2 requires numpy>=1.26, but you have numpy 1.23.5 which is incompatible.\n",
            "chex 0.1.89 requires numpy>=1.24.1, but you have numpy 1.23.5 which is incompatible.\u001b[0m\u001b[31m\n",
            "\u001b[0mSuccessfully installed numpy-1.23.5\n"
          ]
        },
        {
          "output_type": "display_data",
          "data": {
            "application/vnd.colab-display-data+json": {
              "pip_warning": {
                "packages": [
                  "numpy"
                ]
              },
              "id": "16c2165a64034b0fb689ad1086412701"
            }
          },
          "metadata": {}
        }
      ]
    },
    {
      "cell_type": "code",
      "execution_count": 1,
      "metadata": {
        "id": "m4tT1kns49Yt"
      },
      "outputs": [],
      "source": [
        "import torch.nn as nn\n",
        "import torch.nn.functional as F\n",
        "import torch.optim as optim\n",
        "import torch as T\n",
        "import numpy as np\n",
        "import matplotlib.pyplot as plt"
      ]
    },
    {
      "cell_type": "code",
      "source": [
        "class LinearClassifier(nn.Module):\n",
        "  def __init__(self, lr, n_classes, input_dims):\n",
        "    super(LinearClassifier, self).__init__()\n",
        "\n",
        "    self.fc1 = nn.Linear(*input_dims, 128)\n",
        "    self.fc2 = nn.Linear(128, 256)\n",
        "    self.fc3 = nn.Linear(256, n_classes)\n",
        "\n",
        "\n",
        "    self.optimizer = optim.Adam(self.parameters(), lr=lr)\n",
        "    self.loss = nn.CrossEntropyLoss()\n",
        "    self.device = T.device('cuda:0' if T.cuda.is_available() else 'cpu')\n",
        "    self.to(self.device)\n",
        "\n",
        "  def forward(self, data):\n",
        "    layer1 = F.sigmoid(self.fc1(data))\n",
        "    layer2 = F.sigmoid(self.fc2(layer1))\n",
        "    layer3 = self.fc3(layer2)\n",
        "\n",
        "    return layer3\n",
        "\n",
        "  def learn(self, data, labels):\n",
        "    self.optimizer.zero_grad()\n",
        "\n",
        "    data = T.tensor(data).to(self.device)\n",
        "    labels = T.tensor(labels).to(self.device)\n",
        "\n",
        "    predictions = self.forward(data)\n",
        "    cost = self.loss(predictions, labels)\n",
        "\n",
        "    cost.backward()\n",
        "\n",
        "    self.optimizer.step()\n",
        "\n",
        "    return cost"
      ],
      "metadata": {
        "id": "nGiFYDCB5Enq"
      },
      "execution_count": 17,
      "outputs": []
    },
    {
      "cell_type": "code",
      "source": [
        "import gym\n",
        "import numpy as np\n",
        "import matplotlib.pyplot as plt"
      ],
      "metadata": {
        "id": "BRYg_tkW5Ekw"
      },
      "execution_count": 2,
      "outputs": []
    },
    {
      "cell_type": "code",
      "source": [
        "class LinearDeepQNetwork(nn.Module):\n",
        "  def __init__(self, lr, n_actions, input_dims):\n",
        "    super(LinearDeepQNetwork, self).__init__()\n",
        "\n",
        "    self.fc1 = nn.Linear(*input_dims, 128)\n",
        "    self.fc2 = nn.Linear(128, n_actions)\n",
        "\n",
        "    self.optimizer = optim.Adam(self.parameters(), lr=lr)\n",
        "    self.loss = nn.MSELoss()\n",
        "    self.device = T.device('cuda:0' if T.cuda.is_available() else 'cpu')\n",
        "    self.to(self.device)\n",
        "\n",
        "  def forward(self, data):\n",
        "    layer1 = F.relu(self.fc1(data))\n",
        "    actions = self.fc2(layer1)\n",
        "\n",
        "    return actions"
      ],
      "metadata": {
        "id": "0O0mQiFD5EiS"
      },
      "execution_count": 3,
      "outputs": []
    },
    {
      "cell_type": "code",
      "source": [
        "class Agent():\n",
        "  def __init__(self, input_dims, n_actions, lr=0.0001, gamma=0.99, epsilon=1.0, eps_dec=1e-5, eps_min=0.01):\n",
        "    self.lr = lr\n",
        "    self.input_dims = input_dims\n",
        "    self.n_actions = n_actions\n",
        "    self.gamma = gamma\n",
        "    self.epsilon = epsilon\n",
        "    self.eps_dec = eps_dec\n",
        "    self.eps_min = eps_min\n",
        "    self.action_space = [i for i in range(n_actions)]\n",
        "\n",
        "    self.Q = LinearDeepQNetwork(self.lr, self.n_actions, self.input_dims)\n",
        "\n",
        "  def choose_action(self, observation):\n",
        "    if np.random.random() > self.epsilon:\n",
        "      state = T.tensor(observation, dtype=T.float).to(self.Q.device)\n",
        "\n",
        "      actions = self.Q.forward(state)\n",
        "      action = T.argmax(actions).item()\n",
        "    else:\n",
        "      action = np.random.choice(self.action_space)\n",
        "\n",
        "    return action\n",
        "\n",
        "  def decrement_epsilon(self):\n",
        "    self.epsilon = self.epsilon - self.eps_dec if self.epsilon > self.eps_min else self.eps_min\n",
        "\n",
        "  def learn(self, state, action, reward, state_):\n",
        "    self.Q.optimizer.zero_grad()\n",
        "\n",
        "    states = T.tensor(state, dtype=T.float).to(self.Q.device)\n",
        "\n",
        "    actions = T.tensor(action).to(self.Q.device)\n",
        "\n",
        "    rewards = T.tensor(reward).to(self.Q.device)\n",
        "\n",
        "    states_ = T.tensor(state_, dtype=T.float).to(self.Q.device)\n",
        "\n",
        "    q_pred = self.Q.forward(states)[actions]\n",
        "\n",
        "    q_next = self.Q.forward(states_).max()\n",
        "\n",
        "    q_target = reward + self.gamma*q_next\n",
        "\n",
        "    loss = self.Q.loss(q_target, q_pred).to(self.Q.device)\n",
        "\n",
        "    loss.backward()\n",
        "\n",
        "    self.Q.optimizer.step()\n",
        "\n",
        "    self.decrement_epsilon()\n",
        "\n",
        "\n",
        "    q_target = rewards + self.gamma*T.max(q_next)"
      ],
      "metadata": {
        "id": "1IOORiTrC1eB"
      },
      "execution_count": 4,
      "outputs": []
    },
    {
      "cell_type": "code",
      "source": [
        "def plot_learning_curve(x, scores, epsilons, filename):\n",
        "  fig = plt.figure()\n",
        "  ax = fig.add_subplot(111, label='1')\n",
        "  ax2 = fig.add_subplot(111, label='2', frame_on=False)\n",
        "\n",
        "  ax.plot(x, epsilons, color='C0')\n",
        "  ax.set_xlabel('Trainig Steps', color='C0')\n",
        "  ax.set_ylabel('Epsilon', color='C0')\n",
        "  ax.tick_params(axis='x', color='C0')\n",
        "  ax.tick_params(axis='y', color='C0')\n",
        "\n",
        "  N = len(scores)\n",
        "  running_avg = np.empty(N)\n",
        "\n",
        "  for t in range(N):\n",
        "    running_avg[t] = np.mean(scores[max(0, t-100):(t+1)])\n",
        "\n",
        "  ax2.scatter(x, scores, color='C1')\n",
        "  ax2.axes.get_xaxis().set_visible(False)\n",
        "\n",
        "  ax2.yaxis.tick_right()\n",
        "  ax2.set_ylabel('Score', color='C1')\n",
        "  ax2.yaxis.set_label_position('right')\n",
        "  ax2.tick_params(axis='y', color='C1')\n",
        "\n",
        "  plt.savefig(filename)"
      ],
      "metadata": {
        "id": "FjIYgWElI9mR"
      },
      "execution_count": 5,
      "outputs": []
    },
    {
      "cell_type": "code",
      "source": [
        "env = gym.make('CartPole-v1')\n",
        "n_games = 10000\n",
        "scores = []\n",
        "eps_history = []\n",
        "\n",
        "agent = Agent(\n",
        "    input_dims=env.observation_space.shape,\n",
        "    n_actions=env.action_space.n)\n",
        "\n",
        "for i in range(n_games):\n",
        "  done = False\n",
        "  score = 0\n",
        "  obs = env.reset()\n",
        "\n",
        "  while not done:\n",
        "    action = agent.choose_action(obs)\n",
        "    obs_, reward, done, info = env.step(action)\n",
        "    score += reward\n",
        "    agent.learn(obs, action, reward, obs_)\n",
        "    obs = obs_\n",
        "\n",
        "  scores.append(score)\n",
        "\n",
        "  eps_history.append(agent.epsilon)\n",
        "\n",
        "  if i % 100 == 0:\n",
        "    avg_score = np.mean(scores[-100:])\n",
        "\n",
        "    print('episode ', i, 'score %.2f, average score %.2f, epsilon %.2f' %\n",
        "                                      (score, avg_score, agent.epsilon))\n",
        "\n",
        "filename = 'cart_pole_naive_dqn.png'\n",
        "\n",
        "x = [i+1 for i in range(n_games)]\n",
        "\n",
        "plot_learning_curve(x, scores, eps_history, filename)"
      ],
      "metadata": {
        "colab": {
          "base_uri": "https://localhost:8080/",
          "height": 1000
        },
        "id": "5zsIrf1z5EgE",
        "outputId": "0d663dc1-88d5-4858-a5ca-55e18d9b8018"
      },
      "execution_count": 6,
      "outputs": [
        {
          "output_type": "stream",
          "name": "stderr",
          "text": [
            "/usr/local/lib/python3.11/dist-packages/gym/core.py:317: DeprecationWarning: \u001b[33mWARN: Initializing wrapper in old step API which returns one bool instead of two. It is recommended to set `new_step_api=True` to use new step API. This will be the default behaviour in future.\u001b[0m\n",
            "  deprecation(\n",
            "/usr/local/lib/python3.11/dist-packages/gym/wrappers/step_api_compatibility.py:39: DeprecationWarning: \u001b[33mWARN: Initializing environment in old step API which returns one bool instead of two. It is recommended to set `new_step_api=True` to use new step API. This will be the default behaviour in future.\u001b[0m\n",
            "  deprecation(\n"
          ]
        },
        {
          "output_type": "stream",
          "name": "stdout",
          "text": [
            "episode  0 score 19.00, average score 19.00, epsilon 1.00\n",
            "episode  100 score 23.00, average score 19.95, epsilon 0.98\n",
            "episode  200 score 29.00, average score 23.05, epsilon 0.96\n",
            "episode  300 score 54.00, average score 23.82, epsilon 0.93\n",
            "episode  400 score 28.00, average score 21.87, epsilon 0.91\n",
            "episode  500 score 27.00, average score 22.83, epsilon 0.89\n",
            "episode  600 score 16.00, average score 21.88, epsilon 0.87\n",
            "episode  700 score 27.00, average score 25.26, epsilon 0.84\n",
            "episode  800 score 65.00, average score 24.37, epsilon 0.82\n",
            "episode  900 score 20.00, average score 23.44, epsilon 0.79\n",
            "episode  1000 score 28.00, average score 22.05, epsilon 0.77\n",
            "episode  1100 score 14.00, average score 22.85, epsilon 0.75\n",
            "episode  1200 score 44.00, average score 26.55, epsilon 0.72\n",
            "episode  1300 score 32.00, average score 26.74, epsilon 0.70\n",
            "episode  1400 score 17.00, average score 24.64, epsilon 0.67\n",
            "episode  1500 score 20.00, average score 29.07, epsilon 0.64\n",
            "episode  1600 score 14.00, average score 26.43, epsilon 0.62\n",
            "episode  1700 score 39.00, average score 29.41, epsilon 0.59\n",
            "episode  1800 score 36.00, average score 26.29, epsilon 0.56\n",
            "episode  1900 score 43.00, average score 33.45, epsilon 0.53\n",
            "episode  2000 score 9.00, average score 27.53, epsilon 0.50\n",
            "episode  2100 score 13.00, average score 27.73, epsilon 0.47\n",
            "episode  2200 score 12.00, average score 31.98, epsilon 0.44\n",
            "episode  2300 score 70.00, average score 33.04, epsilon 0.41\n",
            "episode  2400 score 48.00, average score 38.91, epsilon 0.37\n",
            "episode  2500 score 12.00, average score 40.27, epsilon 0.33\n",
            "episode  2600 score 13.00, average score 46.67, epsilon 0.28\n",
            "episode  2700 score 55.00, average score 47.78, epsilon 0.23\n",
            "episode  2800 score 11.00, average score 59.96, epsilon 0.17\n",
            "episode  2900 score 87.00, average score 64.14, epsilon 0.11\n",
            "episode  3000 score 93.00, average score 66.11, epsilon 0.04\n",
            "episode  3100 score 71.00, average score 97.45, epsilon 0.01\n",
            "episode  3200 score 60.00, average score 68.97, epsilon 0.01\n",
            "episode  3300 score 14.00, average score 32.55, epsilon 0.01\n",
            "episode  3400 score 17.00, average score 15.09, epsilon 0.01\n",
            "episode  3500 score 19.00, average score 18.55, epsilon 0.01\n",
            "episode  3600 score 26.00, average score 20.32, epsilon 0.01\n",
            "episode  3700 score 13.00, average score 17.61, epsilon 0.01\n",
            "episode  3800 score 17.00, average score 16.64, epsilon 0.01\n",
            "episode  3900 score 16.00, average score 17.30, epsilon 0.01\n",
            "episode  4000 score 17.00, average score 19.24, epsilon 0.01\n",
            "episode  4100 score 12.00, average score 17.38, epsilon 0.01\n",
            "episode  4200 score 16.00, average score 15.52, epsilon 0.01\n",
            "episode  4300 score 18.00, average score 15.21, epsilon 0.01\n",
            "episode  4400 score 11.00, average score 14.54, epsilon 0.01\n",
            "episode  4500 score 13.00, average score 14.74, epsilon 0.01\n",
            "episode  4600 score 14.00, average score 14.46, epsilon 0.01\n",
            "episode  4700 score 14.00, average score 16.09, epsilon 0.01\n",
            "episode  4800 score 10.00, average score 14.80, epsilon 0.01\n",
            "episode  4900 score 14.00, average score 11.82, epsilon 0.01\n",
            "episode  5000 score 12.00, average score 12.28, epsilon 0.01\n",
            "episode  5100 score 14.00, average score 12.81, epsilon 0.01\n",
            "episode  5200 score 14.00, average score 11.97, epsilon 0.01\n",
            "episode  5300 score 14.00, average score 12.24, epsilon 0.01\n",
            "episode  5400 score 13.00, average score 12.06, epsilon 0.01\n",
            "episode  5500 score 12.00, average score 12.57, epsilon 0.01\n",
            "episode  5600 score 15.00, average score 12.66, epsilon 0.01\n",
            "episode  5700 score 16.00, average score 13.09, epsilon 0.01\n",
            "episode  5800 score 29.00, average score 18.43, epsilon 0.01\n",
            "episode  5900 score 55.00, average score 50.09, epsilon 0.01\n",
            "episode  6000 score 63.00, average score 53.19, epsilon 0.01\n",
            "episode  6100 score 56.00, average score 49.56, epsilon 0.01\n",
            "episode  6200 score 55.00, average score 49.37, epsilon 0.01\n",
            "episode  6300 score 50.00, average score 49.37, epsilon 0.01\n",
            "episode  6400 score 159.00, average score 90.09, epsilon 0.01\n",
            "episode  6500 score 107.00, average score 113.34, epsilon 0.01\n",
            "episode  6600 score 9.00, average score 97.99, epsilon 0.01\n",
            "episode  6700 score 9.00, average score 9.31, epsilon 0.01\n",
            "episode  6800 score 10.00, average score 9.38, epsilon 0.01\n",
            "episode  6900 score 227.00, average score 123.70, epsilon 0.01\n",
            "episode  7000 score 141.00, average score 275.45, epsilon 0.01\n",
            "episode  7100 score 48.00, average score 88.70, epsilon 0.01\n",
            "episode  7200 score 42.00, average score 33.17, epsilon 0.01\n",
            "episode  7300 score 22.00, average score 27.35, epsilon 0.01\n",
            "episode  7400 score 23.00, average score 24.50, epsilon 0.01\n",
            "episode  7500 score 23.00, average score 21.31, epsilon 0.01\n",
            "episode  7600 score 26.00, average score 22.35, epsilon 0.01\n",
            "episode  7700 score 19.00, average score 20.34, epsilon 0.01\n",
            "episode  7800 score 17.00, average score 17.53, epsilon 0.01\n",
            "episode  7900 score 18.00, average score 18.04, epsilon 0.01\n",
            "episode  8000 score 14.00, average score 18.32, epsilon 0.01\n",
            "episode  8100 score 18.00, average score 14.85, epsilon 0.01\n",
            "episode  8200 score 15.00, average score 15.47, epsilon 0.01\n",
            "episode  8300 score 13.00, average score 15.71, epsilon 0.01\n",
            "episode  8400 score 11.00, average score 13.99, epsilon 0.01\n",
            "episode  8500 score 13.00, average score 13.60, epsilon 0.01\n",
            "episode  8600 score 12.00, average score 13.27, epsilon 0.01\n",
            "episode  8700 score 13.00, average score 13.83, epsilon 0.01\n",
            "episode  8800 score 10.00, average score 12.81, epsilon 0.01\n",
            "episode  8900 score 16.00, average score 12.94, epsilon 0.01\n",
            "episode  9000 score 58.00, average score 38.34, epsilon 0.01\n",
            "episode  9100 score 10.00, average score 45.36, epsilon 0.01\n",
            "episode  9200 score 9.00, average score 9.39, epsilon 0.01\n",
            "episode  9300 score 217.00, average score 44.09, epsilon 0.01\n",
            "episode  9400 score 113.00, average score 131.88, epsilon 0.01\n",
            "episode  9500 score 88.00, average score 104.55, epsilon 0.01\n",
            "episode  9600 score 10.00, average score 79.05, epsilon 0.01\n",
            "episode  9700 score 9.00, average score 9.34, epsilon 0.01\n",
            "episode  9800 score 10.00, average score 9.43, epsilon 0.01\n",
            "episode  9900 score 11.00, average score 9.38, epsilon 0.01\n"
          ]
        },
        {
          "output_type": "display_data",
          "data": {
            "text/plain": [
              "<Figure size 640x480 with 2 Axes>"
            ],
            "image/png": "[encoded data removed]"
          },
          "metadata": {}
        }
      ]
    },
    {
      "cell_type": "code",
      "source": [],
      "metadata": {
        "id": "gU__kH_N5Edn"
      },
      "execution_count": null,
      "outputs": []
    },
    {
      "cell_type": "code",
      "source": [],
      "metadata": {
        "id": "LPI4jyjO5EbM"
      },
      "execution_count": null,
      "outputs": []
    },
    {
      "cell_type": "code",
      "source": [],
      "metadata": {
        "id": "8BhCh5W55EYy"
      },
      "execution_count": null,
      "outputs": []
    },
    {
      "cell_type": "code",
      "source": [],
      "metadata": {
        "id": "JtLkVLB-5EWZ"
      },
      "execution_count": null,
      "outputs": []
    },
    {
      "cell_type": "code",
      "source": [],
      "metadata": {
        "id": "9TAZkhzw5ETX"
      },
      "execution_count": null,
      "outputs": []
    },
    {
      "cell_type": "code",
      "source": [],
      "metadata": {
        "id": "1JjSJfPD5EQy"
      },
      "execution_count": null,
      "outputs": []
    }
  ]
}