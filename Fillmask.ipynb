{
  "nbformat": 4,
  "nbformat_minor": 0,
  "metadata": {
    "colab": {
      "provenance": [],
      "authorship_tag": "ABX9TyNwXFx64en8NB1Wa/vaAJFR",
      "include_colab_link": true
    },
    "kernelspec": {
      "name": "python3",
      "display_name": "Python 3"
    },
    "language_info": {
      "name": "python"
    }
  },
  "cells": [
    {
      "cell_type": "markdown",
      "metadata": {
        "id": "view-in-github",
        "colab_type": "text"
      },
      "source": [
        "<a href=\"https://colab.research.google.com/github/miller00315/ia_studies/blob/main/Fillmask.ipynb\" target=\"_parent\"><img src=\"https://colab.research.google.com/assets/colab-badge.svg\" alt=\"Open In Colab\"/></a>"
      ]
    },
    {
      "cell_type": "code",
      "execution_count": 1,
      "metadata": {
        "colab": {
          "base_uri": "https://localhost:8080/"
        },
        "id": "omju0yRQFbY_",
        "outputId": "f832bbe6-1cbd-458c-fea8-6e3ed97c3c3c"
      },
      "outputs": [
        {
          "output_type": "stream",
          "name": "stdout",
          "text": [
            "Requirement already satisfied: transformers in /usr/local/lib/python3.10/dist-packages (4.38.2)\n",
            "Requirement already satisfied: filelock in /usr/local/lib/python3.10/dist-packages (from transformers) (3.13.1)\n",
            "Requirement already satisfied: huggingface-hub<1.0,>=0.19.3 in /usr/local/lib/python3.10/dist-packages (from transformers) (0.20.3)\n",
            "Requirement already satisfied: numpy>=1.17 in /usr/local/lib/python3.10/dist-packages (from transformers) (1.25.2)\n",
            "Requirement already satisfied: packaging>=20.0 in /usr/local/lib/python3.10/dist-packages (from transformers) (24.0)\n",
            "Requirement already satisfied: pyyaml>=5.1 in /usr/local/lib/python3.10/dist-packages (from transformers) (6.0.1)\n",
            "Requirement already satisfied: regex!=2019.12.17 in /usr/local/lib/python3.10/dist-packages (from transformers) (2023.12.25)\n",
            "Requirement already satisfied: requests in /usr/local/lib/python3.10/dist-packages (from transformers) (2.31.0)\n",
            "Requirement already satisfied: tokenizers<0.19,>=0.14 in /usr/local/lib/python3.10/dist-packages (from transformers) (0.15.2)\n",
            "Requirement already satisfied: safetensors>=0.4.1 in /usr/local/lib/python3.10/dist-packages (from transformers) (0.4.2)\n",
            "Requirement already satisfied: tqdm>=4.27 in /usr/local/lib/python3.10/dist-packages (from transformers) (4.66.2)\n",
            "Requirement already satisfied: fsspec>=2023.5.0 in /usr/local/lib/python3.10/dist-packages (from huggingface-hub<1.0,>=0.19.3->transformers) (2023.6.0)\n",
            "Requirement already satisfied: typing-extensions>=3.7.4.3 in /usr/local/lib/python3.10/dist-packages (from huggingface-hub<1.0,>=0.19.3->transformers) (4.10.0)\n",
            "Requirement already satisfied: charset-normalizer<4,>=2 in /usr/local/lib/python3.10/dist-packages (from requests->transformers) (3.3.2)\n",
            "Requirement already satisfied: idna<4,>=2.5 in /usr/local/lib/python3.10/dist-packages (from requests->transformers) (3.6)\n",
            "Requirement already satisfied: urllib3<3,>=1.21.1 in /usr/local/lib/python3.10/dist-packages (from requests->transformers) (2.0.7)\n",
            "Requirement already satisfied: certifi>=2017.4.17 in /usr/local/lib/python3.10/dist-packages (from requests->transformers) (2024.2.2)\n"
          ]
        }
      ],
      "source": [
        "!pip install transformers"
      ]
    },
    {
      "cell_type": "code",
      "source": [
        "import transformers\n",
        "from transformers import pipeline"
      ],
      "metadata": {
        "id": "-MVMPY3qFhbN"
      },
      "execution_count": 2,
      "outputs": []
    },
    {
      "cell_type": "code",
      "source": [
        "mascarar = pipeline('fill-mask', model='neuralmind/bert-base-portuguese-cased')"
      ],
      "metadata": {
        "colab": {
          "base_uri": "https://localhost:8080/"
        },
        "id": "iCI-lcozF8u5",
        "outputId": "b9f32620-3cee-4685-df42-ee6d8bc80f62"
      },
      "execution_count": 4,
      "outputs": [
        {
          "output_type": "stream",
          "name": "stderr",
          "text": [
            "Some weights of the model checkpoint at neuralmind/bert-base-portuguese-cased were not used when initializing BertForMaskedLM: ['bert.pooler.dense.bias', 'bert.pooler.dense.weight', 'cls.seq_relationship.bias', 'cls.seq_relationship.weight']\n",
            "- This IS expected if you are initializing BertForMaskedLM from the checkpoint of a model trained on another task or with another architecture (e.g. initializing a BertForSequenceClassification model from a BertForPreTraining model).\n",
            "- This IS NOT expected if you are initializing BertForMaskedLM from the checkpoint of a model that you expect to be exactly identical (initializing a BertForSequenceClassification model from a BertForSequenceClassification model).\n"
          ]
        }
      ]
    },
    {
      "cell_type": "code",
      "source": [
        "text = mascarar(\"Hoje é dia de [MASK]\")"
      ],
      "metadata": {
        "id": "5VYHOS87GlOU"
      },
      "execution_count": 13,
      "outputs": []
    },
    {
      "cell_type": "code",
      "source": [
        "for x in range(len(text)):\n",
        "  print(text[x])"
      ],
      "metadata": {
        "colab": {
          "base_uri": "https://localhost:8080/"
        },
        "id": "XF9Okwg2GzPq",
        "outputId": "af0602e5-9a6c-4a4d-ca54-7f4fb0595f60"
      },
      "execution_count": 14,
      "outputs": [
        {
          "output_type": "stream",
          "name": "stdout",
          "text": [
            "{'score': 0.06313539296388626, 'token': 13490, 'token_str': 'oração', 'sequence': 'Hoje é dia de oração'}\n",
            "{'score': 0.02713633142411709, 'token': 15818, 'token_str': 'reflexão', 'sequence': 'Hoje é dia de reflexão'}\n",
            "{'score': 0.02173728123307228, 'token': 4939, 'token_str': 'festa', 'sequence': 'Hoje é dia de festa'}\n",
            "{'score': 0.021411217749118805, 'token': 18666, 'token_str': 'Páscoa', 'sequence': 'Hoje é dia de Páscoa'}\n",
            "{'score': 0.02100646123290062, 'token': 16793, 'token_str': 'comemorar', 'sequence': 'Hoje é dia de comemorar'}\n"
          ]
        }
      ]
    },
    {
      "cell_type": "code",
      "source": [
        "text = mascarar([\"Hoje é dia de [MASK]\", \"Brasilia é a capital do [MASK]\"])"
      ],
      "metadata": {
        "id": "xBEzrsx3Id3e"
      },
      "execution_count": 17,
      "outputs": []
    },
    {
      "cell_type": "code",
      "source": [
        "for x in range(len(text)):\n",
        "  print(text[x])"
      ],
      "metadata": {
        "colab": {
          "base_uri": "https://localhost:8080/"
        },
        "id": "avsrrxBrIf4S",
        "outputId": "6642eced-37d8-43e9-f28d-178278ae0c49"
      },
      "execution_count": 18,
      "outputs": [
        {
          "output_type": "stream",
          "name": "stdout",
          "text": [
            "[{'score': 0.06313539296388626, 'token': 13490, 'token_str': 'oração', 'sequence': 'Hoje é dia de oração'}, {'score': 0.02713633142411709, 'token': 15818, 'token_str': 'reflexão', 'sequence': 'Hoje é dia de reflexão'}, {'score': 0.02173728123307228, 'token': 4939, 'token_str': 'festa', 'sequence': 'Hoje é dia de festa'}, {'score': 0.021411217749118805, 'token': 18666, 'token_str': 'Páscoa', 'sequence': 'Hoje é dia de Páscoa'}, {'score': 0.02100646123290062, 'token': 16793, 'token_str': 'comemorar', 'sequence': 'Hoje é dia de comemorar'}]\n",
            "[{'score': 0.43986940383911133, 'token': 771, 'token_str': 'Brasil', 'sequence': 'Brasilia é a capital do Brasil'}, {'score': 0.17468301951885223, 'token': 806, 'token_str': 'país', 'sequence': 'Brasilia é a capital do país'}, {'score': 0.03470958024263382, 'token': 4953, 'token_str': 'País', 'sequence': 'Brasilia é a capital do País'}, {'score': 0.012442734092473984, 'token': 100, 'token_str': '[UNK]', 'sequence': 'Brasilia é a capital do'}, {'score': 0.011907820589840412, 'token': 1147, 'token_str': 'mundo', 'sequence': 'Brasilia é a capital do mundo'}]\n"
          ]
        }
      ]
    }
  ]
}