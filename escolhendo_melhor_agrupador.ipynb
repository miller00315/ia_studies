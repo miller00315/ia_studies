{
  "nbformat": 4,
  "nbformat_minor": 0,
  "metadata": {
    "colab": {
      "provenance": [],
      "authorship_tag": "ABX9TyPNDkO6/xnfTdsSLiVp7ZDt",
      "include_colab_link": true
    },
    "kernelspec": {
      "name": "python3",
      "display_name": "Python 3"
    },
    "language_info": {
      "name": "python"
    }
  },
  "cells": [
    {
      "cell_type": "markdown",
      "metadata": {
        "id": "view-in-github",
        "colab_type": "text"
      },
      "source": [
        "<a href=\"https://colab.research.google.com/github/miller00315/ia_studies/blob/main/escolhendo_melhor_agrupador.ipynb\" target=\"_parent\"><img src=\"https://colab.research.google.com/assets/colab-badge.svg\" alt=\"Open In Colab\"/></a>"
      ]
    },
    {
      "cell_type": "code",
      "execution_count": null,
      "metadata": {
        "id": "2ayjDK9jAic-"
      },
      "outputs": [],
      "source": [
        "import numpy as np\n",
        "import pandas as pd\n",
        "from sklearn import datasets\n",
        "from sklearn.preprocessing import StandardScaler\n",
        "from sklearn.cluster import KMeans, AgglomerativeClustering, DBSCAN\n",
        "from sklearn.metrics import silhouette_score"
      ]
    },
    {
      "cell_type": "code",
      "source": [
        "def compare_algorithms(X, max_clustsers: int):\n",
        "  results = []\n",
        "  cluster_range = range(2, max_clustsers + 1)\n",
        "\n",
        "  #Kmenas\n",
        "  for n_clusters in cluster_range:\n",
        "    kmenas = KMeans(n_clusters=n_clusters, random_state=0, n_init='auto')\n",
        "\n",
        "    clusters = kmenas.fit_predict(X)\n",
        "\n",
        "    silhouette_avg = silhouette_score(X, clusters)\n",
        "\n",
        "    results.append(('KMenas', n_clusters, silhouette_avg))\n",
        "\n",
        "  #Agglomerative\n",
        "  for n_clusters in cluster_range:\n",
        "    aggglomerative_cluster = AgglomerativeClustering(n_clusters=n_clusters)\n",
        "\n",
        "    cluster_optics_xi = aggglomerative_cluster.fit_predict(X)\n",
        "\n",
        "    silhouette_avg = silhouette_score(X, clusters)\n",
        "\n",
        "    results.append(('Agglomerative', n_clusters, silhouette_avg))\n",
        "\n",
        "  #DB_SCAN\n",
        "  eps_values = np.arange(0.1, 0.9, 0.1) # de 0.1 à 0.8 de 0.1 em 0.1\n",
        "\n",
        "  for eps in eps_values:\n",
        "    dbscan = DBSCAN(eps, min_samples=5)\n",
        "    clusters = dbscan.fit_predict(X)\n",
        "\n",
        "    if len(set(clusters)) > 1:\n",
        "      silhouette_avg = silhouette_score(X, clusters)\n",
        "\n",
        "      results.append(('DBSCAN', eps, silhouette_avg))\n",
        "\n",
        "  return results\n",
        "\n",
        "\n",
        "\n"
      ],
      "metadata": {
        "id": "bUNh_qPqDcCW"
      },
      "execution_count": null,
      "outputs": []
    },
    {
      "cell_type": "code",
      "source": [
        "iris = datasets.load_iris()\n",
        "\n",
        "scaler = StandardScaler()\n",
        "\n",
        "scaled_data = scaler.fit_transform(iris.data)\n",
        "\n",
        "results = compare_algorithms(scaled_data, 10)\n",
        "\n",
        "df = pd.DataFrame(results, columns=['Agrupador', 'Clusters', 'Score'])\n",
        "\n",
        "df"
      ],
      "metadata": {
        "id": "CEi2OfweJZK2"
      },
      "execution_count": null,
      "outputs": []
    },
    {
      "cell_type": "code",
      "source": [
        "max_score_index = df['Score'].idxmax() # coleta o valor maximo\n",
        "\n",
        "print(df.loc[max_score_index])"
      ],
      "metadata": {
        "colab": {
          "base_uri": "https://localhost:8080/"
        },
        "id": "J6SmybqTLODg",
        "outputId": "2274f0e2-09db-467f-edce-b55254a3cb18"
      },
      "execution_count": null,
      "outputs": [
        {
          "output_type": "stream",
          "name": "stdout",
          "text": [
            "Agrupador     KMenas\n",
            "Clusters         2.0\n",
            "Score        0.58175\n",
            "Name: 0, dtype: object\n"
          ]
        }
      ]
    }
  ]
}