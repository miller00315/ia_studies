{
  "nbformat": 4,
  "nbformat_minor": 0,
  "metadata": {
    "colab": {
      "provenance": [],
      "authorship_tag": "ABX9TyNBKCOR2HMqEkDSALcqtDWd",
      "include_colab_link": true
    },
    "kernelspec": {
      "name": "python3",
      "display_name": "Python 3"
    },
    "language_info": {
      "name": "python"
    }
  },
  "cells": [
    {
      "cell_type": "markdown",
      "metadata": {
        "id": "view-in-github",
        "colab_type": "text"
      },
      "source": [
        "<a href=\"https://colab.research.google.com/github/miller00315/ia_studies/blob/main/pca.ipynb\" target=\"_parent\"><img src=\"https://colab.research.google.com/assets/colab-badge.svg\" alt=\"Open In Colab\"/></a>"
      ]
    },
    {
      "cell_type": "code",
      "execution_count": 1,
      "metadata": {
        "id": "_KHrqyo3_xtg"
      },
      "outputs": [],
      "source": [
        "from sklearn.model_selection import train_test_split\n",
        "from sklearn.metrics import accuracy_score\n",
        "from sklearn.decomposition import PCA\n",
        "from sklearn.ensemble import RandomForestClassifier\n",
        "from sklearn.preprocessing import StandardScaler\n",
        "from sklearn import datasets"
      ]
    },
    {
      "cell_type": "code",
      "source": [
        "iris = datasets.load_iris()\n",
        "\n",
        "previsores = iris.data\n",
        "\n",
        "classe = iris.target\n",
        "\n",
        "previsores"
      ],
      "metadata": {
        "id": "MXNFf2pEAqzT"
      },
      "execution_count": null,
      "outputs": []
    },
    {
      "cell_type": "code",
      "source": [
        "sc = StandardScaler()\n",
        "\n",
        "previsores = sc.fit_transform(previsores)\n",
        "\n",
        "previsores"
      ],
      "metadata": {
        "id": "2Wo4FBTOBjsM"
      },
      "execution_count": null,
      "outputs": []
    },
    {
      "cell_type": "code",
      "source": [
        "X_train, X_test, y_train, y_test = train_test_split (previsores, classe, test_size=.3, random_state=123)"
      ],
      "metadata": {
        "id": "oSBcwZpaBknf"
      },
      "execution_count": 6,
      "outputs": []
    },
    {
      "cell_type": "code",
      "source": [
        "floresta = RandomForestClassifier(n_estimators=1000, random_state=1234)\n",
        "\n",
        "floresta.fit(X_train, y_train)\n",
        "\n",
        "previsoes = floresta.predict(X_test)\n",
        "\n",
        "taxa_acerto = accuracy_score(y_test, previsoes)\n",
        "\n",
        "taxa_acerto"
      ],
      "metadata": {
        "colab": {
          "base_uri": "https://localhost:8080/"
        },
        "id": "PM2grGgyCVuy",
        "outputId": "b25cf5f3-9499-4615-be46-f47ba1727343"
      },
      "execution_count": 7,
      "outputs": [
        {
          "output_type": "execute_result",
          "data": {
            "text/plain": [
              "0.9333333333333333"
            ]
          },
          "metadata": {},
          "execution_count": 7
        }
      ]
    },
    {
      "cell_type": "code",
      "source": [],
      "metadata": {
        "id": "ZlMImQxvD8ZE"
      },
      "execution_count": null,
      "outputs": []
    },
    {
      "cell_type": "code",
      "source": [
        "pca = PCA(n_components=3)\n",
        "\n",
        "previsores = pca.fit_transform(previsores)\n",
        "\n",
        "previsores"
      ],
      "metadata": {
        "id": "ckGJVe8PBklG"
      },
      "execution_count": null,
      "outputs": []
    },
    {
      "cell_type": "code",
      "source": [
        "X_train, X_test, y_train, y_test = train_test_split (previsores, classe, test_size=.3, random_state=123)"
      ],
      "metadata": {
        "id": "sItCwhdfBkig"
      },
      "execution_count": 10,
      "outputs": []
    },
    {
      "cell_type": "code",
      "source": [
        "floresta = RandomForestClassifier(n_estimators=1000, random_state=1234)\n",
        "\n",
        "floresta.fit(X_train, y_train)\n",
        "\n",
        "previsoes = floresta.predict(X_test)\n",
        "\n",
        "taxa_acerto = accuracy_score(y_test, previsoes)\n",
        "\n",
        "taxa_acerto"
      ],
      "metadata": {
        "colab": {
          "base_uri": "https://localhost:8080/"
        },
        "id": "hbZZTfTVBkfm",
        "outputId": "5b5c605f-36e5-444f-edbe-973e073aa03a"
      },
      "execution_count": 11,
      "outputs": [
        {
          "output_type": "execute_result",
          "data": {
            "text/plain": [
              "0.9555555555555556"
            ]
          },
          "metadata": {},
          "execution_count": 11
        }
      ]
    },
    {
      "cell_type": "code",
      "source": [],
      "metadata": {
        "id": "RvqRrViTBkcn"
      },
      "execution_count": null,
      "outputs": []
    },
    {
      "cell_type": "code",
      "source": [],
      "metadata": {
        "id": "dbVHCB0XBkVv"
      },
      "execution_count": null,
      "outputs": []
    },
    {
      "cell_type": "code",
      "source": [],
      "metadata": {
        "id": "SAD2iBTJBkNP"
      },
      "execution_count": null,
      "outputs": []
    }
  ]
}