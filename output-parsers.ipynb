{
 "cells": [
  {
   "cell_type": "markdown",
   "id": "33d8cda0",
   "metadata": {},
   "source": [
    "# Output Parsers\n",
    "Language models output text. But many times you may want to get more structured information than just text back. This is where output parsers come in.\n",
    "\n",
    "Output parsers are classes that help structure language model responses. There are two main methods an output parser must implement:\n",
    "\n",
    "`Get format instructions`: A method which returns a string containing instructions for how the output of a language model should be formatted.\n",
    "`Parse`: A method which takes in a string (assumed to be the response from a language model) and parses it into some structure."
   ]
  },
  {
   "cell_type": "code",
   "execution_count": 1,
   "id": "d0c5a763",
   "metadata": {},
   "outputs": [],
   "source": [
    "from langchain.output_parsers import CommaSeparatedListOutputParser\n",
    "from langchain.prompts import PromptTemplate\n",
    "from langchain_openai import ChatOpenAI\n",
    "from dotenv import load_dotenv"
   ]
  },
  {
   "cell_type": "code",
   "execution_count": 2,
   "id": "d32dea74",
   "metadata": {},
   "outputs": [
    {
     "data": {
      "text/plain": [
       "True"
      ]
     },
     "execution_count": 2,
     "metadata": {},
     "output_type": "execute_result"
    }
   ],
   "source": [
    "load_dotenv()"
   ]
  },
  {
   "cell_type": "code",
   "execution_count": 3,
   "id": "88df3206",
   "metadata": {},
   "outputs": [],
   "source": [
    "model = ChatOpenAI(temperature=0)"
   ]
  },
  {
   "cell_type": "markdown",
   "id": "caec1b7f",
   "metadata": {},
   "source": [
    "### CSV Parser\n",
    "This output parser can be used when you want to return a list of comma-separated items."
   ]
  },
  {
   "cell_type": "code",
   "execution_count": 4,
   "id": "1986edcd",
   "metadata": {},
   "outputs": [],
   "source": [
    "output_parser = CommaSeparatedListOutputParser()\n",
    "\n",
    "format_instructions = output_parser.get_format_instructions()\n",
    "prompt = PromptTemplate(\n",
    "    template=\"List five places {places}.\\n{format_instructions}\",\n",
    "    input_variables=[\"places\"],\n",
    "    partial_variables={\"format_instructions\": format_instructions},\n",
    ")"
   ]
  },
  {
   "cell_type": "code",
   "execution_count": 5,
   "id": "f1fe7e1c",
   "metadata": {},
   "outputs": [],
   "source": [
    "chain = prompt | model | output_parser"
   ]
  },
  {
   "cell_type": "code",
   "execution_count": 6,
   "id": "7b9fb91f",
   "metadata": {},
   "outputs": [
    {
     "data": {
      "text/plain": [
       "['Goa', 'Manali', 'Jaipur', 'Kerala', 'Rishikesh']"
      ]
     },
     "execution_count": 6,
     "metadata": {},
     "output_type": "execute_result"
    }
   ],
   "source": [
    "chain.invoke({\"places\": \"for summer tourism in India\"})"
   ]
  },
  {
   "cell_type": "markdown",
   "id": "427d26c4",
   "metadata": {},
   "source": [
    "### JSON parser\n",
    "This output parser allows users to specify a JSON schema and query LLMs for outputs that conform to that schema.\n",
    "Keep in mind that large language models are leaky abstractions! You’ll have to use an LLM with sufficient capacity to generate well-formed JSON. In the OpenAI family, DaVinci can do reliably but Curie’s ability already drops off dramatically.\n",
    "#### The following example uses Pydantic to declare your data model."
   ]
  },
  {
   "cell_type": "code",
   "execution_count": 7,
   "id": "f07cd9fd",
   "metadata": {},
   "outputs": [],
   "source": [
    "from typing import List\n",
    "from langchain_core.output_parsers import JsonOutputParser"
   ]
  },
  {
   "cell_type": "code",
   "execution_count": 9,
   "id": "4cff1db4",
   "metadata": {},
   "outputs": [],
   "source": [
    "# Define your desired data structure.\n",
    "from pydantic import BaseModel, Field\n",
    "\n",
    "class Travel(BaseModel):\n",
    "    place: str = Field(description=\"name of the places\")\n",
    "    description: str = Field(description=\"description of the place\")\n",
    "    activities: str = Field(description=\"what to do in that place\")    "
   ]
  },
  {
   "cell_type": "code",
   "execution_count": 40,
   "id": "4ec34bf7",
   "metadata": {},
   "outputs": [
    {
     "data": {
      "text/plain": [
       "{'place': 'Leh-Ladakh',\n",
       " 'description': 'A high-altitude desert region in the northern part of India, known for its stunning landscapes, Buddhist monasteries, and adventure activities like trekking and river rafting.',\n",
       " 'activities': 'Explore the monasteries, go trekking in the Himalayas, visit Pangong Lake, and experience the unique culture of the region.'}"
      ]
     },
     "execution_count": 40,
     "metadata": {},
     "output_type": "execute_result"
    }
   ],
   "source": [
    "# And a query intented to prompt a language model to populate the data structure.\n",
    "travel_query = \"Suggest a place in India for going on a trip this summer to avoid heat.\"\n",
    "\n",
    "# Set up a parser + inject instructions into the prompt template.\n",
    "parser = JsonOutputParser(pydantic_object=Travel)\n",
    "\n",
    "prompt = PromptTemplate(\n",
    "    template=\"Answer the user query.\\n{format_instructions}\\n{query}\\n\",\n",
    "    input_variables=[\"query\"],\n",
    "    partial_variables={\"format_instructions\": parser.get_format_instructions()},\n",
    ")\n",
    "\n",
    "chain = prompt | model | parser\n",
    "\n",
    "chain.invoke({\"query\": travel_query})"
   ]
  },
  {
   "cell_type": "markdown",
   "id": "1ce2f249",
   "metadata": {},
   "source": [
    "### Without Pydantic"
   ]
  },
  {
   "cell_type": "code",
   "execution_count": 10,
   "id": "03855f35",
   "metadata": {},
   "outputs": [
    {
     "data": {
      "text/plain": [
       "{'destination': 'Leh-Ladakh, Jammu and Kashmir',\n",
       " 'description': 'Leh-Ladakh is a high-altitude desert region in the northernmost part of India, known for its stunning landscapes, Buddhist monasteries, and adventurous activities like trekking and river rafting. The weather in Leh-Ladakh during the summer months is cool and pleasant, making it an ideal destination to escape the heat.',\n",
       " 'highlights': ['Visit the ancient monasteries like Hemis, Thiksey, and Diskit',\n",
       "  'Explore the breathtaking Pangong Lake and Nubra Valley',\n",
       "  'Embark on a thrilling road trip on the scenic Manali-Leh Highway']}"
      ]
     },
     "execution_count": 10,
     "metadata": {},
     "output_type": "execute_result"
    }
   ],
   "source": [
    "travel_query = \"Suggest a place in India for going on a trip this summer to avoid heat.\"\n",
    "\n",
    "parser = JsonOutputParser()\n",
    "\n",
    "prompt = PromptTemplate(\n",
    "    template=\"Answer the user query.\\n{format_instructions}\\n{query}\\n\",\n",
    "    input_variables=[\"query\"],\n",
    "    partial_variables={\"format_instructions\": parser.get_format_instructions()},\n",
    ")\n",
    "\n",
    "chain = prompt | model | parser\n",
    "\n",
    "chain.invoke({\"query\": travel_query})"
   ]
  },
  {
   "cell_type": "markdown",
   "id": "612f2f95",
   "metadata": {},
   "source": [
    "## Structured Output Parser\n",
    "This output parser can be used when you want to return multiple fields. While the Pydantic/JSON parser is more powerful, this is useful for less powerful models."
   ]
  },
  {
   "cell_type": "code",
   "execution_count": 11,
   "id": "56e49ee5",
   "metadata": {},
   "outputs": [],
   "source": [
    "from langchain.output_parsers import ResponseSchema, StructuredOutputParser"
   ]
  },
  {
   "cell_type": "code",
   "execution_count": 12,
   "id": "5504b319",
   "metadata": {},
   "outputs": [],
   "source": [
    "response_schemas = [\n",
    "    ResponseSchema(name=\"answer\", description=\"answer to the user's question\"),\n",
    "    ResponseSchema(name=\"description\", description=\"detailed description on the answer topic\"),\n",
    "    ResponseSchema(\n",
    "        name=\"applications\",\n",
    "        description=\"real world applications of the answer topic\",\n",
    "    ),\n",
    "]\n",
    "output_parser = StructuredOutputParser.from_response_schemas(response_schemas)"
   ]
  },
  {
   "cell_type": "code",
   "execution_count": 13,
   "id": "f1f7b91b",
   "metadata": {},
   "outputs": [],
   "source": [
    "format_instructions = output_parser.get_format_instructions()\n",
    "prompt = PromptTemplate(\n",
    "    template=\"answer the users question as best as possible.\\n{format_instructions}\\n{question}\",\n",
    "    input_variables=[\"question\"],\n",
    "    partial_variables={\"format_instructions\": format_instructions},\n",
    ")"
   ]
  },
  {
   "cell_type": "code",
   "execution_count": 14,
   "id": "03294952",
   "metadata": {},
   "outputs": [
    {
     "data": {
      "text/plain": [
       "{'answer': 'CRISPR-Cas9 gene editing technology',\n",
       " 'description': 'CRISPR-Cas9 is a revolutionary gene-editing tool that allows scientists to precisely modify genes within living organisms. It has the potential to treat genetic disorders, develop new therapies, and even create genetically modified organisms.',\n",
       " 'applications': 'CRISPR-Cas9 has applications in gene therapy, agriculture, drug development, and disease research. It has the potential to revolutionize healthcare by providing personalized treatments for genetic diseases.'}"
      ]
     },
     "execution_count": 14,
     "metadata": {},
     "output_type": "execute_result"
    }
   ],
   "source": [
    "chain = prompt | model | output_parser\n",
    "\n",
    "chain.invoke({\"question\": \"Name an invention in Healthcare that has caused revolution in twenty first century.\"})"
   ]
  },
  {
   "cell_type": "code",
   "execution_count": null,
   "id": "3b4e4224",
   "metadata": {},
   "outputs": [],
   "source": []
  },
  {
   "cell_type": "code",
   "execution_count": null,
   "id": "83da3a14",
   "metadata": {},
   "outputs": [],
   "source": []
  },
  {
   "cell_type": "code",
   "execution_count": null,
   "id": "5ba69473",
   "metadata": {},
   "outputs": [],
   "source": []
  },
  {
   "cell_type": "code",
   "execution_count": null,
   "id": "36b2bcf6",
   "metadata": {},
   "outputs": [],
   "source": []
  },
  {
   "cell_type": "code",
   "execution_count": null,
   "id": "95e5ffac",
   "metadata": {},
   "outputs": [],
   "source": []
  },
  {
   "cell_type": "code",
   "execution_count": null,
   "id": "dd4a1157",
   "metadata": {},
   "outputs": [],
   "source": []
  },
  {
   "cell_type": "code",
   "execution_count": null,
   "id": "e0641ad5",
   "metadata": {},
   "outputs": [],
   "source": []
  }
 ],
 "metadata": {
  "kernelspec": {
   "display_name": "Python 3 (ipykernel)",
   "language": "python",
   "name": "python3"
  },
  "language_info": {
   "codemirror_mode": {
    "name": "ipython",
    "version": 3
   },
   "file_extension": ".py",
   "mimetype": "text/x-python",
   "name": "python",
   "nbconvert_exporter": "python",
   "pygments_lexer": "ipython3",
   "version": "3.10.12"
  }
 },
 "nbformat": 4,
 "nbformat_minor": 5
}
