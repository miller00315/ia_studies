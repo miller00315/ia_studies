{
  "nbformat": 4,
  "nbformat_minor": 0,
  "metadata": {
    "colab": {
      "provenance": [],
      "gpuType": "T4",
      "authorship_tag": "ABX9TyO+gZhpNX7KWrmP/yifye47",
      "include_colab_link": true
    },
    "kernelspec": {
      "name": "python3",
      "display_name": "Python 3"
    },
    "language_info": {
      "name": "python"
    },
    "accelerator": "GPU"
  },
  "cells": [
    {
      "cell_type": "markdown",
      "metadata": {
        "id": "view-in-github",
        "colab_type": "text"
      },
      "source": [
        "<a href=\"https://colab.research.google.com/github/miller00315/ia_studies/blob/main/auto_encoders.ipynb\" target=\"_parent\"><img src=\"https://colab.research.google.com/assets/colab-badge.svg\" alt=\"Open In Colab\"/></a>"
      ]
    },
    {
      "cell_type": "code",
      "execution_count": 37,
      "metadata": {
        "id": "PvOSP2LC9e8b"
      },
      "outputs": [],
      "source": [
        "import numpy as np\n",
        "import matplotlib.pyplot as plt\n",
        "from keras.datasets import mnist\n",
        "from keras.models import Sequential, Model\n",
        "from keras.layers import Dense, Input"
      ]
    },
    {
      "cell_type": "code",
      "source": [
        "(X_train, _, ), (X_test, _) = mnist.load_data()"
      ],
      "metadata": {
        "id": "NmzHT7lYADP-"
      },
      "execution_count": 38,
      "outputs": []
    },
    {
      "cell_type": "code",
      "source": [
        "X_train.shape"
      ],
      "metadata": {
        "colab": {
          "base_uri": "https://localhost:8080/"
        },
        "id": "cWYCrKJbAkp9",
        "outputId": "c17ebaca-30c4-4f9f-c0bf-70d5cf7c0345"
      },
      "execution_count": 39,
      "outputs": [
        {
          "output_type": "execute_result",
          "data": {
            "text/plain": [
              "(60000, 28, 28)"
            ]
          },
          "metadata": {},
          "execution_count": 39
        }
      ]
    },
    {
      "cell_type": "code",
      "source": [
        "X_train[0]"
      ],
      "metadata": {
        "colab": {
          "base_uri": "https://localhost:8080/",
          "height": 66
        },
        "id": "0ExVAZlZApRY",
        "outputId": "b94b5aa8-0678-4d10-9fa4-3ef7896c7230"
      },
      "execution_count": 40,
      "outputs": [
        {
          "output_type": "execute_result",
          "data": {
            "text/plain": [
              "array([[  0,   0,   0,   0,   0,   0,   0,   0,   0,   0,   0,   0,   0,\n",
              "          0,   0,   0,   0,   0,   0,   0,   0,   0,   0,   0,   0,   0,\n",
              "          0,   0],\n",
              "       [  0,   0,   0,   0,   0,   0,   0,   0,   0,   0,   0,   0,   0,\n",
              "          0,   0,   0,   0,   0,   0,   0,   0,   0,   0,   0,   0,   0,\n",
              "          0,   0],\n",
              "       [  0,   0,   0,   0,   0,   0,   0,   0,   0,   0,   0,   0,   0,\n",
              "          0,   0,   0,   0,   0,   0,   0,   0,   0,   0,   0,   0,   0,\n",
              "          0,   0],\n",
              "       [  0,   0,   0,   0,   0,   0,   0,   0,   0,   0,   0,   0,   0,\n",
              "          0,   0,   0,   0,   0,   0,   0,   0,   0,   0,   0,   0,   0,\n",
              "          0,   0],\n",
              "       [  0,   0,   0,   0,   0,   0,   0,   0,   0,   0,   0,   0,   0,\n",
              "          0,   0,   0,   0,   0,   0,   0,   0,   0,   0,   0,   0,   0,\n",
              "          0,   0],\n",
              "       [  0,   0,   0,   0,   0,   0,   0,   0,   0,   0,   0,   0,   3,\n",
              "         18,  18,  18, 126, 136, 175,  26, 166, 255, 247, 127,   0,   0,\n",
              "          0,   0],\n",
              "       [  0,   0,   0,   0,   0,   0,   0,   0,  30,  36,  94, 154, 170,\n",
              "        253, 253, 253, 253, 253, 225, 172, 253, 242, 195,  64,   0,   0,\n",
              "          0,   0],\n",
              "       [  0,   0,   0,   0,   0,   0,   0,  49, 238, 253, 253, 253, 253,\n",
              "        253, 253, 253, 253, 251,  93,  82,  82,  56,  39,   0,   0,   0,\n",
              "          0,   0],\n",
              "       [  0,   0,   0,   0,   0,   0,   0,  18, 219, 253, 253, 253, 253,\n",
              "        253, 198, 182, 247, 241,   0,   0,   0,   0,   0,   0,   0,   0,\n",
              "          0,   0],\n",
              "       [  0,   0,   0,   0,   0,   0,   0,   0,  80, 156, 107, 253, 253,\n",
              "        205,  11,   0,  43, 154,   0,   0,   0,   0,   0,   0,   0,   0,\n",
              "          0,   0],\n",
              "       [  0,   0,   0,   0,   0,   0,   0,   0,   0,  14,   1, 154, 253,\n",
              "         90,   0,   0,   0,   0,   0,   0,   0,   0,   0,   0,   0,   0,\n",
              "          0,   0],\n",
              "       [  0,   0,   0,   0,   0,   0,   0,   0,   0,   0,   0, 139, 253,\n",
              "        190,   2,   0,   0,   0,   0,   0,   0,   0,   0,   0,   0,   0,\n",
              "          0,   0],\n",
              "       [  0,   0,   0,   0,   0,   0,   0,   0,   0,   0,   0,  11, 190,\n",
              "        253,  70,   0,   0,   0,   0,   0,   0,   0,   0,   0,   0,   0,\n",
              "          0,   0],\n",
              "       [  0,   0,   0,   0,   0,   0,   0,   0,   0,   0,   0,   0,  35,\n",
              "        241, 225, 160, 108,   1,   0,   0,   0,   0,   0,   0,   0,   0,\n",
              "          0,   0],\n",
              "       [  0,   0,   0,   0,   0,   0,   0,   0,   0,   0,   0,   0,   0,\n",
              "         81, 240, 253, 253, 119,  25,   0,   0,   0,   0,   0,   0,   0,\n",
              "          0,   0],\n",
              "       [  0,   0,   0,   0,   0,   0,   0,   0,   0,   0,   0,   0,   0,\n",
              "          0,  45, 186, 253, 253, 150,  27,   0,   0,   0,   0,   0,   0,\n",
              "          0,   0],\n",
              "       [  0,   0,   0,   0,   0,   0,   0,   0,   0,   0,   0,   0,   0,\n",
              "          0,   0,  16,  93, 252, 253, 187,   0,   0,   0,   0,   0,   0,\n",
              "          0,   0],\n",
              "       [  0,   0,   0,   0,   0,   0,   0,   0,   0,   0,   0,   0,   0,\n",
              "          0,   0,   0,   0, 249, 253, 249,  64,   0,   0,   0,   0,   0,\n",
              "          0,   0],\n",
              "       [  0,   0,   0,   0,   0,   0,   0,   0,   0,   0,   0,   0,   0,\n",
              "          0,  46, 130, 183, 253, 253, 207,   2,   0,   0,   0,   0,   0,\n",
              "          0,   0],\n",
              "       [  0,   0,   0,   0,   0,   0,   0,   0,   0,   0,   0,   0,  39,\n",
              "        148, 229, 253, 253, 253, 250, 182,   0,   0,   0,   0,   0,   0,\n",
              "          0,   0],\n",
              "       [  0,   0,   0,   0,   0,   0,   0,   0,   0,   0,  24, 114, 221,\n",
              "        253, 253, 253, 253, 201,  78,   0,   0,   0,   0,   0,   0,   0,\n",
              "          0,   0],\n",
              "       [  0,   0,   0,   0,   0,   0,   0,   0,  23,  66, 213, 253, 253,\n",
              "        253, 253, 198,  81,   2,   0,   0,   0,   0,   0,   0,   0,   0,\n",
              "          0,   0],\n",
              "       [  0,   0,   0,   0,   0,   0,  18, 171, 219, 253, 253, 253, 253,\n",
              "        195,  80,   9,   0,   0,   0,   0,   0,   0,   0,   0,   0,   0,\n",
              "          0,   0],\n",
              "       [  0,   0,   0,   0,  55, 172, 226, 253, 253, 253, 253, 244, 133,\n",
              "         11,   0,   0,   0,   0,   0,   0,   0,   0,   0,   0,   0,   0,\n",
              "          0,   0],\n",
              "       [  0,   0,   0,   0, 136, 253, 253, 253, 212, 135, 132,  16,   0,\n",
              "          0,   0,   0,   0,   0,   0,   0,   0,   0,   0,   0,   0,   0,\n",
              "          0,   0],\n",
              "       [  0,   0,   0,   0,   0,   0,   0,   0,   0,   0,   0,   0,   0,\n",
              "          0,   0,   0,   0,   0,   0,   0,   0,   0,   0,   0,   0,   0,\n",
              "          0,   0],\n",
              "       [  0,   0,   0,   0,   0,   0,   0,   0,   0,   0,   0,   0,   0,\n",
              "          0,   0,   0,   0,   0,   0,   0,   0,   0,   0,   0,   0,   0,\n",
              "          0,   0],\n",
              "       [  0,   0,   0,   0,   0,   0,   0,   0,   0,   0,   0,   0,   0,\n",
              "          0,   0,   0,   0,   0,   0,   0,   0,   0,   0,   0,   0,   0,\n",
              "          0,   0]], dtype=uint8)"
            ],
            "text/html": [
              "<style>\n",
              "      .ndarray_repr .ndarray_raw_data {\n",
              "        display: none;\n",
              "      }\n",
              "      .ndarray_repr.show_array .ndarray_raw_data {\n",
              "        display: block;\n",
              "      }\n",
              "      .ndarray_repr.show_array .ndarray_image_preview {\n",
              "        display: none;\n",
              "      }\n",
              "      </style>\n",
              "      <div id=\"id-9edf3ad2-b815-46d0-b9a0-66974c99be18\" class=\"ndarray_repr\"><pre>ndarray (28, 28) <button style=\"padding: 0 2px;\">show data</button></pre><img src=\"data:image/png;base64,iVBORw0KGgoAAAANSUhEUgAAABwAAAAcCAAAAABXZoBIAAABAElEQVR4nGNgGMyAWUhIqK5jvdSy/9/rGRgYGFhgEnJsVjYCwQwMDAxPJgV+vniQgYGBgREqZ7iXH8r6l/SV4dn7m8gmCt3++/fv37/Htn3/iMW+gDnZf/+e5WbQnoXNNXyMs/5GoQoxwVmf/n9kSGFiwAW49/11wynJoPzx4YIcRlyygR/+/i2XxCWru+vv32nSuGQFYv/83Y3b4p9/fzpAmSyoMnohpiwM1w5h06Q+5enfv39/bcMiJVF09+/fv39P+mFKiTtd/fv3799jgZiBJLT69t+/f/8eDuDEkDJf8+jv379/v7Ryo4qzMDAwMAQGMjBc3/y35wM2V1IfAABFF16Aa0wAOwAAAABJRU5ErkJggg==\" class=\"ndarray_image_preview\" /><pre class=\"ndarray_raw_data\">array([[  0,   0,   0,   0,   0,   0,   0,   0,   0,   0,   0,   0,   0,\n",
              "          0,   0,   0,   0,   0,   0,   0,   0,   0,   0,   0,   0,   0,\n",
              "          0,   0],\n",
              "       [  0,   0,   0,   0,   0,   0,   0,   0,   0,   0,   0,   0,   0,\n",
              "          0,   0,   0,   0,   0,   0,   0,   0,   0,   0,   0,   0,   0,\n",
              "          0,   0],\n",
              "       [  0,   0,   0,   0,   0,   0,   0,   0,   0,   0,   0,   0,   0,\n",
              "          0,   0,   0,   0,   0,   0,   0,   0,   0,   0,   0,   0,   0,\n",
              "          0,   0],\n",
              "       [  0,   0,   0,   0,   0,   0,   0,   0,   0,   0,   0,   0,   0,\n",
              "          0,   0,   0,   0,   0,   0,   0,   0,   0,   0,   0,   0,   0,\n",
              "          0,   0],\n",
              "       [  0,   0,   0,   0,   0,   0,   0,   0,   0,   0,   0,   0,   0,\n",
              "          0,   0,   0,   0,   0,   0,   0,   0,   0,   0,   0,   0,   0,\n",
              "          0,   0],\n",
              "       [  0,   0,   0,   0,   0,   0,   0,   0,   0,   0,   0,   0,   3,\n",
              "         18,  18,  18, 126, 136, 175,  26, 166, 255, 247, 127,   0,   0,\n",
              "          0,   0],\n",
              "       [  0,   0,   0,   0,   0,   0,   0,   0,  30,  36,  94, 154, 170,\n",
              "        253, 253, 253, 253, 253, 225, 172, 253, 242, 195,  64,   0,   0,\n",
              "          0,   0],\n",
              "       [  0,   0,   0,   0,   0,   0,   0,  49, 238, 253, 253, 253, 253,\n",
              "        253, 253, 253, 253, 251,  93,  82,  82,  56,  39,   0,   0,   0,\n",
              "          0,   0],\n",
              "       [  0,   0,   0,   0,   0,   0,   0,  18, 219, 253, 253, 253, 253,\n",
              "        253, 198, 182, 247, 241,   0,   0,   0,   0,   0,   0,   0,   0,\n",
              "          0,   0],\n",
              "       [  0,   0,   0,   0,   0,   0,   0,   0,  80, 156, 107, 253, 253,\n",
              "        205,  11,   0,  43, 154,   0,   0,   0,   0,   0,   0,   0,   0,\n",
              "          0,   0],\n",
              "       [  0,   0,   0,   0,   0,   0,   0,   0,   0,  14,   1, 154, 253,\n",
              "         90,   0,   0,   0,   0,   0,   0,   0,   0,   0,   0,   0,   0,\n",
              "          0,   0],\n",
              "       [  0,   0,   0,   0,   0,   0,   0,   0,   0,   0,   0, 139, 253,\n",
              "        190,   2,   0,   0,   0,   0,   0,   0,   0,   0,   0,   0,   0,\n",
              "          0,   0],\n",
              "       [  0,   0,   0,   0,   0,   0,   0,   0,   0,   0,   0,  11, 190,\n",
              "        253,  70,   0,   0,   0,   0,   0,   0,   0,   0,   0,   0,   0,\n",
              "          0,   0],\n",
              "       [  0,   0,   0,   0,   0,   0,   0,   0,   0,   0,   0,   0,  35,\n",
              "        241, 225, 160, 108,   1,   0,   0,   0,   0,   0,   0,   0,   0,\n",
              "          0,   0],\n",
              "       [  0,   0,   0,   0,   0,   0,   0,   0,   0,   0,   0,   0,   0,\n",
              "         81, 240, 253, 253, 119,  25,   0,   0,   0,   0,   0,   0,   0,\n",
              "          0,   0],\n",
              "       [  0,   0,   0,   0,   0,   0,   0,   0,   0,   0,   0,   0,   0,\n",
              "          0,  45, 186, 253, 253, 150,  27,   0,   0,   0,   0,   0,   0,\n",
              "          0,   0],\n",
              "       [  0,   0,   0,   0,   0,   0,   0,   0,   0,   0,   0,   0,   0,\n",
              "          0,   0,  16,  93, 252, 253, 187,   0,   0,   0,   0,   0,   0,\n",
              "          0,   0],\n",
              "       [  0,   0,   0,   0,   0,   0,   0,   0,   0,   0,   0,   0,   0,\n",
              "          0,   0,   0,   0, 249, 253, 249,  64,   0,   0,   0,   0,   0,\n",
              "          0,   0],\n",
              "       [  0,   0,   0,   0,   0,   0,   0,   0,   0,   0,   0,   0,   0,\n",
              "          0,  46, 130, 183, 253, 253, 207,   2,   0,   0,   0,   0,   0,\n",
              "          0,   0],\n",
              "       [  0,   0,   0,   0,   0,   0,   0,   0,   0,   0,   0,   0,  39,\n",
              "        148, 229, 253, 253, 253, 250, 182,   0,   0,   0,   0,   0,   0,\n",
              "          0,   0],\n",
              "       [  0,   0,   0,   0,   0,   0,   0,   0,   0,   0,  24, 114, 221,\n",
              "        253, 253, 253, 253, 201,  78,   0,   0,   0,   0,   0,   0,   0,\n",
              "          0,   0],\n",
              "       [  0,   0,   0,   0,   0,   0,   0,   0,  23,  66, 213, 253, 253,\n",
              "        253, 253, 198,  81,   2,   0,   0,   0,   0,   0,   0,   0,   0,\n",
              "          0,   0],\n",
              "       [  0,   0,   0,   0,   0,   0,  18, 171, 219, 253, 253, 253, 253,\n",
              "        195,  80,   9,   0,   0,   0,   0,   0,   0,   0,   0,   0,   0,\n",
              "          0,   0],\n",
              "       [  0,   0,   0,   0,  55, 172, 226, 253, 253, 253, 253, 244, 133,\n",
              "         11,   0,   0,   0,   0,   0,   0,   0,   0,   0,   0,   0,   0,\n",
              "          0,   0],\n",
              "       [  0,   0,   0,   0, 136, 253, 253, 253, 212, 135, 132,  16,   0,\n",
              "          0,   0,   0,   0,   0,   0,   0,   0,   0,   0,   0,   0,   0,\n",
              "          0,   0],\n",
              "       [  0,   0,   0,   0,   0,   0,   0,   0,   0,   0,   0,   0,   0,\n",
              "          0,   0,   0,   0,   0,   0,   0,   0,   0,   0,   0,   0,   0,\n",
              "          0,   0],\n",
              "       [  0,   0,   0,   0,   0,   0,   0,   0,   0,   0,   0,   0,   0,\n",
              "          0,   0,   0,   0,   0,   0,   0,   0,   0,   0,   0,   0,   0,\n",
              "          0,   0],\n",
              "       [  0,   0,   0,   0,   0,   0,   0,   0,   0,   0,   0,   0,   0,\n",
              "          0,   0,   0,   0,   0,   0,   0,   0,   0,   0,   0,   0,   0,\n",
              "          0,   0]], dtype=uint8)</pre></div><script>\n",
              "      (() => {\n",
              "      const titles = ['show data', 'hide data'];\n",
              "      let index = 0\n",
              "      document.querySelector('#id-9edf3ad2-b815-46d0-b9a0-66974c99be18 button').onclick = (e) => {\n",
              "        document.querySelector('#id-9edf3ad2-b815-46d0-b9a0-66974c99be18').classList.toggle('show_array');\n",
              "        index = (++index) % 2;\n",
              "        document.querySelector('#id-9edf3ad2-b815-46d0-b9a0-66974c99be18 button').textContent = titles[index];\n",
              "        e.preventDefault();\n",
              "        e.stopPropagation();\n",
              "      }\n",
              "      })();\n",
              "    </script>"
            ]
          },
          "metadata": {},
          "execution_count": 40
        }
      ]
    },
    {
      "cell_type": "code",
      "source": [
        "plt.imshow(X_train[4], cmap='gray')\n",
        "plt.show()"
      ],
      "metadata": {
        "colab": {
          "base_uri": "https://localhost:8080/",
          "height": 430
        },
        "id": "FQlzTqvvA_RJ",
        "outputId": "830af7da-dc7d-4e46-9f51-63d0b4d2fadd"
      },
      "execution_count": 41,
      "outputs": [
        {
          "output_type": "display_data",
          "data": {
            "text/plain": [
              "<Figure size 640x480 with 1 Axes>"
            ],
            "image/png": "[encoded data removed]"
          },
          "metadata": {}
        }
      ]
    },
    {
      "cell_type": "code",
      "source": [
        "X_train = X_train.astype('float32') / 255.0\n",
        "X_test = X_test.astype('float32') / 255.0"
      ],
      "metadata": {
        "id": "LNjFs5J2BUM1"
      },
      "execution_count": 42,
      "outputs": []
    },
    {
      "cell_type": "code",
      "source": [
        "plt.imshow(X_train[4], cmap='gray')\n",
        "plt.show()"
      ],
      "metadata": {
        "colab": {
          "base_uri": "https://localhost:8080/",
          "height": 430
        },
        "id": "wQzZY8OkBq8R",
        "outputId": "49378f5f-e610-4234-ab9a-a03367914d3c"
      },
      "execution_count": 43,
      "outputs": [
        {
          "output_type": "display_data",
          "data": {
            "text/plain": [
              "<Figure size 640x480 with 1 Axes>"
            ],
            "image/png": "[encoded data removed]"
          },
          "metadata": {}
        }
      ]
    },
    {
      "cell_type": "code",
      "source": [
        "X_train = X_train.reshape((len(X_train), np.prod(X_train.shape[1:])))\n",
        "X_test = X_test.reshape((len(X_test), np.prod(X_test.shape[1:])))"
      ],
      "metadata": {
        "id": "h1ZYUpvGBtO2"
      },
      "execution_count": 44,
      "outputs": []
    },
    {
      "cell_type": "code",
      "source": [
        "x_train_noisy = X_train + 0.5 + np.random.normal(loc=0.0, scale=1.0, size=X_train.shape)\n",
        "x_test_noisy = X_test + 0.5 + np.random.normal(loc=0.0, scale=1.0, size=X_test.shape)"
      ],
      "metadata": {
        "id": "_rMOxgecC-B1"
      },
      "execution_count": 45,
      "outputs": []
    },
    {
      "cell_type": "code",
      "source": [
        "x_train_noise = np.clip(x_train_noisy, 0.0, 1.0)\n",
        "x_test_noisy = np.clip(x_test_noisy, 0.0, 1.0)"
      ],
      "metadata": {
        "id": "kPMDvABtEKGD"
      },
      "execution_count": 46,
      "outputs": []
    },
    {
      "cell_type": "code",
      "source": [
        "inputs = Input(shape=(784,))\n",
        "\n",
        "encoder = Dense(32, activation='relu')(inputs)\n",
        "\n",
        "decoder = Dense(784, activation='sigmoid')(encoder)\n",
        "\n",
        "autoencoder = Model(inputs, decoder)\n",
        "\n",
        "autoencoder.compile(optimizer='adam', loss='binary_crossentropy')\n",
        "\n",
        "autoencoder.fit(x_train_noise, X_train, epochs=100, batch_size=256, shuffle=True, validation_data=(x_test_noisy, X_test))"
      ],
      "metadata": {
        "colab": {
          "base_uri": "https://localhost:8080/"
        },
        "id": "KNQoWb2VEo0j",
        "outputId": "b18ec658-c0ff-4f71-8906-94061a9307f5"
      },
      "execution_count": 48,
      "outputs": [
        {
          "output_type": "stream",
          "name": "stdout",
          "text": [
            "Epoch 1/100\n",
            "235/235 [==============================] - 3s 10ms/step - loss: 0.2924 - val_loss: 0.2608\n",
            "Epoch 2/100\n",
            "235/235 [==============================] - 2s 9ms/step - loss: 0.2518 - val_loss: 0.2407\n",
            "Epoch 3/100\n",
            "235/235 [==============================] - 2s 10ms/step - loss: 0.2314 - val_loss: 0.2210\n",
            "Epoch 4/100\n",
            "235/235 [==============================] - 2s 10ms/step - loss: 0.2155 - val_loss: 0.2096\n",
            "Epoch 5/100\n",
            "235/235 [==============================] - 3s 13ms/step - loss: 0.2079 - val_loss: 0.2044\n",
            "Epoch 6/100\n",
            "235/235 [==============================] - 2s 9ms/step - loss: 0.2030 - val_loss: 0.2001\n",
            "Epoch 7/100\n",
            "235/235 [==============================] - 2s 9ms/step - loss: 0.1987 - val_loss: 0.1953\n",
            "Epoch 8/100\n",
            "235/235 [==============================] - 2s 9ms/step - loss: 0.1948 - val_loss: 0.1932\n",
            "Epoch 9/100\n",
            "235/235 [==============================] - 2s 10ms/step - loss: 0.1927 - val_loss: 0.1913\n",
            "Epoch 10/100\n",
            "235/235 [==============================] - 3s 12ms/step - loss: 0.1912 - val_loss: 0.1902\n",
            "Epoch 11/100\n",
            "235/235 [==============================] - 2s 10ms/step - loss: 0.1902 - val_loss: 0.1892\n",
            "Epoch 12/100\n",
            "235/235 [==============================] - 3s 11ms/step - loss: 0.1894 - val_loss: 0.1887\n",
            "Epoch 13/100\n",
            "235/235 [==============================] - 2s 9ms/step - loss: 0.1889 - val_loss: 0.1884\n",
            "Epoch 14/100\n",
            "235/235 [==============================] - 2s 9ms/step - loss: 0.1885 - val_loss: 0.1881\n",
            "Epoch 15/100\n",
            "235/235 [==============================] - 3s 11ms/step - loss: 0.1882 - val_loss: 0.1878\n",
            "Epoch 16/100\n",
            "235/235 [==============================] - 3s 13ms/step - loss: 0.1879 - val_loss: 0.1875\n",
            "Epoch 17/100\n",
            "235/235 [==============================] - 2s 11ms/step - loss: 0.1877 - val_loss: 0.1872\n",
            "Epoch 18/100\n",
            "235/235 [==============================] - 2s 9ms/step - loss: 0.1876 - val_loss: 0.1875\n",
            "Epoch 19/100\n",
            "235/235 [==============================] - 2s 10ms/step - loss: 0.1874 - val_loss: 0.1872\n",
            "Epoch 20/100\n",
            "235/235 [==============================] - 3s 12ms/step - loss: 0.1873 - val_loss: 0.1870\n",
            "Epoch 21/100\n",
            "235/235 [==============================] - 2s 10ms/step - loss: 0.1872 - val_loss: 0.1870\n",
            "Epoch 22/100\n",
            "235/235 [==============================] - 3s 13ms/step - loss: 0.1871 - val_loss: 0.1871\n",
            "Epoch 23/100\n",
            "235/235 [==============================] - 3s 11ms/step - loss: 0.1871 - val_loss: 0.1869\n",
            "Epoch 24/100\n",
            "235/235 [==============================] - 2s 10ms/step - loss: 0.1870 - val_loss: 0.1867\n",
            "Epoch 25/100\n",
            "235/235 [==============================] - 3s 15ms/step - loss: 0.1870 - val_loss: 0.1870\n",
            "Epoch 26/100\n",
            "235/235 [==============================] - 2s 10ms/step - loss: 0.1869 - val_loss: 0.1868\n",
            "Epoch 27/100\n",
            "235/235 [==============================] - 2s 10ms/step - loss: 0.1868 - val_loss: 0.1868\n",
            "Epoch 28/100\n",
            "235/235 [==============================] - 2s 10ms/step - loss: 0.1868 - val_loss: 0.1866\n",
            "Epoch 29/100\n",
            "235/235 [==============================] - 2s 9ms/step - loss: 0.1867 - val_loss: 0.1867\n",
            "Epoch 30/100\n",
            "235/235 [==============================] - 3s 13ms/step - loss: 0.1867 - val_loss: 0.1866\n",
            "Epoch 31/100\n",
            "235/235 [==============================] - 2s 9ms/step - loss: 0.1866 - val_loss: 0.1865\n",
            "Epoch 32/100\n",
            "235/235 [==============================] - 2s 10ms/step - loss: 0.1866 - val_loss: 0.1864\n",
            "Epoch 33/100\n",
            "235/235 [==============================] - 2s 9ms/step - loss: 0.1865 - val_loss: 0.1866\n",
            "Epoch 34/100\n",
            "235/235 [==============================] - 2s 10ms/step - loss: 0.1865 - val_loss: 0.1866\n",
            "Epoch 35/100\n",
            "235/235 [==============================] - 3s 12ms/step - loss: 0.1865 - val_loss: 0.1863\n",
            "Epoch 36/100\n",
            "235/235 [==============================] - 2s 10ms/step - loss: 0.1864 - val_loss: 0.1862\n",
            "Epoch 37/100\n",
            "235/235 [==============================] - 2s 10ms/step - loss: 0.1864 - val_loss: 0.1865\n",
            "Epoch 38/100\n",
            "235/235 [==============================] - 2s 10ms/step - loss: 0.1863 - val_loss: 0.1861\n",
            "Epoch 39/100\n",
            "235/235 [==============================] - 2s 10ms/step - loss: 0.1863 - val_loss: 0.1862\n",
            "Epoch 40/100\n",
            "235/235 [==============================] - 3s 14ms/step - loss: 0.1863 - val_loss: 0.1861\n",
            "Epoch 41/100\n",
            "235/235 [==============================] - 2s 10ms/step - loss: 0.1862 - val_loss: 0.1862\n",
            "Epoch 42/100\n",
            "235/235 [==============================] - 2s 9ms/step - loss: 0.1862 - val_loss: 0.1863\n",
            "Epoch 43/100\n",
            "235/235 [==============================] - 2s 10ms/step - loss: 0.1862 - val_loss: 0.1859\n",
            "Epoch 44/100\n",
            "235/235 [==============================] - 2s 9ms/step - loss: 0.1862 - val_loss: 0.1860\n",
            "Epoch 45/100\n",
            "235/235 [==============================] - 3s 12ms/step - loss: 0.1862 - val_loss: 0.1861\n",
            "Epoch 46/100\n",
            "235/235 [==============================] - 3s 11ms/step - loss: 0.1861 - val_loss: 0.1860\n",
            "Epoch 47/100\n",
            "235/235 [==============================] - 2s 10ms/step - loss: 0.1861 - val_loss: 0.1860\n",
            "Epoch 48/100\n",
            "235/235 [==============================] - 2s 9ms/step - loss: 0.1861 - val_loss: 0.1859\n",
            "Epoch 49/100\n",
            "235/235 [==============================] - 2s 10ms/step - loss: 0.1861 - val_loss: 0.1859\n",
            "Epoch 50/100\n",
            "235/235 [==============================] - 2s 10ms/step - loss: 0.1860 - val_loss: 0.1863\n",
            "Epoch 51/100\n",
            "235/235 [==============================] - 3s 12ms/step - loss: 0.1860 - val_loss: 0.1859\n",
            "Epoch 52/100\n",
            "235/235 [==============================] - 2s 9ms/step - loss: 0.1860 - val_loss: 0.1862\n",
            "Epoch 53/100\n",
            "235/235 [==============================] - 2s 9ms/step - loss: 0.1860 - val_loss: 0.1857\n",
            "Epoch 54/100\n",
            "235/235 [==============================] - 2s 9ms/step - loss: 0.1860 - val_loss: 0.1858\n",
            "Epoch 55/100\n",
            "235/235 [==============================] - 2s 10ms/step - loss: 0.1859 - val_loss: 0.1861\n",
            "Epoch 56/100\n",
            "235/235 [==============================] - 3s 13ms/step - loss: 0.1859 - val_loss: 0.1858\n",
            "Epoch 57/100\n",
            "235/235 [==============================] - 2s 10ms/step - loss: 0.1859 - val_loss: 0.1858\n",
            "Epoch 58/100\n",
            "235/235 [==============================] - 2s 10ms/step - loss: 0.1859 - val_loss: 0.1858\n",
            "Epoch 59/100\n",
            "235/235 [==============================] - 2s 10ms/step - loss: 0.1858 - val_loss: 0.1858\n",
            "Epoch 60/100\n",
            "235/235 [==============================] - 2s 9ms/step - loss: 0.1858 - val_loss: 0.1857\n",
            "Epoch 61/100\n",
            "235/235 [==============================] - 3s 13ms/step - loss: 0.1857 - val_loss: 0.1855\n",
            "Epoch 62/100\n",
            "235/235 [==============================] - 2s 10ms/step - loss: 0.1857 - val_loss: 0.1856\n",
            "Epoch 63/100\n",
            "235/235 [==============================] - 2s 10ms/step - loss: 0.1857 - val_loss: 0.1854\n",
            "Epoch 64/100\n",
            "235/235 [==============================] - 2s 10ms/step - loss: 0.1858 - val_loss: 0.1857\n",
            "Epoch 65/100\n",
            "235/235 [==============================] - 2s 10ms/step - loss: 0.1857 - val_loss: 0.1855\n",
            "Epoch 66/100\n",
            "235/235 [==============================] - 3s 12ms/step - loss: 0.1856 - val_loss: 0.1855\n",
            "Epoch 67/100\n",
            "235/235 [==============================] - 2s 10ms/step - loss: 0.1856 - val_loss: 0.1855\n",
            "Epoch 68/100\n",
            "235/235 [==============================] - 2s 9ms/step - loss: 0.1856 - val_loss: 0.1854\n",
            "Epoch 69/100\n",
            "235/235 [==============================] - 2s 10ms/step - loss: 0.1856 - val_loss: 0.1855\n",
            "Epoch 70/100\n",
            "235/235 [==============================] - 2s 9ms/step - loss: 0.1855 - val_loss: 0.1858\n",
            "Epoch 71/100\n",
            "235/235 [==============================] - 3s 12ms/step - loss: 0.1855 - val_loss: 0.1854\n",
            "Epoch 72/100\n",
            "235/235 [==============================] - 3s 11ms/step - loss: 0.1855 - val_loss: 0.1854\n",
            "Epoch 73/100\n",
            "235/235 [==============================] - 2s 9ms/step - loss: 0.1855 - val_loss: 0.1857\n",
            "Epoch 74/100\n",
            "235/235 [==============================] - 2s 9ms/step - loss: 0.1854 - val_loss: 0.1852\n",
            "Epoch 75/100\n",
            "235/235 [==============================] - 2s 10ms/step - loss: 0.1854 - val_loss: 0.1853\n",
            "Epoch 76/100\n",
            "235/235 [==============================] - 2s 9ms/step - loss: 0.1854 - val_loss: 0.1856\n",
            "Epoch 77/100\n",
            "235/235 [==============================] - 3s 13ms/step - loss: 0.1853 - val_loss: 0.1852\n",
            "Epoch 78/100\n",
            "235/235 [==============================] - 2s 10ms/step - loss: 0.1853 - val_loss: 0.1850\n",
            "Epoch 79/100\n",
            "235/235 [==============================] - 2s 9ms/step - loss: 0.1853 - val_loss: 0.1854\n",
            "Epoch 80/100\n",
            "235/235 [==============================] - 2s 9ms/step - loss: 0.1853 - val_loss: 0.1853\n",
            "Epoch 81/100\n",
            "235/235 [==============================] - 2s 9ms/step - loss: 0.1853 - val_loss: 0.1850\n",
            "Epoch 82/100\n",
            "235/235 [==============================] - 3s 12ms/step - loss: 0.1852 - val_loss: 0.1851\n",
            "Epoch 83/100\n",
            "235/235 [==============================] - 2s 9ms/step - loss: 0.1852 - val_loss: 0.1853\n",
            "Epoch 84/100\n",
            "235/235 [==============================] - 2s 9ms/step - loss: 0.1852 - val_loss: 0.1851\n",
            "Epoch 85/100\n",
            "235/235 [==============================] - 2s 9ms/step - loss: 0.1851 - val_loss: 0.1855\n",
            "Epoch 86/100\n",
            "235/235 [==============================] - 2s 9ms/step - loss: 0.1851 - val_loss: 0.1852\n",
            "Epoch 87/100\n",
            "235/235 [==============================] - 2s 10ms/step - loss: 0.1851 - val_loss: 0.1858\n",
            "Epoch 88/100\n",
            "235/235 [==============================] - 3s 12ms/step - loss: 0.1851 - val_loss: 0.1850\n",
            "Epoch 89/100\n",
            "235/235 [==============================] - 2s 9ms/step - loss: 0.1850 - val_loss: 0.1849\n",
            "Epoch 90/100\n",
            "235/235 [==============================] - 2s 9ms/step - loss: 0.1849 - val_loss: 0.1848\n",
            "Epoch 91/100\n",
            "235/235 [==============================] - 2s 10ms/step - loss: 0.1849 - val_loss: 0.1848\n",
            "Epoch 92/100\n",
            "235/235 [==============================] - 2s 9ms/step - loss: 0.1849 - val_loss: 0.1847\n",
            "Epoch 93/100\n",
            "235/235 [==============================] - 3s 14ms/step - loss: 0.1849 - val_loss: 0.1849\n",
            "Epoch 94/100\n",
            "235/235 [==============================] - 2s 10ms/step - loss: 0.1848 - val_loss: 0.1848\n",
            "Epoch 95/100\n",
            "235/235 [==============================] - 2s 9ms/step - loss: 0.1848 - val_loss: 0.1848\n",
            "Epoch 96/100\n",
            "235/235 [==============================] - 2s 10ms/step - loss: 0.1848 - val_loss: 0.1846\n",
            "Epoch 97/100\n",
            "235/235 [==============================] - 2s 10ms/step - loss: 0.1847 - val_loss: 0.1846\n",
            "Epoch 98/100\n",
            "235/235 [==============================] - 3s 13ms/step - loss: 0.1847 - val_loss: 0.1846\n",
            "Epoch 99/100\n",
            "235/235 [==============================] - 2s 9ms/step - loss: 0.1847 - val_loss: 0.1845\n",
            "Epoch 100/100\n",
            "235/235 [==============================] - 2s 9ms/step - loss: 0.1847 - val_loss: 0.1845\n"
          ]
        },
        {
          "output_type": "execute_result",
          "data": {
            "text/plain": [
              "<keras.src.callbacks.History at 0x7b7c4df8f3d0>"
            ]
          },
          "metadata": {},
          "execution_count": 48
        }
      ]
    },
    {
      "cell_type": "code",
      "source": [
        "idx = np.random.randint(X_test.shape[1])"
      ],
      "metadata": {
        "id": "eKkXP19oISI4"
      },
      "execution_count": 55,
      "outputs": []
    },
    {
      "cell_type": "code",
      "source": [
        "original_image = X_test[idx]"
      ],
      "metadata": {
        "id": "fYSXf0MCKKKB"
      },
      "execution_count": 56,
      "outputs": []
    },
    {
      "cell_type": "code",
      "source": [
        "original_shape = X_test[idx]"
      ],
      "metadata": {
        "id": "dTgB4AR_If-S"
      },
      "execution_count": 57,
      "outputs": []
    },
    {
      "cell_type": "code",
      "source": [
        "noisy_image = original_shape + 0.5 + np.random.normal(loc=0.0, scale=1.0, size=original_shape.shape)\n",
        "\n",
        "noisy_image = np.clip(noisy_image, 0.0, 1.0)\n",
        "\n",
        "denoised_image = autoencoder.predict(np.expand_dims(noisy_image, axis=0))\n",
        "\n",
        "denoised_image = denoised_image.reshape((28, 28))"
      ],
      "metadata": {
        "colab": {
          "base_uri": "https://localhost:8080/"
        },
        "id": "0FDG164NIlKt",
        "outputId": "2e3aaa84-5a8c-43b2-c49f-9a0875da7053"
      },
      "execution_count": 58,
      "outputs": [
        {
          "output_type": "stream",
          "name": "stdout",
          "text": [
            "1/1 [==============================] - 0s 23ms/step\n"
          ]
        }
      ]
    },
    {
      "cell_type": "code",
      "source": [
        "plt.figure(figsize=(10, 4))\n",
        "plt.subplot(1,3,1)\n",
        "plt.imshow(original_image.reshape(28,28), cmap=\"gray\")\n",
        "plt.title(\"Imagem original\")\n",
        "plt.axis('off')\n",
        "\n",
        "plt.subplot(1,3,2)\n",
        "plt.imshow(noisy_image.reshape(28,28), cmap=\"gray\")\n",
        "plt.title(\"Imagem ruido\")\n",
        "plt.axis('off')\n",
        "\n",
        "plt.subplot(1,3,3)\n",
        "plt.imshow(denoised_image, cmap=\"gray\")\n",
        "plt.title(\"Removido o ruido\")\n",
        "plt.axis('off')"
      ],
      "metadata": {
        "colab": {
          "base_uri": "https://localhost:8080/",
          "height": 304
        },
        "id": "9dOVhl-DJUSe",
        "outputId": "c3a931c8-daa4-475c-d9ce-675f9e5f04d7"
      },
      "execution_count": 59,
      "outputs": [
        {
          "output_type": "execute_result",
          "data": {
            "text/plain": [
              "(-0.5, 27.5, 27.5, -0.5)"
            ]
          },
          "metadata": {},
          "execution_count": 59
        },
        {
          "output_type": "display_data",
          "data": {
            "text/plain": [
              "<Figure size 1000x400 with 3 Axes>"
            ],
            "image/png": "[encoded data removed]"
          },
          "metadata": {}
        }
      ]
    }
  ]
}